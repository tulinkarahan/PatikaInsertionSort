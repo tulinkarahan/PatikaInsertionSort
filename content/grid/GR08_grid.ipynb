{
  "cells": [
    {
      "cell_type": "markdown",
      "metadata": {
        "id": "view-in-github",
        "colab_type": "text"
      },
      "source": [
        "<a href=\"https://colab.research.google.com/github/tulinkarahan/PatikaInsertionSort/blob/main/content/grid/GR08_grid.ipynb\" target=\"_parent\"><img src=\"https://colab.research.google.com/assets/colab-badge.svg\" alt=\"Open In Colab\"/></a>"
      ]
    },
    {
      "cell_type": "markdown",
      "metadata": {
        "id": "liSH-ASdQL-C"
      },
      "source": [
        "<table width=\"100%\">\n",
        "    <tr style=\"\">\n",
        "        <th style=\"text-align:left; padding:0px\" width=\"5%\">\n",
        "            <a href=\"https://www.marmara.edu.tr\" target=\"_blank\">\n",
        "                <img src=\"https://raw.githubusercontent.com/MU-Physics-Department/logos/master/mu_logo.png\">\n",
        "            </a>\n",
        "        </th>\n",
        "        <th style=\"padding:0px;\" width=\"35%\">\n",
        "            <img align=\"right\" src=\"https://raw.githubusercontent.com/MU-Physics-Department/logos/master/name.png\">\n",
        "        </th>\n",
        "        <th  width=\"20%\">\n",
        "            &nbsp;\n",
        "        </th>\n",
        "        <th style=\"padding:0px\" width=\"5%\">\n",
        "            <a href=\"https://www.sababozpolat.com\" target=\"_blank\" padding=\"0px\">\n",
        "                <img align=\"center\" src=\"https://raw.githubusercontent.com/MU-Physics-Department/logos/master/hp.png\">\n",
        "            </a>\n",
        "        </th>\n",
        "        <th style=\"padding:0px\" width=\"5%\">\n",
        "            <a href=\"mailto:saba.bozpolat@gmail.com\" target=\"_blank\">\n",
        "                <img align=\"center\" src=\"https://raw.githubusercontent.com/MU-Physics-Department/logos/master/email.png\">\n",
        "            </a>\n",
        "        </th>\n",
        "        <th style=\"padding:0px;\" width=\"5%\">\n",
        "            <a href=\"https://www.linkedin.com/in/saba-bozpolat-644856152/\" target=\"_blank\">\n",
        "                <img align=\"right\" src=\"https://raw.githubusercontent.com/MU-Physics-Department/logos/master/in.png\">\n",
        "            </a>\n",
        "        </th>\n",
        "        <th style=\"padding:0px;\" width=\"5%\">\n",
        "            <a href=\"https://scholar.google.com.tr/citations?user=nSiJoMYAAAAJ&hl=en\" target=\"_blank\">\n",
        "                <img align=\"right\" src=\"https://raw.githubusercontent.com/MU-Physics-Department/logos/master/GS.png\">\n",
        "            </a>\n",
        "        </th>\n",
        "        <th style=\"padding:0px;\" width=\"5%\">\n",
        "            <a href=\"https://www.researchgate.net/profile/Saba-Bozpolat\" target=\"_blank\">\n",
        "                <img align=\"right\" src=\"https://raw.githubusercontent.com/MU-Physics-Department/logos/master/RG.png\">\n",
        "            </a>\n",
        "        </th>\n",
        "        <th style=\"padding:0px\" width=\"5%\">\n",
        "            <a href=\"https://www.youtube.com/channel/UC8-uOZud6UL7oCOE2UUBunA\" target=\"_blank\">\n",
        "                <img align=\"right\" src=\"https://raw.githubusercontent.com/MU-Physics-Department/logos/master/YT.png\">\n",
        "            </a>\n",
        "        </th>\n",
        "        <th style=\"padding:0px;\" width=\"5%\">\n",
        "            <a href=\"https://github.com/sbbzplt\" target=\"_blank\">\n",
        "                <img align=\"right\" src=\"https://raw.githubusercontent.com/MU-Physics-Department/logos/master/GH.png\">\n",
        "            </a>\n",
        "        </th>\n",
        "        <th style=\"padding:0px;\" width=\"5%\">\n",
        "            <a href=\"https://join.slack.com/t/mu-fzk/shared_invite/zt-13jtd6dtd-g9zD5P4Zu0m5P0Gt2PNReQ\"\n",
        "               target=\"_blank\">\n",
        "                <img align=\"right\" src=\"https://raw.githubusercontent.com/MU-Physics-Department/logos/master/slack.png\">\n",
        "            </a>\n",
        "        </th>\n",
        "    </tr>\n",
        "</table>\n",
        "<table width=\"100%\">\n",
        "    <tr style=\"background-color:white;\">\n",
        "        <!-- <td style=\"text-align-left;padding:0px;\" width=\"10%\">\n",
        "            <a href=\"https://fef.marmara.edu.tr\"\n",
        "               target=\"_blank\">\n",
        "                <img align=\"right\" src=\"https://raw.githubusercontent.com/MU-Physics-Department/logos/master/fef.png\">\n",
        "            </a>\n",
        "        </td> -->\n",
        "        <td style=\"padding:0px\" width=\"25%\">\n",
        "            <a href=\"http://fzk.fen.marmara.edu.tr\"\n",
        "               target=\"_blank\">\n",
        "                <img align=\"right\" src=\"https://raw.githubusercontent.com/MU-Physics-Department/logos/master/fzk.png\">\n",
        "            </a>\n",
        "        </td>\n",
        "        <td width=\"10%\">\n",
        "            &nbsp;\n",
        "        </td>\n",
        "        <td style=\"padding:0px;\" width=\"65%\">\n",
        "            <a href=\"https://www.sababozpolat.com/lectures/spring-semester/scientific-programming\"\n",
        "               target=\"_blank\">\n",
        "                <img align=\"right\" src=\"https://raw.githubusercontent.com/MU-Physics-Department/logos/master/comp2083.png\">\n",
        "            </a>\n",
        "        </td>\n",
        "    </tr>\n",
        "</table>"
      ]
    },
    {
      "cell_type": "markdown",
      "source": [
        "# Grid"
      ],
      "metadata": {
        "id": "mBO9WP4lCym8"
      }
    },
    {
      "cell_type": "markdown",
      "source": [
        "A grid is a structural arrangement of evenly spaced bars that run parallel to or intersect with each other. Additionally, it is an interconnected system of intersecting lines that create a sequence of squares or rectangules."
      ],
      "metadata": {
        "id": "0bEmrU7eC8hQ"
      }
    },
    {
      "cell_type": "markdown",
      "source": [
        "![image.png](data:image/png;base64,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)"
      ],
      "metadata": {
        "id": "v_utsFNdNOlg"
      }
    },
    {
      "cell_type": "markdown",
      "source": [
        "Usually, a grid is two-dimensional, and the lines are evenly spaced, intersecting at right angles.\n",
        "\n",
        "Grids are useful for numerical analysis. When analysis is moved onto a grid structure, any calculation is carried out by only on the verticies which makes it possible to do analysis via computers. While there are different types of grids, the most basic one is a square grid.\n",
        "\n",
        "The distance between two successive grid points (verticies) is called grid step. For evenly spaced grid, the grid step is a constant. Following code is a way to create an evenly spaced square grid in 1D.\n",
        "\n",
        "```python\n",
        "h = 0.1  # grid step\n",
        "gp_num = 20  # grid points number\n",
        "grid = [i * h for i in range(gp_num)]\n",
        "print(grid)\n",
        "\n",
        "\n",
        "# Output:\n",
        "[0.0, 0.1, 0.2, 0.3, 0.4, 0.5, 0.6, 0.7, 0.8, 0.9, 1.0, 1.1, 1.2, 1.3, 1.4, 1.5, 1.6, 1.7, 1.8, 1.9]\n",
        "```\n"
      ],
      "metadata": {
        "id": "uokhEJz-Ndfg"
      }
    },
    {
      "cell_type": "markdown",
      "source": [
        "<h3>Task 1</h3>\n",
        "\n",
        "Define grids with $h$ values given below.\n",
        "\n",
        " - $h=1$\n",
        " - $h=0.1$\n",
        " - $h=0.25$\n",
        " - $h=0.05$\n",
        "\n",
        "Print the grids.\n"
      ],
      "metadata": {
        "id": "3xwOjOMqdmpd"
      }
    },
    {
      "cell_type": "code",
      "source": [
        "h = 1\n",
        "#\n",
        "# your code here\n",
        "#\n",
        "gp_num = 20  # grid points number\n",
        "grid = [i * h for i in range(gp_num)]\n",
        "print(grid)"
      ],
      "metadata": {
        "id": "UI6Y_167drhd",
        "outputId": "a869a0b9-6761-497e-ddf5-8623a47ddeab",
        "colab": {
          "base_uri": "https://localhost:8080/"
        }
      },
      "execution_count": 1,
      "outputs": [
        {
          "output_type": "stream",
          "name": "stdout",
          "text": [
            "[0, 1, 2, 3, 4, 5, 6, 7, 8, 9, 10, 11, 12, 13, 14, 15, 16, 17, 18, 19]\n"
          ]
        }
      ]
    },
    {
      "cell_type": "code",
      "source": [
        "h = 0.1\n",
        "#\n",
        "# your code here\n",
        "#\n",
        "gp_num = 20  # grid points number\n",
        "grid = [i * h for i in range(gp_num)]\n",
        "print(grid)"
      ],
      "metadata": {
        "id": "REAa4SEme7uD",
        "outputId": "51d76bed-b3b8-4077-b4d5-a5e3a69d622a",
        "colab": {
          "base_uri": "https://localhost:8080/"
        }
      },
      "execution_count": 2,
      "outputs": [
        {
          "output_type": "stream",
          "name": "stdout",
          "text": [
            "[0.0, 0.1, 0.2, 0.30000000000000004, 0.4, 0.5, 0.6000000000000001, 0.7000000000000001, 0.8, 0.9, 1.0, 1.1, 1.2000000000000002, 1.3, 1.4000000000000001, 1.5, 1.6, 1.7000000000000002, 1.8, 1.9000000000000001]\n"
          ]
        }
      ]
    },
    {
      "cell_type": "code",
      "source": [
        "h = 0.25\n",
        "#\n",
        "# your code here\n",
        "#\n",
        "gp_num = 20  # grid points number\n",
        "grid = [i * h for i in range(gp_num)]\n",
        "print(grid)"
      ],
      "metadata": {
        "id": "4Gyoa2mVe8V0",
        "outputId": "2e34e15e-7010-4462-a4a9-534beb99e3b0",
        "colab": {
          "base_uri": "https://localhost:8080/"
        }
      },
      "execution_count": 3,
      "outputs": [
        {
          "output_type": "stream",
          "name": "stdout",
          "text": [
            "[0.0, 0.25, 0.5, 0.75, 1.0, 1.25, 1.5, 1.75, 2.0, 2.25, 2.5, 2.75, 3.0, 3.25, 3.5, 3.75, 4.0, 4.25, 4.5, 4.75]\n"
          ]
        }
      ]
    },
    {
      "cell_type": "code",
      "source": [
        "h = 0.05\n",
        "#\n",
        "# your code here\n",
        "#\n",
        "gp_num = 20  # grid points number\n",
        "grid = [i * h for i in range(gp_num)]\n",
        "print(grid)"
      ],
      "metadata": {
        "id": "tACPpn1ze9Vj",
        "outputId": "dd0e6cb6-e01f-4547-a23c-d39918d02282",
        "colab": {
          "base_uri": "https://localhost:8080/"
        }
      },
      "execution_count": 4,
      "outputs": [
        {
          "output_type": "stream",
          "name": "stdout",
          "text": [
            "[0.0, 0.05, 0.1, 0.15000000000000002, 0.2, 0.25, 0.30000000000000004, 0.35000000000000003, 0.4, 0.45, 0.5, 0.55, 0.6000000000000001, 0.65, 0.7000000000000001, 0.75, 0.8, 0.8500000000000001, 0.9, 0.9500000000000001]\n"
          ]
        }
      ]
    },
    {
      "cell_type": "markdown",
      "source": [
        "One may also define a 2D square grid,\n",
        "\n",
        "\n",
        "```python\n",
        "h_x = h_y = 0.1  # grid steps in x and y directions\n",
        "gp_num_x = gp_num_y = 20  # grid points numbers in x and y directions\n",
        "grid_x = [i * h_x for i in range(gp_num_x)]\n",
        "grid_y = [i * h_y for i in range(gp_num_y)]\n",
        "print(\"x grid:\", grid_x)\n",
        "print(\"y grid:\", grid_y)\n",
        "\n",
        "\n",
        "# Output:\n",
        "\"x grid:\" [0.0, 0.1, 0.2, 0.3, 0.4, 0.5, 0.6, 0.7, 0.8, 0.9, 1.0, 1.1, 1.2, 1.3, 1.4, 1.5, 1.6, 1.7, 1.8, 1.9]\n",
        "\"y grid:\" [0.0, 0.1, 0.2, 0.3, 0.4, 0.5, 0.6, 0.7, 0.8, 0.9, 1.0, 1.1, 1.2, 1.3, 1.4, 1.5, 1.6, 1.7, 1.8, 1.9]\n",
        "```\n",
        "\n",
        "or a rectangular grid,\n",
        "\n",
        "```python\n",
        "h_x, h_y = 0.1, 0.2  # grid steps in x and y directions\n",
        "gp_num_x, gp_num_y = 20, 10  # grid points numbers in x and y directions\n",
        "grid_x = [i * h_x for i in range(gp_num_x)]\n",
        "grid_x = [i * h_y for i in range(gp_num_y)]\n",
        "print(\"x grid:\", grid_x)\n",
        "print(\"y grid:\", grid_y)\n",
        "\n",
        "\n",
        "# Output:\n",
        "\"x grid:\" [0.0, 0.1, 0.2, 0.3, 0.4, 0.5, 0.6, 0.7, 0.8, 0.9, 1.0, 1.1, 1.2, 1.3, 1.4, 1.5, 1.6, 1.7, 1.8, 1.9]\n",
        "\"y grid:\" [0.0, 0.2, 0.4, 0.6, 0.8, 1.0, 1.2, 1.4, 1.6, 1.8]\n",
        "```"
      ],
      "metadata": {
        "id": "28gpLf4oPR-A"
      }
    },
    {
      "cell_type": "markdown",
      "source": [
        "<h3>Task 2</h3>\n",
        "\n",
        "Define square grids with step values given below.\n",
        "\n",
        " - $h=1$\n",
        " - $h=0.1$\n",
        " - $h=0.25$\n",
        " - $h=0.05$\n",
        "\n",
        "Print the grids.\n"
      ],
      "metadata": {
        "id": "0I7nbqwD-h75"
      }
    },
    {
      "cell_type": "code",
      "source": [
        "h_x = h_y = 1\n",
        "#\n",
        "# your code here\n",
        "#\n",
        "gp_num_x = gp_num_y = 20  # grid points numbers in x and y directions\n",
        "grid_x = [i * h_x for i in range(gp_num_x)]\n",
        "grid_y = [i * h_y for i in range(gp_num_y)]\n",
        "print(\"x grid:\", grid_x)\n",
        "print(\"y grid:\", grid_y)\n"
      ],
      "metadata": {
        "id": "Py1zYMF1-htu",
        "outputId": "a64f4bdc-dacd-49d1-fec2-9298554f8f82",
        "colab": {
          "base_uri": "https://localhost:8080/"
        }
      },
      "execution_count": 11,
      "outputs": [
        {
          "output_type": "stream",
          "name": "stdout",
          "text": [
            "x grid: [0, 1, 2, 3, 4, 5, 6, 7, 8, 9, 10, 11, 12, 13, 14, 15, 16, 17, 18, 19]\n",
            "y grid: [0, 1, 2, 3, 4, 5, 6, 7, 8, 9, 10, 11, 12, 13, 14, 15, 16, 17, 18, 19]\n"
          ]
        }
      ]
    },
    {
      "cell_type": "code",
      "source": [
        "h_x = h_y = 0.1\n",
        "#\n",
        "# your code here\n",
        "#\n",
        "gp_num_x = gp_num_y = 20  # grid points numbers in x and y directions\n",
        "grid_x = [i * h_x for i in range(gp_num_x)]\n",
        "grid_y = [i * h_y for i in range(gp_num_y)]\n",
        "print(\"x grid:\", grid_x)\n",
        "print(\"y grid:\", grid_y)"
      ],
      "metadata": {
        "id": "2gf-5EJo-w18",
        "outputId": "bdb9c892-34a1-4d3d-f9be-7dcaed134c32",
        "colab": {
          "base_uri": "https://localhost:8080/"
        }
      },
      "execution_count": 7,
      "outputs": [
        {
          "output_type": "stream",
          "name": "stdout",
          "text": [
            "x grid: [0.0, 0.1, 0.2, 0.30000000000000004, 0.4, 0.5, 0.6000000000000001, 0.7000000000000001, 0.8, 0.9, 1.0, 1.1, 1.2000000000000002, 1.3, 1.4000000000000001, 1.5, 1.6, 1.7000000000000002, 1.8, 1.9000000000000001]\n",
            "y grid: [0.0, 0.1, 0.2, 0.30000000000000004, 0.4, 0.5, 0.6000000000000001, 0.7000000000000001, 0.8, 0.9, 1.0, 1.1, 1.2000000000000002, 1.3, 1.4000000000000001, 1.5, 1.6, 1.7000000000000002, 1.8, 1.9000000000000001]\n"
          ]
        }
      ]
    },
    {
      "cell_type": "code",
      "source": [
        "h_x = h_y = 0.25\n",
        "#\n",
        "# your code here\n",
        "#\n",
        "gp_num_x = gp_num_y = 20  # grid points numbers in x and y directions\n",
        "grid_x = [i * h_x for i in range(gp_num_x)]\n",
        "grid_y = [i * h_y for i in range(gp_num_y)]\n",
        "print(\"x grid:\", grid_x)\n",
        "print(\"y grid:\", grid_y)"
      ],
      "metadata": {
        "id": "87nqi1oB-wmh",
        "outputId": "79a5d980-9d31-49d8-8984-7235cdd2afb8",
        "colab": {
          "base_uri": "https://localhost:8080/"
        }
      },
      "execution_count": 8,
      "outputs": [
        {
          "output_type": "stream",
          "name": "stdout",
          "text": [
            "x grid: [0.0, 0.25, 0.5, 0.75, 1.0, 1.25, 1.5, 1.75, 2.0, 2.25, 2.5, 2.75, 3.0, 3.25, 3.5, 3.75, 4.0, 4.25, 4.5, 4.75]\n",
            "y grid: [0.0, 0.25, 0.5, 0.75, 1.0, 1.25, 1.5, 1.75, 2.0, 2.25, 2.5, 2.75, 3.0, 3.25, 3.5, 3.75, 4.0, 4.25, 4.5, 4.75]\n"
          ]
        }
      ]
    },
    {
      "cell_type": "code",
      "source": [
        "h_x = h_y = 0.05\n",
        "#\n",
        "# your code here\n",
        "#\n",
        "gp_num_x = gp_num_y = 20  # grid points numbers in x and y directions\n",
        "grid_x = [i * h_x for i in range(gp_num_x)]\n",
        "grid_y = [i * h_y for i in range(gp_num_y)]\n",
        "print(\"x grid:\", grid_x)\n",
        "print(\"y grid:\", grid_y)"
      ],
      "metadata": {
        "id": "HkOMimVN-we5",
        "outputId": "7bfec897-507d-44b5-dc06-d9b07b36ffc1",
        "colab": {
          "base_uri": "https://localhost:8080/"
        }
      },
      "execution_count": 9,
      "outputs": [
        {
          "output_type": "stream",
          "name": "stdout",
          "text": [
            "x grid: [0.0, 0.05, 0.1, 0.15000000000000002, 0.2, 0.25, 0.30000000000000004, 0.35000000000000003, 0.4, 0.45, 0.5, 0.55, 0.6000000000000001, 0.65, 0.7000000000000001, 0.75, 0.8, 0.8500000000000001, 0.9, 0.9500000000000001]\n",
            "y grid: [0.0, 0.05, 0.1, 0.15000000000000002, 0.2, 0.25, 0.30000000000000004, 0.35000000000000003, 0.4, 0.45, 0.5, 0.55, 0.6000000000000001, 0.65, 0.7000000000000001, 0.75, 0.8, 0.8500000000000001, 0.9, 0.9500000000000001]\n"
          ]
        }
      ]
    },
    {
      "cell_type": "markdown",
      "source": [
        "<h3>Task 3</h3>\n",
        "\n",
        "Define rectangular grids with step values given below.\n",
        "\n",
        " - $h_x=1$, $h_y=0.5$\n",
        " - $h_x=0.1$, $h_y=0.2$\n",
        " - $h_x=0.25$, $h_y=0.1$\n",
        " - $h_x=0.05$, $h_y=0.15$\n",
        "\n",
        "Print the grids.\n"
      ],
      "metadata": {
        "id": "okR7XxGk-j_N"
      }
    },
    {
      "cell_type": "code",
      "source": [
        "h_x, h_y = 1, 0.5\n",
        "#\n",
        "# your code here\n",
        "#\n",
        "gp_num_x = gp_num_y = 20  # grid points numbers in x and y directions\n",
        "grid_x = [i * h_x for i in range(gp_num_x)]\n",
        "grid_y = [i * h_y for i in range(gp_num_y)]\n",
        "print(\"x grid:\", grid_x)\n",
        "print(\"y grid:\", grid_y)"
      ],
      "metadata": {
        "id": "Rp4qOXEy-jz_",
        "outputId": "bf69685e-7314-4632-834d-b36444e35a9a",
        "colab": {
          "base_uri": "https://localhost:8080/"
        }
      },
      "execution_count": 12,
      "outputs": [
        {
          "output_type": "stream",
          "name": "stdout",
          "text": [
            "x grid: [0, 1, 2, 3, 4, 5, 6, 7, 8, 9, 10, 11, 12, 13, 14, 15, 16, 17, 18, 19]\n",
            "y grid: [0.0, 0.5, 1.0, 1.5, 2.0, 2.5, 3.0, 3.5, 4.0, 4.5, 5.0, 5.5, 6.0, 6.5, 7.0, 7.5, 8.0, 8.5, 9.0, 9.5]\n"
          ]
        }
      ]
    },
    {
      "cell_type": "code",
      "source": [
        "h_x, h_y = 0.1, 0.2\n",
        "#\n",
        "# your code here\n",
        "#\n",
        "gp_num_x = gp_num_y = 20  # grid points numbers in x and y directions\n",
        "grid_x = [i * h_x for i in range(gp_num_x)]\n",
        "grid_y = [i * h_y for i in range(gp_num_y)]\n",
        "print(\"x grid:\", grid_x)\n",
        "print(\"y grid:\", grid_y)"
      ],
      "metadata": {
        "id": "lBkeXl47_Xwa",
        "outputId": "2f0939d5-4373-4aff-9bea-cdfa35fa845b",
        "colab": {
          "base_uri": "https://localhost:8080/"
        }
      },
      "execution_count": 13,
      "outputs": [
        {
          "output_type": "stream",
          "name": "stdout",
          "text": [
            "x grid: [0.0, 0.1, 0.2, 0.30000000000000004, 0.4, 0.5, 0.6000000000000001, 0.7000000000000001, 0.8, 0.9, 1.0, 1.1, 1.2000000000000002, 1.3, 1.4000000000000001, 1.5, 1.6, 1.7000000000000002, 1.8, 1.9000000000000001]\n",
            "y grid: [0.0, 0.2, 0.4, 0.6000000000000001, 0.8, 1.0, 1.2000000000000002, 1.4000000000000001, 1.6, 1.8, 2.0, 2.2, 2.4000000000000004, 2.6, 2.8000000000000003, 3.0, 3.2, 3.4000000000000004, 3.6, 3.8000000000000003]\n"
          ]
        }
      ]
    },
    {
      "cell_type": "code",
      "source": [
        "h_x, h_y = 0.25, 0.1\n",
        "#\n",
        "# your code here\n",
        "#\n",
        "gp_num_x = gp_num_y = 20  # grid points numbers in x and y directions\n",
        "grid_x = [i * h_x for i in range(gp_num_x)]\n",
        "grid_y = [i * h_y for i in range(gp_num_y)]\n",
        "print(\"x grid:\", grid_x)\n",
        "print(\"y grid:\", grid_y)"
      ],
      "metadata": {
        "id": "zb0KwcOM_Xru",
        "outputId": "917ea73d-cbcd-497d-bb5f-a1f90044c3c4",
        "colab": {
          "base_uri": "https://localhost:8080/"
        }
      },
      "execution_count": 14,
      "outputs": [
        {
          "output_type": "stream",
          "name": "stdout",
          "text": [
            "x grid: [0.0, 0.25, 0.5, 0.75, 1.0, 1.25, 1.5, 1.75, 2.0, 2.25, 2.5, 2.75, 3.0, 3.25, 3.5, 3.75, 4.0, 4.25, 4.5, 4.75]\n",
            "y grid: [0.0, 0.1, 0.2, 0.30000000000000004, 0.4, 0.5, 0.6000000000000001, 0.7000000000000001, 0.8, 0.9, 1.0, 1.1, 1.2000000000000002, 1.3, 1.4000000000000001, 1.5, 1.6, 1.7000000000000002, 1.8, 1.9000000000000001]\n"
          ]
        }
      ]
    },
    {
      "cell_type": "code",
      "source": [
        "h_x, h_y = 0.05, 0.15\n",
        "#\n",
        "# your code here\n",
        "#\n",
        "gp_num_x = gp_num_y = 20  # grid points numbers in x and y directions\n",
        "grid_x = [i * h_x for i in range(gp_num_x)]\n",
        "grid_y = [i * h_y for i in range(gp_num_y)]\n",
        "print(grid_x)\n",
        "print(grid_y)\n",
        "####### \"x grid:\" kısmı bana göre gereksiz hoca da sonuncu gibi yazdı."
      ],
      "metadata": {
        "id": "23xZvOio_Xn7",
        "outputId": "511d6922-2b54-4edf-c4c0-9c2cb2374146",
        "colab": {
          "base_uri": "https://localhost:8080/"
        }
      },
      "execution_count": 16,
      "outputs": [
        {
          "output_type": "stream",
          "name": "stdout",
          "text": [
            "[0.0, 0.05, 0.1, 0.15000000000000002, 0.2, 0.25, 0.30000000000000004, 0.35000000000000003, 0.4, 0.45, 0.5, 0.55, 0.6000000000000001, 0.65, 0.7000000000000001, 0.75, 0.8, 0.8500000000000001, 0.9, 0.9500000000000001]\n",
            "[0.0, 0.15, 0.3, 0.44999999999999996, 0.6, 0.75, 0.8999999999999999, 1.05, 1.2, 1.3499999999999999, 1.5, 1.65, 1.7999999999999998, 1.95, 2.1, 2.25, 2.4, 2.55, 2.6999999999999997, 2.85]\n"
          ]
        }
      ]
    },
    {
      "cell_type": "markdown",
      "source": [
        "# Functions on Grid"
      ],
      "metadata": {
        "id": "u5WlA42MDE-V"
      }
    },
    {
      "cell_type": "markdown",
      "source": [],
      "metadata": {
        "id": "tmOG7sHfDHsS"
      }
    },
    {
      "cell_type": "markdown",
      "source": [
        "<h3>Task 4</h3>\n",
        "\n",
        "Define a grid with $h = 0.25$ and $n=100$. Then find the values of following functions on this grid.\n",
        "\n",
        " - $f(x)=cos(x)$\n",
        " - $f(x)=sin(x)$\n",
        " - $f(x)=exp(x)$\n",
        "\n",
        "Plot each function."
      ],
      "metadata": {
        "id": "z8ff2NRChPdO"
      }
    },
    {
      "cell_type": "code",
      "source": [
        "from math import cos\n",
        "import matplotlib.pyplot as mpl_p\n",
        "#\n",
        "# your code here for the grid\n",
        "#\n",
        "h = 0.25\n",
        "n = 100\n",
        "grid = [i * h for i in range(n)]\n",
        "#\n",
        "# your code here for cos function\n",
        "#\n",
        "cos_on_grid = [cos(x) for x in grid]\n",
        "\n",
        "mpl_p.plot(grid, cos_on_grid)\n",
        "mpl_p.show()\n",
        "#\n",
        "# your code here for sin function\n",
        "#\n",
        "\n",
        "#\n",
        "# your code here for exp function\n",
        "#\n"
      ],
      "metadata": {
        "id": "ifneyR-UiQKf",
        "outputId": "0c34a93e-60be-4254-f87b-0a7b4c9c1112",
        "colab": {
          "base_uri": "https://localhost:8080/",
          "height": 430
        }
      },
      "execution_count": 21,
      "outputs": [
        {
          "output_type": "display_data",
          "data": {
            "text/plain": [
              "<Figure size 640x480 with 1 Axes>"
            ],
            "image/png": "[encoded data removed]"
          },
          "metadata": {}
        }
      ]
    },
    {
      "cell_type": "markdown",
      "source": [
        "<h3>Task 5</h3>\n",
        "\n",
        "Define a grid with $h = 0.25$ and $n=100$. Then calculate the given functions on this grid.\n",
        "\n",
        "$$\n",
        "f(x)=\\frac{e^{-x}}{x}\n",
        "$$\n",
        "\n",
        "Plot the function."
      ],
      "metadata": {
        "id": "Mbs3hAwSDMIz"
      }
    },
    {
      "cell_type": "code",
      "source": [
        "from math import exp\n",
        "import matplotlib.pyplot as mpl_p\n",
        "\n",
        "#\n",
        "# your code here\n",
        "#\n",
        "h = 0.25\n",
        "n = 100\n",
        "grid = [i * h for i in range(1, n)]\n",
        "func = [exp(-x) / x for x in grid]\n",
        "\n",
        "mpl_p.plot(grid, func)\n",
        "mpl_p.show()"
      ],
      "metadata": {
        "id": "XjgWkccJivsn",
        "outputId": "65f3c270-7c94-4cfc-e98e-f8244bd36cf1",
        "colab": {
          "base_uri": "https://localhost:8080/",
          "height": 430
        }
      },
      "execution_count": 23,
      "outputs": [
        {
          "output_type": "display_data",
          "data": {
            "text/plain": [
              "<Figure size 640x480 with 1 Axes>"
            ],
            "image/png": "[encoded data removed]"
          },
          "metadata": {}
        }
      ]
    },
    {
      "cell_type": "markdown",
      "source": [
        "There are other advanced ways of grid creation beyond the scope of this lecture."
      ],
      "metadata": {
        "id": "1Zt9IqwF_l4V"
      }
    }
  ],
  "metadata": {
    "kernelspec": {
      "display_name": "Python 3 (ipykernel)",
      "language": "python",
      "name": "python3"
    },
    "language_info": {
      "codemirror_mode": {
        "name": "ipython",
        "version": 3
      },
      "file_extension": ".py",
      "mimetype": "text/x-python",
      "name": "python",
      "nbconvert_exporter": "python",
      "pygments_lexer": "ipython3",
      "version": "3.9.7"
    },
    "colab": {
      "provenance": [],
      "include_colab_link": true
    }
  },
  "nbformat": 4,
  "nbformat_minor": 0
}