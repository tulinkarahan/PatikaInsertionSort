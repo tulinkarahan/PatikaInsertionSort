{
  "nbformat": 4,
  "nbformat_minor": 0,
  "metadata": {
    "colab": {
      "private_outputs": true,
      "provenance": [],
      "include_colab_link": true
    },
    "kernelspec": {
      "name": "python3",
      "display_name": "Python 3"
    },
    "language_info": {
      "name": "python"
    }
  },
  "cells": [
    {
      "cell_type": "markdown",
      "metadata": {
        "id": "view-in-github",
        "colab_type": "text"
      },
      "source": [
        "<a href=\"https://colab.research.google.com/github/tulinkarahan/PatikaInsertionSort/blob/main/content/regression/RG04_fit_and_regression.ipynb\" target=\"_parent\"><img src=\"https://colab.research.google.com/assets/colab-badge.svg\" alt=\"Open In Colab\"/></a>"
      ]
    },
    {
      "cell_type": "markdown",
      "source": [
        "<table width=\"100%\">\n",
        "    <tr style=\"\">\n",
        "        <th style=\"text-align:left; padding:0px\" width=\"5%\">\n",
        "            <a href=\"https://www.marmara.edu.tr\" target=\"_blank\">\n",
        "                <img src=\"https://raw.githubusercontent.com/MU-Physics-Department/logos/master/mu_logo.png\">\n",
        "            </a>\n",
        "        </th>\n",
        "        <th style=\"padding:0px;\" width=\"35%\">\n",
        "            <img align=\"right\" src=\"https://raw.githubusercontent.com/MU-Physics-Department/logos/master/name.png\">\n",
        "        </th>\n",
        "        <th  width=\"20%\">\n",
        "            &nbsp;\n",
        "        </th>\n",
        "        <th style=\"padding:0px\" width=\"5%\">\n",
        "            <a href=\"https://www.sababozpolat.com\" target=\"_blank\" padding=\"0px\">\n",
        "                <img align=\"center\" src=\"https://raw.githubusercontent.com/MU-Physics-Department/logos/master/hp.png\">\n",
        "            </a>\n",
        "        </th>\n",
        "        <th style=\"padding:0px\" width=\"5%\">\n",
        "            <a href=\"mailto:saba.bozpolat@gmail.com\" target=\"_blank\">\n",
        "                <img align=\"center\" src=\"https://raw.githubusercontent.com/MU-Physics-Department/logos/master/email.png\">\n",
        "            </a>\n",
        "        </th>\n",
        "        <th style=\"padding:0px;\" width=\"5%\">\n",
        "            <a href=\"https://www.linkedin.com/in/saba-bozpolat-644856152/\" target=\"_blank\">\n",
        "                <img align=\"right\" src=\"https://raw.githubusercontent.com/MU-Physics-Department/logos/master/in.png\">\n",
        "            </a>\n",
        "        </th>\n",
        "        <th style=\"padding:0px;\" width=\"5%\">\n",
        "            <a href=\"https://scholar.google.com.tr/citations?user=nSiJoMYAAAAJ&hl=en\" target=\"_blank\">\n",
        "                <img align=\"right\" src=\"https://raw.githubusercontent.com/MU-Physics-Department/logos/master/GS.png\">\n",
        "            </a>\n",
        "        </th>\n",
        "        <th style=\"padding:0px;\" width=\"5%\">\n",
        "            <a href=\"https://www.researchgate.net/profile/Saba-Bozpolat\" target=\"_blank\">\n",
        "                <img align=\"right\" src=\"https://raw.githubusercontent.com/MU-Physics-Department/logos/master/RG.png\">\n",
        "            </a>\n",
        "        </th>\n",
        "        <th style=\"padding:0px\" width=\"5%\">\n",
        "            <a href=\"https://www.youtube.com/channel/UC8-uOZud6UL7oCOE2UUBunA\" target=\"_blank\">\n",
        "                <img align=\"right\" src=\"https://raw.githubusercontent.com/MU-Physics-Department/logos/master/YT.png\">\n",
        "            </a>\n",
        "        </th>\n",
        "        <th style=\"padding:0px;\" width=\"5%\">\n",
        "            <a href=\"https://github.com/sbbzplt\" target=\"_blank\">\n",
        "                <img align=\"right\" src=\"https://raw.githubusercontent.com/MU-Physics-Department/logos/master/GH.png\">\n",
        "            </a>\n",
        "        </th>\n",
        "        <th style=\"padding:0px;\" width=\"5%\">\n",
        "            <a href=\"https://join.slack.com/t/mu-fzk/shared_invite/zt-13jtd6dtd-g9zD5P4Zu0m5P0Gt2PNReQ\"\n",
        "               target=\"_blank\">\n",
        "                <img align=\"right\" src=\"https://raw.githubusercontent.com/MU-Physics-Department/logos/master/slack.png\">\n",
        "            </a>\n",
        "        </th>\n",
        "    </tr>\n",
        "</table>\n",
        "<table width=\"100%\">\n",
        "    <tr style=\"background-color:white;\">\n",
        "        <!-- <td style=\"text-align-left;padding:0px;\" width=\"10%\">\n",
        "            <a href=\"https://fef.marmara.edu.tr\"\n",
        "               target=\"_blank\">\n",
        "                <img align=\"right\" src=\"https://raw.githubusercontent.com/MU-Physics-Department/logos/master/fef.png\">\n",
        "            </a>\n",
        "        </td> -->\n",
        "        <td style=\"padding:0px\" width=\"25%\">\n",
        "            <a href=\"http://fzk.fen.marmara.edu.tr\"\n",
        "               target=\"_blank\">\n",
        "                <img align=\"right\" src=\"https://raw.githubusercontent.com/MU-Physics-Department/logos/master/fzk.png\">\n",
        "            </a>\n",
        "        </td>\n",
        "        <td width=\"10%\">\n",
        "            &nbsp;\n",
        "        </td>\n",
        "        <td style=\"padding:0px;\" width=\"65%\">\n",
        "            <a href=\"https://www.sababozpolat.com/lectures/spring-semester/scientific-programming\"\n",
        "               target=\"_blank\">\n",
        "                <img align=\"right\" src=\"https://raw.githubusercontent.com/MU-Physics-Department/logos/master/comp2083.png\">\n",
        "            </a>\n",
        "        </td>\n",
        "    </tr>\n",
        "</table>"
      ],
      "metadata": {
        "id": "MSzXlKaj2h0i"
      }
    },
    {
      "cell_type": "markdown",
      "source": [
        "# Fit & Regression"
      ],
      "metadata": {
        "id": "I1gwrimH4c-T"
      }
    },
    {
      "cell_type": "markdown",
      "source": [
        "Fit is to produce a function to describe the data and make educated guesses for the values of the independent variables which are not included in the data set. In the simplest case, the relation between an independent and a dependent variables is a straight line. Therefore, a fit line is a straight line that is the best approximation of the given set of data. It is used to study the nature of the relation between two variables.\n",
        "<br>\n",
        "<br>\n",
        "<p align=\"center\">\n",
        "<img width=60% src=\"https://github.com/MU-Physics-Department/logos/blob/master/for_comp2083/fit.png?raw=true\">\n",
        "</p>\n",
        "<br>\n",
        "\n",
        "As come to Regression, the linear version of it similar to the linear fit. As the subject progresses, the gap widens between them and we will discuss this in detail later."
      ],
      "metadata": {
        "id": "oRLHQ7lp4-ur"
      }
    },
    {
      "cell_type": "markdown",
      "source": [
        "## Linear fit"
      ],
      "metadata": {
        "id": "kZd-VuZiHoIq"
      }
    },
    {
      "cell_type": "markdown",
      "source": [
        "Linear fit (or linear regression) is the simplest version of function deduction for a data set. As the simplest form, we'll consider a single independent variable and a dependent variable. Let's examine N data points.\n",
        "\n",
        "$$\n",
        "\\text{data set} = \\{(x_0, y_0), (x_1, y_1), \\dots, (x_{N-1}, y_{N-1})\\}\n",
        "$$\n",
        "\n",
        "The equation of a linear fit line is,\n",
        "\n",
        "$$\n",
        "y = a x + b,\n",
        "$$\n",
        "\n",
        "where $a$ is the slope and $b$ is the y-intercept of the graph. It is impossible to find a straight line which hits all the data points as they inevitably contains some errors. Therefore, our object is to find the best fit for the data. To this end, we'll define a difference function and minimize it.\n",
        "<br>\n",
        "<br>\n",
        "<p align=\"center\">\n",
        "<img width=40% src=\"https://github.com/MU-Physics-Department/logos/blob/master/for_comp2083/fit_object.png?raw=true\">\n",
        "</p>\n",
        "<br>\n",
        "The difference of each data point from the fit function is,\n",
        "\n",
        "\\begin{array}a\n",
        "s_i = y(x_i) - y_i\\\\\n",
        "\\;\\;\\;\\, = ax_i + b - y_i.\n",
        "\\end{array}\n",
        "\n",
        "Total difference for each data points is,\n",
        "\n",
        "\\begin{array}a\n",
        "s = \\sum_is_i \\\\\n",
        "\\;\\;\\, = \\sum_i(y(x_i) - y_i)\\\\\n",
        "\\;\\;\\, = \\sum_i(ax_i + b - y_i).\n",
        "\\end{array}\n"
      ],
      "metadata": {
        "id": "tSI00UKeHq3Z"
      }
    },
    {
      "cell_type": "markdown",
      "source": [
        "<h3>Task 1</h3>\n",
        "\n",
        "Given the measured data below, calculate the difference for each data point and their sum. Consider a fit line with $a$ and $b$ are 0.5 and 0.3, respectively.\n",
        "\n",
        "| $x_i$ | $y_i$  |\n",
        "|:-----:|:------:|\n",
        "|  0.1  |  0.33  |\n",
        "|  0.2  |  0.41  |\n",
        "|  0.3  |  0.44  |\n"
      ],
      "metadata": {
        "id": "5SawtxMUKAxm"
      }
    },
    {
      "cell_type": "code",
      "source": [
        "xs = [0.1, 0.2, 0.3]\n",
        "ys = [0.33, 0.41, 0.44]\n",
        "data = [(0.1, 0.33), (0.2, 0.41), (0.3, 0.44)]\n",
        "\n",
        "a, b = 0.5, 0.3\n",
        "\n",
        "total = 0\n",
        "for i in range(len(xs)):\n",
        "    total += a * xs[i] + b - ys[i]\n",
        "\n",
        "#######################################\n",
        "total = 0\n",
        "for x, y in zip(xs, ys):\n",
        "    total += a * x + b - y\n",
        "\n",
        "#######################################\n",
        "diffs = [a * xs[i] + b - ys[i] for i in range(len(xs))]\n",
        "s = sum(diffs)\n",
        "\n",
        "#######################################\n",
        "diffs = [a* x + b -y for x, y in zip(xs, ys)]\n",
        "s = sum(diffs)\n",
        "\n",
        "#######################################\n",
        "data = [(0.1, 0.33), (0.2, 0.41), (0.3, 0.44)]\n",
        "s = 0\n",
        "for x, y in data:\n",
        "s += ...\n",
        "\n",
        "#######################################\n",
        "diffs = [a* x + b -y for x, y in data]\n"
      ],
      "metadata": {
        "id": "jb1kwNhOKAIj"
      },
      "execution_count": null,
      "outputs": []
    },
    {
      "cell_type": "markdown",
      "source": [
        "[click for our solution](Reg04_fit_and_regression_solutions.ipynb)"
      ],
      "metadata": {
        "id": "J0YZmsTbVVRn"
      }
    },
    {
      "cell_type": "markdown",
      "source": [
        "\n",
        "Notice that this difference may be positive or negative. If we directly sum over the quantity $s_i$, the cumulative deviation from the fit line will be slightly smaller than it should be, since the sign of these values can also be negative. This is called sign effect. To eliminate this sign effect, we'll consider squares of $s_i$.\n",
        "\n",
        "\\begin{array}a\n",
        "S =\\sum_is_i^2=\\sum_i\\left(ax_i + b - y_i\\right)^2.\n",
        "\\end{array}\n"
      ],
      "metadata": {
        "id": "3c5U1DrdKzgl"
      }
    },
    {
      "cell_type": "markdown",
      "source": [
        "<h3>Task 2</h3>\n",
        "\n",
        "Given the measured data below, calculate the sum of differences, $s$ and sum of quadratic-differences, $S$. Consider a fit line with $a$ and $b$ are 0.5 and 0.3, respectively.\n",
        "\n",
        "| $x_i$ | $y_i$  |\n",
        "|:-----:|:------:|\n",
        "|  0.1  |  0.33  |\n",
        "|  0.2  |  0.41  |\n",
        "|  0.3  |  0.44  |\n"
      ],
      "metadata": {
        "id": "tt1d6sOfNXUZ"
      }
    },
    {
      "cell_type": "code",
      "source": [
        "xs = [0.1, 0.2, 0.3]\n",
        "ys = [0.33, 0.41, 0.44]\n",
        "data = [(0.1, 0.33), (0.2, 0.41), (0.3, 0.44)]\n",
        "\n",
        "a, b = 0.5, 0.3\n",
        "\n",
        "total = 0\n",
        "for i in range(len(xs)):\n",
        "    total += (a * xs[i] + b - ys[i]) ** 2\n",
        "\n",
        "################################################## hocanın yaptığı;\n",
        "data = [(0.1, 0.33), (0.2, 0.41), (0.3, 0.44)]\n",
        "S = sum([(a* x + b -y) ** 2 for x, y in data])\n"
      ],
      "metadata": {
        "id": "crI8CldVNXGu"
      },
      "execution_count": null,
      "outputs": []
    },
    {
      "cell_type": "markdown",
      "source": [
        "[click for our solution](Reg04_fit_and_regression_solutions.ipynb)"
      ],
      "metadata": {
        "id": "GozNQ8hzNW47"
      }
    },
    {
      "cell_type": "markdown",
      "source": [
        "\n",
        "The square-difference, _i.e._ $S$ includes two parameters which are $a$ and $b$.\n",
        "\n",
        "$$\n",
        "S = S(a, b)\n",
        "$$\n",
        "\n",
        "Therefore we need to find two parameter values which optimally minimizes the square-difference function.\n",
        "\n",
        "\\begin{array}a\n",
        "\\frac{\\partial S}{\\partial a} = 2 \\sum_i((ax_i+b-y_i)x_i) = 0\\\\\n",
        "\\frac{\\partial S}{\\partial b} = 2 \\sum_i(ax_i+b-y_i)  = 0\n",
        "\\end{array}\n",
        "\n",
        "By applying summation rules and arraging the equations, we get;\n",
        "\n",
        "\\begin{array}a\n",
        "b\\sum_ix_i+ a\\sum_ix_i^2= \\sum_ix_iy_i\\\\\n",
        "bN+ a\\sum_ix_i= \\sum_iy_i\n",
        "\\end{array}\n",
        "\n",
        "These equations forms a linear equation system of two. And the solution is,\n",
        "\n",
        "\\begin{array}a\n",
        "a = \\frac{N\\sum_ix_iy_i-\\sum_ix_i\\sum_iy_i}{N\\sum_ix_i^2-(\\sum_ix_i)^2}\\\\\n",
        "b = \\frac{\\sum_ix_i^2\\sum_iy_i - \\sum_ix_i\\sum_ix_iy_i}{N\\sum_ix_i^2-(\\sum_ix_i)^2}\n",
        "\\end{array}\n"
      ],
      "metadata": {
        "id": "jsbDDe8bNZy-"
      }
    },
    {
      "cell_type": "markdown",
      "source": [
        "Task 3 muhtemel vize sorusu"
      ],
      "metadata": {
        "id": "wqV5xXFpDvtH"
      }
    },
    {
      "cell_type": "markdown",
      "source": [
        "<h3>Task 3</h3>\n",
        "\n",
        "Write a function for linear fit using the details below,\n",
        "\n",
        " - name: linear_fit\n",
        " - inputs:\n",
        "   - x_list: list of numbers which includes x points\n",
        "   - y_list: list of numbers which includes y points\n",
        " - outputs: a and b parameters. (return in one line.)\n",
        "\n",
        "Write your function using solutions for $a$ and $b$ given the last equations above. Then check your function by running the next cell."
      ],
      "metadata": {
        "id": "9YVW8b0u4_ho"
      }
    },
    {
      "cell_type": "code",
      "source": [
        "def linear_fit(x_list, y_list):  # don't change this line.\n",
        "\n",
        "    x_sum = sum(x_list)\n",
        "    y_sum = sum(y_list)\n",
        "    xy_sum = sum([x * y for x, y in zip(x_list, y_list)])\n",
        "    x_sqr_sum = sum([x ** 2 for x in x_list])\n",
        "    N = len(x_list)\n",
        "    a = (N * xy_sum - x_sum * y_sum) / (N * x_sqr_sum - x_sum ** 2)\n",
        "    b = (x_sqr_sum * y_sum - x_sum * xy_sum) / (N * x_sqr_sum - x_sum ** 2)\n",
        "    return a, b\n",
        "\n",
        "\n"
      ],
      "metadata": {
        "id": "bisfQQfl4_vN"
      },
      "execution_count": null,
      "outputs": []
    },
    {
      "cell_type": "code",
      "source": [
        "#\n",
        "# test your function here\n",
        "# do not change anything in this cell\n",
        "#\n",
        "a, b = 3.2, 5.1\n",
        "x = [0, 1, 2, 3, 4, 5, 6, 7, 8, 9]\n",
        "y = [3.9, 8.8, 11.4, 15.0, 18.0, 22.0, 23.3, 27.4, 32.4, 32.9]\n",
        "a_func, b_func = linear_fit(x, y)\n",
        "pe_a = round(abs(a - a_func) / a * 100, 1)\n",
        "pe_b = round(abs(b - b_func) / b * 100, 1)\n",
        "print(\"Data is produced with a =\", a, \"and b =\", b)\n",
        "print(\"Return of your function is a =\", round(a_func, 1), \"and b =\", round(b_func, 1))\n",
        "print(\"Error in a is \", str(pe_a)+\"%\")\n",
        "print(\"Error in b is \", str(pe_b)+\"%\")\n",
        "print(\"If errors are more than 5%, check your code.\")\n"
      ],
      "metadata": {
        "id": "8-XVNwywTURn"
      },
      "execution_count": null,
      "outputs": []
    },
    {
      "cell_type": "markdown",
      "source": [
        "[click for our solution](Reg04_fit_and_regression_solutions.ipynb)"
      ],
      "metadata": {
        "id": "zLc6RsQTVfhS"
      }
    },
    {
      "cell_type": "markdown",
      "source": [
        "## How to plot fit function"
      ],
      "metadata": {
        "id": "SXhEiQSCXH4W"
      }
    },
    {
      "cell_type": "markdown",
      "source": [
        "In order to obtain a smoother line, it is necessary to produce y values corresponding to the other values between the x values given in the data set. Here is an algorithmic suggestion for this process.\n",
        "\n",
        " 1. By using $a$ and $b$ parameters which are produced by your function, create another function to implement line equation.\n",
        " $$\n",
        " y = a x + b\n",
        " $$\n",
        "    - name: fit_function\n",
        "    - inputs:\n",
        "       - a: a float\n",
        "       - b: a float\n",
        "       - x: a float\n",
        "    - output: corresponding y value\n",
        " 2. Create an x list which is denser than the given list of x data.\n",
        " 3. Create an empty list to store y data.\n",
        " 4. Using a for loop, feed theese x values one by one to ``fit_function`` and append them to the y list.\n",
        " 5. By use of Matplotlib module, plot your function."
      ],
      "metadata": {
        "id": "cIlCQ2GpXK3I"
      }
    },
    {
      "cell_type": "markdown",
      "source": [
        "<h3>Task 4</h3>\n",
        "\n",
        "Implement the abovementioned algorithm."
      ],
      "metadata": {
        "id": "2lGTcPcmXLCG"
      }
    },
    {
      "cell_type": "code",
      "source": [
        "# Item-1 in the algorithm\n",
        "def fit_function(a, b, x):  # don't change this line.\n",
        "    #\n",
        "    # your code here\n",
        "    #\n",
        "   return a * x + b\n",
        "\n"
      ],
      "metadata": {
        "id": "TEEvBR0yXLOt"
      },
      "execution_count": null,
      "outputs": []
    },
    {
      "cell_type": "code",
      "source": [
        "import matplotlib.pyplot as mpl_p\n",
        "\n",
        "x = [0, 1, 2, 3, 4, 5, 6, 7, 8, 9]\n",
        "y = [3.9, 8.8, 11.4, 15.0, 18.0, 22.0, 23.3, 27.4, 32.4, 32.9]\n",
        "a_fit, b_fit = linear_fit(x, y)\n",
        "\n",
        "# From item-2 to item-5 in the algorithm\n",
        "#\n",
        "# your code here\n",
        "#\n",
        "\n",
        "y_fit = []\n",
        "for i in range(len(x)):\n",
        "    fitted_y = fit_function(a_fit, b_fit, x[i])\n",
        "    y_fit.append(fitted_y)\n",
        "\n",
        "import matplotlib.pyplot as plt\n",
        "\n",
        "plt.plot(x, y, \".\")\n",
        "plt.plot(x, y_fit, color = \"r\")\n",
        "plt.show()"
      ],
      "metadata": {
        "id": "zHG1RrVOZ-Sc"
      },
      "execution_count": null,
      "outputs": []
    },
    {
      "cell_type": "markdown",
      "source": [
        "[click for our solution](Reg04_fit_and_regression_solutions.ipynb)"
      ],
      "metadata": {
        "id": "VENNGOPcVnRK"
      }
    }
  ]
}