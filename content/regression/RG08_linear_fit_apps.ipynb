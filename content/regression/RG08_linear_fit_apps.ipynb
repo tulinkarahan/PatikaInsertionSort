{
  "nbformat": 4,
  "nbformat_minor": 0,
  "metadata": {
    "colab": {
      "private_outputs": true,
      "provenance": [],
      "include_colab_link": true
    },
    "kernelspec": {
      "name": "python3",
      "display_name": "Python 3"
    },
    "language_info": {
      "name": "python"
    }
  },
  "cells": [
    {
      "cell_type": "markdown",
      "metadata": {
        "id": "view-in-github",
        "colab_type": "text"
      },
      "source": [
        "<a href=\"https://colab.research.google.com/github/tulinkarahan/PatikaInsertionSort/blob/main/content/regression/RG08_linear_fit_apps.ipynb\" target=\"_parent\"><img src=\"https://colab.research.google.com/assets/colab-badge.svg\" alt=\"Open In Colab\"/></a>"
      ]
    },
    {
      "cell_type": "markdown",
      "source": [
        "<table width=\"100%\">\n",
        "    <tr style=\"\">\n",
        "        <th style=\"text-align:left; padding:0px\" width=\"5%\">\n",
        "            <a href=\"https://www.marmara.edu.tr\" target=\"_blank\">\n",
        "                <img src=\"https://raw.githubusercontent.com/MU-Physics-Department/logos/master/mu_logo.png\">\n",
        "            </a>\n",
        "        </th>\n",
        "        <th style=\"padding:0px;\" width=\"35%\">\n",
        "            <img align=\"right\" src=\"https://raw.githubusercontent.com/MU-Physics-Department/logos/master/name.png\">\n",
        "        </th>\n",
        "        <th  width=\"20%\">\n",
        "            &nbsp;\n",
        "        </th>\n",
        "        <th style=\"padding:0px\" width=\"5%\">\n",
        "            <a href=\"https://www.sababozpolat.com\" target=\"_blank\" padding=\"0px\">\n",
        "                <img align=\"center\" src=\"https://raw.githubusercontent.com/MU-Physics-Department/logos/master/hp.png\">\n",
        "            </a>\n",
        "        </th>\n",
        "        <th style=\"padding:0px\" width=\"5%\">\n",
        "            <a href=\"mailto:saba.bozpolat@gmail.com\" target=\"_blank\">\n",
        "                <img align=\"center\" src=\"https://raw.githubusercontent.com/MU-Physics-Department/logos/master/email.png\">\n",
        "            </a>\n",
        "        </th>\n",
        "        <th style=\"padding:0px;\" width=\"5%\">\n",
        "            <a href=\"https://www.linkedin.com/in/saba-bozpolat-644856152/\" target=\"_blank\">\n",
        "                <img align=\"right\" src=\"https://raw.githubusercontent.com/MU-Physics-Department/logos/master/in.png\">\n",
        "            </a>\n",
        "        </th>\n",
        "        <th style=\"padding:0px;\" width=\"5%\">\n",
        "            <a href=\"https://scholar.google.com.tr/citations?user=nSiJoMYAAAAJ&hl=en\" target=\"_blank\">\n",
        "                <img align=\"right\" src=\"https://raw.githubusercontent.com/MU-Physics-Department/logos/master/GS.png\">\n",
        "            </a>\n",
        "        </th>\n",
        "        <th style=\"padding:0px;\" width=\"5%\">\n",
        "            <a href=\"https://www.researchgate.net/profile/Saba-Bozpolat\" target=\"_blank\">\n",
        "                <img align=\"right\" src=\"https://raw.githubusercontent.com/MU-Physics-Department/logos/master/RG.png\">\n",
        "            </a>\n",
        "        </th>\n",
        "        <th style=\"padding:0px\" width=\"5%\">\n",
        "            <a href=\"https://www.youtube.com/channel/UC8-uOZud6UL7oCOE2UUBunA\" target=\"_blank\">\n",
        "                <img align=\"right\" src=\"https://raw.githubusercontent.com/MU-Physics-Department/logos/master/YT.png\">\n",
        "            </a>\n",
        "        </th>\n",
        "        <th style=\"padding:0px;\" width=\"5%\">\n",
        "            <a href=\"https://github.com/sbbzplt\" target=\"_blank\">\n",
        "                <img align=\"right\" src=\"https://raw.githubusercontent.com/MU-Physics-Department/logos/master/GH.png\">\n",
        "            </a>\n",
        "        </th>\n",
        "        <th style=\"padding:0px;\" width=\"5%\">\n",
        "            <a href=\"https://join.slack.com/t/mu-fzk/shared_invite/zt-13jtd6dtd-g9zD5P4Zu0m5P0Gt2PNReQ\"\n",
        "               target=\"_blank\">\n",
        "                <img align=\"right\" src=\"https://raw.githubusercontent.com/MU-Physics-Department/logos/master/slack.png\">\n",
        "            </a>\n",
        "        </th>\n",
        "    </tr>\n",
        "</table>\n",
        "<table width=\"100%\">\n",
        "    <tr style=\"background-color:white;\">\n",
        "        <!-- <td style=\"text-align-left;padding:0px;\" width=\"10%\">\n",
        "            <a href=\"https://fef.marmara.edu.tr\"\n",
        "               target=\"_blank\">\n",
        "                <img align=\"right\" src=\"https://raw.githubusercontent.com/MU-Physics-Department/logos/master/fef.png\">\n",
        "            </a>\n",
        "        </td> -->\n",
        "        <td style=\"padding:0px\" width=\"25%\">\n",
        "            <a href=\"http://fzk.fen.marmara.edu.tr\"\n",
        "               target=\"_blank\">\n",
        "                <img align=\"right\" src=\"https://raw.githubusercontent.com/MU-Physics-Department/logos/master/fzk.png\">\n",
        "            </a>\n",
        "        </td>\n",
        "        <td width=\"10%\">\n",
        "            &nbsp;\n",
        "        </td>\n",
        "        <td style=\"padding:0px;\" width=\"65%\">\n",
        "            <a href=\"https://www.sababozpolat.com/lectures/spring-semester/scientific-programming\"\n",
        "               target=\"_blank\">\n",
        "                <img align=\"right\" src=\"https://raw.githubusercontent.com/MU-Physics-Department/logos/master/comp2083.png\">\n",
        "            </a>\n",
        "        </td>\n",
        "    </tr>\n",
        "</table>"
      ],
      "metadata": {
        "id": "bT5W7DUFhsbb"
      }
    },
    {
      "cell_type": "markdown",
      "source": [
        "# Linear Fit Applications"
      ],
      "metadata": {
        "id": "1xgpzuQthtxj"
      }
    },
    {
      "cell_type": "markdown",
      "source": [
        "<h3>Task 1</h3>\n",
        "\n",
        "Given the time and distance data for a motion with constant velocity,\n",
        " - Find the best linear fit line for them.\n",
        " - Plot both the fit function and the given data on one canvas.\n",
        "\n",
        "Conclude your results."
      ],
      "metadata": {
        "id": "sJsFqC9iiczl"
      }
    },
    {
      "cell_type": "markdown",
      "source": [
        "![image.png](data:image/png;base64,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)"
      ],
      "metadata": {
        "id": "J-Ju7k7Rbt9L"
      }
    },
    {
      "cell_type": "code",
      "source": [
        "import matplotlib.pyplot as mpl_p\n",
        "\n",
        "time = [i * 0.1 for i in range(1, 11)]\n",
        "distance = [-4.9, -2.6, -1.0, 0.9, 3.0, 5.3, 8.0, 9.5, 11.8, 13.4]\n",
        "#\n",
        "# your code here\n",
        "#\n",
        "N = len(time)\n",
        "time_sum = sum(time) # sum_i x_i\n",
        "dist_sum = sum(distance) # sum_i y_i\n",
        "time_prod_dist = []\n",
        "for i in range(N):\n",
        "    time_prod_dist.append(time[i] * distance[i])\n",
        "time_prod_dist_sum = sum(time_prod_dist)\n",
        "\n",
        "############\n",
        "time_prod_dist = [time[i] * distance[i] for i in range(N)]\n",
        "time_prod_dist_sum = sum(time_prod_dist)\n",
        "\n",
        "############\n",
        "time_prod_dist = []\n",
        "for t, x in zip(time, distance):\n",
        "    time_prod_dist.append(t * x)\n",
        "time_prod_dist_sum = sum(time_prod_dist)\n",
        "\n",
        "###########\n",
        "time_prod_dist = [t * x for t, x in zip(time, distance)]\n",
        "time_prod_dist_sum = sum(time_prod_dist)\n",
        "\n",
        "###########\n",
        "time_prod_dist_sum = 0\n",
        "for i in range(N):\n",
        "    time_prod_dist_sum += tim[i] * distance[i]\n",
        "\n",
        "############\n",
        "time_prod_dist_sum = 0\n",
        "for t, x in zip(time, distance):\n",
        "    time_prod_dist_sum += t * x\n",
        "\n",
        "############# yeşillerin arasından bir kod seçip ilerlemeliyiz. Hepsi aynı işlemi yapıyor."
      ],
      "metadata": {
        "id": "8m1Odni6ieEL"
      },
      "execution_count": null,
      "outputs": []
    },
    {
      "cell_type": "code",
      "source": [
        "import matplotlib.pyplot as mpl_p\n",
        "\n",
        "time = [i * 0.1 for i in range(1, 11)]\n",
        "distance = [-4.9, -2.6, -1.0, 0.9, 3.0, 5.3, 8.0, 9.5, 11.8, 13.4]\n",
        "#\n",
        "# your code here\n",
        "#\n",
        "N = len(time)\n",
        "time_sum = sum(time) # sum_i x_i\n",
        "dist_sum = sum(distance) # sum_i y_i\n",
        "\n",
        "time_prod_dist = []\n",
        "for i in range(N):\n",
        "    time_prod_dist.append(time[i] * distance[i])\n",
        "time_prod_dist_sum = sum(time_prod_dist)\n",
        "\n",
        "time_sqr_sum = sum([x ** 2 for x in time])\n",
        "\n",
        "a = (N * time_prod_dist_sum - time_sum * dist_sum) / (N * time_sqr_sum - time_sum ** 2)\n",
        "b = (time_sqr_sum * dist_sum - time_sum * time_prod_dist_sum) / (N * time_sqr_sum - time_sum ** 2)\n",
        "\n",
        "distance_fit = []\n",
        "for t in time:\n",
        "    fit_result = a * t + b\n",
        "    distance_fit.append(fit_result)\n",
        "\n",
        "################\n",
        "distance_fit = [a * t + b for t in time]\n",
        "\n",
        "mpl_p.plot(time, distance, \".\")\n",
        "mpl_p.plot(time, distance_fit, \"r\")\n",
        "mpl_p.show()\n"
      ],
      "metadata": {
        "id": "dvC1slk9d7US"
      },
      "execution_count": null,
      "outputs": []
    },
    {
      "cell_type": "markdown",
      "source": [
        "<h3>Task 2</h3>\n",
        "\n",
        "Given the time and distance data for a motion with constant acceleration,\n",
        " - Linearize the data using change of variables method.\n",
        " - Find the best linear fit line for them.\n",
        " - Plot both the fit function and the given data on one canvas.\n",
        "\n",
        "Conclude your results."
      ],
      "metadata": {
        "id": "PmGaRSSDkG8Y"
      }
    },
    {
      "cell_type": "code",
      "source": [
        "import matplotlib.pyplot as mpl_p\n",
        "\n",
        "time = [i * 0.1 for i in range(1, 11)]\n",
        "distance = [18.7, 21.0, 29.1, 38.7, 46.3, 78.3, 80.2, 118.3, 178.9, 194.3]\n",
        "\n",
        "#\n",
        "# your code here\n",
        "#\n"
      ],
      "metadata": {
        "id": "bOPUwpa6kHIH"
      },
      "execution_count": null,
      "outputs": []
    },
    {
      "cell_type": "markdown",
      "source": [
        "<h3>Task 3</h3>\n",
        "\n",
        "Given the time and distance data for a motion with constant acceleration,\n",
        " - Linearize the data using logarithmic method.\n",
        " - Find the best linear fit line for them.\n",
        " - Plot both the fit function and the given data on one canvas.\n",
        "\n",
        "Conclude your results."
      ],
      "metadata": {
        "id": "b6yiYolwliPV"
      }
    },
    {
      "cell_type": "code",
      "source": [
        "import matplotlib.pyplot as mpl_p\n",
        "from random import random, choice\n",
        "from math import log\n",
        "\n",
        "time = [i * 0.1 for i in range(1, 11)]\n",
        "distance = [11.1, 28.0, 44.0, 53.8, 104.6, 148.4, 209.5, 292.1, 367.2, 438.0]\n",
        "\n",
        "#\n",
        "# your code here\n",
        "#\n"
      ],
      "metadata": {
        "id": "z6fR2ZGOliZb"
      },
      "execution_count": null,
      "outputs": []
    }
  ]
}