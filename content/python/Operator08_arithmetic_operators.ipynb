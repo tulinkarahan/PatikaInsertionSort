{
  "nbformat": 4,
  "nbformat_minor": 0,
  "metadata": {
    "colab": {
      "private_outputs": true,
      "provenance": [],
      "include_colab_link": true
    },
    "kernelspec": {
      "name": "python3",
      "display_name": "Python 3"
    },
    "language_info": {
      "name": "python"
    }
  },
  "cells": [
    {
      "cell_type": "markdown",
      "metadata": {
        "id": "view-in-github",
        "colab_type": "text"
      },
      "source": [
        "<a href=\"https://colab.research.google.com/github/tulinkarahan/PatikaInsertionSort/blob/main/content/python/Operator08_arithmetic_operators.ipynb\" target=\"_parent\"><img src=\"https://colab.research.google.com/assets/colab-badge.svg\" alt=\"Open In Colab\"/></a>"
      ]
    },
    {
      "cell_type": "markdown",
      "source": [
        "<table width=\"100%\">\n",
        "    <tr style=\"\">\n",
        "        <th style=\"text-align:left; padding:0px\" width=\"5%\">\n",
        "            <a href=\"https://www.marmara.edu.tr\" target=\"_blank\">\n",
        "                <img src=\"https://raw.githubusercontent.com/MU-Physics-Department/logos/master/mu_logo.png\">\n",
        "            </a>\n",
        "        </th>\n",
        "        <th style=\"padding:0px;\" width=\"35%\">\n",
        "            <img align=\"right\" src=\"https://raw.githubusercontent.com/MU-Physics-Department/logos/master/name.png\">\n",
        "        </th>\n",
        "        <th  width=\"20%\">\n",
        "            &nbsp;\n",
        "        </th>\n",
        "        <th style=\"padding:0px\" width=\"5%\">\n",
        "            <a href=\"https://www.sababozpolat.com\" target=\"_blank\" padding=\"0px\">\n",
        "                <img align=\"center\" src=\"https://raw.githubusercontent.com/MU-Physics-Department/logos/master/hp.png\">\n",
        "            </a>\n",
        "        </th>\n",
        "        <th style=\"padding:0px\" width=\"5%\">\n",
        "            <a href=\"mailto:saba.bozpolat@gmail.com\" target=\"_blank\">\n",
        "                <img align=\"center\" src=\"https://raw.githubusercontent.com/MU-Physics-Department/logos/master/email.png\">\n",
        "            </a>\n",
        "        </th>\n",
        "        <th style=\"padding:0px;\" width=\"5%\">\n",
        "            <a href=\"https://www.linkedin.com/in/saba-bozpolat-644856152/\" target=\"_blank\">\n",
        "                <img align=\"right\" src=\"https://raw.githubusercontent.com/MU-Physics-Department/logos/master/in.png\">\n",
        "            </a>\n",
        "        </th>\n",
        "        <th style=\"padding:0px;\" width=\"5%\">\n",
        "            <a href=\"https://scholar.google.com.tr/citations?user=nSiJoMYAAAAJ&hl=en\" target=\"_blank\">\n",
        "                <img align=\"right\" src=\"https://raw.githubusercontent.com/MU-Physics-Department/logos/master/GS.png\">\n",
        "            </a>\n",
        "        </th>\n",
        "        <th style=\"padding:0px;\" width=\"5%\">\n",
        "            <a href=\"https://www.researchgate.net/profile/Saba-Bozpolat\" target=\"_blank\">\n",
        "                <img align=\"right\" src=\"https://raw.githubusercontent.com/MU-Physics-Department/logos/master/RG.png\">\n",
        "            </a>\n",
        "        </th>\n",
        "        <th style=\"padding:0px\" width=\"5%\">\n",
        "            <a href=\"https://www.youtube.com/channel/UC8-uOZud6UL7oCOE2UUBunA\" target=\"_blank\">\n",
        "                <img align=\"right\" src=\"https://raw.githubusercontent.com/MU-Physics-Department/logos/master/YT.png\">\n",
        "            </a>\n",
        "        </th>\n",
        "        <th style=\"padding:0px;\" width=\"5%\">\n",
        "            <a href=\"https://github.com/sbbzplt\" target=\"_blank\">\n",
        "                <img align=\"right\" src=\"https://raw.githubusercontent.com/MU-Physics-Department/logos/master/GH.png\">\n",
        "            </a>\n",
        "        </th>\n",
        "        <th style=\"padding:0px;\" width=\"5%\">\n",
        "            <a href=\"https://join.slack.com/t/mu-fzk/shared_invite/zt-13jtd6dtd-g9zD5P4Zu0m5P0Gt2PNReQ\"\n",
        "               target=\"_blank\">\n",
        "                <img align=\"right\" src=\"https://raw.githubusercontent.com/MU-Physics-Department/logos/master/slack.png\">\n",
        "            </a>\n",
        "        </th>\n",
        "    </tr>\n",
        "</table>\n",
        "<table width=\"100%\">\n",
        "    <tr style=\"background-color:white;\">\n",
        "        <!-- <td style=\"text-align-left;padding:0px;\" width=\"10%\">\n",
        "            <a href=\"https://fef.marmara.edu.tr\"\n",
        "               target=\"_blank\">\n",
        "                <img align=\"right\" src=\"https://raw.githubusercontent.com/MU-Physics-Department/logos/master/fef.png\">\n",
        "            </a>\n",
        "        </td> -->\n",
        "        <td style=\"padding:0px\" width=\"25%\">\n",
        "            <a href=\"http://fzk.fen.marmara.edu.tr\"\n",
        "               target=\"_blank\">\n",
        "                <img align=\"right\" src=\"https://raw.githubusercontent.com/MU-Physics-Department/logos/master/fzk.png\">\n",
        "            </a>\n",
        "        </td>\n",
        "        <td width=\"10%\">\n",
        "            &nbsp;\n",
        "        </td>\n",
        "        <td style=\"padding:0px;\" width=\"65%\">\n",
        "            <a href=\"https://www.sababozpolat.com/lectures/scientific-programming\"\n",
        "               target=\"_blank\">\n",
        "                <img align=\"right\" src=\"https://raw.githubusercontent.com/MU-Physics-Department/logos/master/comp2083.png\">\n",
        "            </a>\n",
        "        </td>\n",
        "    </tr>\n",
        "</table>"
      ],
      "metadata": {
        "id": "xsiB2OVMcazu"
      }
    },
    {
      "cell_type": "markdown",
      "source": [
        "#### What is an Operator?"
      ],
      "metadata": {
        "id": "pMMcblcglhYw"
      }
    },
    {
      "cell_type": "markdown",
      "source": [
        "In Python, operators are special symbols that designate that some sort of computation should be performed. The values that an operator acts on are called operands. Consider the expression 4 + 5. Here, 4 and 5 are called left and right operands and + is called operator."
      ],
      "metadata": {
        "id": "MbRjaaCoQ7oj"
      }
    },
    {
      "cell_type": "markdown",
      "source": [
        "# Arithmetic Operators"
      ],
      "metadata": {
        "id": "taIe84hiSa5D"
      }
    },
    {
      "cell_type": "markdown",
      "source": [
        "## Addition"
      ],
      "metadata": {
        "id": "oQYlDFxST4-S"
      }
    },
    {
      "cell_type": "markdown",
      "source": [
        "The operator to add two valeus of suitable types together. The oparator is ```+```.\n",
        "\n",
        "```python\n",
        ">>> a, b = 1, 2\n",
        ">>> c = a + b\n",
        ">>> print(c)\n",
        "3\n",
        "```\n",
        "```python\n",
        ">>> a, b = 1, 2.\n",
        ">>> c = a + b\n",
        ">>> print(c)\n",
        "3.0\n",
        "```\n",
        "```python\n",
        ">>> a, b = \"Hello\", \"World\"\n",
        ">>> c = a + b\n",
        ">>> print(c)\n",
        "HelloWorld\n",
        "```\n",
        "```python\n",
        ">>> a, b = [0, 1], [2, 3]\n",
        ">>> c = a + b\n",
        ">>> print(c)\n",
        "[0, 1, 2, 3]\n",
        "```"
      ],
      "metadata": {
        "id": "WD1M1IOySbD4"
      }
    },
    {
      "cell_type": "markdown",
      "source": [
        "<h3>Task 1</h3>\n",
        "Perform following summations and print the results of every item.\n",
        "\n",
        " - a + b\n",
        " - c + d\n",
        " - a + d\n",
        " - e + f\n",
        " - g + h\n",
        " - j + k\n",
        " - m + n\n",
        " - a + e\n",
        " - b + h\n",
        " - a + j\n",
        " - b + m\n",
        " - c + e\n",
        " - d + h\n",
        " - c + j\n",
        " - d + m\n",
        "\n",
        "Print every item. Which ones throw an Error?"
      ],
      "metadata": {
        "id": "ITm0hUFpT-36"
      }
    },
    {
      "cell_type": "code",
      "source": [
        "a, b, c, d = 5, 8, 5., 8.\n",
        "e = [1, 2, 3]\n",
        "f = [4, 5, 5]\n",
        "g = {7, 8, 9}\n",
        "h = {10, 11, 12}\n",
        "j = (13, 14, 15)\n",
        "k = (16, 17, 18)\n",
        "m = \"19 20 21 \"\n",
        "n = \"22 23 24 \"\n",
        "\n",
        "print(a+b)\n",
        "print(c+d)\n",
        "print(a+d)\n",
        "print(e+f)\n",
        "print(j+k)\n",
        "print(m+n)\n",
        "\n",
        "print(g+h)\n",
        "\n",
        "\n",
        "\n",
        "\n",
        "\n"
      ],
      "metadata": {
        "id": "0jJ_d39sT_Bd"
      },
      "execution_count": null,
      "outputs": []
    },
    {
      "cell_type": "markdown",
      "source": [
        "## Substraction"
      ],
      "metadata": {
        "id": "IRJR7f8sTzhJ"
      }
    },
    {
      "cell_type": "markdown",
      "source": [
        "The operator which performs substraction between two values. The operator is ```-```.\n",
        "\n",
        "```python\n",
        ">>> a, b = 1, 2\n",
        ">>> c = a - b\n",
        ">>> print(c)\n",
        "-1\n",
        "```\n",
        "```python\n",
        ">>> a, b = 1, 2.\n",
        ">>> c = a - b\n",
        ">>> print(c)\n",
        "-1.0\n",
        "```\n",
        "```python\n",
        ">>> a, b = (0, 1), (1, 2, 3)\n",
        ">>> c = a - b\n",
        ">>> print(c)\n",
        "(0,)\n",
        "```"
      ],
      "metadata": {
        "id": "HsWd0S8iT85z"
      }
    },
    {
      "cell_type": "markdown",
      "source": [
        "<h3>Task 2</h3>\n",
        "Perform following substractions and print the results of every item.\n",
        "\n",
        " - a - b\n",
        " - c - d\n",
        " - a - d\n",
        " - e - f\n",
        " - g - h\n",
        " - j - k\n",
        " - m - n\n",
        " - a - e\n",
        " - b - h\n",
        " - a - j\n",
        " - b - m\n",
        " - c - e\n",
        " - d - h\n",
        " - c - j\n",
        " - d - m\n",
        "\n",
        "Print every item. Which ones throw an Error?"
      ],
      "metadata": {
        "id": "Nb4NjUVIT9In"
      }
    },
    {
      "cell_type": "code",
      "source": [
        "a, b, c, d = 5, 8, 5., 8.\n",
        "e = [1, 2, 3]\n",
        "f = [4, 5, 5]\n",
        "g = {7, 8, 9}\n",
        "h = {10, 11, 12}\n",
        "j = (13, 14, 15)\n",
        "k = (16, 17, 18)\n",
        "m = \"19 20 21 \"\n",
        "n = \"22 23 24 \"\n",
        "#\n",
        "# your code here\n",
        "#\n"
      ],
      "metadata": {
        "id": "vjRcujBZTz2t"
      },
      "execution_count": null,
      "outputs": []
    },
    {
      "cell_type": "markdown",
      "source": [
        "## Multiplication"
      ],
      "metadata": {
        "id": "TIwk_nhc1gaN"
      }
    },
    {
      "cell_type": "markdown",
      "source": [
        "The operator to get product of two values. The operator is ```*```.\n",
        "\n",
        "```python\n",
        ">>> a, b = 2, 3\n",
        ">>> c = a * b\n",
        ">>> print(c)\n",
        "6\n",
        "```\n",
        "```python\n",
        ">>> a, b = 2., 3\n",
        ">>> c = a * b\n",
        ">>> print(c)\n",
        "6.0\n",
        "```\n",
        "```python\n",
        ">>> a, b = [0, 1], 2\n",
        ">>> c = a * b\n",
        ">>> print(c)\n",
        "[0, 1, 0, 1]\n",
        "```\n",
        "```python\n",
        ">>> a, b = (0, 1), 2\n",
        ">>> c = a * b\n",
        ">>> print(c)\n",
        "(0, 1, 0, 1)\n",
        "```\n",
        "```python\n",
        ">>> a, b = \"Physics\", 3\n",
        ">>> c = a * b\n",
        ">>> print(c)\n",
        "PhysicsPhysicsPhysics\n",
        "```\n"
      ],
      "metadata": {
        "id": "MjrIiTxY1glF"
      }
    },
    {
      "cell_type": "markdown",
      "source": [
        "<h3>Task 3</h3>\n",
        "Perform following multiplication and print the results of every item.\n",
        "\n",
        " - a * b\n",
        " * c * d\n",
        " * a * d\n",
        " * e * f\n",
        " * g * h\n",
        " * j * k\n",
        " * m * n\n",
        " * a * e\n",
        " * b * h\n",
        " * a * j\n",
        " * b * m\n",
        " * c * e\n",
        " * d * h\n",
        " * c * j\n",
        " * d * m\n",
        "\n",
        "Print every item. Which ones throw an Error?\n"
      ],
      "metadata": {
        "id": "fZeTSPuf1gvf"
      }
    },
    {
      "cell_type": "code",
      "source": [
        "a, b, c, d = 5, 8, 5., 8.\n",
        "e = [1, 2, 3]\n",
        "f = [4, 5, 5]\n",
        "g = {7, 8, 9}\n",
        "h = {10, 11, 12}\n",
        "j = (13, 14, 15)\n",
        "k = (16, 17, 18)\n",
        "m = \"19 20 21 \"\n",
        "n = \"22 23 24 \"\n",
        "#\n",
        "# your code here\n",
        "#\n"
      ],
      "metadata": {
        "id": "XLOaXEbq1g6U"
      },
      "execution_count": null,
      "outputs": []
    },
    {
      "cell_type": "markdown",
      "source": [
        "## Division"
      ],
      "metadata": {
        "id": "8VaA52a422l5"
      }
    },
    {
      "cell_type": "markdown",
      "source": [
        "Divides left hand operand by right hand operand. The operator is ```/```.\n",
        "\n",
        "```python\n",
        ">>> a, b = 2, 3\n",
        ">>> c = a / b\n",
        ">>> print(c)\n",
        "0.66666667\n",
        ">>> a, b = 3, 2\n",
        ">>> c = a / b\n",
        ">>> print(c)\n",
        "1.5\n",
        ">>> a, b = 12, 6\n",
        ">>> c = a / b\n",
        ">>> print(c)\n",
        "2.0\n",
        ">>> a, b = 12.0, 6\n",
        ">>> c = a / b\n",
        ">>> print(c)\n",
        "2.0\n",
        "```"
      ],
      "metadata": {
        "id": "5UTkteae22xa"
      }
    },
    {
      "cell_type": "markdown",
      "source": [
        "<h3>Task 4</h3>\n",
        "Perform following divisions and print the results of every item.\n",
        "\n",
        " - a / b\n",
        " - c / d\n",
        " - a / d\n",
        " - e / f\n",
        " - g / h\n",
        " - j / k\n",
        " - m / n\n",
        " - a / e\n",
        " - b / h\n",
        " - a / j\n",
        " - b / m\n",
        " - c / e\n",
        " - d / h\n",
        " - c / j\n",
        " - d / m\n",
        "\n",
        "Print every item. Which ones throw an Error?\n"
      ],
      "metadata": {
        "id": "EPk3QVpK2284"
      }
    },
    {
      "cell_type": "code",
      "source": [
        "a, b, c, d = 5, 8, 5., 8.\n",
        "e = [1, 2, 3]\n",
        "f = [4, 5, 5]\n",
        "g = {7, 8, 9}\n",
        "h = {10, 11, 12}\n",
        "j = (13, 14, 15)\n",
        "k = (16, 17, 18)\n",
        "m = \"19 20 21 \"\n",
        "n = \"22 23 24 \"\n",
        "#\n",
        "# your code here\n",
        "#\n"
      ],
      "metadata": {
        "id": "OAzHMHC923ZU"
      },
      "execution_count": null,
      "outputs": []
    },
    {
      "cell_type": "markdown",
      "source": [
        "## Floor Division"
      ],
      "metadata": {
        "id": "bFLFwkU23m7U"
      }
    },
    {
      "cell_type": "markdown",
      "source": [
        "The division of operands where the result is the quotient in which the digits after the decimal point are removed. But if one of the operands is negative, the result is floored, i.e., rounded away from zero (towards negative infinity). The operator is ```//```.\n",
        "\n",
        "```python\n",
        ">>> a, b = 2, 3\n",
        ">>> c = a // b\n",
        ">>> print(c)\n",
        "0\n",
        ">>> a, b = 3, 2\n",
        ">>> c = a // b\n",
        ">>> print(c)\n",
        "1\n",
        ">>> a, b = 12, 6\n",
        ">>> c = a // b\n",
        ">>> print(c)\n",
        "2\n",
        ">>> a, b = 12.0, 6.0\n",
        ">>> c = a // b\n",
        ">>> print(c)\n",
        "2\n",
        "```"
      ],
      "metadata": {
        "id": "KG5R9xrc3nE3"
      }
    },
    {
      "cell_type": "markdown",
      "source": [
        "<h3>Task 5</h3>\n",
        "Perform following divisions and print the results of every item.\n",
        "\n",
        " - a // b\n",
        " - c // d\n",
        " - a // d\n",
        " - e // f\n",
        " - g // h\n",
        " - j // k\n",
        " - m // n\n",
        " - a // e\n",
        " - b // h\n",
        " - a // j\n",
        " - b // m\n",
        " - c // e\n",
        " - d // h\n",
        " - c // j\n",
        " - d // m\n",
        "\n",
        "Print every item. Which ones throw an Error?"
      ],
      "metadata": {
        "id": "XgFnkruu3nP2"
      }
    },
    {
      "cell_type": "code",
      "source": [
        "a, b, c, d = 5, 8, 5., 8.\n",
        "e = [1, 2, 3]\n",
        "f = [4, 5, 5]\n",
        "g = {7, 8, 9}\n",
        "h = {10, 11, 12}\n",
        "j = (13, 14, 15)\n",
        "k = (16, 17, 18)\n",
        "m = \"19 20 21 \"\n",
        "n = \"22 23 24 \"\n",
        "#\n",
        "# your code here\n",
        "#\n"
      ],
      "metadata": {
        "id": "7d1tIwir3nah"
      },
      "execution_count": null,
      "outputs": []
    },
    {
      "cell_type": "markdown",
      "source": [
        "## Exponent"
      ],
      "metadata": {
        "id": "dW46GknY34cs"
      }
    },
    {
      "cell_type": "markdown",
      "source": [
        "Performs exponential (power) calculation on operands. The operator is ```**```.\n",
        "\n",
        "```python\n",
        ">>> a = 2\n",
        ">>> c = a ** 3\n",
        ">>> print(c)\n",
        "8\n",
        "```\n",
        "```python\n",
        ">>> a = 2.0\n",
        ">>> c = a ** 3\n",
        ">>> print(c)\n",
        "8.0\n",
        "```\n"
      ],
      "metadata": {
        "id": "PRav1Mom34m-"
      }
    },
    {
      "cell_type": "markdown",
      "source": [
        "<h3>Task 6</h3>\n",
        "Perform following exponents and print the results of every item.\n",
        "\n",
        " - a ** b\n",
        " - c ** d\n",
        " - a ** d\n",
        " - e ** f\n",
        " - g ** h\n",
        " - j ** k\n",
        " - m ** n\n",
        " - a ** e\n",
        " - b ** h\n",
        " - a ** j\n",
        " - b ** m\n",
        " - c ** e\n",
        " - d ** h\n",
        " - c ** j\n",
        " - d ** m\n",
        "\n",
        "Print every item. Which ones throw an Error?\n"
      ],
      "metadata": {
        "id": "NB8pCBqN34xR"
      }
    },
    {
      "cell_type": "code",
      "source": [
        "a, b, c, d = 5, 8, 5., 8.\n",
        "e = [1, 2, 3]\n",
        "f = [4, 5, 5]\n",
        "g = {7, 8, 9}\n",
        "h = {10, 11, 12}\n",
        "j = (13, 14, 15)\n",
        "k = (16, 17, 18)\n",
        "m = \"19 20 21 \"\n",
        "n = \"22 23 24 \"\n",
        "#\n",
        "# your code here\n",
        "#\n"
      ],
      "metadata": {
        "id": "oQP2zrjv348X"
      },
      "execution_count": null,
      "outputs": []
    },
    {
      "cell_type": "markdown",
      "source": [
        "## Modulus"
      ],
      "metadata": {
        "id": "qT97dzK435GL"
      }
    },
    {
      "cell_type": "markdown",
      "source": [
        "Divides left hand operand by right hand operand and returns remainder. The operator is ```%```.\n",
        "\n",
        "\n",
        "```python\n",
        ">>> a, b = 22, 3\n",
        ">>> c = a % b\n",
        ">>> print(c)\n",
        "1\n",
        "```"
      ],
      "metadata": {
        "id": "p8TVpQPE35Qf"
      }
    },
    {
      "cell_type": "markdown",
      "source": [
        "<h3>Task 7</h3>\n",
        "Perform following modulus and print the results of every item.\n",
        "\n",
        " - a % b\n",
        " - c % d\n",
        " - a % d\n",
        " - e % f\n",
        " - g % h\n",
        " - j % k\n",
        " - m % n\n",
        " - a % e\n",
        " - b % h\n",
        " - a % j\n",
        " - b % m\n",
        " - c % e\n",
        " - d % h\n",
        " - c % j\n",
        " - d % m\n",
        "\n",
        "Print every item. Which ones throw an Error?"
      ],
      "metadata": {
        "id": "Kv5liEAP35a9"
      }
    },
    {
      "cell_type": "code",
      "source": [
        "a, b, c, d = 5, 8, 5., 8.\n",
        "e = [1, 2, 3]\n",
        "f = [4, 5, 5]\n",
        "g = {7, 8, 9}\n",
        "h = {10, 11, 12}\n",
        "j = (13, 14, 15)\n",
        "k = (16, 17, 18)\n",
        "m = \"19 20 21 \"\n",
        "n = \"22 23 24 \"\n",
        "#\n",
        "# your code here\n",
        "#\n"
      ],
      "metadata": {
        "id": "alQEs9dY35lj"
      },
      "execution_count": null,
      "outputs": []
    },
    {
      "cell_type": "markdown",
      "source": [
        "<!-- | Operator | Name | Description |\n",
        "|:-:|:-:|:-:|\n",
        "| + | addition | Adds values on either side of the operator. |\n",
        "| - | subtraction |\tSubtracts right hand operand from left hand operand. |\n",
        "| &#42; | multiplication | Multiplies values on either side of the operator. |\n",
        "| / | division | Divides left hand operand by right hand operand. |\n",
        "| % | modulus | Divides left hand operand by right hand operand and returns remainder. |\n",
        "| &#42;&#42; | exponent | Performs exponential (power) calculation on operands. |\n",
        "| // | Floor Division | The division of operands where the result is the quotient<br>in which the digits after the decimal point are removed.<br>But if one of the operands is negative, the result is floored,<br>i.e., rounded away from zero (towards negative infinity) | -->"
      ],
      "metadata": {
        "id": "BZ31Gr8ET0LM"
      }
    }
  ]
}