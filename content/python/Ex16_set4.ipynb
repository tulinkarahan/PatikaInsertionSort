{
  "nbformat": 4,
  "nbformat_minor": 0,
  "metadata": {
    "colab": {
      "private_outputs": true,
      "provenance": [],
      "include_colab_link": true
    },
    "kernelspec": {
      "name": "python3",
      "display_name": "Python 3"
    },
    "language_info": {
      "name": "python"
    }
  },
  "cells": [
    {
      "cell_type": "markdown",
      "metadata": {
        "id": "view-in-github",
        "colab_type": "text"
      },
      "source": [
        "<a href=\"https://colab.research.google.com/github/tulinkarahan/PatikaInsertionSort/blob/main/content/python/Ex16_set4.ipynb\" target=\"_parent\"><img src=\"https://colab.research.google.com/assets/colab-badge.svg\" alt=\"Open In Colab\"/></a>"
      ]
    },
    {
      "cell_type": "markdown",
      "source": [
        "<table width=\"100%\">\n",
        "    <tr style=\"\">\n",
        "        <th style=\"text-align:left; padding:0px\" width=\"5%\">\n",
        "            <a href=\"https://www.marmara.edu.tr\" target=\"_blank\">\n",
        "                <img src=\"https://raw.githubusercontent.com/MU-Physics-Department/logos/master/mu_logo.png\">\n",
        "            </a>\n",
        "        </th>\n",
        "        <th style=\"padding:0px;\" width=\"35%\">\n",
        "            <img align=\"right\" src=\"https://raw.githubusercontent.com/MU-Physics-Department/logos/master/name.png\">\n",
        "        </th>\n",
        "        <th  width=\"20%\">\n",
        "            &nbsp;\n",
        "        </th>\n",
        "        <th style=\"padding:0px\" width=\"5%\">\n",
        "            <a href=\"https://www.sababozpolat.com\" target=\"_blank\" padding=\"0px\">\n",
        "                <img align=\"center\" src=\"https://raw.githubusercontent.com/MU-Physics-Department/logos/master/hp.png\">\n",
        "            </a>\n",
        "        </th>\n",
        "        <th style=\"padding:0px\" width=\"5%\">\n",
        "            <a href=\"mailto:saba.bozpolat@gmail.com\" target=\"_blank\">\n",
        "                <img align=\"center\" src=\"https://raw.githubusercontent.com/MU-Physics-Department/logos/master/email.png\">\n",
        "            </a>\n",
        "        </th>\n",
        "        <th style=\"padding:0px;\" width=\"5%\">\n",
        "            <a href=\"https://www.linkedin.com/in/saba-bozpolat-644856152/\" target=\"_blank\">\n",
        "                <img align=\"right\" src=\"https://raw.githubusercontent.com/MU-Physics-Department/logos/master/in.png\">\n",
        "            </a>\n",
        "        </th>\n",
        "        <th style=\"padding:0px;\" width=\"5%\">\n",
        "            <a href=\"https://scholar.google.com.tr/citations?user=nSiJoMYAAAAJ&hl=en\" target=\"_blank\">\n",
        "                <img align=\"right\" src=\"https://raw.githubusercontent.com/MU-Physics-Department/logos/master/GS.png\">\n",
        "            </a>\n",
        "        </th>\n",
        "        <th style=\"padding:0px;\" width=\"5%\">\n",
        "            <a href=\"https://www.researchgate.net/profile/Saba-Bozpolat\" target=\"_blank\">\n",
        "                <img align=\"right\" src=\"https://raw.githubusercontent.com/MU-Physics-Department/logos/master/RG.png\">\n",
        "            </a>\n",
        "        </th>\n",
        "        <th style=\"padding:0px\" width=\"5%\">\n",
        "            <a href=\"https://www.youtube.com/channel/UC8-uOZud6UL7oCOE2UUBunA\" target=\"_blank\">\n",
        "                <img align=\"right\" src=\"https://raw.githubusercontent.com/MU-Physics-Department/logos/master/YT.png\">\n",
        "            </a>\n",
        "        </th>\n",
        "        <th style=\"padding:0px;\" width=\"5%\">\n",
        "            <a href=\"https://github.com/sbbzplt\" target=\"_blank\">\n",
        "                <img align=\"right\" src=\"https://raw.githubusercontent.com/MU-Physics-Department/logos/master/GH.png\">\n",
        "            </a>\n",
        "        </th>\n",
        "        <th style=\"padding:0px;\" width=\"5%\">\n",
        "            <a href=\"https://join.slack.com/t/mu-fzk/shared_invite/zt-13jtd6dtd-g9zD5P4Zu0m5P0Gt2PNReQ\"\n",
        "               target=\"_blank\">\n",
        "                <img align=\"right\" src=\"https://raw.githubusercontent.com/MU-Physics-Department/logos/master/slack.png\">\n",
        "            </a>\n",
        "        </th>\n",
        "    </tr>\n",
        "</table>\n",
        "<table width=\"100%\">\n",
        "    <tr style=\"background-color:white;\">\n",
        "        <!-- <td style=\"text-align-left;padding:0px;\" width=\"10%\">\n",
        "            <a href=\"https://fef.marmara.edu.tr\"\n",
        "               target=\"_blank\">\n",
        "                <img align=\"right\" src=\"https://raw.githubusercontent.com/MU-Physics-Department/logos/master/fef.png\">\n",
        "            </a>\n",
        "        </td> -->\n",
        "        <td style=\"padding:0px\" width=\"25%\">\n",
        "            <a href=\"http://fzk.fen.marmara.edu.tr\"\n",
        "               target=\"_blank\">\n",
        "                <img align=\"right\" src=\"https://raw.githubusercontent.com/MU-Physics-Department/logos/master/fzk.png\">\n",
        "            </a>\n",
        "        </td>\n",
        "        <td width=\"10%\">\n",
        "            &nbsp;\n",
        "        </td>\n",
        "        <td style=\"padding:0px;\" width=\"65%\">\n",
        "            <a href=\"https://www.sababozpolat.com/lectures/spring-semester/scientific-programming\"\n",
        "               target=\"_blank\">\n",
        "                <img align=\"right\" src=\"https://raw.githubusercontent.com/MU-Physics-Department/logos/master/comp2083.png\">\n",
        "            </a>\n",
        "        </td>\n",
        "    </tr>\n",
        "</table>"
      ],
      "metadata": {
        "id": "TgMxliqTSzZM"
      }
    },
    {
      "cell_type": "markdown",
      "source": [
        "# Exercises - Set 4"
      ],
      "metadata": {
        "id": "ExUxL6saSz2B"
      }
    },
    {
      "cell_type": "markdown",
      "source": [
        "<h3>Task 1</h3>\n",
        "\n",
        "Write a Python code which emulates the Mehter march. During the Mehter march, soldiers turn slightly left and right every three steps. Therefore your output should be something like,\n",
        "\n",
        "```\n",
        "1, 2, 3, Left, 4, 5, 6, Right, 7, 8, 9, Left, ...\n",
        "```"
      ],
      "metadata": {
        "id": "ZDmjRQdiNPlE"
      }
    },
    {
      "cell_type": "code",
      "source": [
        "for step in range(1, 25):\n",
        "  print(step)\n",
        "  if step % 3 == 0:\n",
        "    if (step) % 2 == 0:\n",
        "      print(\"Right\")\n",
        "    elif (step) % 2 == 1:\n",
        "      print(\"Left\")\n",
        "\n"
      ],
      "metadata": {
        "id": "vCWO-_BvNPbW"
      },
      "execution_count": null,
      "outputs": []
    },
    {
      "cell_type": "markdown",
      "source": [
        "<h3>Task 2</h3>\n",
        "\n",
        "Write a Python code to analyse a bit-string and find the biggest number of consecutive zeros in it.\n",
        "\n",
        " - Example:\n",
        "  - given bit-string: \"11001000110100100000101011\"\n",
        "  - biggest number of consecutive zeros: 5\n"
      ],
      "metadata": {
        "id": "0MLLsCd-OHFL"
      }
    },
    {
      "cell_type": "code",
      "source": [
        "bit_str_1 = \"011001111100101000100011100000001101\"\n",
        "bit_str_2 = \"101110010101010000101111100111100000\"\n",
        "#\n",
        "# your code here\n",
        "#\n"
      ],
      "metadata": {
        "id": "t4LIY8_5OG6Y"
      },
      "execution_count": null,
      "outputs": []
    },
    {
      "cell_type": "markdown",
      "source": [
        "<h3>Task 3</h3>\n",
        "\n",
        "Take the transpose of given matrix.\n",
        "\n",
        "$$\n",
        "A = \\left(\\array{23 & 2 & 12 \\\\ 11 & -5 & 21 \\\\ }\\right)\n",
        "$$\n",
        "\n",
        "**Objectives**: Use for loop and ``enumerate`` function."
      ],
      "metadata": {
        "id": "zLi_-EMs97-5"
      }
    },
    {
      "cell_type": "code",
      "source": [
        "#\n",
        "# your code here\n",
        "#\n"
      ],
      "metadata": {
        "id": "An9fr-H497zt"
      },
      "execution_count": null,
      "outputs": []
    },
    {
      "cell_type": "markdown",
      "source": [
        "<h3>Task 3: Recursive Definition of Laguerre Polynomials</h3>\n",
        "\n",
        "Laguerre polynomials are nontrivial solutions of Laguerre's differential equation which is a special kind of differential equation in Quantum Physics.$^\\dagger$ Following is the recursive definition of these polynomials.\n",
        "\n",
        "\n",
        "$$\n",
        "L_{i+1}(x) = \\frac{2i+1-x}{i+1}L_i(x) - \\frac{i}{i+1}L_{i-1}(x), \\qquad\\qquad k \\ge 1.\n",
        "$$\n",
        "\n",
        "Given the first two polynomials, one can calculate the rest, recursively. Following is first few polynomials.\n",
        "\n",
        "| i | $L_i(x)$ | $L_i(x=1)$ |\n",
        "|:-:|:---------|:----------:|\n",
        "| &nbsp;&nbsp; 0 &nbsp;&nbsp; | $1$ &nbsp;&nbsp;&nbsp;&nbsp;&nbsp;&nbsp;&nbsp;&nbsp;&nbsp;&nbsp;&nbsp;&nbsp;&nbsp;&nbsp;&nbsp;&nbsp;&nbsp;&nbsp;&nbsp;&nbsp;&nbsp;&nbsp;&nbsp;&nbsp;&nbsp;&nbsp;&nbsp;&nbsp;&nbsp;&nbsp;&nbsp;&nbsp;&nbsp;&nbsp;&nbsp;&nbsp;&nbsp;&nbsp;&nbsp;&nbsp;&nbsp;&nbsp;&nbsp;&nbsp;&nbsp;&nbsp;&nbsp;&nbsp;&nbsp;&nbsp;&nbsp;&nbsp;&nbsp;&nbsp;&nbsp;&nbsp;&nbsp;&nbsp;&nbsp;&nbsp;&nbsp;&nbsp;&nbsp;&nbsp;&nbsp;&nbsp;&nbsp;&nbsp;&nbsp;&nbsp;&nbsp;&nbsp;&nbsp;&nbsp;&nbsp;&nbsp;&nbsp;&nbsp;&nbsp;&nbsp;&nbsp;&nbsp;&nbsp;&nbsp;&nbsp;&nbsp;&nbsp;&nbsp;&nbsp;&nbsp;&nbsp;&nbsp;&nbsp;&nbsp;&nbsp;&nbsp;&nbsp;&nbsp;&nbsp;&nbsp;&nbsp;&nbsp;&nbsp;&nbsp; |  $1$  |\n",
        "| &nbsp;&nbsp; 1 &nbsp;&nbsp; | $-x+1$ | $0$ |\n",
        "| &nbsp;&nbsp; 2 &nbsp;&nbsp; | $\\frac{1}{2}(x^2-4x+2)$ | $-1$ |\n",
        "| &nbsp;&nbsp; 3 &nbsp;&nbsp; | $\\frac{1}{6}(-x^3+9x^2-18x+6)$ | $-4$ |\n",
        "| &nbsp;&nbsp; 4 &nbsp;&nbsp; | $\\frac{1}{24}(x^4-16x^3+72x^2-96x+24)$ | $-15$ |\n",
        "| &nbsp;&nbsp; 5 &nbsp;&nbsp; | $\\frac{1}{120}(-x^5+25x^4-200x^3+600x^2-600x+120)$ | $-56$ |\n",
        "\n",
        "\n",
        "Using the recursive formula, calculate the values of first 20 polynomials for $x=4$. Value of first two polynomials, _i.e._ $L_0(4)$ and $L_1(4)$ are already defined in the given code, do not change this line.\n",
        "\n",
        "_Hint_: Construct\n",
        "\n",
        "<br><br><font size=\"0.1\">_$^\\dagger$ Details of this topic is beyond the scope of our lecture._</font>"
      ],
      "metadata": {
        "id": "UF3csAFjNqnn"
      }
    },
    {
      "cell_type": "code",
      "source": [],
      "metadata": {
        "id": "YDFU8nepNq6c"
      },
      "execution_count": null,
      "outputs": []
    }
  ]
}