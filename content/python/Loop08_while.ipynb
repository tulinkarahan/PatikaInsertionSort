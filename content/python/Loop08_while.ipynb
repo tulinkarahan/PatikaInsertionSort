{
  "nbformat": 4,
  "nbformat_minor": 0,
  "metadata": {
    "colab": {
      "private_outputs": true,
      "provenance": [],
      "include_colab_link": true
    },
    "kernelspec": {
      "name": "python3",
      "display_name": "Python 3"
    },
    "language_info": {
      "name": "python"
    }
  },
  "cells": [
    {
      "cell_type": "markdown",
      "metadata": {
        "id": "view-in-github",
        "colab_type": "text"
      },
      "source": [
        "<a href=\"https://colab.research.google.com/github/tulinkarahan/PatikaInsertionSort/blob/main/content/python/Loop08_while.ipynb\" target=\"_parent\"><img src=\"https://colab.research.google.com/assets/colab-badge.svg\" alt=\"Open In Colab\"/></a>"
      ]
    },
    {
      "cell_type": "markdown",
      "source": [
        "<table width=\"100%\">\n",
        "    <tr style=\"\">\n",
        "        <th style=\"text-align:left; padding:0px\" width=\"5%\">\n",
        "            <a href=\"https://www.marmara.edu.tr\" target=\"_blank\">\n",
        "                <img src=\"https://raw.githubusercontent.com/MU-Physics-Department/logos/master/mu_logo.png\">\n",
        "            </a>\n",
        "        </th>\n",
        "        <th style=\"padding:0px;\" width=\"35%\">\n",
        "            <img align=\"right\" src=\"https://raw.githubusercontent.com/MU-Physics-Department/logos/master/name.png\">\n",
        "        </th>\n",
        "        <th  width=\"20%\">\n",
        "            &nbsp;\n",
        "        </th>\n",
        "        <th style=\"padding:0px\" width=\"5%\">\n",
        "            <a href=\"https://www.sababozpolat.com\" target=\"_blank\" padding=\"0px\">\n",
        "                <img align=\"center\" src=\"https://raw.githubusercontent.com/MU-Physics-Department/logos/master/hp.png\">\n",
        "            </a>\n",
        "        </th>\n",
        "        <th style=\"padding:0px\" width=\"5%\">\n",
        "            <a href=\"mailto:saba.bozpolat@gmail.com\" target=\"_blank\">\n",
        "                <img align=\"center\" src=\"https://raw.githubusercontent.com/MU-Physics-Department/logos/master/email.png\">\n",
        "            </a>\n",
        "        </th>\n",
        "        <th style=\"padding:0px;\" width=\"5%\">\n",
        "            <a href=\"https://www.linkedin.com/in/saba-bozpolat-644856152/\" target=\"_blank\">\n",
        "                <img align=\"right\" src=\"https://raw.githubusercontent.com/MU-Physics-Department/logos/master/in.png\">\n",
        "            </a>\n",
        "        </th>\n",
        "        <th style=\"padding:0px;\" width=\"5%\">\n",
        "            <a href=\"https://scholar.google.com.tr/citations?user=nSiJoMYAAAAJ&hl=en\" target=\"_blank\">\n",
        "                <img align=\"right\" src=\"https://raw.githubusercontent.com/MU-Physics-Department/logos/master/GS.png\">\n",
        "            </a>\n",
        "        </th>\n",
        "        <th style=\"padding:0px;\" width=\"5%\">\n",
        "            <a href=\"https://www.researchgate.net/profile/Saba-Bozpolat\" target=\"_blank\">\n",
        "                <img align=\"right\" src=\"https://raw.githubusercontent.com/MU-Physics-Department/logos/master/RG.png\">\n",
        "            </a>\n",
        "        </th>\n",
        "        <th style=\"padding:0px\" width=\"5%\">\n",
        "            <a href=\"https://www.youtube.com/channel/UC8-uOZud6UL7oCOE2UUBunA\" target=\"_blank\">\n",
        "                <img align=\"right\" src=\"https://raw.githubusercontent.com/MU-Physics-Department/logos/master/YT.png\">\n",
        "            </a>\n",
        "        </th>\n",
        "        <th style=\"padding:0px;\" width=\"5%\">\n",
        "            <a href=\"https://github.com/sbbzplt\" target=\"_blank\">\n",
        "                <img align=\"right\" src=\"https://raw.githubusercontent.com/MU-Physics-Department/logos/master/GH.png\">\n",
        "            </a>\n",
        "        </th>\n",
        "        <th style=\"padding:0px;\" width=\"5%\">\n",
        "            <a href=\"https://join.slack.com/t/mu-fzk/shared_invite/zt-13jtd6dtd-g9zD5P4Zu0m5P0Gt2PNReQ\"\n",
        "               target=\"_blank\">\n",
        "                <img align=\"right\" src=\"https://raw.githubusercontent.com/MU-Physics-Department/logos/master/slack.png\">\n",
        "            </a>\n",
        "        </th>\n",
        "    </tr>\n",
        "</table>\n",
        "<table width=\"100%\">\n",
        "    <tr style=\"background-color:white;\">\n",
        "        <!-- <td style=\"text-align-left;padding:0px;\" width=\"10%\">\n",
        "            <a href=\"https://fef.marmara.edu.tr\"\n",
        "               target=\"_blank\">\n",
        "                <img align=\"right\" src=\"https://raw.githubusercontent.com/MU-Physics-Department/logos/master/fef.png\">\n",
        "            </a>\n",
        "        </td> -->\n",
        "        <td style=\"padding:0px\" width=\"25%\">\n",
        "            <a href=\"http://fzk.fen.marmara.edu.tr\"\n",
        "               target=\"_blank\">\n",
        "                <img align=\"right\" src=\"https://raw.githubusercontent.com/MU-Physics-Department/logos/master/fzk.png\">\n",
        "            </a>\n",
        "        </td>\n",
        "        <td width=\"10%\">\n",
        "            &nbsp;\n",
        "        </td>\n",
        "        <td style=\"padding:0px;\" width=\"65%\">\n",
        "            <a href=\"https://www.sababozpolat.com/lectures/spring-semester/scientific-programming\"\n",
        "               target=\"_blank\">\n",
        "                <img align=\"right\" src=\"https://raw.githubusercontent.com/MU-Physics-Department/logos/master/comp2083.png\">\n",
        "            </a>\n",
        "        </td>\n",
        "    </tr>\n",
        "</table>"
      ],
      "metadata": {
        "id": "ZZzRg1m929xj"
      }
    },
    {
      "cell_type": "markdown",
      "source": [
        "# While Loops"
      ],
      "metadata": {
        "id": "YLZP9ygg2-Vk"
      }
    },
    {
      "cell_type": "markdown",
      "source": [
        "In Python, while loop statement repeatedly executes a target statement as long as a given condition is true.\n",
        "\n",
        "```python\n",
        "while _logical_proposition_:\n",
        "    instructions\n",
        "```\n",
        "Below is an example to calculate the squares of integers as long as the squared value is less than 100.\n"
      ],
      "metadata": {
        "id": "TqXLlHBAyQrC"
      }
    },
    {
      "cell_type": "code",
      "source": [
        "num = 0\n",
        "sqr = num ** 2\n",
        "while sqr < 100:\n",
        "    num += 1\n",
        "    sqr = num ** 2\n",
        "    print(\"Square of %i is %i.\" %(num, sqr))\n",
        "print(\"***done!***\")"
      ],
      "metadata": {
        "id": "6QCwyb0XNnzv"
      },
      "execution_count": null,
      "outputs": []
    },
    {
      "cell_type": "markdown",
      "source": [
        "## Scrutinizing the example"
      ],
      "metadata": {
        "id": "di07gcOJOSD6"
      }
    },
    {
      "cell_type": "markdown",
      "source": [
        "<a href=\"https://youtu.be/alrFO0N6sDg\" target=\"_blank\">\n",
        "    <img src=\"https://github.com/MU-Physics-Department/logos/blob/master/for_comp2083/while_loop.png?raw=true\" height=\"376\" width=\"672\">\n",
        "</a>"
      ],
      "metadata": {
        "id": "_w1D3OrAO2QK"
      }
    },
    {
      "cell_type": "code",
      "source": [
        "num = 0\n",
        "sqr = num ** 2\n",
        "while sqr < 15:\n",
        "    num += 1\n",
        "    sqr = num ** 2\n",
        "    print(\"Square of %i is %i.\" %(num, sqr))\n",
        "print(\"***done!***\")\n"
      ],
      "metadata": {
        "id": "qLpOt8umO6BQ"
      },
      "execution_count": null,
      "outputs": []
    },
    {
      "cell_type": "markdown",
      "source": [
        "<h3>Task 1 - Fibonacci Sequence</h3>\n",
        "\n",
        "The Fibonacci sequence is a sequence in which each number is the sum of the two preceding ones. Individual numbers in the Fibonacci sequence are known as Fibonacci numbers, commonly denoted $F_n$. The sequence commonly starts from 0 and 1,\n",
        "\n",
        "$$\n",
        "0, 1, 1, 2, 3, 5, 8, 13, 21, 34, 55, 89, 144, ...\n",
        "$$\n",
        "\n",
        "Given $F_0$ and $F_1$, calculate and print the Fibonacci numbers which is less than 100.\n",
        "<br>\n",
        "<br>\n",
        "<br>\n",
        "<b>_Hint_</b>: First calculate $F_2$ using the formula,\n",
        "$$\n",
        "F_2 = F_1 + F_0.\n",
        "$$\n",
        "Then, construct a while loop which checks if $F_2$ is less than 100, and calculate and update $F_0$, $F_1$ and $F_2$ each step.\n"
      ],
      "metadata": {
        "id": "R0OMSL5PJs-F"
      }
    },
    {
      "cell_type": "code",
      "source": [],
      "metadata": {
        "id": "XJzDc6OKwzrE"
      },
      "execution_count": null,
      "outputs": []
    },
    {
      "cell_type": "code",
      "source": [
        "F_0 = 0\n",
        "F_1 = 1\n",
        "\n",
        "F_2 = F_1 + F_0\n",
        "print(F_0)\n",
        "print(F_1)\n",
        "#print(F_2)\n",
        "while F_2 < 100:\n",
        "  print(F_2)\n",
        "  F_0 = F_1\n",
        "  F_1 = F_2\n",
        "  F_2 = F_1 + F_0\n",
        "\n",
        "  print(\"finished\")\n",
        "\n",
        "\n",
        "\n",
        "\n"
      ],
      "metadata": {
        "id": "zviO7JzMJtPj"
      },
      "execution_count": null,
      "outputs": []
    }
  ]
}