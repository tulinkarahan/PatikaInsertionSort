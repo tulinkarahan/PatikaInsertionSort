{
  "cells": [
    {
      "cell_type": "markdown",
      "metadata": {
        "id": "view-in-github",
        "colab_type": "text"
      },
      "source": [
        "<a href=\"https://colab.research.google.com/github/tulinkarahan/PatikaInsertionSort/blob/main/content/python/Container08_set.ipynb\" target=\"_parent\"><img src=\"https://colab.research.google.com/assets/colab-badge.svg\" alt=\"Open In Colab\"/></a>"
      ]
    },
    {
      "cell_type": "markdown",
      "metadata": {
        "id": "45XSmzLXxJ0o"
      },
      "source": [
        "<table width=\"100%\">\n",
        "    <tr style=\"\">\n",
        "        <th style=\"text-align:left; padding:0px\" width=\"5%\">\n",
        "            <a href=\"https://www.marmara.edu.tr\" target=\"_blank\">\n",
        "                <img src=\"https://raw.githubusercontent.com/MU-Physics-Department/logos/master/mu_logo.png\">\n",
        "            </a>\n",
        "        </th>\n",
        "        <th style=\"padding:0px;\" width=\"35%\">\n",
        "            <img align=\"right\" src=\"https://raw.githubusercontent.com/MU-Physics-Department/logos/master/name.png\">\n",
        "        </th>\n",
        "        <th  width=\"20%\">\n",
        "            &nbsp;\n",
        "        </th>\n",
        "        <th style=\"padding:0px\" width=\"5%\">\n",
        "            <a href=\"https://www.sababozpolat.com\" target=\"_blank\" padding=\"0px\">\n",
        "                <img align=\"center\" src=\"https://raw.githubusercontent.com/MU-Physics-Department/logos/master/hp.png\">\n",
        "            </a>\n",
        "        </th>\n",
        "        <th style=\"padding:0px\" width=\"5%\">\n",
        "            <a href=\"mailto:saba.bozpolat@gmail.com\" target=\"_blank\">\n",
        "                <img align=\"center\" src=\"https://raw.githubusercontent.com/MU-Physics-Department/logos/master/email.png\">\n",
        "            </a>\n",
        "        </th>\n",
        "        <th style=\"padding:0px;\" width=\"5%\">\n",
        "            <a href=\"https://www.linkedin.com/in/saba-bozpolat-644856152/\" target=\"_blank\">\n",
        "                <img align=\"right\" src=\"https://raw.githubusercontent.com/MU-Physics-Department/logos/master/in.png\">\n",
        "            </a>\n",
        "        </th>\n",
        "        <th style=\"padding:0px;\" width=\"5%\">\n",
        "            <a href=\"https://scholar.google.com.tr/citations?user=nSiJoMYAAAAJ&hl=en\" target=\"_blank\">\n",
        "                <img align=\"right\" src=\"https://raw.githubusercontent.com/MU-Physics-Department/logos/master/GS.png\">\n",
        "            </a>\n",
        "        </th>\n",
        "        <th style=\"padding:0px;\" width=\"5%\">\n",
        "            <a href=\"https://www.researchgate.net/profile/Saba-Bozpolat\" target=\"_blank\">\n",
        "                <img align=\"right\" src=\"https://raw.githubusercontent.com/MU-Physics-Department/logos/master/RG.png\">\n",
        "            </a>\n",
        "        </th>\n",
        "        <th style=\"padding:0px\" width=\"5%\">\n",
        "            <a href=\"https://www.youtube.com/channel/UC8-uOZud6UL7oCOE2UUBunA\" target=\"_blank\">\n",
        "                <img align=\"right\" src=\"https://raw.githubusercontent.com/MU-Physics-Department/logos/master/YT.png\">\n",
        "            </a>\n",
        "        </th>\n",
        "        <th style=\"padding:0px;\" width=\"5%\">\n",
        "            <a href=\"https://github.com/sbbzplt\" target=\"_blank\">\n",
        "                <img align=\"right\" src=\"https://raw.githubusercontent.com/MU-Physics-Department/logos/master/GH.png\">\n",
        "            </a>\n",
        "        </th>\n",
        "        <th style=\"padding:0px;\" width=\"5%\">\n",
        "            <a href=\"https://join.slack.com/t/mu-fzk/shared_invite/zt-13jtd6dtd-g9zD5P4Zu0m5P0Gt2PNReQ\"\n",
        "               target=\"_blank\">\n",
        "                <img align=\"right\" src=\"https://raw.githubusercontent.com/MU-Physics-Department/logos/master/slack.png\">\n",
        "            </a>\n",
        "        </th>\n",
        "    </tr>\n",
        "</table>\n",
        "<table width=\"100%\">\n",
        "    <tr style=\"background-color:white;\">\n",
        "        <!-- <td style=\"text-align-left;padding:0px;\" width=\"10%\">\n",
        "            <a href=\"https://fef.marmara.edu.tr\"\n",
        "               target=\"_blank\">\n",
        "                <img align=\"right\" src=\"https://raw.githubusercontent.com/MU-Physics-Department/logos/master/fef.png\">\n",
        "            </a>\n",
        "        </td> -->\n",
        "        <td style=\"padding:0px\" width=\"25%\">\n",
        "            <a href=\"http://fzk.fen.marmara.edu.tr\"\n",
        "               target=\"_blank\">\n",
        "                <img align=\"right\" src=\"https://raw.githubusercontent.com/MU-Physics-Department/logos/master/fzk.png\">\n",
        "            </a>\n",
        "        </td>\n",
        "        <td width=\"10%\">\n",
        "            &nbsp;\n",
        "        </td>\n",
        "        <td style=\"padding:0px;\" width=\"65%\">\n",
        "            <a href=\"https://www.sababozpolat.com/lectures/scientific-programming\"\n",
        "               target=\"_blank\">\n",
        "                <img align=\"right\" src=\"https://raw.githubusercontent.com/MU-Physics-Department/logos/master/comp2083.png\">\n",
        "            </a>\n",
        "        </td>\n",
        "    </tr>\n",
        "</table>"
      ]
    },
    {
      "cell_type": "markdown",
      "metadata": {
        "id": "gbyFAB50xJ0u"
      },
      "source": [
        "# Sets"
      ]
    },
    {
      "cell_type": "markdown",
      "metadata": {
        "id": "dEAyMYLqxJ0v"
      },
      "source": [
        "Mathematically a set is a collection of items not in any particular order. A Python set is similar to this mathematical definition with below additional conditions.\n",
        "\n",
        " - The elements in the set cannot be duplicates.\n",
        " - The elements in the set are immutable(cannot be modified) but the set as a whole is mutable.\n",
        " - There is no index attached to any element in a Python set. So they do not support any indexing or slicing operation.\n",
        "```\n",
        ">>> months = {\"Jan\", \"Feb\", \"Mar\"}\n",
        ">>> months\n",
        "{'Jan', 'Mar', 'Feb'}\n",
        ">>> dates = {21, 22, 17}\n",
        ">>> dates\n",
        "{21, 22, 17}\n",
        ">>> names = {\"Jane\", \"Joe\", \"David\", \"Alice\", \"Joe\"}\n",
        ">>> names\n",
        "{\"Jane\", \"Joe\", \"David\", \"Alice\"}\n",
        "```\n"
      ]
    },
    {
      "cell_type": "markdown",
      "source": [
        "<h3>Task 0</h3>\n",
        "Following code contains two different types of containers with the exact same value assignments, first one is defined as a list and the other is a set.\n",
        "Run the code and investigate the printed text. What can you say about this outcome? What are the differences between a list and a set you can say based upon printed lines?"
      ],
      "metadata": {
        "id": "IskxNnFMlEZV"
      }
    },
    {
      "cell_type": "code",
      "source": [
        "# names as a list:\n",
        "names_list = [\"Jane\", \"Joe\", \"David\", \"Alice\", \"Joe\"]\n",
        "\n",
        "# names as a set:\n",
        "names_set = {\"Jane\", \"Joe\", \"David\", \"Alice\", \"Joe\"}\n",
        "\n",
        "# print them and reflect on the result.\n",
        "print(\"Names List:\", names_list)\n",
        "print(\" Names Set:\", names_set)\n",
        "\n",
        "list=[\"1\",\"2\",\"3\",\"4\",\"5\",\"3\"]\n",
        "list={\"1\",\"2\",\"3\",\"4\",\"5\",\"3\"}\n",
        "print(list)"
      ],
      "metadata": {
        "id": "1pm_Wha3lIf-",
        "outputId": "df71d7d9-28e6-4481-cd49-81b118652dc9",
        "colab": {
          "base_uri": "https://localhost:8080/"
        }
      },
      "execution_count": 2,
      "outputs": [
        {
          "output_type": "stream",
          "name": "stdout",
          "text": [
            "Names List: ['Jane', 'Joe', 'David', 'Alice', 'Joe']\n",
            " Names Set: {'Alice', 'Joe', 'David', 'Jane'}\n",
            "{'5', '4', '1', '2', '3'}\n"
          ]
        }
      ]
    },
    {
      "cell_type": "markdown",
      "source": [
        "<h3>Task 1</h3>\n",
        "\n",
        "Create a set of month names and print it."
      ],
      "metadata": {
        "id": "9jMZ_2dJvO8P"
      }
    },
    {
      "cell_type": "code",
      "source": [
        "list=[\"Ocak\",\"Şubat\",\"Mart\",\"Nisan\",\"Mayıs\",\"Ocak\"]\n",
        "list_set={\"Ocak\",\"Şubat\",\"Mart\",\"Nisan\",\"Mayıs\",\"Ocak\"}\n",
        "print(list)\n",
        "print(list_set)"
      ],
      "metadata": {
        "id": "fNJUEAvwvPIt",
        "outputId": "3170299e-9f50-4f69-aaf6-915a4db58dec",
        "colab": {
          "base_uri": "https://localhost:8080/"
        }
      },
      "execution_count": 4,
      "outputs": [
        {
          "output_type": "stream",
          "name": "stdout",
          "text": [
            "['Ocak', 'Şubat', 'Mart', 'Nisan', 'Mayıs', 'Ocak']\n",
            "{'Şubat', 'Nisan', 'Ocak', 'Mart', 'Mayıs'}\n"
          ]
        }
      ]
    },
    {
      "cell_type": "markdown",
      "source": [
        "## Accessing values in a set"
      ],
      "metadata": {
        "id": "tV6if6XVt2FS"
      }
    },
    {
      "cell_type": "markdown",
      "metadata": {
        "id": "arO0LVTwxJ0x"
      },
      "source": [
        "We cannot access individual values in a set. But we can also get a list of individual elements by looping through the set."
      ]
    },
    {
      "cell_type": "markdown",
      "source": [
        "## Adding items to a set"
      ],
      "metadata": {
        "id": "nqpp5mePuGEn"
      }
    },
    {
      "cell_type": "markdown",
      "metadata": {
        "id": "4n4dflFDxJ0y"
      },
      "source": [
        "We can add elements to a set by using add() method. Again as discussed there is no specific index attached to the newly added element.\n",
        "\n",
        "```\n",
        ">>> days = {\"Mon\", \"Tue\", \"Wed\", \"Thu\", \"Fri\", \"Sat\"}\n",
        ">>> days\n",
        "{\"Mon\", \"Tue\", \"Wed\", \"Thu\", \"Fri\", \"Sat\"}\n",
        ">>> days.add(\"Sun\")\n",
        ">>> days\n",
        "{\"Mon\", \"Tue\", \"Wed\", \"Thu\", \"Fri\", \"Sat\", \"Sun\"}\n",
        "```"
      ]
    },
    {
      "cell_type": "markdown",
      "source": [
        "<h3>Task 2</h3>\n",
        "\n",
        "Create a set of numbers from 1 to 5. Do the followings:\n",
        " - Print the set.\n",
        " - Add next 3 numbers to the set.\n",
        " - Print the set, again."
      ],
      "metadata": {
        "id": "hnG5soz1y-kc"
      }
    },
    {
      "cell_type": "code",
      "source": [
        "list1={1, 2, 3, 4, 5}\n",
        "print(list1)\n",
        "list1.add(6)\n",
        "list1.add(7)\n",
        "list1.add(8)\n",
        "print(list1)\n"
      ],
      "metadata": {
        "id": "YqwATaQly-2C",
        "outputId": "2982c50a-c8b9-4e70-b88a-65d6bd6c597b",
        "colab": {
          "base_uri": "https://localhost:8080/"
        }
      },
      "execution_count": 13,
      "outputs": [
        {
          "output_type": "stream",
          "name": "stdout",
          "text": [
            "{1, 2, 3, 4, 5}\n",
            "{1, 2, 3, 4, 5, 6, 7, 8}\n"
          ]
        }
      ]
    },
    {
      "cell_type": "markdown",
      "source": [
        "## Removing item from a set"
      ],
      "metadata": {
        "id": "VifwvcE5zbRG"
      }
    },
    {
      "cell_type": "markdown",
      "metadata": {
        "id": "BiEg5UQUxJ0z"
      },
      "source": [
        "We can remove elements from a set by using discard() method. Again as discussed there is no specific index attached to the newly added element.\n",
        "```\n",
        ">>> days = {\"Mon\", \"Tue\", \"Wed\", \"Thu\", \"Fri\", \"Sat\", \"Sun\"}\n",
        ">>> days\n",
        "{\"Mon\", \"Tue\", \"Wed\", \"Thu\", \"Fri\", \"Sat\", \"Sun\"}\n",
        ">>> days.discard(\"Wed\")\n",
        ">>> days\n",
        "{\"Mon\", \"Tue\", \"Thu\", \"Fri\", \"Sat\", \"Sun\"}\n",
        "```"
      ]
    },
    {
      "cell_type": "markdown",
      "source": [
        "<h3>Task 3</h3>\n",
        "\n",
        "Create a set with the names of five different makeup items. Do the followings:\n",
        "\n",
        " - Print the set.\n",
        " - Delete one item from the set by discard method.\n",
        " - Print the set, again."
      ],
      "metadata": {
        "id": "UXdLqk5Q0TNp"
      }
    },
    {
      "cell_type": "code",
      "source": [
        "list={\"a\",\"b\",\"c\",\"d\",\"e\"}\n",
        "list.discard(\"c\")\n",
        "print(list)"
      ],
      "metadata": {
        "id": "a9OvlVgO0TYT",
        "outputId": "a3474530-5e08-4e2c-97ec-9d7d1dada20b",
        "colab": {
          "base_uri": "https://localhost:8080/"
        }
      },
      "execution_count": 14,
      "outputs": [
        {
          "output_type": "stream",
          "name": "stdout",
          "text": [
            "{'e', 'a', 'd', 'b'}\n"
          ]
        }
      ]
    },
    {
      "cell_type": "markdown",
      "metadata": {
        "id": "8a_djdqpxJ0v"
      },
      "source": [
        "## Set Operations\n",
        "The sets in python are typically used for mathematical operations like union, intersection, difference and complement etc. We can create a set, access it’s elements and carry out these mathematical operations as shown below.\n"
      ]
    },
    {
      "cell_type": "markdown",
      "source": [
        "### Union of Sets\n"
      ],
      "metadata": {
        "id": "ASRmApK_0BFH"
      }
    },
    {
      "cell_type": "markdown",
      "metadata": {
        "id": "CsUrX9PMxJ00"
      },
      "source": [
        "The union operation on two sets produces a new set containing all the distinct elements from both the sets. In the below example the element “Wed” is present in both the sets.\n",
        "\n",
        "```\n",
        ">>> days_a = {\"Mon\", \"Tue\", \"Wed\"}\n",
        ">>> days_b = {\"Wed\", \"Thu\", \"Fri\", \"Sat\", \"Sun\"}\n",
        ">>> days_a | days_b\n",
        "{\"Mon\", \"Tue\", \"Wed\", \"Thu\", \"Fri\", \"Sat\", \"Sun\"}\n",
        "```"
      ]
    },
    {
      "cell_type": "markdown",
      "source": [
        "<h3>Task 4</h3>\n",
        "\n",
        "Given following sets create and print the union of them."
      ],
      "metadata": {
        "id": "CPZU-K4w0VXM"
      }
    },
    {
      "cell_type": "code",
      "source": [
        "odds = {1, 3, 5, 7, 9, 11, 13, 15}\n",
        "evens = {2, 4, 6, 8, 10, 12, 14, 16}\n",
        "primes = {2, 3, 5, 7, 11, 13, 17}\n",
        "\n",
        "print(odds | evens | primes )"
      ],
      "metadata": {
        "id": "nIBM6TWC0ViX",
        "outputId": "eac1c576-8c3e-4a57-d5d0-a3d44dad0aa7",
        "colab": {
          "base_uri": "https://localhost:8080/"
        }
      },
      "execution_count": 17,
      "outputs": [
        {
          "output_type": "stream",
          "name": "stdout",
          "text": [
            "{1, 2, 3, 4, 5, 6, 7, 8, 9, 10, 11, 12, 13, 14, 15, 16, 17}\n"
          ]
        }
      ]
    },
    {
      "cell_type": "markdown",
      "source": [
        "### Intersection of Sets\n"
      ],
      "metadata": {
        "id": "MXmrxyT70D9r"
      }
    },
    {
      "cell_type": "markdown",
      "metadata": {
        "id": "zRPBl4rpxJ01"
      },
      "source": [
        "The intersection operation on two sets produces a new set containing only the common elements from both the sets. In the below example the element “Wed” is present in both the sets.\n",
        "```\n",
        ">>> days_a = {\"Mon\", \"Tue\", \"Wed\"}\n",
        ">>> days_b = {\"Wed\", \"Thu\", \"Fri\", \"Sat\", \"Sun\"}\n",
        ">>> days_a & days_b\n",
        "{\"Wed\"}\n",
        "```"
      ]
    },
    {
      "cell_type": "markdown",
      "source": [
        "<h3>Task 5</h3>\n",
        "\n",
        "Given following sets create and print the intersection of them."
      ],
      "metadata": {
        "id": "r4kIyVi40WNl"
      }
    },
    {
      "cell_type": "code",
      "source": [
        "books = {\"Harry Potter\", \"Good Nurse\", \"Game of Thrones\", \"Eat, Pray, Love\", \"Sapiens\", \"Big Bang's Story\"}\n",
        "movies = {\"The Godfather\", \"Harry Potter\", \"Fantastic Beasts\", \"Eat, Pray, Love\"}\n",
        "\n",
        "print(books & movies)\n"
      ],
      "metadata": {
        "id": "ZGErE4v70WXq",
        "outputId": "69f5a0da-3b11-429d-b577-22abed0b1753",
        "colab": {
          "base_uri": "https://localhost:8080/"
        }
      },
      "execution_count": 18,
      "outputs": [
        {
          "output_type": "stream",
          "name": "stdout",
          "text": [
            "{'Eat, Pray, Love', 'Harry Potter'}\n"
          ]
        }
      ]
    },
    {
      "cell_type": "markdown",
      "source": [
        "### Difference of Sets\n"
      ],
      "metadata": {
        "id": "8-9Nv8X10G2k"
      }
    },
    {
      "cell_type": "markdown",
      "metadata": {
        "id": "wZZbtcojxJ01"
      },
      "source": [
        "The difference operation on two sets produces a new set containing only the elements from the first set and none from the second set. In the below example the element “Wed” is present in both the sets so it will not be found in the result set.\n",
        "\n",
        "```\n",
        ">>> days_a = {\"Mon\", \"Tue\", \"Wed\"}\n",
        ">>> days_b = {\"Wed\", \"Thu\", \"Fri\", \"Sat\", \"Sun\"}\n",
        ">>> days_a - days_b\n",
        "{'Tue', 'Mon'}\n",
        ">>> days_b - days_a\n",
        "{'Sat', 'Sun', 'Thu', 'Fri'}\n",
        "```"
      ]
    },
    {
      "cell_type": "markdown",
      "source": [
        "<h3>Task 6</h3>\n",
        "\n",
        "Given following sets create and print the results of following difference operations.\n",
        " - difference of ```numbers``` from ```digits```.\n",
        " - difference of ```digits``` from ```numbers```.\n",
        " - difference of ```negative_numbers``` from ```natural_numbers```.\n",
        " - difference of ```natural_numbers``` from ```negative_numbers```."
      ],
      "metadata": {
        "id": "wMXVQIr50XKl"
      }
    },
    {
      "cell_type": "code",
      "source": [
        "numbers = {0, 1, 2, 3, 4, 5, 6, 7, 8, 9, 10, 11, 12, 13, 14, 15}\n",
        "digits = {0, 1, 2, 3, 4, 5, 6, 7, 8, 9}\n",
        "negative_numbers = {-1, -2, -3, -4, -5, -6, -7}\n",
        "natural_numbers = {1, 2, 3, 4, 5, 6, 7, 8, 9, 10, 11, 12}\n",
        "\n",
        "print(numbers - digits)\n",
        "print(digits - numbers)\n",
        "print(negative_numbers - natural_numbers)\n",
        "print(natural_numbers - negative_numbers)\n"
      ],
      "metadata": {
        "id": "c-A1NB8h0XUy",
        "outputId": "9d924a59-bb3d-430f-9fc8-af5f1eaebf02",
        "colab": {
          "base_uri": "https://localhost:8080/"
        }
      },
      "execution_count": 21,
      "outputs": [
        {
          "output_type": "stream",
          "name": "stdout",
          "text": [
            "{10, 11, 12, 13, 14, 15}\n",
            "set()\n",
            "{-1, -7, -6, -5, -4, -3, -2}\n",
            "{1, 2, 3, 4, 5, 6, 7, 8, 9, 10, 11, 12}\n"
          ]
        }
      ]
    },
    {
      "cell_type": "markdown",
      "source": [
        "### Compare Sets"
      ],
      "metadata": {
        "id": "09cUquSZ0JuK"
      }
    },
    {
      "cell_type": "markdown",
      "metadata": {
        "id": "LERnFf5vxJ02"
      },
      "source": [
        "We can check if a given set is a subset or superset of another set. The result is True or False depending on the elements present in the sets.\n",
        "```\n",
        ">>> days_a = {\"Mon\", \"Tue\", \"Wed\"}\n",
        ">>> days_b = {\"Mon\", \"Tue\", \"Wed\", \"Thu\", \"Fri\", \"Sat\", \"Sun\"}\n",
        ">>> days_a <= days_b\n",
        "True\n",
        ">>> days_b >= days_a\n",
        "True\n",
        "```"
      ]
    },
    {
      "cell_type": "markdown",
      "source": [
        "<h3>Task 7</h3>\n",
        "\n",
        "Given following sets answer following questions via coding.\n",
        " - Is ```digits``` a subset of ```numbers```?\n",
        " - Is ```negative_numbers``` a subset of ```numbers```?\n",
        " - Is ```natural_numbers``` a subset of ```numbers```?\n",
        " - Is ```digits``` a superset of ```numbers```?\n",
        " - Is ```negative_numbers``` a superset of ```numbers```?\n",
        " - Is ```natural_numbers``` a superset of ```numbers```?\n",
        " - Is ```numbers``` a superset of ```digits```?\n",
        " - Is ```numbers``` a superset of ```negative_numbers```?\n",
        " - Is ```numbers``` a superset of ```natural_numbers```?\n",
        "\n",
        "```\n",
        "numbers = {0, 1, 2, 3, 4, 5, 6, 7, 8, 9, 10, 11, 12, 13, 14, 15}\n",
        "digits = {0, 1, 2, 3, 4, 5, 6, 7, 8, 9}\n",
        "negative_numbers = {-1, -2, -3, -4, -5, -6, -7}\n",
        "natural_numbers = {1, 2, 3, 4, 5, 6, 7, 8, 9, 10, 11, 12}\n",
        "```"
      ],
      "metadata": {
        "id": "dylv42nh0YUT"
      }
    },
    {
      "cell_type": "code",
      "source": [
        "numbers = {0, 1, 2, 3, 4, 5, 6, 7, 8, 9, 10, 11, 12, 13, 14, 15}\n",
        "digits = {0, 1, 2, 3, 4, 5, 6, 7, 8, 9}\n",
        "negative_numbers = {-1, -2, -3, -4, -5, -6, -7}\n",
        "natural_numbers = {1, 2, 3, 4, 5, 6, 7, 8, 9, 10, 11, 12}\n",
        "\n",
        "\n",
        "print(digits<=numbers)\n",
        "print(negative_numbers<=numbers)\n",
        "print(natural_numbers<=numbers)\n",
        "print(digits<=numbers)\n",
        "print(negative_numbers>numbers)\n",
        "print(natural_numbers>=numbers)\n",
        "print(numbers>=digits)\n",
        "print(numbers>=negative_numbers)\n",
        "print(numbers>=natural_numbers)"
      ],
      "metadata": {
        "id": "dcHIpAK60YeJ",
        "outputId": "e3bd7fff-983a-4760-f405-61fd187e2ddc",
        "colab": {
          "base_uri": "https://localhost:8080/"
        }
      },
      "execution_count": 27,
      "outputs": [
        {
          "output_type": "stream",
          "name": "stdout",
          "text": [
            "True\n",
            "False\n",
            "True\n",
            "True\n",
            "False\n",
            "False\n",
            "True\n",
            "False\n",
            "True\n"
          ]
        }
      ]
    }
  ],
  "metadata": {
    "kernelspec": {
      "display_name": "Python 3",
      "language": "python",
      "name": "python3"
    },
    "language_info": {
      "codemirror_mode": {
        "name": "ipython",
        "version": 3
      },
      "file_extension": ".py",
      "mimetype": "text/x-python",
      "name": "python",
      "nbconvert_exporter": "python",
      "pygments_lexer": "ipython3",
      "version": "3.8.5"
    },
    "colab": {
      "provenance": [],
      "include_colab_link": true
    }
  },
  "nbformat": 4,
  "nbformat_minor": 0
}