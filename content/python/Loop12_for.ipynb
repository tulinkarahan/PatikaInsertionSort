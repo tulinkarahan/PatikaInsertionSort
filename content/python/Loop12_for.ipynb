{
  "nbformat": 4,
  "nbformat_minor": 0,
  "metadata": {
    "colab": {
      "private_outputs": true,
      "provenance": [],
      "include_colab_link": true
    },
    "kernelspec": {
      "name": "python3",
      "display_name": "Python 3"
    },
    "language_info": {
      "name": "python"
    }
  },
  "cells": [
    {
      "cell_type": "markdown",
      "metadata": {
        "id": "view-in-github",
        "colab_type": "text"
      },
      "source": [
        "<a href=\"https://colab.research.google.com/github/tulinkarahan/PatikaInsertionSort/blob/main/content/python/Loop12_for.ipynb\" target=\"_parent\"><img src=\"https://colab.research.google.com/assets/colab-badge.svg\" alt=\"Open In Colab\"/></a>"
      ]
    },
    {
      "cell_type": "markdown",
      "source": [
        "<table width=\"100%\">\n",
        "    <tr style=\"\">\n",
        "        <th style=\"text-align:left; padding:0px\" width=\"5%\">\n",
        "            <a href=\"https://www.marmara.edu.tr\" target=\"_blank\">\n",
        "                <img src=\"https://raw.githubusercontent.com/MU-Physics-Department/logos/master/mu_logo.png\">\n",
        "            </a>\n",
        "        </th>\n",
        "        <th style=\"padding:0px;\" width=\"35%\">\n",
        "            <img align=\"right\" src=\"https://raw.githubusercontent.com/MU-Physics-Department/logos/master/name.png\">\n",
        "        </th>\n",
        "        <th  width=\"20%\">\n",
        "            &nbsp;\n",
        "        </th>\n",
        "        <th style=\"padding:0px\" width=\"5%\">\n",
        "            <a href=\"https://www.sababozpolat.com\" target=\"_blank\" padding=\"0px\">\n",
        "                <img align=\"center\" src=\"https://raw.githubusercontent.com/MU-Physics-Department/logos/master/hp.png\">\n",
        "            </a>\n",
        "        </th>\n",
        "        <th style=\"padding:0px\" width=\"5%\">\n",
        "            <a href=\"mailto:saba.bozpolat@gmail.com\" target=\"_blank\">\n",
        "                <img align=\"center\" src=\"https://raw.githubusercontent.com/MU-Physics-Department/logos/master/email.png\">\n",
        "            </a>\n",
        "        </th>\n",
        "        <th style=\"padding:0px;\" width=\"5%\">\n",
        "            <a href=\"https://www.linkedin.com/in/saba-bozpolat-644856152/\" target=\"_blank\">\n",
        "                <img align=\"right\" src=\"https://raw.githubusercontent.com/MU-Physics-Department/logos/master/in.png\">\n",
        "            </a>\n",
        "        </th>\n",
        "        <th style=\"padding:0px;\" width=\"5%\">\n",
        "            <a href=\"https://scholar.google.com.tr/citations?user=nSiJoMYAAAAJ&hl=en\" target=\"_blank\">\n",
        "                <img align=\"right\" src=\"https://raw.githubusercontent.com/MU-Physics-Department/logos/master/GS.png\">\n",
        "            </a>\n",
        "        </th>\n",
        "        <th style=\"padding:0px;\" width=\"5%\">\n",
        "            <a href=\"https://www.researchgate.net/profile/Saba-Bozpolat\" target=\"_blank\">\n",
        "                <img align=\"right\" src=\"https://raw.githubusercontent.com/MU-Physics-Department/logos/master/RG.png\">\n",
        "            </a>\n",
        "        </th>\n",
        "        <th style=\"padding:0px\" width=\"5%\">\n",
        "            <a href=\"https://www.youtube.com/channel/UC8-uOZud6UL7oCOE2UUBunA\" target=\"_blank\">\n",
        "                <img align=\"right\" src=\"https://raw.githubusercontent.com/MU-Physics-Department/logos/master/YT.png\">\n",
        "            </a>\n",
        "        </th>\n",
        "        <th style=\"padding:0px;\" width=\"5%\">\n",
        "            <a href=\"https://github.com/sbbzplt\" target=\"_blank\">\n",
        "                <img align=\"right\" src=\"https://raw.githubusercontent.com/MU-Physics-Department/logos/master/GH.png\">\n",
        "            </a>\n",
        "        </th>\n",
        "        <th style=\"padding:0px;\" width=\"5%\">\n",
        "            <a href=\"https://join.slack.com/t/mu-fzk/shared_invite/zt-13jtd6dtd-g9zD5P4Zu0m5P0Gt2PNReQ\"\n",
        "               target=\"_blank\">\n",
        "                <img align=\"right\" src=\"https://raw.githubusercontent.com/MU-Physics-Department/logos/master/slack.png\">\n",
        "            </a>\n",
        "        </th>\n",
        "    </tr>\n",
        "</table>\n",
        "<table width=\"100%\">\n",
        "    <tr style=\"background-color:white;\">\n",
        "        <!-- <td style=\"text-align-left;padding:0px;\" width=\"10%\">\n",
        "            <a href=\"https://fef.marmara.edu.tr\"\n",
        "               target=\"_blank\">\n",
        "                <img align=\"right\" src=\"https://raw.githubusercontent.com/MU-Physics-Department/logos/master/fef.png\">\n",
        "            </a>\n",
        "        </td> -->\n",
        "        <td style=\"padding:0px\" width=\"25%\">\n",
        "            <a href=\"http://fzk.fen.marmara.edu.tr\"\n",
        "               target=\"_blank\">\n",
        "                <img align=\"right\" src=\"https://raw.githubusercontent.com/MU-Physics-Department/logos/master/fzk.png\">\n",
        "            </a>\n",
        "        </td>\n",
        "        <td width=\"10%\">\n",
        "            &nbsp;\n",
        "        </td>\n",
        "        <td style=\"padding:0px;\" width=\"65%\">\n",
        "            <a href=\"https://www.sababozpolat.com/lectures/scientific-programming\"\n",
        "               target=\"_blank\">\n",
        "                <img align=\"right\" src=\"https://raw.githubusercontent.com/MU-Physics-Department/logos/master/comp2083.png\">\n",
        "            </a>\n",
        "        </td>\n",
        "    </tr>\n",
        "</table>"
      ],
      "metadata": {
        "id": "xsiB2OVMcazu"
      }
    },
    {
      "cell_type": "markdown",
      "source": [
        "# For Loops"
      ],
      "metadata": {
        "id": "pMMcblcglhYw"
      }
    },
    {
      "cell_type": "markdown",
      "source": [
        "A for loop in Python is used for iterating over a data container or a string. This is less like the for keyword in other programming languages, and works more like an iterator method as found in other object-orientated programming languages. With the for loop we can execute a set of statements, once for each item in a list, tuple, set etc.\n",
        "\n",
        "```python\n",
        "for iteration_var in data_container:\n",
        "    statements\n",
        "```\n",
        "Below is examples of for-loop over different iterables.\n",
        "```python\n",
        "integers = [0, 1, 2, 3]\n",
        "for i in integers:\n",
        "    print(i)\n",
        "\n",
        "#Output\n",
        "0\n",
        "1\n",
        "2\n",
        "3\n",
        "```\n",
        "```python\n",
        "integers = [0, 1, 2, 3]\n",
        "for i in integers:\n",
        "    print(i ** 2)\n",
        "\n",
        "#Output\n",
        "0\n",
        "1\n",
        "4\n",
        "9\n",
        "```\n",
        "```python\n",
        "letters = \"abcd\"\n",
        "for i in letters:\n",
        "    print(i)\n",
        "\n",
        "# Output\n",
        "a\n",
        "b\n",
        "c\n",
        "d\n",
        "```\n",
        "```python\n",
        "fruits = (\"apple\", \"orange\", \"kiwi\")\n",
        "for i in fruits:\n",
        "    print(i)\n",
        "\n",
        "# Output\n",
        "apple\n",
        "orange\n",
        "kiwi\n",
        "```"
      ],
      "metadata": {
        "id": "Ca1BxIwiFg2h"
      }
    },
    {
      "cell_type": "code",
      "source": [
        "new = \"banana\"\n",
        "for i in new:\n",
        "  print(i)"
      ],
      "metadata": {
        "id": "kjOTOa0b42ea"
      },
      "execution_count": null,
      "outputs": []
    },
    {
      "cell_type": "markdown",
      "source": [
        "<h3>Task 1</h3>\n",
        "\n",
        "Given the list below, calculate the square roots of its elements and print the results.\n",
        "\n",
        "_Hint_: You may use ``sqrt()`` function from ``math`` library as follows,\n",
        "```python\n",
        "from math import sqrt\n",
        "print(sqrt(4))\n",
        "print(sqrt(0.5))\n",
        "\n",
        "# Output\n",
        "2.0\n",
        "0.707\n",
        "```"
      ],
      "metadata": {
        "id": "uSp2YpdwKoDZ"
      }
    },
    {
      "cell_type": "code",
      "source": [
        "from math import sqrt\n",
        "numbers = [0, 3, 2, 6, 5, 4, 7, 2]\n",
        "\n",
        "for num in numbers:\n",
        "  print(sqrt(num))\n",
        "\n"
      ],
      "metadata": {
        "id": "8u0gcvuoKpqg"
      },
      "execution_count": null,
      "outputs": []
    },
    {
      "cell_type": "markdown",
      "source": [
        "Remember that a set was a data container whose elements are inordered. Yet you may build a for loop over a set. This way you can reach the elements of the set one by one, even though this operation is not ordered.\n",
        "```python\n",
        "colors = {\"red\", \"yellow\", \"green\"}\n",
        "for i in colors:\n",
        "    print(i)\n",
        "\n",
        "# Output\n",
        "magenta\n",
        "green\n",
        "red\n",
        "```"
      ],
      "metadata": {
        "id": "fo7WsZM7LqM4"
      }
    },
    {
      "cell_type": "markdown",
      "source": [
        "<h3>Task 2</h3>\n",
        "\n",
        "Given the set of days below, print them using a for loop."
      ],
      "metadata": {
        "id": "gc1ppqKbKoco"
      }
    },
    {
      "cell_type": "code",
      "source": [
        "days = {\"Mon\", \"Tue\", \"Wed\", \"Thu\", \"Fri\", \"Sat\", \"Sun\"}\n",
        "for day in days:\n",
        "    print(day)\n"
      ],
      "metadata": {
        "id": "2fAY0sd4Kopg"
      },
      "execution_count": null,
      "outputs": []
    },
    {
      "cell_type": "markdown",
      "source": [
        "You can also build a for loop over a dictionary. When you do so, the iteration variable considers the keys in the dictionary.\n",
        "```python\n",
        "lectures = {\n",
        "    \"COMP2083\": \"Saba Bozpolat\",\n",
        "    \"FZK2022\": \"Ayşe Yumak Yahşi\",\n",
        "    \"PHYS2004\": \"Özgür Delice\",\n",
        "    }\n",
        "for i in lectures:\n",
        "    print(i)\n",
        "\n",
        "COMP2083\n",
        "FZK2022\n",
        "PHYS2004\n",
        "```"
      ],
      "metadata": {
        "id": "EWOHQq71MEcI"
      }
    },
    {
      "cell_type": "markdown",
      "source": [
        "<h3>Task 3</h3>\n",
        "\n",
        "Given the books dictionary below, print the book names using a for loop.\n"
      ],
      "metadata": {
        "id": "hov1ZgHdMLgY"
      }
    },
    {
      "cell_type": "markdown",
      "source": [
        "key ler kitap isimleri"
      ],
      "metadata": {
        "id": "fHQtOjH77sRF"
      }
    },
    {
      "cell_type": "code",
      "source": [
        "books = {\n",
        "    \"Sapiens\": \"Yuval Noah Harari\",\n",
        "    \"Myth of Normal\": \"Gabor Mate\",\n",
        "    \"Good to Great\": \"Jim Collins\",\n",
        "    \"The Alchemist\": \"Paulo Coelho\",\n",
        "    \"Think and Grow Rich\": \"Napoleon Hill\",\n",
        "}\n",
        "\n",
        "for book in books:\n",
        "  print(book)\n"
      ],
      "metadata": {
        "id": "YAhX89jIMLs_"
      },
      "execution_count": null,
      "outputs": []
    },
    {
      "cell_type": "markdown",
      "source": [
        "There is another way to loop over the keys of a dictionary. It is ```keys()``` method.\n",
        "\n",
        "```python\n",
        "lectures = {\n",
        "    \"COMP2083\": \"Saba Bozpolat\",\n",
        "    \"FZK2022\": \"Ayşe Yumak Yahşi\",\n",
        "    \"PHYS2004\": \"Özgür Delice\",\n",
        "    }\n",
        "for key in lectures.keys():\n",
        "    print(key)\n",
        "\n",
        "# Output\n",
        "COMP2083\n",
        "FZK2022\n",
        "PHYS2004\n",
        "```"
      ],
      "metadata": {
        "id": "J1kNiOTqVN8y"
      }
    },
    {
      "cell_type": "markdown",
      "source": [
        "<h3>Task 4</h3>\n",
        "\n",
        "Given the identity details dictionary below, print the keys using a for loop and relevant dictionary method."
      ],
      "metadata": {
        "id": "INGQ1JSHVN28"
      }
    },
    {
      "cell_type": "code",
      "source": [
        "my_identity = {\n",
        "    \"name\": \"David\",\n",
        "    \"age\": 15,\n",
        "    \"father\": \"Justin\",\n",
        "    \"mother\": \"Hannah\",\n",
        "}\n",
        "\n",
        "for i in my_identity.keys():\n",
        "  print(i)\n"
      ],
      "metadata": {
        "id": "VtaulzFrVNs3"
      },
      "execution_count": null,
      "outputs": []
    },
    {
      "cell_type": "markdown",
      "source": [
        "You can also loop over the values of a dictionary by using ``values()`` method.\n",
        "\n",
        "```python\n",
        "lectures = {\n",
        "    \"COMP2083\": \"Saba Bozpolat\",\n",
        "    \"FZK2022\": \"Ayşe Yumak Yahşi\",\n",
        "    \"PHYS2004\": \"Özgür Delice\",\n",
        "    }\n",
        "for lecturer in lectures.values():\n",
        "    print(lecturer)\n",
        "\n",
        "# Output\n",
        "Saba Bozpolat\n",
        "Ayşe Yumak Yahşi\n",
        "Özgür Delice\n",
        "```"
      ],
      "metadata": {
        "id": "6gJNRBZFULUQ"
      }
    },
    {
      "cell_type": "markdown",
      "source": [
        "<h3>Task 5</h3>\n",
        "\n",
        "Given the capital city dictionary below, print the capital cities using a for loop.\n"
      ],
      "metadata": {
        "id": "jPLmwQo_bk5T"
      }
    },
    {
      "cell_type": "code",
      "source": [
        "capitals = {\n",
        "    \"Turkey\": \"Ankara\",\n",
        "    \"France\": \"Paris\",\n",
        "    \"Brazil\": \"Brasilia\",\n",
        "    \"Germany\": \"Berlin\",\n",
        "    \"Nigeria\": \"Abuja\",\n",
        "}\n",
        "\n",
        "for caps in capitals.values():\n",
        "  print(caps)"
      ],
      "metadata": {
        "id": "Y2POtfEoblLC"
      },
      "execution_count": null,
      "outputs": []
    },
    {
      "cell_type": "markdown",
      "source": [
        "## ``range()`` function"
      ],
      "metadata": {
        "id": "yEPaEyM4GS5i"
      }
    },
    {
      "cell_type": "markdown",
      "source": [
        "The ``range()`` function returns a sequence of numbers, starting from 0 by default, and increments by 1 (by default), and stops before a specified number.\n",
        "\n",
        "```python\n",
        ">> range(3)\n",
        "[0, 1, 2]\n",
        ">> range(5)\n",
        "[0, 1, 2, 3, 4]\n",
        "```\n",
        "\n",
        "Whole syntax for ``range()`` function is as follows.\n",
        "```python\n",
        "range(initial_value, final_value, increment_value)\n",
        "```\n",
        "The default values for initial value and increment are 0 and 1, respectively. But you may alter them as you need.\n",
        "```python\n",
        ">> range(1, 3)\n",
        "[1, 2]\n",
        ">> range(2, 5)\n",
        "[2, 3, 4]\n",
        ">> range(3, 10, 2)\n",
        "[3, 5, 7, 9]\n",
        ">> range(2, 23, 3)\n",
        "[2, 5, 8, 11, 14, 17, 20]\n",
        "```\n",
        "\n",
        "\n",
        "\n",
        "\n"
      ],
      "metadata": {
        "id": "vs1GSREyGXdx"
      }
    },
    {
      "cell_type": "markdown",
      "source": [
        "## Using ``range()`` in a for loop"
      ],
      "metadata": {
        "id": "Wh9lNadRHsSh"
      }
    },
    {
      "cell_type": "markdown",
      "source": [
        "You can iterate using ``range()`` function.\n",
        "\n",
        "```python\n",
        "for i in range(3):\n",
        "    print(i)\n",
        "\n",
        "# Output\n",
        "0\n",
        "1\n",
        "2\n",
        "```\n",
        "Furthermore, when you use ``range()`` function in a for loop, the iteration parameter behaves as if it is an index.\n",
        "```python\n",
        "my_list = [\"a\", \"b\", \"c\"]\n",
        "for i in range(len(my_list)):\n",
        "    print(i, my_list[i])\n",
        "\n",
        "# Output\n",
        "0 a\n",
        "1 b\n",
        "2 c\n",
        "```\n",
        "\n"
      ],
      "metadata": {
        "id": "dpqg4RNbIhWh"
      }
    },
    {
      "cell_type": "markdown",
      "source": [
        "<h3>Task 6</h3>\n",
        "\n",
        "Create a for loop with ``range()`` function of first 15 numbers. Calculate and print the squares of them in the loop."
      ],
      "metadata": {
        "id": "905_ZfCNMQoA"
      }
    },
    {
      "cell_type": "code",
      "source": [
        "for i in range(16):\n",
        "  num = i ** 2\n",
        "  print(num)\n",
        "print(\"bitti\")\n",
        "\n",
        "\n",
        "\n"
      ],
      "metadata": {
        "id": "CaI6tojrMRAP"
      },
      "execution_count": null,
      "outputs": []
    },
    {
      "cell_type": "markdown",
      "source": [
        "## Using ``zip()`` function in a for loop\n"
      ],
      "metadata": {
        "id": "Y5nGziXLa1FH"
      }
    },
    {
      "cell_type": "markdown",
      "source": [
        "In Python, there is a way to iterate over multiple lists in parallel using ``zip()`` function.\n",
        "\n",
        "```python\n",
        "fruits = [\"apples\", \"oranges\", \"bananas\"]\n",
        "prices = [5,10,20]\n",
        "quantities = [5,7,3]\n",
        "\n",
        "for fruit, price, quantity in zip(fruits, prices, quantities):\n",
        "    print(f\"You bought {quantity} {fruit} for ${price*quantity}\")\n",
        "  \n",
        "# Output\n",
        "You bought 5 apples for $25\n",
        "You bought 7 oranges for $70\n",
        "You bought 3 bananas for $60\n",
        "```\n",
        "\n",
        "In the example above, the loop iterates over three lists in parallel.\n"
      ],
      "metadata": {
        "id": "Pd8kVOuXa0Mz"
      }
    },
    {
      "cell_type": "markdown",
      "source": [
        "<h3>Task 7</h3>\n",
        "\n",
        "Given the numbers and letters lists below, print the letters along with their order in the alphabet. Use ``zip()`` function."
      ],
      "metadata": {
        "id": "ebqmaXE7a0Gd"
      }
    },
    {
      "cell_type": "code",
      "source": [
        "numbers = [1, 2, 3, 4, 5, 6, 7, 8, 9, 10]\n",
        "letters = [\"a\", \"b\", \"c\", \"d\", \"e\", \"f\", \"g\", \"h\", \"i\", \"j\"]\n",
        "\n",
        "for numbers, letters in zip(numbers,letters):\n",
        "  print(f\"{numbers} {letters}\")"
      ],
      "metadata": {
        "id": "qco0ukJFaz7y"
      },
      "execution_count": null,
      "outputs": []
    },
    {
      "cell_type": "markdown",
      "source": [
        "Alttaki hocanın yaptığı"
      ],
      "metadata": {
        "id": "B8ey2v1nAKGB"
      }
    },
    {
      "cell_type": "code",
      "source": [
        "numbers = [1, 2, 3, 4, 5, 6, 7, 8, 9, 10]\n",
        "letters = [\"a\", \"b\", \"c\", \"d\", \"e\", \"f\", \"g\", \"h\", \"i\", \"j\"]\n",
        "\n",
        "for i in range(len(numbers)):\n",
        "  print(numbers[i], letters[i])"
      ],
      "metadata": {
        "id": "oravu6JT_jY_"
      },
      "execution_count": null,
      "outputs": []
    },
    {
      "cell_type": "markdown",
      "source": [
        "## Using ``enumerate()`` function in a for loop\n"
      ],
      "metadata": {
        "id": "80BJF_YO7euN"
      }
    },
    {
      "cell_type": "markdown",
      "source": [
        "It is common to want to iterate across objects, such as lists, while also keeping track of the index of each iteration. How would you use a for loop to produce the desired output given the following list? There are two messy ways to do this task.\n",
        "\n",
        "```python\n",
        "animals = [\"bird\", \"cow\", \"dog\"]\n",
        "for i in range(len(animals)):\n",
        "    print(\"Animal #%i is %s.\" % (i+1, animals[i]))\n",
        "\n",
        "# Output\n",
        "Animal #1 is bird.\n",
        "Animal #2 is cow.\n",
        "Animal #3 is dog.\n",
        "```\n",
        "```python\n",
        "i = 1\n",
        "animals = [\"bird\", \"cow\", \"dog\"]\n",
        "for animal in animals:\n",
        "    print(\"Animal #%i is %s.\" % (i, animal))\n",
        "    i += 1\n",
        "\n",
        "# Output\n",
        "Animal #1 is bird.\n",
        "Animal #2 is cow.\n",
        "Animal #3 is dog.\n",
        "```\n",
        "A more clear, pythonic way to handle this job is to use ``enumerate`` function. ``enumerate`` takes an iterable arguement and returns the list of tuple. Each tuple contains 2 elements, first of which is the index and the second is the element itself.\n",
        "```python\n",
        "animals = [\"bird\", \"cow\", \"dog\"]\n",
        "for i, animal in enumerate(animals):\n",
        "    print(\"Animal #%i is %s.\" % (i, animal))\n",
        "\n",
        "# Output\n",
        "Animal #1 is bird.\n",
        "Animal #2 is cow.\n",
        "Animal #3 is dog.\n",
        "```\n"
      ],
      "metadata": {
        "id": "TI8Oolqi7enM"
      }
    },
    {
      "cell_type": "markdown",
      "source": [
        "<h3>Task 8: Recursive Definition of Laguerre Polynomials</h3>\n",
        "\n",
        "Laguerre polynomials are nontrivial solutions of Laguerre's differential equation which is a special kind of differential equation in Quantum Physics.$^\\dagger$ Following is the recursive definition of these polynomials.\n",
        "\n",
        "\n",
        "$$\n",
        "L_{i+1}(x) = \\frac{2i+1-x}{i+1}L_i(x) - \\frac{i}{i+1}L_{i-1}(x), \\qquad\\qquad k \\ge 1.\n",
        "$$\n",
        "\n",
        "Given the first two polynomials, one can calculate the rest, recursively. Following is first few polynomials.\n",
        "\n",
        "| i | $L_i(x)$ | $L_i(x=1)$ |\n",
        "|:-:|:---------|:----------:|\n",
        "| &nbsp;&nbsp; 0 &nbsp;&nbsp; | $1$ &nbsp;&nbsp;&nbsp;&nbsp;&nbsp;&nbsp;&nbsp;&nbsp;&nbsp;&nbsp;&nbsp;&nbsp;&nbsp;&nbsp;&nbsp;&nbsp;&nbsp;&nbsp;&nbsp;&nbsp;&nbsp;&nbsp;&nbsp;&nbsp;&nbsp;&nbsp;&nbsp;&nbsp;&nbsp;&nbsp;&nbsp;&nbsp;&nbsp;&nbsp;&nbsp;&nbsp;&nbsp;&nbsp;&nbsp;&nbsp;&nbsp;&nbsp;&nbsp;&nbsp;&nbsp;&nbsp;&nbsp;&nbsp;&nbsp;&nbsp;&nbsp;&nbsp;&nbsp;&nbsp;&nbsp;&nbsp;&nbsp;&nbsp;&nbsp;&nbsp;&nbsp;&nbsp;&nbsp;&nbsp;&nbsp;&nbsp;&nbsp;&nbsp;&nbsp;&nbsp;&nbsp;&nbsp;&nbsp;&nbsp;&nbsp;&nbsp;&nbsp;&nbsp;&nbsp;&nbsp;&nbsp;&nbsp;&nbsp;&nbsp;&nbsp;&nbsp;&nbsp;&nbsp;&nbsp;&nbsp;&nbsp;&nbsp;&nbsp;&nbsp;&nbsp;&nbsp;&nbsp;&nbsp;&nbsp;&nbsp;&nbsp;&nbsp;&nbsp;&nbsp; |  $1$  |\n",
        "| &nbsp;&nbsp; 1 &nbsp;&nbsp; | $-x+1$ | $0$ |\n",
        "| &nbsp;&nbsp; 2 &nbsp;&nbsp; | $\\frac{1}{2}(x^2-4x+2)$ | $-1$ |\n",
        "| &nbsp;&nbsp; 3 &nbsp;&nbsp; | $\\frac{1}{6}(-x^3+9x^2-18x+6)$ | $-4$ |\n",
        "| &nbsp;&nbsp; 4 &nbsp;&nbsp; | $\\frac{1}{24}(x^4-16x^3+72x^2-96x+24)$ | $-15$ |\n",
        "| &nbsp;&nbsp; 5 &nbsp;&nbsp; | $\\frac{1}{120}(-x^5+25x^4-200x^3+600x^2-600x+120)$ | $-56$ |\n",
        "\n",
        "\n",
        "Using the recursive formula, calculate the values of first 20 polynomials for $x=4$. Value of first two polynomials, _i.e._ $L_0(4)$ and $L_1(4)$ are already defined in the given code, do not change this line.\n",
        "\n",
        "<br><br><font size=\"0.1\">_$^\\dagger$ Details of this topic is beyond the scope of our lecture._</font>\n"
      ],
      "metadata": {
        "id": "QnZK1LbP7efZ"
      }
    },
    {
      "cell_type": "markdown",
      "source": [
        "18 tane 0 olmalı 20"
      ],
      "metadata": {
        "id": "I16X3hlwD7he"
      }
    },
    {
      "cell_type": "code",
      "source": [
        "laguerres = [1, -3, 0, 0, 0, 0, 0, 0, 0, 0, 0, 0, 0, 0, 0, 0, 0, 0, 0, 0]\n",
        "\n",
        "for i, elem in enumerate(laguerres[:-3]):\n",
        "  laguerres[i+2] = (2*i+1-4) / (i+1) * laguerres[i + 1] - i / (i+1) * laguerres[i]\n",
        "  #print(i, elem, laguerres[])\n",
        "  print(laguerres[i+2])"
      ],
      "metadata": {
        "id": "5nh1r3ZIBl4H"
      },
      "execution_count": null,
      "outputs": []
    },
    {
      "cell_type": "code",
      "source": [
        "laguerres = [1, -3]  # L_0 and L_1 for x = 4, respectively.\n",
        "\n",
        "i = 0 x = 1\n",
        "i = 1 x = 0\n",
        "i = 2 x = -1\n",
        "\n",
        "x = ((2i +1 - x) / i + 1)x - (i /i + 1)x\n"
      ],
      "metadata": {
        "id": "-JIzt0pu7eRv"
      },
      "execution_count": null,
      "outputs": []
    }
  ]
}