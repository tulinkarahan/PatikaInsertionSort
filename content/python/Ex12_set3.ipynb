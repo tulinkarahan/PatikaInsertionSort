{
  "nbformat": 4,
  "nbformat_minor": 0,
  "metadata": {
    "colab": {
      "private_outputs": true,
      "provenance": [],
      "include_colab_link": true
    },
    "kernelspec": {
      "name": "python3",
      "display_name": "Python 3"
    },
    "language_info": {
      "name": "python"
    }
  },
  "cells": [
    {
      "cell_type": "markdown",
      "metadata": {
        "id": "view-in-github",
        "colab_type": "text"
      },
      "source": [
        "<a href=\"https://colab.research.google.com/github/tulinkarahan/PatikaInsertionSort/blob/main/content/python/Ex12_set3.ipynb\" target=\"_parent\"><img src=\"https://colab.research.google.com/assets/colab-badge.svg\" alt=\"Open In Colab\"/></a>"
      ]
    },
    {
      "cell_type": "markdown",
      "source": [
        "<table width=\"100%\">\n",
        "    <tr style=\"\">\n",
        "        <th style=\"text-align:left; padding:0px\" width=\"5%\">\n",
        "            <a href=\"https://www.marmara.edu.tr\" target=\"_blank\">\n",
        "                <img src=\"https://raw.githubusercontent.com/MU-Physics-Department/logos/master/mu_logo.png\">\n",
        "            </a>\n",
        "        </th>\n",
        "        <th style=\"padding:0px;\" width=\"35%\">\n",
        "            <img align=\"right\" src=\"https://raw.githubusercontent.com/MU-Physics-Department/logos/master/name.png\">\n",
        "        </th>\n",
        "        <th  width=\"20%\">\n",
        "            &nbsp;\n",
        "        </th>\n",
        "        <th style=\"padding:0px\" width=\"5%\">\n",
        "            <a href=\"https://www.sababozpolat.com\" target=\"_blank\" padding=\"0px\">\n",
        "                <img align=\"center\" src=\"https://raw.githubusercontent.com/MU-Physics-Department/logos/master/hp.png\">\n",
        "            </a>\n",
        "        </th>\n",
        "        <th style=\"padding:0px\" width=\"5%\">\n",
        "            <a href=\"mailto:saba.bozpolat@gmail.com\" target=\"_blank\">\n",
        "                <img align=\"center\" src=\"https://raw.githubusercontent.com/MU-Physics-Department/logos/master/email.png\">\n",
        "            </a>\n",
        "        </th>\n",
        "        <th style=\"padding:0px;\" width=\"5%\">\n",
        "            <a href=\"https://www.linkedin.com/in/saba-bozpolat-644856152/\" target=\"_blank\">\n",
        "                <img align=\"right\" src=\"https://raw.githubusercontent.com/MU-Physics-Department/logos/master/in.png\">\n",
        "            </a>\n",
        "        </th>\n",
        "        <th style=\"padding:0px;\" width=\"5%\">\n",
        "            <a href=\"https://scholar.google.com.tr/citations?user=nSiJoMYAAAAJ&hl=en\" target=\"_blank\">\n",
        "                <img align=\"right\" src=\"https://raw.githubusercontent.com/MU-Physics-Department/logos/master/GS.png\">\n",
        "            </a>\n",
        "        </th>\n",
        "        <th style=\"padding:0px;\" width=\"5%\">\n",
        "            <a href=\"https://www.researchgate.net/profile/Saba-Bozpolat\" target=\"_blank\">\n",
        "                <img align=\"right\" src=\"https://raw.githubusercontent.com/MU-Physics-Department/logos/master/RG.png\">\n",
        "            </a>\n",
        "        </th>\n",
        "        <th style=\"padding:0px\" width=\"5%\">\n",
        "            <a href=\"https://www.youtube.com/channel/UC8-uOZud6UL7oCOE2UUBunA\" target=\"_blank\">\n",
        "                <img align=\"right\" src=\"https://raw.githubusercontent.com/MU-Physics-Department/logos/master/YT.png\">\n",
        "            </a>\n",
        "        </th>\n",
        "        <th style=\"padding:0px;\" width=\"5%\">\n",
        "            <a href=\"https://github.com/sbbzplt\" target=\"_blank\">\n",
        "                <img align=\"right\" src=\"https://raw.githubusercontent.com/MU-Physics-Department/logos/master/GH.png\">\n",
        "            </a>\n",
        "        </th>\n",
        "        <th style=\"padding:0px;\" width=\"5%\">\n",
        "            <a href=\"https://join.slack.com/t/mu-fzk/shared_invite/zt-13jtd6dtd-g9zD5P4Zu0m5P0Gt2PNReQ\"\n",
        "               target=\"_blank\">\n",
        "                <img align=\"right\" src=\"https://raw.githubusercontent.com/MU-Physics-Department/logos/master/slack.png\">\n",
        "            </a>\n",
        "        </th>\n",
        "    </tr>\n",
        "</table>\n",
        "<table width=\"100%\">\n",
        "    <tr style=\"background-color:white;\">\n",
        "        <!-- <td style=\"text-align-left;padding:0px;\" width=\"10%\">\n",
        "            <a href=\"https://fef.marmara.edu.tr\"\n",
        "               target=\"_blank\">\n",
        "                <img align=\"right\" src=\"https://raw.githubusercontent.com/MU-Physics-Department/logos/master/fef.png\">\n",
        "            </a>\n",
        "        </td> -->\n",
        "        <td style=\"padding:0px\" width=\"25%\">\n",
        "            <a href=\"http://fzk.fen.marmara.edu.tr\"\n",
        "               target=\"_blank\">\n",
        "                <img align=\"right\" src=\"https://raw.githubusercontent.com/MU-Physics-Department/logos/master/fzk.png\">\n",
        "            </a>\n",
        "        </td>\n",
        "        <td width=\"10%\">\n",
        "            &nbsp;\n",
        "        </td>\n",
        "        <td style=\"padding:0px;\" width=\"65%\">\n",
        "            <a href=\"https://www.sababozpolat.com/lectures/spring-semester/scientific-programming\"\n",
        "               target=\"_blank\">\n",
        "                <img align=\"right\" src=\"https://raw.githubusercontent.com/MU-Physics-Department/logos/master/comp2083.png\">\n",
        "            </a>\n",
        "        </td>\n",
        "    </tr>\n",
        "</table>"
      ],
      "metadata": {
        "id": "TgMxliqTSzZM"
      }
    },
    {
      "cell_type": "markdown",
      "source": [
        "# Broad Exercises - Set 3"
      ],
      "metadata": {
        "id": "ExUxL6saSz2B"
      }
    },
    {
      "cell_type": "markdown",
      "source": [
        "<h3>Task 1</h3>\n",
        "\n",
        "Write a Python code to chech if each character in the given string is capital or not. If the character is capital, than print its index.\n",
        "\n",
        "Example:\n",
        " - Given string: \"HeLlO\"\n",
        " - Output: your code should print the indices, 0, 2 and 4."
      ],
      "metadata": {
        "id": "GwSI-e2MT5o-"
      }
    },
    {
      "cell_type": "code",
      "source": [
        "quote_by_feynman = \"The FirSt prInciPle iS ThAt yOu mUSt Not FoOl YoURsElF aNd yOU aRe thE EaSIeSt PerSon To fOoL.\"\n",
        "#\n",
        "# your code here\n",
        "#\n"
      ],
      "metadata": {
        "id": "0c6my74MT6FG"
      },
      "execution_count": null,
      "outputs": []
    },
    {
      "cell_type": "markdown",
      "source": [
        "<h3>Task 2</h3>\n",
        "\n",
        "Write a Python program to element-wise sum elements from given lists. However, if two values are equal, the sum will be zero."
      ],
      "metadata": {
        "id": "O4rRZmfqUCfA"
      }
    },
    {
      "cell_type": "code",
      "source": [
        "first_list = [5, 3, -2, 8, 1]\n",
        "second_list = [3, 2, -4, 0, -1]\n",
        "third_list = [-1, -4,-2, -4, 1]\n",
        "#\n",
        "# your code here\n",
        "#\n"
      ],
      "metadata": {
        "id": "RSjYhhD0UCfB"
      },
      "execution_count": null,
      "outputs": []
    },
    {
      "cell_type": "markdown",
      "source": [
        "<h3>Task 3</h3>\n",
        "\n",
        "Write a Python code to extract and print the letter in the middle of a given string. If there is no middle letter, an empty string should be printed.\n",
        "\n",
        "Example:\n",
        " - For the given string ```\"abc\"```, your code should print ```\"b\"```.\n",
        " - For the given string ```\"abcd\"```, your code should print ```\"\"```."
      ],
      "metadata": {
        "id": "pPPhHkgXUCrx"
      }
    },
    {
      "cell_type": "code",
      "source": [
        "quote_by_dirac_1 = \"A physical law must possess mathematical beauty\"  # output should be \"s\".\n",
        "quote_by_dirac_2 = \"It is more important to have beauty in one’s equation than to have them fit experiment\"  # output should be an empty string.\n",
        "\n",
        "#\n",
        "# your code here\n",
        "#\n"
      ],
      "metadata": {
        "id": "b2OnTzd8UCry"
      },
      "execution_count": null,
      "outputs": []
    },
    {
      "cell_type": "markdown",
      "source": [
        "<h3>Task 4</h3>\n",
        "\n",
        "Write a Python program to print the vowels in the given sentence."
      ],
      "metadata": {
        "id": "ib5hI-FGUCwv"
      }
    },
    {
      "cell_type": "code",
      "source": [
        "quote_by_einstein = \"Look deep into nature, and then you will understand everything better.\"\n",
        "#\n",
        "# your code here\n",
        "#\n"
      ],
      "metadata": {
        "id": "e_zJetDyUCww"
      },
      "execution_count": null,
      "outputs": []
    },
    {
      "cell_type": "markdown",
      "source": [
        "<h3>Task 5</h3>\n",
        "\n",
        "Write a Python program that determines whether numbers from given list is even or odd, and prints an appropriate message."
      ],
      "metadata": {
        "id": "Wp6XqS9WUC05"
      }
    },
    {
      "cell_type": "code",
      "source": [
        "from random import randint\n",
        "numbers = [randint(0, 100) for _ in range(20)]\n",
        "#\n",
        "# your code here\n",
        "#\n"
      ],
      "metadata": {
        "id": "5l7eurqVUC06"
      },
      "execution_count": null,
      "outputs": []
    },
    {
      "cell_type": "markdown",
      "source": [
        "<h3>Task 6</h3>\n",
        "\n",
        "Write a Python program to test whether given numbers are within 100 of 1000 or 2000."
      ],
      "metadata": {
        "id": "BiiU7EI2UC4j"
      }
    },
    {
      "cell_type": "code",
      "source": [
        "from random import randint\n",
        "numbers = [randint(5, 25) * 100 for _ in range(10)]\n",
        "#\n",
        "# your code here\n",
        "#\n"
      ],
      "metadata": {
        "id": "xuDk4wrxUC4k"
      },
      "execution_count": null,
      "outputs": []
    },
    {
      "cell_type": "markdown",
      "source": [
        "<h3>Task 7</h3>\n",
        "\n",
        "Write a program to display characters that are present at an even index number of given sentence."
      ],
      "metadata": {
        "id": "YStg77_2UC7s"
      }
    },
    {
      "cell_type": "code",
      "source": [
        "sentence = \"Love is love.\"\n",
        "#\n",
        "# your code here\n",
        "#\n"
      ],
      "metadata": {
        "id": "vmbS_dPpUC7t"
      },
      "execution_count": null,
      "outputs": []
    },
    {
      "cell_type": "markdown",
      "source": [
        "<h3>Task 8</h3>\n",
        "\n",
        "Iterate the given list of numbers and print only those numbers which are divisible by 5."
      ],
      "metadata": {
        "id": "jIVBV3i1UC_m"
      }
    },
    {
      "cell_type": "code",
      "source": [
        "numbers = [10, 20, 33, 46, 55]\n",
        "#\n",
        "# your code here\n",
        "#\n"
      ],
      "metadata": {
        "id": "WvyajOtBUC_m"
      },
      "execution_count": null,
      "outputs": []
    },
    {
      "cell_type": "markdown",
      "source": [
        "<h3>Task 9</h3>\n",
        "\n",
        "Given a dictionary of people's online status, write a Python code to count the number of people who are online and print the end result."
      ],
      "metadata": {
        "id": "vD_ZF9w1od6T"
      }
    },
    {
      "cell_type": "code",
      "source": [
        "statuses = {\"Alice\": \"online\", \"Bob\": \"offline\", \"Charlie\": \"offline\", \"Dennis\": \"online\", \"Eve\": \"online\", \"Frederic\": \"offline\",\n",
        "            \"Greg\": \"online\", \"Hudson\": \"online\", \"Ian\": \"offline\", \"Jane\": \"online\", \"Keith\": \"offline\", \"Ludwig\": \"online\",\n",
        "            \"Marry\": \"offline\", \"Nichole\": \"online\", \"Odin\": \"online\", \"Paul\": \"offline\", \"Ray\": \"online\", \"Smith\": \"offline\",\n",
        "            \"Taylor\": \"offline\", \"Uma\": \"offline\", \"Vladimir\": \"offline\", \"Yvette\": \"offline\", \"Zoey\": \"online\"}\n",
        "#\n",
        "# your code here\n",
        "#\n"
      ],
      "metadata": {
        "id": "8iyKp3-rodnD"
      },
      "execution_count": null,
      "outputs": []
    },
    {
      "cell_type": "markdown",
      "source": [
        "<h3>Task 10</h3>\n",
        "\n",
        "Write a Python program that computes the greatest common divisor (GCD) of two positive integers.\n"
      ],
      "metadata": {
        "id": "nR5ZdWjqUDct"
      }
    },
    {
      "cell_type": "code",
      "source": [
        "num_1, num_2 = 336, 360\n",
        "#\n",
        "# your code here\n",
        "#\n"
      ],
      "metadata": {
        "id": "XazBBsIFUDcu"
      },
      "execution_count": null,
      "outputs": []
    },
    {
      "cell_type": "markdown",
      "source": [
        "<h3>Task 11</h3>\n",
        "\n",
        "Write a Python program to find the least common multiple (LCM) of two positive integers."
      ],
      "metadata": {
        "id": "AqB9-PpBA4ii"
      }
    },
    {
      "cell_type": "code",
      "source": [
        "num_1, num_2 = 5, 8\n",
        "#\n",
        "# your code here\n",
        "#\n"
      ],
      "metadata": {
        "id": "E5LNzcikA_5M"
      },
      "execution_count": null,
      "outputs": []
    },
    {
      "cell_type": "markdown",
      "source": [
        "<h3>Task 12</h3>\n",
        "\n",
        "Given a string, write Python code to check if it contains a couple of the same letter in a row.\n",
        "\n",
        "Example:\n",
        " - Given string: \"hello\" --> result should be ```True```.\n",
        " - Given string: \"university\" --> result should be ```False```."
      ],
      "metadata": {
        "id": "d-6ZlIfhqb8t"
      }
    },
    {
      "cell_type": "code",
      "source": [
        "#\n",
        "# your code here\n",
        "#\n"
      ],
      "metadata": {
        "id": "rZSX9CZmqbsD"
      },
      "execution_count": null,
      "outputs": []
    },
    {
      "cell_type": "markdown",
      "source": [
        "<h3>Task 13</h3>\n",
        "\n",
        "Write a Python code to add \".\" in between each letter of given string.\n",
        "\n",
        " - Example:\n",
        "   - \"test\" --> \"t.e.s.t\"\n",
        "   - \"Hello, World.\" --> \"H.e.l.l.o.,. .W.o.r.l.d.\"\n"
      ],
      "metadata": {
        "id": "KBzeTVLaEwtb"
      }
    },
    {
      "cell_type": "code",
      "source": [
        "#\n",
        "# your code here\n",
        "#\n"
      ],
      "metadata": {
        "id": "wiHYTelNEwXR"
      },
      "execution_count": null,
      "outputs": []
    },
    {
      "cell_type": "markdown",
      "source": [
        "<h3>Task 14</h3>\n",
        "\n",
        "Write a Python code to remove all of \".\" in a given string.\n",
        "\n",
        " - Example:\n",
        "  - \"t.e.s.t\" --> \"test\"\n",
        "  - \"Hello, World.\" --> \"Hello, World\"\n"
      ],
      "metadata": {
        "id": "4Svmkz3rEwFh"
      }
    },
    {
      "cell_type": "code",
      "source": [
        "#\n",
        "# your code here\n",
        "#\n"
      ],
      "metadata": {
        "id": "dDoZsrV6Ev6s"
      },
      "execution_count": null,
      "outputs": []
    },
    {
      "cell_type": "markdown",
      "source": [
        "<h3>Task 15</h3>\n",
        "\n",
        "Write a Python code to check if a word is palindrome.\n",
        "\n",
        " - **Palindrome**: A word that reads the same backwards as forwards.\n",
        "  - madam\n",
        "  - deed\n",
        "  - noon"
      ],
      "metadata": {
        "id": "BUr7MidGGClY"
      }
    },
    {
      "cell_type": "code",
      "source": [
        "madam = \"madam\"  # is a palindrome.\n",
        "noon = \"noon\"  # is a palindrome.\n",
        "physics = \"physics\"  # is not a palindrome.\n",
        "science = \"science\"  # is not a palindrome.\n",
        "#\n",
        "# your code here\n",
        "#\n"
      ],
      "metadata": {
        "id": "ToNIoZgnGCRy"
      },
      "execution_count": null,
      "outputs": []
    },
    {
      "cell_type": "markdown",
      "source": [
        "<h3>Task 16</h3>\n",
        "\n",
        "Write a Python code to check if two words are anagram to one another.\n",
        "\n",
        "\n",
        " - **Anagram**: Two words are anagrams if you can make one from the other only by rearranging the letters.\n",
        "  - flow/wolf\n",
        "  - angered/enraged\n",
        "  - dictionary/indicatory"
      ],
      "metadata": {
        "id": "aIVe9N16GB0O"
      }
    },
    {
      "cell_type": "code",
      "source": [
        "flow, wolf = \"flow\", \"wolf\"\n",
        "angered, enraged = \"angered\", \"enraged\"\n",
        "dictionary, indicatory = \"dictionary\", \"indicatory\"\n",
        "#\n",
        "# your code here\n",
        "#\n"
      ],
      "metadata": {
        "id": "dujmUR-AGBgK"
      },
      "execution_count": null,
      "outputs": []
    },
    {
      "cell_type": "markdown",
      "source": [
        "<h3>Task 17</h3>\n",
        "\n",
        "Write a Python code which flattens a list of list into a one-dimensional list.\n",
        "\n",
        " - Example:\n",
        "  - list of list: ```[[1, 2], [3, 4]]```\n",
        "  - flattened version of it: ```[1, 2, 3, 4]```\n"
      ],
      "metadata": {
        "id": "pWLZntsDH8pY"
      }
    },
    {
      "cell_type": "code",
      "source": [
        "input_list = [[11, 12, 13], [21, 22, 23], [31, 32, 33]]\n",
        "#\n",
        "# your code here\n",
        "#\n"
      ],
      "metadata": {
        "id": "nDqECB68H8ZP"
      },
      "execution_count": null,
      "outputs": []
    },
    {
      "cell_type": "markdown",
      "source": [
        "<h3>Task 18</h3>\n",
        "\n",
        "Write a code to determine the largest difference between the elements of a list.\n",
        " - It is 4 for the list [1, 2, 3, 4, 5].\n"
      ],
      "metadata": {
        "id": "4VM_TSg2J3rS"
      }
    },
    {
      "cell_type": "code",
      "source": [
        "#\n",
        "# your code here\n",
        "#\n"
      ],
      "metadata": {
        "id": "xkjZAxonJ3gk"
      },
      "execution_count": null,
      "outputs": []
    },
    {
      "cell_type": "markdown",
      "source": [
        "<h3>Task 19</h3>\n",
        "\n",
        "**Bom** is a group counting game. The first person in the group begins to count from 1. Each person in the group increases the count one by one. Whoever coincides a number which is divisible by 7, then this person says \"bom\" instead of that number.\n",
        "\n",
        "Write a Python to count from 1 to 100. Print each number itself unless it is divisible by 7. If so, print \"bom\".\n"
      ],
      "metadata": {
        "id": "YHqfcoT5KXwp"
      }
    },
    {
      "cell_type": "code",
      "source": [
        "#\n",
        "# your code here\n",
        "#\n"
      ],
      "metadata": {
        "id": "9Ugg9iaeKXb7"
      },
      "execution_count": null,
      "outputs": []
    },
    {
      "cell_type": "markdown",
      "source": [
        "Alttakini hoca vizede sorabilir."
      ],
      "metadata": {
        "id": "yZ_9NCG49Znc"
      }
    },
    {
      "cell_type": "markdown",
      "source": [
        "<h3>Task 20</h3>\n",
        "\n",
        "**Fizz buzz** is a group word game for children to teach them about division. Players take turns to count incrementally, replacing any number divisible by three with the word \"fizz\", and any number divisible by five with the word \"buzz\", and any number divisible by both 3 and 5 with the word \"fizzbuzz\".\n",
        "```\n",
        "1, 2, Fizz, 4, Buzz, Fizz, 7, 8, Fizz, Buzz, 11, Fizz, 13, 14, FizzBuzz, 16, 17, Fizz, 19, Buzz,\n",
        "Fizz, 22, 23, Fizz, Buzz, 26, Fizz, 28, 29, FizzBuzz, 31, 32, Fizz, 34, Buzz, Fizz, ...\n",
        "```\n",
        "\n",
        "Write a Python program to print first 100 fizzbuzz numbers."
      ],
      "metadata": {
        "id": "avdhEKA6UDZL"
      }
    },
    {
      "cell_type": "code",
      "source": [
        "for num in range(1, 101):\n",
        "  if num % 3 == 0 and num % 5 == 0:\n",
        "    print(\"FizzBuzz\")\n",
        "  elif num % 5 == 0:\n",
        "      print(\"Buzz\")\n",
        "  elif num % 3 == 0:\n",
        "      print(\"Fizz\")\n",
        "  else:\n",
        "      print(num)"
      ],
      "metadata": {
        "id": "trNN5vsu-v2c"
      },
      "execution_count": null,
      "outputs": []
    },
    {
      "cell_type": "code",
      "source": [
        "for i in range(1, 101):\n",
        "  if i % 3 == 0:\n",
        "    if i % 5 == 0:\n",
        "      print(\"FizzBuzz\")\n",
        "    else:\n",
        "      print(\"Fizz\")\n",
        "  elif i % 5 == 0:\n",
        "    print(\"Buzz\")\n",
        "  else:\n",
        "    print(i)"
      ],
      "metadata": {
        "id": "bXYD4ct-As1l"
      },
      "execution_count": null,
      "outputs": []
    },
    {
      "cell_type": "markdown",
      "source": [
        "Kutu kutu pense vize sorusu.\n",
        "\n",
        "Yağ satarım bal satarım vize sorusu."
      ],
      "metadata": {
        "id": "Bc5Oru4-CCyT"
      }
    }
  ]
}