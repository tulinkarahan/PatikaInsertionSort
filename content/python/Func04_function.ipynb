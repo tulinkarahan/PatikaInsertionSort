{
  "nbformat": 4,
  "nbformat_minor": 0,
  "metadata": {
    "colab": {
      "private_outputs": true,
      "provenance": [],
      "include_colab_link": true
    },
    "kernelspec": {
      "name": "python3",
      "display_name": "Python 3"
    },
    "language_info": {
      "name": "python"
    }
  },
  "cells": [
    {
      "cell_type": "markdown",
      "metadata": {
        "id": "view-in-github",
        "colab_type": "text"
      },
      "source": [
        "<a href=\"https://colab.research.google.com/github/tulinkarahan/PatikaInsertionSort/blob/main/content/python/Func04_function.ipynb\" target=\"_parent\"><img src=\"https://colab.research.google.com/assets/colab-badge.svg\" alt=\"Open In Colab\"/></a>"
      ]
    },
    {
      "cell_type": "markdown",
      "source": [
        "<table width=\"100%\">\n",
        "    <tr style=\"\">\n",
        "        <th style=\"text-align:left; padding:0px\" width=\"5%\">\n",
        "            <a href=\"https://www.marmara.edu.tr\" target=\"_blank\">\n",
        "                <img src=\"https://raw.githubusercontent.com/MU-Physics-Department/logos/master/mu_logo.png\">\n",
        "            </a>\n",
        "        </th>\n",
        "        <th style=\"padding:0px;\" width=\"35%\">\n",
        "            <img align=\"right\" src=\"https://raw.githubusercontent.com/MU-Physics-Department/logos/master/name.png\">\n",
        "        </th>\n",
        "        <th  width=\"20%\">\n",
        "            &nbsp;\n",
        "        </th>\n",
        "        <th style=\"padding:0px\" width=\"5%\">\n",
        "            <a href=\"https://www.sababozpolat.com\" target=\"_blank\" padding=\"0px\">\n",
        "                <img align=\"center\" src=\"https://raw.githubusercontent.com/MU-Physics-Department/logos/master/hp.png\">\n",
        "            </a>\n",
        "        </th>\n",
        "        <th style=\"padding:0px\" width=\"5%\">\n",
        "            <a href=\"mailto:saba.bozpolat@gmail.com\" target=\"_blank\">\n",
        "                <img align=\"center\" src=\"https://raw.githubusercontent.com/MU-Physics-Department/logos/master/email.png\">\n",
        "            </a>\n",
        "        </th>\n",
        "        <th style=\"padding:0px;\" width=\"5%\">\n",
        "            <a href=\"https://www.linkedin.com/in/saba-bozpolat-644856152/\" target=\"_blank\">\n",
        "                <img align=\"right\" src=\"https://raw.githubusercontent.com/MU-Physics-Department/logos/master/in.png\">\n",
        "            </a>\n",
        "        </th>\n",
        "        <th style=\"padding:0px;\" width=\"5%\">\n",
        "            <a href=\"https://scholar.google.com.tr/citations?user=nSiJoMYAAAAJ&hl=en\" target=\"_blank\">\n",
        "                <img align=\"right\" src=\"https://raw.githubusercontent.com/MU-Physics-Department/logos/master/GS.png\">\n",
        "            </a>\n",
        "        </th>\n",
        "        <th style=\"padding:0px;\" width=\"5%\">\n",
        "            <a href=\"https://www.researchgate.net/profile/Saba-Bozpolat\" target=\"_blank\">\n",
        "                <img align=\"right\" src=\"https://raw.githubusercontent.com/MU-Physics-Department/logos/master/RG.png\">\n",
        "            </a>\n",
        "        </th>\n",
        "        <th style=\"padding:0px\" width=\"5%\">\n",
        "            <a href=\"https://www.youtube.com/channel/UC8-uOZud6UL7oCOE2UUBunA\" target=\"_blank\">\n",
        "                <img align=\"right\" src=\"https://raw.githubusercontent.com/MU-Physics-Department/logos/master/YT.png\">\n",
        "            </a>\n",
        "        </th>\n",
        "        <th style=\"padding:0px;\" width=\"5%\">\n",
        "            <a href=\"https://github.com/sbbzplt\" target=\"_blank\">\n",
        "                <img align=\"right\" src=\"https://raw.githubusercontent.com/MU-Physics-Department/logos/master/GH.png\">\n",
        "            </a>\n",
        "        </th>\n",
        "        <th style=\"padding:0px;\" width=\"5%\">\n",
        "            <a href=\"https://join.slack.com/t/mu-fzk/shared_invite/zt-13jtd6dtd-g9zD5P4Zu0m5P0Gt2PNReQ\"\n",
        "               target=\"_blank\">\n",
        "                <img align=\"right\" src=\"https://raw.githubusercontent.com/MU-Physics-Department/logos/master/slack.png\">\n",
        "            </a>\n",
        "        </th>\n",
        "    </tr>\n",
        "</table>\n",
        "<table width=\"100%\">\n",
        "    <tr style=\"background-color:white;\">\n",
        "        <!-- <td style=\"text-align-left;padding:0px;\" width=\"10%\">\n",
        "            <a href=\"https://fef.marmara.edu.tr\"\n",
        "               target=\"_blank\">\n",
        "                <img align=\"right\" src=\"https://raw.githubusercontent.com/MU-Physics-Department/logos/master/fef.png\">\n",
        "            </a>\n",
        "        </td> -->\n",
        "        <td style=\"padding:0px\" width=\"25%\">\n",
        "            <a href=\"http://fzk.fen.marmara.edu.tr\"\n",
        "               target=\"_blank\">\n",
        "                <img align=\"right\" src=\"https://raw.githubusercontent.com/MU-Physics-Department/logos/master/fzk.png\">\n",
        "            </a>\n",
        "        </td>\n",
        "        <td width=\"10%\">\n",
        "            &nbsp;\n",
        "        </td>\n",
        "        <td style=\"padding:0px;\" width=\"65%\">\n",
        "            <a href=\"https://www.sababozpolat.com/lectures/scientific-programming\"\n",
        "               target=\"_blank\">\n",
        "                <img align=\"right\" src=\"https://raw.githubusercontent.com/MU-Physics-Department/logos/master/comp2083.png\">\n",
        "            </a>\n",
        "        </td>\n",
        "    </tr>\n",
        "</table>"
      ],
      "metadata": {
        "id": "xsiB2OVMcazu"
      }
    },
    {
      "cell_type": "markdown",
      "source": [
        "# Function"
      ],
      "metadata": {
        "id": "pMMcblcglhYw"
      }
    },
    {
      "cell_type": "markdown",
      "source": [
        "A function is simply a “chunk” of code that you can use over and over again, rather than writing it out multiple times. Functions enable programmers to break down or decompose a problem into smaller chunks, each of which performs a particular task. Its another name is subroutine.\n",
        "\n",
        "A function (or a subroutine) collects a sequence of program instructions that performs a specific task and packages them as a unit. This unit can then be used in programs wherever that particular task should be performed. A function consists of 3 different parts:\n",
        "\n",
        " - **input**: The variables which goes into the function.\n",
        " - **body**: The content of a function is its body, which is the piece of program code that is executed when the function is called or invoked.\n",
        " - **output**: The values which comes out of the function.\n",
        "<br>\n",
        "<p align=\"center\">\n",
        "<img width=60% src=\"https://github.com/MU-Physics-Department/logos/blob/master/for_comp2083/function.png?raw=true\">\n",
        "</p>\n"
      ],
      "metadata": {
        "id": "jDHDS3jiLnZi"
      }
    },
    {
      "cell_type": "markdown",
      "source": [
        "## Definition of a function"
      ],
      "metadata": {
        "id": "klWO5cbRZo8l"
      }
    },
    {
      "cell_type": "markdown",
      "source": [
        "Before using a function, you need to define it. In Python programming language, a simple function is define by using ``def`` command. Also, you should use ``return`` command to specify ouputs of the function. Otherwise it returns ``None``.\n",
        "\n",
        "```python\n",
        "def _my_function_(_inputs_):\n",
        "    instruction\n",
        "    return _outputs_\n",
        "\n",
        "```\n",
        "\n",
        "In this example, ``_my_function_`` is the name of the function and it is used to call or invoke the function when needed.\n",
        "\n"
      ],
      "metadata": {
        "id": "SMtJigUgZnqH"
      }
    },
    {
      "cell_type": "markdown",
      "source": [
        "<h3>Task 1</h3>\n",
        "\n",
        "Write a function for given directives below.\n",
        "\n",
        " - name: factorial\n",
        " - input: x: int\n",
        " - body:\n",
        "    - check if x is zero or negative.\n",
        "      - If so, your result is ``None``.\n",
        "      - If not, your result is factorial of x.\n",
        " - output: result: None or int"
      ],
      "metadata": {
        "id": "R5pN71N_V1B6"
      }
    },
    {
      "cell_type": "markdown",
      "source": [
        "Yoğurt makinesini prize takmadan çalıştıramazsın. Yani elimizde fonksiyon var ama çalıştırmadık."
      ],
      "metadata": {
        "id": "Reb3KoA3QWuM"
      }
    },
    {
      "cell_type": "code",
      "source": [
        "def factorial(x):\n",
        "  if x <= 0:\n",
        "    result = None\n",
        "  elif x == 0:\n",
        "    result = 1\n",
        "  else:\n",
        "    result = 1\n",
        "    for i in range(1, x+1):\n",
        "      result *= i\n",
        "  return result\n",
        "\n",
        "\n",
        "\n"
      ],
      "metadata": {
        "id": "YUa92PMGYz_3"
      },
      "execution_count": null,
      "outputs": []
    },
    {
      "cell_type": "markdown",
      "source": [
        "## Using the function in code"
      ],
      "metadata": {
        "id": "geDUmtX1V1ZO"
      }
    },
    {
      "cell_type": "markdown",
      "source": [
        "After defining a function, you may use it wherever necessary via calling it by its name. This resembles to and turn the yoghurt machine on. If you don't turn it on, then the machine won't prepare the yoghurt.\n",
        "\n",
        "<br>\n",
        "<p align=\"center\">\n",
        "<img width=50% src=\"https://github.com/MU-Physics-Department/logos/blob/master/for_comp2083/call_function.png?raw=true\">\n",
        "</p>\n",
        "\n",
        "```python\n",
        ">>> # definition of function\n",
        ">>> def summation(x, y):\n",
        ">>>     z = x + y\n",
        ">>>     return z\n",
        ">>>\n",
        ">>> # call of function\n",
        ">>> a = 3\n",
        ">>> b = 8\n",
        ">>> c = summation(a, b)  # here, we call the function by writing its name in the code.\n",
        ">>> print(c)\n",
        "11\n",
        "\n",
        "```"
      ],
      "metadata": {
        "id": "v1dXtd4AZu3d"
      }
    },
    {
      "cell_type": "markdown",
      "source": [
        "<h3>Task 2</h3>\n",
        "\n",
        "Write a function for given directives below.\n",
        "\n",
        " - name: k_combination\n",
        " - input: n: int, k: int\n",
        " - body:\n",
        "    - check if n is equal to k.\n",
        "      - If so, result is 1.\n",
        "    - check if n is greater than k.\n",
        "      - If so, result is k combination of n.\n",
        "\n",
        "        <p align=\"center\">\n",
        "        <img src=\"https://latex.codecogs.com/svg.image?&space;\\binom{n}{k}&space;=&space;\\frac{n!}{k!(n-k)!}\"/>\n",
        "        </p>\n",
        "\n",
        "    - For other values, there is not any valid results, therefore result is ``None``.\n",
        "\n",
        "- output: result: int or ``None``.\n",
        "\n",
        "Then calculate and print 3-combinations of 5."
      ],
      "metadata": {
        "id": "V1olxtIIbXFo"
      }
    },
    {
      "cell_type": "code",
      "source": [
        "def k_combination(n, k):\n",
        "  if n == k:\n",
        "       result = 1\n",
        "  elif n > k:\n",
        "      n_fact = factorial(n)\n",
        "      k_fact = factorial(k)\n",
        "      n_m_k_fact = factorial(n-k)\n",
        "      result = n_fact / k_fact / n_m_k_fact\n",
        "  else:\n",
        "       result = None\n",
        "  return result\n",
        "\n",
        "a = k_combination(5, 3)\n",
        "print(a)\n",
        "\n",
        ""
      ],
      "metadata": {
        "id": "M3z9HBJpbaf9"
      },
      "execution_count": null,
      "outputs": []
    },
    {
      "cell_type": "markdown",
      "source": [
        "You may call one function from another. k-combination of an integer, n can also be defined by k-permutation of itself.\n",
        "\n",
        "<p align=\"center\">\n",
        "<img src=\"https://latex.codecogs.com/svg.image?\\binom{n}{k}&space;=&space;\\frac{^nP_k}{k!},\\qquad^nP_k&space;=&space;\\frac{n!}{(n-k)!}\"/>\n",
        "</p>\n",
        "\n",
        "```python\n",
        ">>> def k_permutation(n, k):\n",
        ">>>     n_fact = factorial(n)\n",
        ">>>     nmk_fact = factorial(n - k)\n",
        ">>>     result = n_fact / nmk_fact\n",
        ">>>     return result\n",
        ">>>\n",
        ">>>\n",
        ">>> def k_combination(n, k):\n",
        ">>>     perm = k_permutation(n, k)\n",
        ">>>     k_fact = factorial(k)\n",
        ">>>     result = perm / k_fact\n",
        ">>>     return result\n",
        ">>>\n",
        ">>>\n",
        "```"
      ],
      "metadata": {
        "id": "cqMvhLCS3xXZ"
      }
    },
    {
      "cell_type": "markdown",
      "source": [
        "<h3>Task 3: Laguerre Polynomials</h3>\n",
        "\n",
        "Laguerre polynomials are the solution set of Laguerre differential equation which has many applications in Quantum Physics. Its definition is as follows,\n",
        "\n",
        "<p align=\"center\">\n",
        "<img src=\"https://latex.codecogs.com/svg.image?L_n(x)&space;=&space;\\sum_{k=0}^n\\binom{n}{k}\\frac{(-1)^k}{k!}x^k\"/>\n",
        "</p>\n",
        "\n",
        "Write a function for Laguerre polynomials. You should use other functions you've written in previous tasks.\n",
        "\n",
        " - name: Laguerre_polynomial\n",
        " - input: n: int, x: float\n",
        " - body: construct an algorithm for given formula and write its code to obtain the result.\n",
        " - output: result: float\n",
        "\n",
        "Then calculate and print $L_2(\\pi)$ and $L_3(7)$."
      ],
      "metadata": {
        "id": "SbjrqUKM6nA3"
      }
    },
    {
      "cell_type": "code",
      "source": [
        "def Laguerre_polynomial(n, x):\n",
        "  my_list = []\n",
        "  for k in range(0, n+1):\n",
        "      n_k_comb = k_combination(n, k)\n",
        "      a = n_k_comb * (-1) ** k * x ** k / k_fact\n",
        "      my_list.append(a)\n",
        "  result = sum(my_list)\n",
        "  return result\n",
        "\n"
      ],
      "metadata": {
        "id": "rAAbusr43xue"
      },
      "execution_count": null,
      "outputs": []
    },
    {
      "cell_type": "code",
      "source": [
        "def Laguerre_polynomial(n, x):\n",
        "  for k in range(0, n+1):\n",
        "      n_k_comb = k_combination(n, k)\n",
        "      k_fact = factorial(k)\n",
        "      a = n_k_comb * (-1) ** k * x ** k / k_fact\n",
        "      result += a\n",
        "  return result\n"
      ],
      "metadata": {
        "id": "Lj9ir2NZgn17"
      },
      "execution_count": null,
      "outputs": []
    },
    {
      "cell_type": "markdown",
      "source": [
        "Bu tarz bi soru vizede gelebilir ama aynısını sormaz başka antin kuntin bilmen ne polinomu sorarmış."
      ],
      "metadata": {
        "id": "st0gjbFKkUX5"
      }
    },
    {
      "cell_type": "markdown",
      "source": [
        "<h3>Task 4: Legendre Polynomials</h3>\n",
        "\n",
        "Legendre polynomials are the solution set of Legendre differential equation which has many applications in Quantum Physics. Its definition is as follows,\n",
        "\n",
        "<!-- <p align=\"center\">\n",
        "<img src=\"https://latex.codecogs.com/svg.image?L_n(x)&space;=&space;\\sum_{k=0}^n\\binom{n}{k}\\frac{(-1)^k}{k!}x^k\"/>\n",
        "</p> -->\n",
        "\n",
        "$$\n",
        "P_n(x) = \\frac{1}{2^n}\\sum_{k=0}^n\\left(\\begin{array}an\\\\k\\end{array}\\right)^2(x-1)^{n-k}(x+1)^k\n",
        "$$\n",
        "\n",
        "Write a function for Legendre polynomials. You should use other functions you've written in previous tasks.\n",
        "\n",
        " - name: Legendre_polynomial\n",
        " - input: n: int, x: float\n",
        " - body: construct an algorithm for the given formula and write its code to obtain the result.\n",
        " - output: result: float\n",
        "\n",
        "Then calculate and print $P_2(\\pi)$ and $P_3(7)$."
      ],
      "metadata": {
        "id": "Y6c-AzolkNia"
      }
    },
    {
      "cell_type": "code",
      "source": [
        "\n",
        "def Legendre_polynomial(n, x):\n",
        "  my_list = []\n",
        "  for k in range(n+1):\n",
        "    n_k_comb = k_combination(n, k)\n",
        "    elem = n_k_comb ** 2 * (x-1) ** (n-k) * (x+1) ** k\n",
        "    my_list.append(elem)\n",
        "  result = sum(my_list) / 2 ** n\n",
        "  return result\n",
        "\n",
        "first_calc = Legendre_polynomial(2, 3.14)\n",
        "print(first_calc)\n",
        "second_calc = Legendre_polynomial(3, 7)\n",
        "print(second_calc)\n"
      ],
      "metadata": {
        "id": "_xImPdJlkRwa"
      },
      "execution_count": null,
      "outputs": []
    }
  ]
}