{
  "nbformat": 4,
  "nbformat_minor": 0,
  "metadata": {
    "colab": {
      "private_outputs": true,
      "provenance": [],
      "include_colab_link": true
    },
    "kernelspec": {
      "name": "python3",
      "display_name": "Python 3"
    },
    "language_info": {
      "name": "python"
    }
  },
  "cells": [
    {
      "cell_type": "markdown",
      "metadata": {
        "id": "view-in-github",
        "colab_type": "text"
      },
      "source": [
        "<a href=\"https://colab.research.google.com/github/tulinkarahan/PatikaInsertionSort/blob/main/content/python/Operator28_membership_and_identity_operators.ipynb\" target=\"_parent\"><img src=\"https://colab.research.google.com/assets/colab-badge.svg\" alt=\"Open In Colab\"/></a>"
      ]
    },
    {
      "cell_type": "markdown",
      "source": [
        "<table width=\"100%\">\n",
        "    <tr style=\"\">\n",
        "        <th style=\"text-align:left; padding:0px\" width=\"5%\">\n",
        "            <a href=\"https://www.marmara.edu.tr\" target=\"_blank\">\n",
        "                <img src=\"https://raw.githubusercontent.com/MU-Physics-Department/logos/master/mu_logo.png\">\n",
        "            </a>\n",
        "        </th>\n",
        "        <th style=\"padding:0px;\" width=\"35%\">\n",
        "            <img align=\"right\" src=\"https://raw.githubusercontent.com/MU-Physics-Department/logos/master/name.png\">\n",
        "        </th>\n",
        "        <th  width=\"20%\">\n",
        "            &nbsp;\n",
        "        </th>\n",
        "        <th style=\"padding:0px\" width=\"5%\">\n",
        "            <a href=\"https://www.sababozpolat.com\" target=\"_blank\" padding=\"0px\">\n",
        "                <img align=\"center\" src=\"https://raw.githubusercontent.com/MU-Physics-Department/logos/master/hp.png\">\n",
        "            </a>\n",
        "        </th>\n",
        "        <th style=\"padding:0px\" width=\"5%\">\n",
        "            <a href=\"mailto:saba.bozpolat@gmail.com\" target=\"_blank\">\n",
        "                <img align=\"center\" src=\"https://raw.githubusercontent.com/MU-Physics-Department/logos/master/email.png\">\n",
        "            </a>\n",
        "        </th>\n",
        "        <th style=\"padding:0px;\" width=\"5%\">\n",
        "            <a href=\"https://www.linkedin.com/in/saba-bozpolat-644856152/\" target=\"_blank\">\n",
        "                <img align=\"right\" src=\"https://raw.githubusercontent.com/MU-Physics-Department/logos/master/in.png\">\n",
        "            </a>\n",
        "        </th>\n",
        "        <th style=\"padding:0px;\" width=\"5%\">\n",
        "            <a href=\"https://scholar.google.com.tr/citations?user=nSiJoMYAAAAJ&hl=en\" target=\"_blank\">\n",
        "                <img align=\"right\" src=\"https://raw.githubusercontent.com/MU-Physics-Department/logos/master/GS.png\">\n",
        "            </a>\n",
        "        </th>\n",
        "        <th style=\"padding:0px;\" width=\"5%\">\n",
        "            <a href=\"https://www.researchgate.net/profile/Saba-Bozpolat\" target=\"_blank\">\n",
        "                <img align=\"right\" src=\"https://raw.githubusercontent.com/MU-Physics-Department/logos/master/RG.png\">\n",
        "            </a>\n",
        "        </th>\n",
        "        <th style=\"padding:0px\" width=\"5%\">\n",
        "            <a href=\"https://www.youtube.com/channel/UC8-uOZud6UL7oCOE2UUBunA\" target=\"_blank\">\n",
        "                <img align=\"right\" src=\"https://raw.githubusercontent.com/MU-Physics-Department/logos/master/YT.png\">\n",
        "            </a>\n",
        "        </th>\n",
        "        <th style=\"padding:0px;\" width=\"5%\">\n",
        "            <a href=\"https://github.com/sbbzplt\" target=\"_blank\">\n",
        "                <img align=\"right\" src=\"https://raw.githubusercontent.com/MU-Physics-Department/logos/master/GH.png\">\n",
        "            </a>\n",
        "        </th>\n",
        "        <th style=\"padding:0px;\" width=\"5%\">\n",
        "            <a href=\"https://join.slack.com/t/mu-fzk/shared_invite/zt-13jtd6dtd-g9zD5P4Zu0m5P0Gt2PNReQ\"\n",
        "               target=\"_blank\">\n",
        "                <img align=\"right\" src=\"https://raw.githubusercontent.com/MU-Physics-Department/logos/master/slack.png\">\n",
        "            </a>\n",
        "        </th>\n",
        "    </tr>\n",
        "</table>\n",
        "<table width=\"100%\">\n",
        "    <tr style=\"background-color:white;\">\n",
        "        <!-- <td style=\"text-align-left;padding:0px;\" width=\"10%\">\n",
        "            <a href=\"https://fef.marmara.edu.tr\"\n",
        "               target=\"_blank\">\n",
        "                <img align=\"right\" src=\"https://raw.githubusercontent.com/MU-Physics-Department/logos/master/fef.png\">\n",
        "            </a>\n",
        "        </td> -->\n",
        "        <td style=\"padding:0px\" width=\"25%\">\n",
        "            <a href=\"http://fzk.fen.marmara.edu.tr\"\n",
        "               target=\"_blank\">\n",
        "                <img align=\"right\" src=\"https://raw.githubusercontent.com/MU-Physics-Department/logos/master/fzk.png\">\n",
        "            </a>\n",
        "        </td>\n",
        "        <td width=\"10%\">\n",
        "            &nbsp;\n",
        "        </td>\n",
        "        <td style=\"padding:0px;\" width=\"65%\">\n",
        "            <a href=\"https://www.sababozpolat.com/lectures/scientific-programming\"\n",
        "               target=\"_blank\">\n",
        "                <img align=\"right\" src=\"https://raw.githubusercontent.com/MU-Physics-Department/logos/master/comp2083.png\">\n",
        "            </a>\n",
        "        </td>\n",
        "    </tr>\n",
        "</table>"
      ],
      "metadata": {
        "id": "xsiB2OVMcazu"
      }
    },
    {
      "cell_type": "markdown",
      "source": [
        "# Membership Operators"
      ],
      "metadata": {
        "id": "pMMcblcglhYw"
      }
    },
    {
      "cell_type": "markdown",
      "source": [
        "Python’s membership operators test for membership in a sequence, such as strings, lists, or tuples."
      ],
      "metadata": {
        "id": "etNa6iGf5Of8"
      }
    },
    {
      "cell_type": "markdown",
      "source": [
        "## ```in``` Operator"
      ],
      "metadata": {
        "id": "cp1Un1EW5Qb0"
      }
    },
    {
      "cell_type": "markdown",
      "source": [
        "Evaluates to true if it finds a variable in the specified sequence and false otherwise.\n",
        "\n",
        "```python\n",
        ">>> my_list = [1, \"b\", 2, 3, \"a\", \"c\"]\n",
        ">>> print(\"a\" in my_list)\n",
        "True\n",
        ">>> print(4 in my_list)\n",
        "False\n",
        "```"
      ],
      "metadata": {
        "id": "B7YBj_Fd5Qpy"
      }
    },
    {
      "cell_type": "markdown",
      "source": [
        "<h3>Task 1</h3>\n",
        "\n",
        "Given the containers below, check and print following questions.\n",
        " - Is there an ``\"a\"`` in ``my_str``?\n",
        " - Is there a ``\"t\"`` in ``my_str``?\n",
        " - Is there an ``\"A\"`` in ``my_str``?\n",
        " - Is there a ``\"T\"`` in ``my_str``?\n"
      ],
      "metadata": {
        "id": "LwjWDvyF5Q2U"
      }
    },
    {
      "cell_type": "code",
      "source": [
        "my_str = \"The boy who lived\"\n",
        "\n",
        "print(\"a\" in my_str)\n",
        "\n",
        "print(\"t\" in my_str)\n",
        "\n",
        "print(\"A\" in my_str)\n",
        "\n",
        "print(\"T\" in my_str)\n",
        "\n",
        "\n"
      ],
      "metadata": {
        "id": "8BFrbJJC5RCW"
      },
      "execution_count": null,
      "outputs": []
    },
    {
      "cell_type": "markdown",
      "source": [
        "## ```not in``` Operator"
      ],
      "metadata": {
        "id": "9_SQbzru5RSC"
      }
    },
    {
      "cell_type": "markdown",
      "source": [
        "Evaluates to true if it does not finds a variable in the specified sequence and false otherwise.\n",
        "\n",
        "```python\n",
        ">>> my_tuple = (2, \"abc\", 4, 6, \"1\")\n",
        ">>> print(1 not in my_tuple)\n",
        "True\n",
        ">>> print(\"1\" not in my_tuple)\n",
        "False\n",
        "```"
      ],
      "metadata": {
        "id": "JkhCnlTZ5Rcg"
      }
    },
    {
      "cell_type": "markdown",
      "source": [
        "<h3>Task 2</h3>\n",
        "\n",
        "Given the containers below, check and print following questions.\n",
        " - Isn't there an ``\"a\"`` in ``my_str``?\n",
        " - Isn't there a ``\"t\"`` in ``my_str``?\n",
        " - Isn't there an ``\"A\"`` in ``my_str``?\n",
        " - Isn't there a ``\"T\"`` in ``my_str``?\n"
      ],
      "metadata": {
        "id": "_5HJzKme5Rne"
      }
    },
    {
      "cell_type": "code",
      "source": [
        "my_str = \"The boy who lived\"\n",
        "\n",
        "print(\"a\" not in my_str)\n",
        "\n",
        "print(\"t\" not in my_str)\n",
        "\n",
        "print(\"A\" not in my_str)\n",
        "\n",
        "print(\"T\" not in my_str)"
      ],
      "metadata": {
        "id": "FYB7ZUgg5RyH"
      },
      "execution_count": null,
      "outputs": []
    },
    {
      "cell_type": "markdown",
      "source": [
        "# Identity Operators"
      ],
      "metadata": {
        "id": "CYve9lB4osCo"
      }
    },
    {
      "cell_type": "markdown",
      "source": [
        "## ```is``` Operator"
      ],
      "metadata": {
        "id": "hBfcC-Ja5bhC"
      }
    },
    {
      "cell_type": "markdown",
      "source": [
        "Evaluates to true if the variables on either side of the operator point to the same object and false otherwise.\n",
        "\n",
        "```python\n",
        ">>> a, b = 3, 3\n",
        ">>> print(a is b)\n",
        "True\n",
        "```\n",
        "\n",
        "The difference between the ``is`` and ``==``, ``!=`` operators is that ``==`` and ``!=`` only check whether the operands are numerically equal to each other, while the ``is`` operator also checks the types.\n",
        "```python\n",
        ">>> c, d = 1, 1.0\n",
        ">>> print(c == d)\n",
        "True\n",
        ">>> print(c != d)\n",
        "False\n",
        ">>> print(c is d)\n",
        "False\n",
        "```\n"
      ],
      "metadata": {
        "id": "xgAjOe5S5bqp"
      }
    },
    {
      "cell_type": "markdown",
      "source": [
        "= olunca eşit midir\n",
        "is olunca bu bu mudur."
      ],
      "metadata": {
        "id": "DemG8S5xVi7l"
      }
    },
    {
      "cell_type": "markdown",
      "source": [
        "<h3>Task 3</h3>\n",
        "\n",
        "Given the variables below, check and print following questions.\n",
        " - Is ``x``, ``y``?\n",
        " - Is ``x``, ``z``?\n",
        " - Is ``x`` equal to ``y``?\n",
        " - Is ``x`` equal to ``z``?\n",
        " - Isn't ``x`` equal to ``y``?\n",
        " - Isn't ``x`` equal to ``z``?\n"
      ],
      "metadata": {
        "id": "4rohs4Zc5bzy"
      }
    },
    {
      "cell_type": "code",
      "source": [
        "x, y, z = 1, 1, 1.\n",
        "\n",
        "print(x is y)\n",
        "print(x is z)\n",
        "print(x == y)\n",
        "print(x == z)\n",
        "print(x != y)\n",
        "print(x != z)\n",
        "\n"
      ],
      "metadata": {
        "id": "82JclrR_5b8u"
      },
      "execution_count": null,
      "outputs": []
    },
    {
      "cell_type": "markdown",
      "source": [
        "## ```is not``` Operator"
      ],
      "metadata": {
        "id": "VcL5Fl8j5cGU"
      }
    },
    {
      "cell_type": "markdown",
      "source": [
        "Evaluates to false if the variables on either side of the operator point to the same object and true otherwise.\n",
        "\n",
        "```python\n",
        ">>> a, b = 2, 3\n",
        ">>> print(a is not b)\n",
        "True\n",
        "```\n",
        "The difference between the ``is not`` and ``==``, ``!=`` operators is that ``==`` and ``!=`` only check whether the operands are numerically equal to each other, while the ``is not`` operator also checks the types.\n",
        "\n",
        "```python\n",
        ">>> c, d = 1, 1.0\n",
        ">>> print(c == d)\n",
        "True\n",
        ">>> print(c != d)\n",
        "False\n",
        ">>> print(c is not d)\n",
        "True\n",
        "```"
      ],
      "metadata": {
        "id": "M9gva04C5cPo"
      }
    },
    {
      "cell_type": "markdown",
      "source": [
        "<h3>Task 4</h3>\n",
        "\n",
        "Given the variables below, check and print following questions.\n",
        " - Isn't ``x``, ``y``?\n",
        " - Isn't ``x``, ``z``?\n",
        " - Is ``x`` equal to ``y``?\n",
        " - Is ``x`` equal to ``z``?\n",
        " - Isn't ``x`` equal to ``y``?\n",
        " - Isn't ``x`` equal to ``z``?"
      ],
      "metadata": {
        "id": "0Cx5vARL5cjW"
      }
    },
    {
      "cell_type": "code",
      "source": [
        "x, y, z = 1, 1, 1.\n",
        "\n",
        "print(x is not y)\n",
        "print(x is not z)\n",
        "print(x == y)\n",
        "print(x == z)\n",
        "print(x != y)\n",
        "print(x != z)"
      ],
      "metadata": {
        "id": "t6M1avRk5ctp"
      },
      "execution_count": null,
      "outputs": []
    }
  ]
}