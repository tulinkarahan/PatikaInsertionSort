{
  "cells": [
    {
      "cell_type": "markdown",
      "metadata": {
        "id": "view-in-github",
        "colab_type": "text"
      },
      "source": [
        "<a href=\"https://colab.research.google.com/github/tulinkarahan/PatikaInsertionSort/blob/main/content/python/Container12_tuple.ipynb\" target=\"_parent\"><img src=\"https://colab.research.google.com/assets/colab-badge.svg\" alt=\"Open In Colab\"/></a>"
      ]
    },
    {
      "cell_type": "markdown",
      "metadata": {
        "id": "WI1Fx-zexJ44"
      },
      "source": [
        "<table width=\"100%\">\n",
        "    <tr style=\"\">\n",
        "        <th style=\"text-align:left; padding:0px\" width=\"5%\">\n",
        "            <a href=\"https://www.marmara.edu.tr\" target=\"_blank\">\n",
        "                <img src=\"https://raw.githubusercontent.com/MU-Physics-Department/logos/master/mu_logo.png\">\n",
        "            </a>\n",
        "        </th>\n",
        "        <th style=\"padding:0px;\" width=\"35%\">\n",
        "            <img align=\"right\" src=\"https://raw.githubusercontent.com/MU-Physics-Department/logos/master/name.png\">\n",
        "        </th>\n",
        "        <th  width=\"20%\">\n",
        "            &nbsp;\n",
        "        </th>\n",
        "        <th style=\"padding:0px\" width=\"5%\">\n",
        "            <a href=\"https://www.sababozpolat.com\" target=\"_blank\" padding=\"0px\">\n",
        "                <img align=\"center\" src=\"https://raw.githubusercontent.com/MU-Physics-Department/logos/master/hp.png\">\n",
        "            </a>\n",
        "        </th>\n",
        "        <th style=\"padding:0px\" width=\"5%\">\n",
        "            <a href=\"mailto:saba.bozpolat@gmail.com\" target=\"_blank\">\n",
        "                <img align=\"center\" src=\"https://raw.githubusercontent.com/MU-Physics-Department/logos/master/email.png\">\n",
        "            </a>\n",
        "        </th>\n",
        "        <th style=\"padding:0px;\" width=\"5%\">\n",
        "            <a href=\"https://www.linkedin.com/in/saba-bozpolat-644856152/\" target=\"_blank\">\n",
        "                <img align=\"right\" src=\"https://raw.githubusercontent.com/MU-Physics-Department/logos/master/in.png\">\n",
        "            </a>\n",
        "        </th>\n",
        "        <th style=\"padding:0px;\" width=\"5%\">\n",
        "            <a href=\"https://scholar.google.com.tr/citations?user=nSiJoMYAAAAJ&hl=en\" target=\"_blank\">\n",
        "                <img align=\"right\" src=\"https://raw.githubusercontent.com/MU-Physics-Department/logos/master/GS.png\">\n",
        "            </a>\n",
        "        </th>\n",
        "        <th style=\"padding:0px;\" width=\"5%\">\n",
        "            <a href=\"https://www.researchgate.net/profile/Saba-Bozpolat\" target=\"_blank\">\n",
        "                <img align=\"right\" src=\"https://raw.githubusercontent.com/MU-Physics-Department/logos/master/RG.png\">\n",
        "            </a>\n",
        "        </th>\n",
        "        <th style=\"padding:0px\" width=\"5%\">\n",
        "            <a href=\"https://www.youtube.com/channel/UC8-uOZud6UL7oCOE2UUBunA\" target=\"_blank\">\n",
        "                <img align=\"right\" src=\"https://raw.githubusercontent.com/MU-Physics-Department/logos/master/YT.png\">\n",
        "            </a>\n",
        "        </th>\n",
        "        <th style=\"padding:0px;\" width=\"5%\">\n",
        "            <a href=\"https://github.com/sbbzplt\" target=\"_blank\">\n",
        "                <img align=\"right\" src=\"https://raw.githubusercontent.com/MU-Physics-Department/logos/master/GH.png\">\n",
        "            </a>\n",
        "        </th>\n",
        "        <th style=\"padding:0px;\" width=\"5%\">\n",
        "            <a href=\"https://join.slack.com/t/mu-fzk/shared_invite/zt-13jtd6dtd-g9zD5P4Zu0m5P0Gt2PNReQ\"\n",
        "               target=\"_blank\">\n",
        "                <img align=\"right\" src=\"https://raw.githubusercontent.com/MU-Physics-Department/logos/master/slack.png\">\n",
        "            </a>\n",
        "        </th>\n",
        "    </tr>\n",
        "</table>\n",
        "<table width=\"100%\">\n",
        "    <tr style=\"background-color:white;\">\n",
        "        <!-- <td style=\"text-align-left;padding:0px;\" width=\"10%\">\n",
        "            <a href=\"https://fef.marmara.edu.tr\"\n",
        "               target=\"_blank\">\n",
        "                <img align=\"right\" src=\"https://raw.githubusercontent.com/MU-Physics-Department/logos/master/fef.png\">\n",
        "            </a>\n",
        "        </td> -->\n",
        "        <td style=\"padding:0px\" width=\"25%\">\n",
        "            <a href=\"http://fzk.fen.marmara.edu.tr\"\n",
        "               target=\"_blank\">\n",
        "                <img align=\"right\" src=\"https://raw.githubusercontent.com/MU-Physics-Department/logos/master/fzk.png\">\n",
        "            </a>\n",
        "        </td>\n",
        "        <td width=\"10%\">\n",
        "            &nbsp;\n",
        "        </td>\n",
        "        <td style=\"padding:0px;\" width=\"65%\">\n",
        "            <a href=\"https://www.sababozpolat.com/lectures/scientific-programming\"\n",
        "               target=\"_blank\">\n",
        "                <img align=\"right\" src=\"https://raw.githubusercontent.com/MU-Physics-Department/logos/master/comp2083.png\">\n",
        "            </a>\n",
        "        </td>\n",
        "    </tr>\n",
        "</table>"
      ]
    },
    {
      "cell_type": "markdown",
      "metadata": {
        "id": "LHr6rxoXxJ46"
      },
      "source": [
        "# Tuples"
      ]
    },
    {
      "cell_type": "markdown",
      "metadata": {
        "id": "5r6O79M3xJ47"
      },
      "source": [
        "A tuple is a collection of objects which ordered and immutable. Tuples are sequences, just like lists. The differences between tuples and lists are, the tuples cannot be changed unlike lists and tuples use parentheses, whereas lists use square brackets.\n",
        "\n",
        "Creating a tuple is as simple as putting different comma-separated values. Optionally you can put these comma-separated values between parentheses also.\n",
        "\n",
        "``` python\n",
        ">>> tup1 = \"a\", \"b\", \"c\", \"d\"\n",
        ">>> print(tup1)\n",
        "(\"a\", \"b\", \"c\", \"d\")\n",
        "```\n",
        "``` python\n",
        ">>> tup2 = (1, 2, 3, 4, 5)\n",
        ">>> print(tup2)\n",
        "(1, 2, 3, 4, 5 )\n",
        "```\n",
        "``` python\n",
        ">>> tup3 = ('physics', 'chemistry', 1997, 2000)\n",
        ">>> print(tup3)\n",
        "('physics', 'chemistry', 1997, 2000)\n",
        "```\n",
        "\n",
        "The empty tuple is written as two parentheses containing nothing.\n",
        "\n",
        "``` python\n",
        ">>> tup4 = ()\n",
        ">>> print(tup4)\n",
        "()\n",
        "```\n",
        "\n",
        "To write a tuple containing a single value you have to include a comma, even though there is only one value.\n",
        "\n",
        "``` python\n",
        ">>> tup5 = (50, )\n",
        ">>> print(tup5)\n",
        "(50, )\n",
        "```"
      ]
    },
    {
      "cell_type": "markdown",
      "source": [
        "<h3>Task 1</h3>\n",
        "\n",
        "Create a tuple of months and print it."
      ],
      "metadata": {
        "id": "ppUawQEHdKp6"
      }
    },
    {
      "cell_type": "code",
      "source": [
        "tup=(\"ocak\", \"şubat\", \"mart\", \"nisan\")\n",
        "print(tup)\n",
        "\n",
        "tup1= \"mayıs\", \"haziran\", \"temmuz\", \"ağustos\"\n",
        "print(tup1)\n",
        "\n"
      ],
      "metadata": {
        "id": "l57trlmkdK8l",
        "outputId": "9d93e09b-d239-4752-aec0-508c172fba97",
        "colab": {
          "base_uri": "https://localhost:8080/"
        }
      },
      "execution_count": 9,
      "outputs": [
        {
          "output_type": "stream",
          "name": "stdout",
          "text": [
            "('ocak', 'şubat', 'mart', 'nisan')\n",
            "('mayıs', 'haziran', 'temmuz', 'ağustos')\n"
          ]
        }
      ]
    },
    {
      "cell_type": "markdown",
      "source": [
        "## Accessing Values in Tuples\n"
      ],
      "metadata": {
        "id": "2yMVefDQwJKA"
      }
    },
    {
      "cell_type": "markdown",
      "metadata": {
        "id": "07_arWxQxJ49"
      },
      "source": [
        "\n",
        "To access values in tuple, use the square brackets for slicing along with the index or indices to obtain value available at that index.\n",
        "``` python\n",
        ">>> tup1 = ('physics', 'chemistry', 1997, 2000)\n",
        ">>> print(\"tup1[0]: \", tup1[0])\n",
        "tup1[0]:  physics\n",
        "```\n",
        "``` python\n",
        ">>> tup2 = (1, 2, 3, 4, 5, 6, 7 )\n",
        ">>> print(\"tup2[1:5]: \", tup2[1:5])\n",
        "tup2[1:5]:  (2, 3, 4, 5)\n",
        "```"
      ]
    },
    {
      "cell_type": "markdown",
      "source": [
        "<h3>Task 2</h3>\n",
        "\n",
        "Create a tuple of week days and print Wednesday from the tuple to the screen."
      ],
      "metadata": {
        "id": "i1Y8asUkd1bV"
      }
    },
    {
      "cell_type": "code",
      "source": [
        "tup_days = (\"pazartesi\", \"salı\", \"çarşamba\", \"perşembe\", \"cuma\", \"cumartesi\", \"pazar\")\n",
        "print(tup_days[2])\n"
      ],
      "metadata": {
        "id": "H9QX5L0td1lG",
        "outputId": "abd7f751-347b-4ca9-ea53-75c03b088262",
        "colab": {
          "base_uri": "https://localhost:8080/"
        }
      },
      "execution_count": 15,
      "outputs": [
        {
          "output_type": "stream",
          "name": "stdout",
          "text": [
            "çarşamba\n"
          ]
        }
      ]
    },
    {
      "cell_type": "markdown",
      "source": [
        "## Updating Tuples\n"
      ],
      "metadata": {
        "id": "G95GR-5zwXiN"
      }
    },
    {
      "cell_type": "markdown",
      "metadata": {
        "id": "KKvBRkamxJ49"
      },
      "source": [
        "\n",
        "Tuples are immutable which means you cannot update or change the values of tuple elements. You are able to take portions of existing tuples to create new tuples as the following example demonstrates.\n",
        "\n",
        "``` python\n",
        ">>> tup = (12, 34.56)\n",
        ">>> tup[0] = 100\n",
        "TypeError: 'tuple' object does not support item assignment\n",
        "```"
      ]
    },
    {
      "cell_type": "markdown",
      "source": [
        "<h3>Task 3</h3>\n",
        "\n",
        "Create a tuple with the names of ten different car brands. Do the followings:\n",
        "\n",
        " - Print the tuple.\n",
        " - Update 2nd element of the tuple with a different car brand.\n",
        " - Print the tuple, again.\n",
        "\n"
      ],
      "metadata": {
        "id": "gkhSYvcbd2Ql"
      }
    },
    {
      "cell_type": "code",
      "source": [
        "tup=(\"audi\", \"honda\", \"toyota\", \"mercedes\", \"fiat\")\n",
        "print(tup)\n",
        "tup[1]=\"porsche\"\n",
        "print(tup)"
      ],
      "metadata": {
        "id": "E_eqq7NQd2aZ",
        "outputId": "5d62437d-9bf9-48f5-ef28-ac3affd37e38",
        "colab": {
          "base_uri": "https://localhost:8080/",
          "height": 211
        }
      },
      "execution_count": 18,
      "outputs": [
        {
          "output_type": "stream",
          "name": "stdout",
          "text": [
            "('audi', 'honda', 'toyota', 'mercedes', 'fiat')\n"
          ]
        },
        {
          "output_type": "error",
          "ename": "TypeError",
          "evalue": "'tuple' object does not support item assignment",
          "traceback": [
            "\u001b[0;31m---------------------------------------------------------------------------\u001b[0m",
            "\u001b[0;31mTypeError\u001b[0m                                 Traceback (most recent call last)",
            "\u001b[0;32m<ipython-input-18-e5ba26e66aa0>\u001b[0m in \u001b[0;36m<cell line: 3>\u001b[0;34m()\u001b[0m\n\u001b[1;32m      1\u001b[0m \u001b[0mtup\u001b[0m\u001b[0;34m=\u001b[0m\u001b[0;34m(\u001b[0m\u001b[0;34m\"audi\"\u001b[0m\u001b[0;34m,\u001b[0m \u001b[0;34m\"honda\"\u001b[0m\u001b[0;34m,\u001b[0m \u001b[0;34m\"toyota\"\u001b[0m\u001b[0;34m,\u001b[0m \u001b[0;34m\"mercedes\"\u001b[0m\u001b[0;34m,\u001b[0m \u001b[0;34m\"fiat\"\u001b[0m\u001b[0;34m)\u001b[0m\u001b[0;34m\u001b[0m\u001b[0;34m\u001b[0m\u001b[0m\n\u001b[1;32m      2\u001b[0m \u001b[0mprint\u001b[0m\u001b[0;34m(\u001b[0m\u001b[0mtup\u001b[0m\u001b[0;34m)\u001b[0m\u001b[0;34m\u001b[0m\u001b[0;34m\u001b[0m\u001b[0m\n\u001b[0;32m----> 3\u001b[0;31m \u001b[0mtup\u001b[0m\u001b[0;34m[\u001b[0m\u001b[0;36m1\u001b[0m\u001b[0;34m]\u001b[0m\u001b[0;34m=\u001b[0m\u001b[0;34m\"porsche\"\u001b[0m\u001b[0;34m\u001b[0m\u001b[0;34m\u001b[0m\u001b[0m\n\u001b[0m\u001b[1;32m      4\u001b[0m \u001b[0mprint\u001b[0m\u001b[0;34m(\u001b[0m\u001b[0mtup\u001b[0m\u001b[0;34m)\u001b[0m\u001b[0;34m\u001b[0m\u001b[0;34m\u001b[0m\u001b[0m\n",
            "\u001b[0;31mTypeError\u001b[0m: 'tuple' object does not support item assignment"
          ]
        }
      ]
    },
    {
      "cell_type": "markdown",
      "source": [
        "## Delete Tuple Elements\n"
      ],
      "metadata": {
        "id": "SvhjBpCQTS8v"
      }
    },
    {
      "cell_type": "markdown",
      "metadata": {
        "id": "MIOv_W2vxJ4_"
      },
      "source": [
        "Removing individual tuple elements is not possible.\n",
        "\n",
        "``` python\n",
        ">>> tup = (1, 2, 3, 4, 5, 6, 7, 8, 9)\n",
        ">>> print(tup)\n",
        "(1, 2, 3, 4, 5, 6, 7, 8, 9)\n",
        ">>> del tup[2]\n",
        "TypeError: 'tuple' object does not support item deletion\n",
        "```\n",
        "\n",
        "There is, of course, nothing wrong with putting together another tuple with the undesired elements discarded.\n",
        "\n",
        "``` python\n",
        ">>> tup = (1, 2, 3, 4, 5, 6, 7, 8, 9)\n",
        ">>> print(tup)\n",
        "(1, 2, 3, 4, 5, 6, 7, 8, 9)\n",
        ">>> tup = tup[:2] + tup[3:]\n",
        ">>> print(tup)\n",
        "(1, 2, 4, 5, 6, 7, 8, 9)\n",
        "```\n",
        "\n",
        "To explicitly remove an entire tuple, just use the del statement.\n",
        "\n",
        "\n",
        "``` python\n",
        ">>> tup = (1, 2, 3, 4, 5, 6, 7, 8, 9)\n",
        ">>> print(tup)\n",
        "(1, 2, 3, 4, 5, 6, 7, 8, 9)\n",
        ">>> del tup\n",
        "```\n",
        "<!--\n",
        "<h4>\n",
        "    Basic Tuples Operations\n",
        "</h4>\n",
        "\n",
        "Tuples respond to the + and * operators much like strings; they mean concatenation and repetition here too, except that the result is a new tuple, not a string.\n",
        "\n",
        "In fact, tuples respond to all of the general sequence operations we used on strings in the prior chapter −\n",
        "\n",
        "|Expression | Results | Description |\n",
        "|:-:|:-:|:-:|\n",
        "|len((1, 2, 3))|3|Length|\n",
        "|(1, 2, 3) + (4, 5, 6) | (1, 2, 3, 4, 5, 6) | Concatenation |\n",
        "|('Hi!',) * 4 | ('Hi!', 'Hi!', 'Hi!', 'Hi!') | Repetition |\n",
        "|3 in (1, 2, 3) | True | Membership |\n",
        "|for x in (1, 2, 3): print(x), | 1 2 3 | Iteration | -->"
      ]
    },
    {
      "cell_type": "markdown",
      "source": [
        "<h3>Task 4</h3>\n",
        "\n",
        "Create a tuple with the names of five different makeup items. Do the followings:\n",
        "\n",
        " - Print the tuple.\n",
        " - Delete the fourth element from the tuple via del statement.\n",
        " - Print the tuple, again.\n"
      ],
      "metadata": {
        "id": "4xcsHssEd29k"
      }
    },
    {
      "cell_type": "code",
      "source": [
        "tup = (\"blush\", \"tint\", \"eyeshadow\", \"lipstick\", \"lipbalm\")\n",
        "print(tup)\n",
        "tup = tup[:3] + tup[4:]\n",
        "print(tup)\n"
      ],
      "metadata": {
        "id": "jCai1pxFd3Ia",
        "outputId": "5a482383-6b03-4b75-bde9-04d9b8ce60c4",
        "colab": {
          "base_uri": "https://localhost:8080/"
        }
      },
      "execution_count": 22,
      "outputs": [
        {
          "output_type": "stream",
          "name": "stdout",
          "text": [
            "('blush', 'tint', 'eyeshadow', 'lipstick', 'lipbalm')\n",
            "('blush', 'tint', 'eyeshadow', 'lipbalm')\n"
          ]
        }
      ]
    }
  ],
  "metadata": {
    "kernelspec": {
      "display_name": "Python 3",
      "language": "python",
      "name": "python3"
    },
    "language_info": {
      "codemirror_mode": {
        "name": "ipython",
        "version": 3
      },
      "file_extension": ".py",
      "mimetype": "text/x-python",
      "name": "python",
      "nbconvert_exporter": "python",
      "pygments_lexer": "ipython3",
      "version": "3.8.5"
    },
    "colab": {
      "provenance": [],
      "include_colab_link": true
    }
  },
  "nbformat": 4,
  "nbformat_minor": 0
}