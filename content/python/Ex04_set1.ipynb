{
  "nbformat": 4,
  "nbformat_minor": 0,
  "metadata": {
    "colab": {
      "private_outputs": true,
      "provenance": [],
      "include_colab_link": true
    },
    "kernelspec": {
      "name": "python3",
      "display_name": "Python 3"
    },
    "language_info": {
      "name": "python"
    }
  },
  "cells": [
    {
      "cell_type": "markdown",
      "metadata": {
        "id": "view-in-github",
        "colab_type": "text"
      },
      "source": [
        "<a href=\"https://colab.research.google.com/github/tulinkarahan/PatikaInsertionSort/blob/main/content/python/Ex04_set1.ipynb\" target=\"_parent\"><img src=\"https://colab.research.google.com/assets/colab-badge.svg\" alt=\"Open In Colab\"/></a>"
      ]
    },
    {
      "cell_type": "markdown",
      "source": [
        "<table width=\"100%\">\n",
        "    <tr style=\"\">\n",
        "        <th style=\"text-align:left; padding:0px\" width=\"5%\">\n",
        "            <a href=\"https://www.marmara.edu.tr\" target=\"_blank\">\n",
        "                <img src=\"https://raw.githubusercontent.com/MU-Physics-Department/logos/master/mu_logo.png\">\n",
        "            </a>\n",
        "        </th>\n",
        "        <th style=\"padding:0px;\" width=\"35%\">\n",
        "            <img align=\"right\" src=\"https://raw.githubusercontent.com/MU-Physics-Department/logos/master/name.png\">\n",
        "        </th>\n",
        "        <th  width=\"20%\">\n",
        "            &nbsp;\n",
        "        </th>\n",
        "        <th style=\"padding:0px\" width=\"5%\">\n",
        "            <a href=\"https://www.sababozpolat.com\" target=\"_blank\" padding=\"0px\">\n",
        "                <img align=\"center\" src=\"https://raw.githubusercontent.com/MU-Physics-Department/logos/master/hp.png\">\n",
        "            </a>\n",
        "        </th>\n",
        "        <th style=\"padding:0px\" width=\"5%\">\n",
        "            <a href=\"mailto:saba.bozpolat@gmail.com\" target=\"_blank\">\n",
        "                <img align=\"center\" src=\"https://raw.githubusercontent.com/MU-Physics-Department/logos/master/email.png\">\n",
        "            </a>\n",
        "        </th>\n",
        "        <th style=\"padding:0px;\" width=\"5%\">\n",
        "            <a href=\"https://www.linkedin.com/in/saba-bozpolat-644856152/\" target=\"_blank\">\n",
        "                <img align=\"right\" src=\"https://raw.githubusercontent.com/MU-Physics-Department/logos/master/in.png\">\n",
        "            </a>\n",
        "        </th>\n",
        "        <th style=\"padding:0px;\" width=\"5%\">\n",
        "            <a href=\"https://scholar.google.com.tr/citations?user=nSiJoMYAAAAJ&hl=en\" target=\"_blank\">\n",
        "                <img align=\"right\" src=\"https://raw.githubusercontent.com/MU-Physics-Department/logos/master/GS.png\">\n",
        "            </a>\n",
        "        </th>\n",
        "        <th style=\"padding:0px;\" width=\"5%\">\n",
        "            <a href=\"https://www.researchgate.net/profile/Saba-Bozpolat\" target=\"_blank\">\n",
        "                <img align=\"right\" src=\"https://raw.githubusercontent.com/MU-Physics-Department/logos/master/RG.png\">\n",
        "            </a>\n",
        "        </th>\n",
        "        <th style=\"padding:0px\" width=\"5%\">\n",
        "            <a href=\"https://www.youtube.com/channel/UC8-uOZud6UL7oCOE2UUBunA\" target=\"_blank\">\n",
        "                <img align=\"right\" src=\"https://raw.githubusercontent.com/MU-Physics-Department/logos/master/YT.png\">\n",
        "            </a>\n",
        "        </th>\n",
        "        <th style=\"padding:0px;\" width=\"5%\">\n",
        "            <a href=\"https://github.com/sbbzplt\" target=\"_blank\">\n",
        "                <img align=\"right\" src=\"https://raw.githubusercontent.com/MU-Physics-Department/logos/master/GH.png\">\n",
        "            </a>\n",
        "        </th>\n",
        "        <th style=\"padding:0px;\" width=\"5%\">\n",
        "            <a href=\"https://join.slack.com/t/mu-fzk/shared_invite/zt-13jtd6dtd-g9zD5P4Zu0m5P0Gt2PNReQ\"\n",
        "               target=\"_blank\">\n",
        "                <img align=\"right\" src=\"https://raw.githubusercontent.com/MU-Physics-Department/logos/master/slack.png\">\n",
        "            </a>\n",
        "        </th>\n",
        "    </tr>\n",
        "</table>\n",
        "<table width=\"100%\">\n",
        "    <tr style=\"background-color:white;\">\n",
        "        <!-- <td style=\"text-align-left;padding:0px;\" width=\"10%\">\n",
        "            <a href=\"https://fef.marmara.edu.tr\"\n",
        "               target=\"_blank\">\n",
        "                <img align=\"right\" src=\"https://raw.githubusercontent.com/MU-Physics-Department/logos/master/fef.png\">\n",
        "            </a>\n",
        "        </td> -->\n",
        "        <td style=\"padding:0px\" width=\"25%\">\n",
        "            <a href=\"http://fzk.fen.marmara.edu.tr\"\n",
        "               target=\"_blank\">\n",
        "                <img align=\"right\" src=\"https://raw.githubusercontent.com/MU-Physics-Department/logos/master/fzk.png\">\n",
        "            </a>\n",
        "        </td>\n",
        "        <td width=\"10%\">\n",
        "            &nbsp;\n",
        "        </td>\n",
        "        <td style=\"padding:0px;\" width=\"65%\">\n",
        "            <a href=\"https://www.sababozpolat.com/lectures/spring-semester/scientific-programming\"\n",
        "               target=\"_blank\">\n",
        "                <img align=\"right\" src=\"https://raw.githubusercontent.com/MU-Physics-Department/logos/master/comp2083.png\">\n",
        "            </a>\n",
        "        </td>\n",
        "    </tr>\n",
        "</table>"
      ],
      "metadata": {
        "id": "TgMxliqTSzZM"
      }
    },
    {
      "cell_type": "markdown",
      "source": [
        "# Broad Exercises - Set 1"
      ],
      "metadata": {
        "id": "ExUxL6saSz2B"
      }
    },
    {
      "cell_type": "markdown",
      "source": [
        "<h3>Task 1</h3>\n",
        "\n",
        "Write a Python program to get the volume of a sphere with given radius below."
      ],
      "metadata": {
        "id": "GwSI-e2MT5o-"
      }
    },
    {
      "cell_type": "code",
      "source": [
        "pi = 3.1415\n",
        "r = 6\n",
        "\n",
        "# V=4/3pir^3\n",
        "\n",
        "print(4/3 * pi* r** 3 )\n",
        "\n"
      ],
      "metadata": {
        "id": "0c6my74MT6FG"
      },
      "execution_count": null,
      "outputs": []
    },
    {
      "cell_type": "markdown",
      "source": [
        "<h3>Task 2</h3>\n",
        "\n",
        "Write a Python program to display the current date and time."
      ],
      "metadata": {
        "id": "O4rRZmfqUCfA"
      }
    },
    {
      "cell_type": "code",
      "source": [
        "#\n",
        "# your code here\n",
        "#\n"
      ],
      "metadata": {
        "id": "RSjYhhD0UCfB"
      },
      "execution_count": null,
      "outputs": []
    },
    {
      "cell_type": "markdown",
      "source": [
        "<h3>Task 3</h3>\n",
        "\n",
        "Given an integer (n), write a Python program that computes the value of n+nn+nnn."
      ],
      "metadata": {
        "id": "pPPhHkgXUCrx"
      }
    },
    {
      "cell_type": "code",
      "source": [
        "n = 2  # 2 + 22 + 222 --> result should be 246.\n",
        "\n",
        "nn = int(str(n) * 2)\n",
        "nnn = int(str(n) * 3)\n",
        "\n",
        "print(n+nn+nnn)\n",
        "\n"
      ],
      "metadata": {
        "id": "b2OnTzd8UCry"
      },
      "execution_count": null,
      "outputs": []
    },
    {
      "cell_type": "code",
      "source": [
        "n = 5  # 5 + 55 + 555 --> result should be 615.\n",
        "#\n",
        "# your code here\n",
        "#\n"
      ],
      "metadata": {
        "id": "5O7RXSTk_lJq"
      },
      "execution_count": null,
      "outputs": []
    },
    {
      "cell_type": "markdown",
      "source": [
        "<h3>Task 4</h3>\n",
        "\n",
        "Write a Python program that checks whether specified values, ``x`` and ``y`` are contained within the given list, ``my_list``."
      ],
      "metadata": {
        "id": "ib5hI-FGUCwv"
      }
    },
    {
      "cell_type": "code",
      "source": [
        "x = 1\n",
        "y = 10\n",
        "my_list = [0, 1, 2, 3, 4, 5]\n",
        "\n",
        "print(x in my_list)\n"
      ],
      "metadata": {
        "id": "e_zJetDyUCww"
      },
      "execution_count": null,
      "outputs": []
    },
    {
      "cell_type": "markdown",
      "source": [
        "<h3>Task 5</h3>\n",
        "\n",
        "Given the base and height of a triangle, write a Python program that will compute its area."
      ],
      "metadata": {
        "id": "Wp6XqS9WUC05"
      }
    },
    {
      "cell_type": "code",
      "source": [
        "base, height = 1.0, 2.0\n",
        "#\n",
        "# your code here\n",
        "#\n"
      ],
      "metadata": {
        "id": "5l7eurqVUC06"
      },
      "execution_count": null,
      "outputs": []
    },
    {
      "cell_type": "markdown",
      "source": [
        "<h3>Task 6</h3>\n",
        "\n",
        "Write a Python program to calculate (x + y) * (x + y)."
      ],
      "metadata": {
        "id": "BiiU7EI2UC4j"
      }
    },
    {
      "cell_type": "code",
      "source": [
        "x, y = 4, 3\n",
        "#\n",
        "# your code here\n",
        "#\n"
      ],
      "metadata": {
        "id": "xuDk4wrxUC4k"
      },
      "execution_count": null,
      "outputs": []
    },
    {
      "cell_type": "markdown",
      "source": [
        "<h3>Task 7</h3>\n",
        "\n",
        "Write a Python program to calculate the hypotenuse of a right angled triangle."
      ],
      "metadata": {
        "id": "YStg77_2UC7s"
      }
    },
    {
      "cell_type": "code",
      "source": [
        "a, b = 3., 4.\n",
        "#\n",
        "# your code here\n",
        "#\n"
      ],
      "metadata": {
        "id": "vmbS_dPpUC7t"
      },
      "execution_count": null,
      "outputs": []
    },
    {
      "cell_type": "markdown",
      "source": [
        "<h3>Task 8</h3>\n",
        "\n",
        "Write a Python program to convert the distance (in feet) to inches, yards, and miles."
      ],
      "metadata": {
        "id": "jIVBV3i1UC_m"
      }
    },
    {
      "cell_type": "code",
      "source": [
        "dist_feet = 2000  # feet\n",
        "\n",
        "# 1 feet = 12 inches\n",
        "\n",
        "dist_inch = dist_feet * 12\n",
        "print(f\"{dist_feet} ft is {dist_inch} inches.\")\n",
        "\n"
      ],
      "metadata": {
        "id": "WvyajOtBUC_m"
      },
      "execution_count": null,
      "outputs": []
    },
    {
      "cell_type": "markdown",
      "source": [
        "<h3>Task 9</h3>\n",
        "\n",
        "Write a Python program that converts seconds into minutes, hours and days."
      ],
      "metadata": {
        "id": "avdhEKA6UDZL"
      }
    },
    {
      "cell_type": "code",
      "source": [
        "time_sec = 1000  # sec\n",
        "#\n",
        "# your code here\n",
        "#\n"
      ],
      "metadata": {
        "id": "334UtYKuUDZL"
      },
      "execution_count": null,
      "outputs": []
    },
    {
      "cell_type": "markdown",
      "source": [
        "<h3>Task 10</h3>\n",
        "\n",
        "Write a Python program to calculate the body mass index.\n"
      ],
      "metadata": {
        "id": "nR5ZdWjqUDct"
      }
    },
    {
      "cell_type": "code",
      "source": [
        "weight, length = 62, 185\n",
        "#\n",
        "# your code here\n",
        "#\n"
      ],
      "metadata": {
        "id": "XazBBsIFUDcu"
      },
      "execution_count": null,
      "outputs": []
    },
    {
      "cell_type": "markdown",
      "source": [
        "<h3>Task 11</h3>\n",
        "\n",
        "Write a Python code to reverse a given word."
      ],
      "metadata": {
        "id": "74P-8LkBi5AA"
      }
    },
    {
      "cell_type": "markdown",
      "source": [
        "docs.pyhton.org sitesini kullan yardım için\n",
        "bla bla bla nasıl yapılır diyip sonuna docs ekle."
      ],
      "metadata": {
        "id": "Qk3BQbGrbZbU"
      }
    },
    {
      "cell_type": "code",
      "source": [
        "word = \"pourparler\"  # meaning is \"discussion prior to negotiation\".\n",
        "\n",
        "drow = word[::-1]\n",
        "\n",
        "print(drow)\n",
        "\n",
        "\n",
        "\n",
        "\n",
        "\n"
      ],
      "metadata": {
        "id": "AGIDJxwui42I"
      },
      "execution_count": null,
      "outputs": []
    },
    {
      "cell_type": "markdown",
      "source": [
        "<h3>Task 12</h3>\n",
        "\n",
        "Write a Python program to add two positive integers without using the '+' operator.\n",
        "\n",
        "Note: Use bit wise operations to add two numbers."
      ],
      "metadata": {
        "id": "c1mgtYnwi4tY"
      }
    },
    {
      "cell_type": "code",
      "source": [
        "#\n",
        "# your code here\n",
        "#\n"
      ],
      "metadata": {
        "id": "bzRaiZY-i4lU"
      },
      "execution_count": null,
      "outputs": []
    },
    {
      "cell_type": "markdown",
      "source": [
        "<h3>Task 13</h3>\n",
        "\n",
        "Write a Python program to find the mean value among three given numbers."
      ],
      "metadata": {
        "id": "E94J-3GDi4eK"
      }
    },
    {
      "cell_type": "code",
      "source": [
        "x, y, z = 1, 2, 3\n",
        "mean = (x + y + z) / 3\n",
        "print(mean)\n"
      ],
      "metadata": {
        "id": "71nevuWoi4SQ"
      },
      "execution_count": null,
      "outputs": []
    },
    {
      "cell_type": "markdown",
      "source": [
        "<h3>Task 14</h3>\n",
        "\n",
        "Write a Python program to find the mean value of a list of numbers. Use built-in methods for lists."
      ],
      "metadata": {
        "id": "mHVWaU7pi4Ko"
      }
    },
    {
      "cell_type": "code",
      "source": [
        "my_list = [2, 3, 1.0, 4, 2.0, 5, 3.0]\n",
        "\n",
        "mean = sum((my_list) / len(my_list))\n",
        "print(mean)\n"
      ],
      "metadata": {
        "id": "SpN9qevFi4CG"
      },
      "execution_count": null,
      "outputs": []
    },
    {
      "cell_type": "markdown",
      "source": [
        "<h3>Task 15</h3>\n",
        "\n",
        "Given the coefficients, write a Python program which solve the system of two equations:\n",
        "\n",
        "```math\n",
        "ax+by=c\n",
        "dx+ey=f\n",
        "```\n",
        "\n",
        "Hint: Before jump into coding, solve the given system by hand."
      ],
      "metadata": {
        "id": "F9vfMXXTi368"
      }
    },
    {
      "cell_type": "code",
      "source": [
        "a, b, c, d, e, f, x, y = 5, 8, 6, 7, 9, 4, -2, 2\n",
        "\n",
        "\n",
        "# ax+by=c\n",
        "# dx+ey=f\n",
        "# x=-2 , y=2\n",
        "\n",
        "solve = (a*x) + (b*y)\n",
        "print(solve)\n",
        "\n",
        "solve_1 = (d*x) + (e*y)\n",
        "print(solve_1)\n",
        "\n",
        "\n"
      ],
      "metadata": {
        "id": "B4Ym2gDQi3vW"
      },
      "execution_count": null,
      "outputs": []
    },
    {
      "cell_type": "markdown",
      "source": [
        "Hocanın yazdığı;"
      ],
      "metadata": {
        "id": "iNclZUjShNbJ"
      }
    },
    {
      "cell_type": "code",
      "source": [
        "x = (c * e - b * f) / (a * e - b * d)\n",
        "y ="
      ],
      "metadata": {
        "id": "4MOzdulthBES"
      },
      "execution_count": null,
      "outputs": []
    }
  ]
}