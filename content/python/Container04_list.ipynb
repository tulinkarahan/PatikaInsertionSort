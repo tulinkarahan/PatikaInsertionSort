{
  "cells": [
    {
      "cell_type": "markdown",
      "metadata": {
        "id": "view-in-github",
        "colab_type": "text"
      },
      "source": [
        "<a href=\"https://colab.research.google.com/github/tulinkarahan/PatikaInsertionSort/blob/main/content/python/Container04_list.ipynb\" target=\"_parent\"><img src=\"https://colab.research.google.com/assets/colab-badge.svg\" alt=\"Open In Colab\"/></a>"
      ]
    },
    {
      "cell_type": "markdown",
      "metadata": {
        "id": "Uup75UvtwxCh"
      },
      "source": [
        "<table width=\"100%\">\n",
        "    <tr style=\"\">\n",
        "        <th style=\"text-align:left; padding:0px\" width=\"5%\">\n",
        "            <a href=\"https://www.marmara.edu.tr\" target=\"_blank\">\n",
        "                <img src=\"https://raw.githubusercontent.com/MU-Physics-Department/logos/master/mu_logo.png\">\n",
        "            </a>\n",
        "        </th>\n",
        "        <th style=\"padding:0px;\" width=\"35%\">\n",
        "            <img align=\"right\" src=\"https://raw.githubusercontent.com/MU-Physics-Department/logos/master/name.png\">\n",
        "        </th>\n",
        "        <th  width=\"20%\">\n",
        "            &nbsp;\n",
        "        </th>\n",
        "        <th style=\"padding:0px\" width=\"5%\">\n",
        "            <a href=\"https://www.sababozpolat.com\" target=\"_blank\" padding=\"0px\">\n",
        "                <img align=\"center\" src=\"https://raw.githubusercontent.com/MU-Physics-Department/logos/master/hp.png\">\n",
        "            </a>\n",
        "        </th>\n",
        "        <th style=\"padding:0px\" width=\"5%\">\n",
        "            <a href=\"mailto:saba.bozpolat@gmail.com\" target=\"_blank\">\n",
        "                <img align=\"center\" src=\"https://raw.githubusercontent.com/MU-Physics-Department/logos/master/email.png\">\n",
        "            </a>\n",
        "        </th>\n",
        "        <th style=\"padding:0px;\" width=\"5%\">\n",
        "            <a href=\"https://www.linkedin.com/in/saba-bozpolat-644856152/\" target=\"_blank\">\n",
        "                <img align=\"right\" src=\"https://raw.githubusercontent.com/MU-Physics-Department/logos/master/in.png\">\n",
        "            </a>\n",
        "        </th>\n",
        "        <th style=\"padding:0px;\" width=\"5%\">\n",
        "            <a href=\"https://scholar.google.com.tr/citations?user=nSiJoMYAAAAJ&hl=en\" target=\"_blank\">\n",
        "                <img align=\"right\" src=\"https://raw.githubusercontent.com/MU-Physics-Department/logos/master/GS.png\">\n",
        "            </a>\n",
        "        </th>\n",
        "        <th style=\"padding:0px;\" width=\"5%\">\n",
        "            <a href=\"https://www.researchgate.net/profile/Saba-Bozpolat\" target=\"_blank\">\n",
        "                <img align=\"right\" src=\"https://raw.githubusercontent.com/MU-Physics-Department/logos/master/RG.png\">\n",
        "            </a>\n",
        "        </th>\n",
        "        <th style=\"padding:0px\" width=\"5%\">\n",
        "            <a href=\"https://www.youtube.com/channel/UC8-uOZud6UL7oCOE2UUBunA\" target=\"_blank\">\n",
        "                <img align=\"right\" src=\"https://raw.githubusercontent.com/MU-Physics-Department/logos/master/YT.png\">\n",
        "            </a>\n",
        "        </th>\n",
        "        <th style=\"padding:0px;\" width=\"5%\">\n",
        "            <a href=\"https://github.com/sbbzplt\" target=\"_blank\">\n",
        "                <img align=\"right\" src=\"https://raw.githubusercontent.com/MU-Physics-Department/logos/master/GH.png\">\n",
        "            </a>\n",
        "        </th>\n",
        "        <th style=\"padding:0px;\" width=\"5%\">\n",
        "            <a href=\"https://join.slack.com/t/mu-fzk/shared_invite/zt-13jtd6dtd-g9zD5P4Zu0m5P0Gt2PNReQ\"\n",
        "               target=\"_blank\">\n",
        "                <img align=\"right\" src=\"https://raw.githubusercontent.com/MU-Physics-Department/logos/master/slack.png\">\n",
        "            </a>\n",
        "        </th>\n",
        "    </tr>\n",
        "</table>\n",
        "<table width=\"100%\">\n",
        "    <tr style=\"background-color:white;\">\n",
        "        <!-- <td style=\"text-align-left;padding:0px;\" width=\"10%\">\n",
        "            <a href=\"https://fef.marmara.edu.tr\"\n",
        "               target=\"_blank\">\n",
        "                <img align=\"right\" src=\"https://raw.githubusercontent.com/MU-Physics-Department/logos/master/fef.png\">\n",
        "            </a>\n",
        "        </td> -->\n",
        "        <td style=\"padding:0px\" width=\"25%\">\n",
        "            <a href=\"http://fzk.fen.marmara.edu.tr\"\n",
        "               target=\"_blank\">\n",
        "                <img align=\"right\" src=\"https://raw.githubusercontent.com/MU-Physics-Department/logos/master/fzk.png\">\n",
        "            </a>\n",
        "        </td>\n",
        "        <td width=\"10%\">\n",
        "            &nbsp;\n",
        "        </td>\n",
        "        <td style=\"padding:0px;\" width=\"65%\">\n",
        "            <a href=\"https://www.sababozpolat.com/lectures/scientific-programming\"\n",
        "               target=\"_blank\">\n",
        "                <img align=\"right\" src=\"https://raw.githubusercontent.com/MU-Physics-Department/logos/master/comp2083.png\">\n",
        "            </a>\n",
        "        </td>\n",
        "    </tr>\n",
        "</table>"
      ]
    },
    {
      "cell_type": "markdown",
      "metadata": {
        "id": "sdJ2_2IjwxCo"
      },
      "source": [
        "# Lists"
      ]
    },
    {
      "cell_type": "markdown",
      "metadata": {
        "id": "mMghDliWwxCo"
      },
      "source": [
        "<!-- The most basic data structure in Python is the sequence. Each element of a sequence is assigned a number - its position or index. The first index is zero, the second index is one, and so forth.\n",
        "Python has six built-in types of sequences, but the most common ones are lists and tuples, which we would see in this tutorial.\n",
        "There are certain things you can do with all sequence types. These operations include indexing, slicing, adding, multiplying, and checking for membership. In addition, Python has built-in functions for finding the length of a sequence and for finding its largest and smallest elements. -->\n",
        "\n",
        "The list is a most versatile datatype available in Python which can be written as a list of comma-separated values (items) between square brackets. Important thing about a list is that items in a list need not be of the same type.\n",
        "\n",
        "<img width=30% src=\"https://github.com/MU-Physics-Department/logos/blob/master/for_comp2083/list1.png?raw=true\">\n",
        "\n",
        "Creating a list is as simple as putting different comma-separated values between square brackets. For example:\n",
        "\n",
        "```\n",
        ">>> list1 = [1, 2, 3, 4, 5 ]\n",
        ">>> list1\n",
        "[1, 2, 3, 4, 5]\n",
        "```\n",
        "```\n",
        ">>> list2 = [\"a\", \"b\", \"c\", \"d\"]\n",
        ">>> list2\n",
        "['a', 'b', 'c', 'd']\n",
        "```\n",
        "```\n",
        ">>> list3 = ['physics', 'chemistry', 1997, 2000]\n",
        ">>> list3\n",
        "['physics', 'chemistry', 1997, 2000]\n",
        "```\n"
      ]
    },
    {
      "cell_type": "markdown",
      "source": [
        "<h3>Task 1</h3>\n",
        "Create a list with names of months in a year and print it."
      ],
      "metadata": {
        "id": "8QzFAwcfbUmA"
      }
    },
    {
      "cell_type": "code",
      "source": [
        "#\n",
        "# your code here\n",
        "#\n"
      ],
      "metadata": {
        "id": "Fs5DeZgDbVZP"
      },
      "execution_count": null,
      "outputs": []
    },
    {
      "cell_type": "markdown",
      "source": [
        "## Accessing Values in Lists"
      ],
      "metadata": {
        "id": "mS99rwOQa3_b"
      }
    },
    {
      "cell_type": "markdown",
      "metadata": {
        "id": "3-y1lUNDwxCr"
      },
      "source": [
        "In Python, indexing is used to reach elements of a list. Indexing begins with 0 and increases one by one.\n",
        "\n",
        "<img width=30% src=\"https://github.com/MU-Physics-Department/logos/blob/master/for_comp2083/list2.png?raw=true\">\n",
        "\n",
        "To access values in lists, use the square brackets for slicing along with the index or indices to obtain value available at that index. For example:\n",
        "\n",
        "```\n",
        ">>> list3 = ['physics', 'chemistry', 1997, 2000]\n",
        ">>> list3[0]\n",
        "physics\n",
        ">>> list3[2]\n",
        "1997\n",
        "```"
      ]
    },
    {
      "cell_type": "markdown",
      "source": [
        "<h3>Task 2</h3>\n",
        "Create a list with names of week days and print Wednesday from your list to the screen."
      ],
      "metadata": {
        "id": "36Y-GR5-biAb"
      }
    },
    {
      "cell_type": "code",
      "source": [
        "#\n",
        "# your code here\n",
        "#\n"
      ],
      "metadata": {
        "id": "T6f9ImH8bjZY"
      },
      "execution_count": null,
      "outputs": []
    },
    {
      "cell_type": "markdown",
      "source": [
        "### Negative indexing in Python"
      ],
      "metadata": {
        "id": "5h5nEw24b1ud"
      }
    },
    {
      "cell_type": "markdown",
      "source": [
        "It is possible to use negative indices to reach elements of a list in Python. Index -1 indicates the last element of a list and negatively increasing indices points to the elements right to left in order.\n",
        "\n",
        "<img width=30% src=\"https://github.com/MU-Physics-Department/logos/blob/master/for_comp2083/list3.png?raw=true\">"
      ],
      "metadata": {
        "id": "myt79jmrb7c_"
      }
    },
    {
      "cell_type": "markdown",
      "source": [
        "<h3>Task 3</h3>\n",
        "Create a list with the names of ten different cities and print the second, fifth and eighth city name using negative indexing."
      ],
      "metadata": {
        "id": "Bttpy3F9AFVO"
      }
    },
    {
      "cell_type": "code",
      "source": [
        "#\n",
        "# your code here\n",
        "#\n"
      ],
      "metadata": {
        "id": "Uo2Z5G9fAFyk"
      },
      "execution_count": null,
      "outputs": []
    },
    {
      "cell_type": "markdown",
      "source": [
        "## Updating elements of a list\n"
      ],
      "metadata": {
        "id": "NzaOvdOVAAG-"
      }
    },
    {
      "cell_type": "markdown",
      "metadata": {
        "id": "U8nCw0eTwxCt"
      },
      "source": [
        "You can update the elements of a list via indexing.\n",
        "\n",
        "```\n",
        ">>> list1 = [1, 2, 3, 4, 5 ]\n",
        ">>> list1\n",
        "[1, 2, 3, 4, 5]\n",
        ">>> list1[3] = 6\n",
        ">>> list1\n",
        "[1, 2, 3, 6, 5]\n",
        "```\n"
      ]
    },
    {
      "cell_type": "markdown",
      "source": [
        "<h3>Task 4</h3>\n",
        "\n",
        "Create a list with the names of ten different car brands. Do the followings:\n",
        " - Print the list.\n",
        " - Update 2nd element of the list with a different car brand.\n",
        " - Print the list, again.\n"
      ],
      "metadata": {
        "id": "5joL-qVMCuoI"
      }
    },
    {
      "cell_type": "code",
      "source": [
        "#\n",
        "# your code here.\n",
        "#\n"
      ],
      "metadata": {
        "id": "a5URB2VZCvHE"
      },
      "execution_count": null,
      "outputs": []
    },
    {
      "cell_type": "markdown",
      "source": [
        "## Appending elements to a list\n"
      ],
      "metadata": {
        "id": "CFfgCq6ZCnui"
      }
    },
    {
      "cell_type": "markdown",
      "source": [
        "\n",
        "You can add to elements in a list with the append() method.\n",
        "\n",
        "```\n",
        ">>> list1 = [1, 2, 3, 4, 5 ]\n",
        ">>> list1\n",
        "[1, 2, 3, 4, 5]\n",
        ">>> list1.append(6)\n",
        ">>> list1\n",
        "[1, 2, 3, 4, 5, 6]\n",
        "```"
      ],
      "metadata": {
        "id": "4Hjmj6wVCsmR"
      }
    },
    {
      "cell_type": "markdown",
      "source": [
        "<h3>Task 5</h3>\n",
        "Create a list with the names of five different clothing brands. Do the followings:\n",
        "\n",
        " - Print the list.\n",
        " - Append an extra element to the list.\n",
        " - Print the list, again."
      ],
      "metadata": {
        "id": "4mV2rq8fCzFD"
      }
    },
    {
      "cell_type": "code",
      "source": [
        "#\n",
        "# your code here.\n",
        "#\n"
      ],
      "metadata": {
        "id": "a2vbFPX9CzP9"
      },
      "execution_count": null,
      "outputs": []
    },
    {
      "cell_type": "markdown",
      "source": [
        "## Deleting elements from a list"
      ],
      "metadata": {
        "id": "VhXYNBwiEYXV"
      }
    },
    {
      "cell_type": "markdown",
      "metadata": {
        "id": "p7MHO_b9wxCu"
      },
      "source": [
        "To remove a list element, you can use either,\n",
        " - the del statement with indexing or,\n",
        " - the remove() method with the element itself.\n",
        "```\n",
        ">>> list1 = [1, 2, 3, 4, 5, 6]\n",
        ">>> list1\n",
        "[1, 2, 3, 4, 5, 6]\n",
        ">>> del list1[2]\n",
        ">>> list1\n",
        "[1, 2, 4, 5, 6]\n",
        ">>> list1.remove(6)\n",
        ">>> list1\n",
        "[1, 2, 4, 5]\n",
        "```"
      ]
    },
    {
      "cell_type": "markdown",
      "source": [
        "<h3>Task 6</h3>\n",
        "\n",
        "Create a list with the names of five different makeup items. Do the followings:\n",
        "\n",
        " - Print the list.\n",
        " - Delete the fourth element from the list via del statement.\n",
        " - Print the list, again.\n",
        " - Delete one element from the list via remove method.\n",
        " - Print the list, again."
      ],
      "metadata": {
        "id": "H4ITcLzJFqxv"
      }
    },
    {
      "cell_type": "code",
      "source": [
        "#\n",
        "# your code here.\n",
        "#\n"
      ],
      "metadata": {
        "id": "6HFEQFo8FrM3"
      },
      "execution_count": null,
      "outputs": []
    },
    {
      "cell_type": "markdown",
      "metadata": {
        "id": "fF4GK3P1wxCv"
      },
      "source": [
        "## Slicing"
      ]
    },
    {
      "cell_type": "markdown",
      "source": [
        "List slicing in Python is the operation for accessing a range of elements from a list.\n",
        "\n",
        "```\n",
        ">>> list1 = [1, 2, 3, 4, 5, 6, 7, 8]\n",
        ">>> list1\n",
        "[1, 2, 3, 4, 5, 6, 7, 8]\n",
        ">>> list1[2:5]\n",
        "[3, 4, 5]\n",
        ">>> list1[2:]\n",
        "[3, 4, 5, 6, 7, 8]\n",
        ">>> list1[:5]\n",
        "[1, 2, 3, 4, 5]\n",
        ">>> list1[:]\n",
        "[1, 2, 3, 4, 5, 6, 7, 8]\n",
        "```\n",
        "\n",
        "\n",
        "<!-- <h4>\n",
        "    Basic List Operations\n",
        "</h4>\n",
        "Lists respond to the + and * operators much like strings; they mean concatenation and repetition here too, except that the result is a new list, not a string.\n",
        "\n",
        "In fact, lists respond to all of the general sequence operations we used on strings in the prior chapter.\n",
        "\n",
        "| Expression | Results | Description |\n",
        "|:-:|:-:|:-:|\n",
        "| len([1, 2, 3]) | 3 | Length |\n",
        "| [1, 2, 3] + [4, 5, 6] | [1, 2, 3, 4, 5, 6] | Concatenation |\n",
        "| ['Hi!'] * 4 | ['Hi!', 'Hi!', 'Hi!', 'Hi!'] | Repetition |\n",
        "| 3 in [1, 2, 3]| True | Membership |\n",
        "| for x in [1, 2, 3]: print x, | 1 2 3 | Iteration |\n",
        "\n",
        "<h4>\n",
        "    Built-in List Functions & Methods\n",
        "</h4>\n",
        "\n",
        "Python includes the following list functions,\n",
        "\n",
        "| Sr.No. | Function | Description |\n",
        "|:-:|:-:|:-:|\n",
        "| 1 | cmp(list1, list2) | Compares elements of both lists. |\n",
        "| 2 | len(list) | Gives the total length of the list. |\n",
        "| 3 | max(list) | Returns item from the list with max value. |\n",
        "| 4 | min(list) | Returns item from the list with min value. |\n",
        "| 5 | list(seq) | Converts a tuple into list. |\n",
        "\n",
        "Python includes following list methods,\n",
        "\n",
        "| Sr.No. | Method | Description |\n",
        "|:-:|:-:|:-:|\n",
        "| 1 | list.append(obj) | Appends object obj to list |\n",
        "| 2 | list.count(obj) | Returns count of how many times obj occurs in list |\n",
        "| 3 | list.extend(seq) | Appends the contents of seq to list |\n",
        "| 4 | list.index(obj) | Returns the lowest index in list that obj appears |\n",
        "| 5 | list.insert(index, obj) | Inserts object obj into list at offset index |\n",
        "| 6 | list.pop(obj=list[-1]) | Removes and returns last object or obj from list |\n",
        "| 7 | list.remove(obj) | Removes object obj from list |\n",
        "| 8 | list.reverse() | Reverses objects of list in place |\n",
        "| 9 | list.sort([func]) | Sorts objects of list, use compare func if given | -->"
      ],
      "metadata": {
        "id": "zGUsOK1PGWkv"
      }
    },
    {
      "cell_type": "markdown",
      "source": [
        "<h3>Task 7</h3>\n",
        "\n",
        "Create a list with the names of ten different animals. Do the followings:\n",
        " - Print first three elements.\n",
        " - Print last two elements.\n",
        " - Print the elements from 3rd to 8th, including."
      ],
      "metadata": {
        "id": "HhZnABaOJCKo"
      }
    },
    {
      "cell_type": "code",
      "source": [
        "#\n",
        "# your code here\n",
        "#\n"
      ],
      "metadata": {
        "id": "MvofwbNFJCjV"
      },
      "execution_count": null,
      "outputs": []
    },
    {
      "cell_type": "markdown",
      "source": [
        "### Index increment in slicing"
      ],
      "metadata": {
        "id": "UWk8VN2peiZF"
      }
    },
    {
      "cell_type": "markdown",
      "source": [
        "Actually, there is a third argument in the slicing operation. When this argument is not specified, Python automatically treats it as 1. This third argument is the amount of increase of the starting index during slicing. When not specified, the index increment is done one by one. Otherwise, the increase is made according to the given value. A second colon is used to determine a specific amount of the increase as follows.\n",
        "\n",
        "```python\n",
        ">>> list1 = [1, 2, 3, 4, 5, 6, 7, 8, 9, 10]\n",
        ">>> list1[2:8]\n",
        "[3, 4, 5, 6, 7, 8]\n",
        ">>> list1[2:8:2]\n",
        "[3, 5, 7]\n",
        ">>> list1[2:8:3]\n",
        "[3, 6]\n",
        "```\n",
        "\n",
        "\n"
      ],
      "metadata": {
        "id": "5K3_4GfgeiPV"
      }
    },
    {
      "cell_type": "markdown",
      "source": [
        "<h3>Task 8</h3>\n",
        "\n",
        "Given the list below, print\n",
        " - even numbers and,\n",
        " - odd numbers\n",
        "\n",
        "from the list via slicing.\n"
      ],
      "metadata": {
        "id": "hXxmHr6Seh5b"
      }
    },
    {
      "cell_type": "code",
      "source": [
        "numbers = [0, 1, 2, 3, 4, 5, 6, 7, 8, 9, 10, 11, 12, 13, 14, 15]\n",
        "\n",
        "print(\"even numbers:\", numbers[0:16:2])\n",
        "print(\"odd numbers:\", numbers[1:16:2])\n",
        "\n",
        "\n",
        "\n"
      ],
      "metadata": {
        "id": "V0mEPEjRehq0",
        "outputId": "3fd35a56-d464-4c52-a83a-2c61f39e2d88",
        "colab": {
          "base_uri": "https://localhost:8080/"
        }
      },
      "execution_count": 2,
      "outputs": [
        {
          "output_type": "stream",
          "name": "stdout",
          "text": [
            "even numbers: [0, 2, 4, 6, 8, 10, 12, 14]\n",
            "odd numbers: [1, 3, 5, 7, 9, 11, 13, 15]\n"
          ]
        }
      ]
    },
    {
      "cell_type": "markdown",
      "source": [
        "<h3>Task 9</h3>\n",
        "\n",
        "Given the list below, count three by three using the given list via slicing.\n"
      ],
      "metadata": {
        "id": "Gcwx0G8zhEYk"
      }
    },
    {
      "cell_type": "code",
      "source": [
        "numbers = [1, 2, 3, 4, 5, 6, 7, 8, 9, 10, 11, 12, 13, 14, 15, 16, 17, 18, 19, 20]\n",
        "print(\"numbers:\", numbers[2::3])\n"
      ],
      "metadata": {
        "id": "zReGwwShhELA",
        "outputId": "bdcd3117-c2ad-4b56-af6e-383f37c9b8f4",
        "colab": {
          "base_uri": "https://localhost:8080/"
        }
      },
      "execution_count": 3,
      "outputs": [
        {
          "output_type": "stream",
          "name": "stdout",
          "text": [
            "numbers: [3, 6, 9, 12, 15, 18]\n"
          ]
        }
      ]
    },
    {
      "cell_type": "markdown",
      "source": [
        "## Length of a list"
      ],
      "metadata": {
        "id": "Z5p1x8mFn5oO"
      }
    },
    {
      "cell_type": "markdown",
      "source": [
        "You can use ``len()`` function to obtain the total element number of a list, _i.e._ the length.\n",
        "\n",
        "```python\n",
        ">>> list1 = [\"a\", \"b\", \"c\"]\n",
        ">>> len(list1)\n",
        "3\n",
        "```"
      ],
      "metadata": {
        "id": "BeM1llgon6Ve"
      }
    },
    {
      "cell_type": "markdown",
      "source": [
        "<h3>Task 10</h3>\n",
        "\n",
        "Create a list of mechanics lab items and print its length using ``len()`` function."
      ],
      "metadata": {
        "id": "CC4pK95Yn5N3"
      }
    },
    {
      "cell_type": "code",
      "source": [
        "#\n",
        "# your code here\n",
        "#\n"
      ],
      "metadata": {
        "id": "nL49luBWn7pm"
      },
      "execution_count": null,
      "outputs": []
    }
  ],
  "metadata": {
    "kernelspec": {
      "display_name": "Python 3",
      "language": "python",
      "name": "python3"
    },
    "language_info": {
      "codemirror_mode": {
        "name": "ipython",
        "version": 3
      },
      "file_extension": ".py",
      "mimetype": "text/x-python",
      "name": "python",
      "nbconvert_exporter": "python",
      "pygments_lexer": "ipython3",
      "version": "3.8.5"
    },
    "colab": {
      "provenance": [],
      "include_colab_link": true
    }
  },
  "nbformat": 4,
  "nbformat_minor": 0
}