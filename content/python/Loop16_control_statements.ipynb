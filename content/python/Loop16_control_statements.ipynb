{
  "nbformat": 4,
  "nbformat_minor": 0,
  "metadata": {
    "colab": {
      "private_outputs": true,
      "provenance": [],
      "include_colab_link": true
    },
    "kernelspec": {
      "name": "python3",
      "display_name": "Python 3"
    },
    "language_info": {
      "name": "python"
    }
  },
  "cells": [
    {
      "cell_type": "markdown",
      "metadata": {
        "id": "view-in-github",
        "colab_type": "text"
      },
      "source": [
        "<a href=\"https://colab.research.google.com/github/tulinkarahan/PatikaInsertionSort/blob/main/content/python/Loop16_control_statements.ipynb\" target=\"_parent\"><img src=\"https://colab.research.google.com/assets/colab-badge.svg\" alt=\"Open In Colab\"/></a>"
      ]
    },
    {
      "cell_type": "markdown",
      "source": [
        "<table width=\"100%\">\n",
        "    <tr style=\"\">\n",
        "        <th style=\"text-align:left; padding:0px\" width=\"5%\">\n",
        "            <a href=\"https://www.marmara.edu.tr\" target=\"_blank\">\n",
        "                <img src=\"https://raw.githubusercontent.com/MU-Physics-Department/logos/master/mu_logo.png\">\n",
        "            </a>\n",
        "        </th>\n",
        "        <th style=\"padding:0px;\" width=\"35%\">\n",
        "            <img align=\"right\" src=\"https://raw.githubusercontent.com/MU-Physics-Department/logos/master/name.png\">\n",
        "        </th>\n",
        "        <th  width=\"20%\">\n",
        "            &nbsp;\n",
        "        </th>\n",
        "        <th style=\"padding:0px\" width=\"5%\">\n",
        "            <a href=\"https://www.sababozpolat.com\" target=\"_blank\" padding=\"0px\">\n",
        "                <img align=\"center\" src=\"https://raw.githubusercontent.com/MU-Physics-Department/logos/master/hp.png\">\n",
        "            </a>\n",
        "        </th>\n",
        "        <th style=\"padding:0px\" width=\"5%\">\n",
        "            <a href=\"mailto:saba.bozpolat@gmail.com\" target=\"_blank\">\n",
        "                <img align=\"center\" src=\"https://raw.githubusercontent.com/MU-Physics-Department/logos/master/email.png\">\n",
        "            </a>\n",
        "        </th>\n",
        "        <th style=\"padding:0px;\" width=\"5%\">\n",
        "            <a href=\"https://www.linkedin.com/in/saba-bozpolat-644856152/\" target=\"_blank\">\n",
        "                <img align=\"right\" src=\"https://raw.githubusercontent.com/MU-Physics-Department/logos/master/in.png\">\n",
        "            </a>\n",
        "        </th>\n",
        "        <th style=\"padding:0px;\" width=\"5%\">\n",
        "            <a href=\"https://scholar.google.com.tr/citations?user=nSiJoMYAAAAJ&hl=en\" target=\"_blank\">\n",
        "                <img align=\"right\" src=\"https://raw.githubusercontent.com/MU-Physics-Department/logos/master/GS.png\">\n",
        "            </a>\n",
        "        </th>\n",
        "        <th style=\"padding:0px;\" width=\"5%\">\n",
        "            <a href=\"https://www.researchgate.net/profile/Saba-Bozpolat\" target=\"_blank\">\n",
        "                <img align=\"right\" src=\"https://raw.githubusercontent.com/MU-Physics-Department/logos/master/RG.png\">\n",
        "            </a>\n",
        "        </th>\n",
        "        <th style=\"padding:0px\" width=\"5%\">\n",
        "            <a href=\"https://www.youtube.com/channel/UC8-uOZud6UL7oCOE2UUBunA\" target=\"_blank\">\n",
        "                <img align=\"right\" src=\"https://raw.githubusercontent.com/MU-Physics-Department/logos/master/YT.png\">\n",
        "            </a>\n",
        "        </th>\n",
        "        <th style=\"padding:0px;\" width=\"5%\">\n",
        "            <a href=\"https://github.com/sbbzplt\" target=\"_blank\">\n",
        "                <img align=\"right\" src=\"https://raw.githubusercontent.com/MU-Physics-Department/logos/master/GH.png\">\n",
        "            </a>\n",
        "        </th>\n",
        "        <th style=\"padding:0px;\" width=\"5%\">\n",
        "            <a href=\"https://join.slack.com/t/mu-fzk/shared_invite/zt-13jtd6dtd-g9zD5P4Zu0m5P0Gt2PNReQ\"\n",
        "               target=\"_blank\">\n",
        "                <img align=\"right\" src=\"https://raw.githubusercontent.com/MU-Physics-Department/logos/master/slack.png\">\n",
        "            </a>\n",
        "        </th>\n",
        "    </tr>\n",
        "</table>\n",
        "<table width=\"100%\">\n",
        "    <tr style=\"background-color:white;\">\n",
        "        <!-- <td style=\"text-align-left;padding:0px;\" width=\"10%\">\n",
        "            <a href=\"https://fef.marmara.edu.tr\"\n",
        "               target=\"_blank\">\n",
        "                <img align=\"right\" src=\"https://raw.githubusercontent.com/MU-Physics-Department/logos/master/fef.png\">\n",
        "            </a>\n",
        "        </td> -->\n",
        "        <td style=\"padding:0px\" width=\"25%\">\n",
        "            <a href=\"http://fzk.fen.marmara.edu.tr\"\n",
        "               target=\"_blank\">\n",
        "                <img align=\"right\" src=\"https://raw.githubusercontent.com/MU-Physics-Department/logos/master/fzk.png\">\n",
        "            </a>\n",
        "        </td>\n",
        "        <td width=\"10%\">\n",
        "            &nbsp;\n",
        "        </td>\n",
        "        <td style=\"padding:0px;\" width=\"65%\">\n",
        "            <a href=\"https://www.sababozpolat.com/lectures/scientific-programming\"\n",
        "               target=\"_blank\">\n",
        "                <img align=\"right\" src=\"https://raw.githubusercontent.com/MU-Physics-Department/logos/master/comp2083.png\">\n",
        "            </a>\n",
        "        </td>\n",
        "    </tr>\n",
        "</table>"
      ],
      "metadata": {
        "id": "xsiB2OVMcazu"
      }
    },
    {
      "cell_type": "markdown",
      "source": [
        "# Control Statements"
      ],
      "metadata": {
        "id": "pMMcblcglhYw"
      }
    },
    {
      "cell_type": "markdown",
      "source": [
        "In Python, control statements are used to modify the execution from of a loop from its default behavior. They modify how the loop executes based on a condition. In Python, there are three different types of control statements, as follows.\n",
        "\n",
        " - break\n",
        " - continue\n",
        " - pass\n",
        "\n"
      ],
      "metadata": {
        "id": "8vYWqB_SjPOj"
      }
    },
    {
      "cell_type": "markdown",
      "source": [
        "## Break statement"
      ],
      "metadata": {
        "id": "gL6AaSdBki2s"
      }
    },
    {
      "cell_type": "markdown",
      "source": [
        "In Python, the break statement is used to end the loop that contains the statement. You should provide the break statement as a condition. In other words, you should form an if sentence with a logical proposition.\n",
        "\n",
        "```python\n",
        ">>> my_list = list(range(5))\n",
        ">>> for i in my_list:\n",
        ">>>     if i == 3:\n",
        ">>>         break\n",
        ">>>     print(i)\n",
        ">>>\n",
        "0\n",
        "1\n",
        "2\n",
        "```\n"
      ],
      "metadata": {
        "id": "IwUvPJCykjVg"
      }
    },
    {
      "cell_type": "markdown",
      "source": [
        "<h3>Task 1</h3>\n",
        "\n",
        "Loop over given days list, print Lisa will go to work during week days. When loop hits the weekend end the loop with a break statement.\n"
      ],
      "metadata": {
        "id": "8NEBI2wEnlY-"
      }
    },
    {
      "cell_type": "code",
      "source": [
        "days = [\"Mon\", \"Tue\", \"Wed\", \"Thu\", \"Fri\", \"Sat\", \"Sun\"]\n",
        "\n",
        "for day in days:\n",
        "  if day in [\"Sat\", \"Sun\"]:\n",
        "    break\n",
        "  print(f\"Lisa will go to work on {day}\")\n",
        "\n"
      ],
      "metadata": {
        "id": "eq3xwCCrnlsT"
      },
      "execution_count": null,
      "outputs": []
    },
    {
      "cell_type": "markdown",
      "source": [
        "Break statement can be also used with nested loops which are common with both while and for loops. In this case the inner loop is ended, and execution flow is transferred to the very first statement in the outside loop.\n",
        "```python\n",
        ">>> my_list = list(range(5))\n",
        ">>> my_chars = \"abcd\"\n",
        ">>> for i in my_list:\n",
        ">>>     for j in my_chars:\n",
        ">>>         if j == \"c\":\n",
        ">>>             break\n",
        ">>>         print(\"i =\", i, \"j =\", j)\n",
        ">>>\n",
        "i = 0 j = a\n",
        "i = 0 j = b\n",
        "i = 1 j = a\n",
        "i = 1 j = b\n",
        "i = 2 j = a\n",
        "i = 2 j = b\n",
        "i = 3 j = a\n",
        "i = 3 j = b\n",
        "i = 4 j = a\n",
        "i = 4 j = b\n",
        "i = 5 j = a\n",
        "i = 5 j = b\n",
        "```\n",
        "```python\n",
        ">>> my_list = list(range(5))\n",
        ">>> my_chars = \"abcd\"\n",
        ">>> for i in my_list:\n",
        ">>>     for j in my_chars:\n",
        ">>>         if i == 3:\n",
        ">>>             break\n",
        ">>>         print(\"i =\", i, \"j =\", j)\n",
        ">>>\n",
        "i = 0 j = a\n",
        "i = 0 j = b\n",
        "i = 0 j = c\n",
        "i = 0 j = d\n",
        "i = 1 j = a\n",
        "i = 1 j = b\n",
        "i = 1 j = c\n",
        "i = 1 j = d\n",
        "i = 2 j = a\n",
        "i = 2 j = b\n",
        "i = 2 j = c\n",
        "i = 2 j = d\n",
        "i = 4 j = a\n",
        "i = 4 j = b\n",
        "i = 4 j = c\n",
        "i = 4 j = d\n",
        "```"
      ],
      "metadata": {
        "id": "mVhClE4hnl36"
      }
    },
    {
      "cell_type": "markdown",
      "source": [
        "Yukardaki range 5 kısmı 6 olmalı."
      ],
      "metadata": {
        "id": "Pncs1ut9xae7"
      }
    },
    {
      "cell_type": "markdown",
      "source": [
        "<h3>Task 2</h3>\n",
        "\n",
        "Divide the elements of the list of randomly generated numbers into other randomly generated numbers. Generate the divisor number randomly between -5 and 5 within the loop. Exit the loop when you encounter zero as the divisor."
      ],
      "metadata": {
        "id": "LCRaS1YZnm5K"
      }
    },
    {
      "cell_type": "code",
      "source": [
        "from random import randint\n",
        "dividents = [randint(-5, 5) for _ in range(25)]\n",
        "\n",
        "for d in dividents:\n",
        "  divisor = randint(-5, 5)\n",
        "  if divisor == 0:\n",
        "    break\n",
        "  print(f\"{d} / {divisor} = {d / divisor}\")\n",
        "\n",
        "\n",
        "\n"
      ],
      "metadata": {
        "id": "O52_uQkEnnEy"
      },
      "execution_count": null,
      "outputs": []
    },
    {
      "cell_type": "markdown",
      "source": [
        "## Continue statement\n"
      ],
      "metadata": {
        "id": "NhR9gxs6KhwE"
      }
    },
    {
      "cell_type": "markdown",
      "source": [
        "When a Python program sees a continue statement, it skips the current iteration and instead, allows the loop to carry on to the next iteration.\n",
        "\n",
        "\n",
        "```python\n",
        ">>> my_list = list(range(5))\n",
        ">>> for i in my_list:\n",
        ">>>     if i == 3:\n",
        ">>>         continue\n",
        ">>>     print(i)\n",
        ">>>\n",
        "0\n",
        "1\n",
        "2\n",
        "4\n",
        "```\n",
        "```python\n",
        ">>> my_list = list(range(3))\n",
        ">>> my_chars = \"abcd\"\n",
        ">>> for i in my_list:\n",
        ">>>     for j in my_chars:\n",
        ">>>         if j == \"c\":\n",
        ">>>             continue\n",
        ">>>         print(\"i =\", i, \"j =\", j)\n",
        ">>>\n",
        "i = 0 j = a\n",
        "i = 0 j = b\n",
        "i = 0 j = d\n",
        "i = 1 j = a\n",
        "i = 1 j = b\n",
        "i = 1 j = d\n",
        "i = 2 j = a\n",
        "i = 2 j = b\n",
        "i = 2 j = d\n",
        "```"
      ],
      "metadata": {
        "id": "uTMs7FADKina"
      }
    },
    {
      "cell_type": "markdown",
      "source": [
        "<h3>Task 3</h3>\n",
        "\n",
        "Calculate the division of each element from numerators list by each element from denominators list and print the division. Skip when the denominator is zero."
      ],
      "metadata": {
        "id": "JXwyuW2gLyqX"
      }
    },
    {
      "cell_type": "code",
      "source": [
        "numerators = [i for i in range(-2, 3)]\n",
        "denominators = [i for i in range(-9, 16, 3)]\n",
        "\n",
        "for num in numerators:\n",
        "    for den in denominators:\n",
        "        if den == 0:\n",
        "            continue\n",
        "        c = round(num / den, 2)\n",
        "        print(f\"{num} / {den} = {c}\")\n"
      ],
      "metadata": {
        "id": "DSVi0555LzDR"
      },
      "execution_count": null,
      "outputs": []
    },
    {
      "cell_type": "markdown",
      "source": [
        "<h3>Task 4</h3>\n",
        "\n",
        "\n",
        "Loop over given days set, print Lisa will go to work during week days. When loop hits the weekend end the loop with a control statement. Duplicate your code, use break statement in the first one and continue statement in the other."
      ],
      "metadata": {
        "id": "sNjDTL-Nselu"
      }
    },
    {
      "cell_type": "code",
      "source": [
        "days = {\"Mon\", \"Tue\", \"Wed\", \"Thu\", \"Fri\", \"Sat\", \"Sun\"}\n",
        "print(\"-\"*30)\n",
        "print(\"Control with break statement\")\n",
        "#\n",
        "# your code here\n",
        "# use break statement\n",
        "#\n",
        "\n",
        "for day in days:\n",
        "  if day in [\"Sat\", \"Sun\"]:\n",
        "    break\n",
        "  print(f\"Lisa will go to work on {day}\")\n",
        "\n",
        "\n",
        "\n",
        "print(\"-\"*30)\n",
        "print(\"Control with continue statement\")\n",
        "#\n",
        "# your code here\n",
        "# use continue statement\n",
        "#\n",
        "\n",
        "for day in days:\n",
        "  if day in [\"Sat\", \"Sun\"]:\n",
        "    continue\n",
        "  print(f\"Lisa will go to work on {day}\")\n"
      ],
      "metadata": {
        "id": "ahdHrXBNseul"
      },
      "execution_count": null,
      "outputs": []
    },
    {
      "cell_type": "markdown",
      "source": [
        "## Pass statement\n"
      ],
      "metadata": {
        "id": "QFK2azw5M_Fm"
      }
    },
    {
      "cell_type": "markdown",
      "source": [
        "When the condition is met, the pass statement, a null operator, is used by the programmer to do nothing. Python's control statement simply moves on to the next iteration without stopping the execution or skipping any steps.\n",
        "\n",
        "```python\n",
        ">>> my_list = list(range(5))\n",
        ">>> for i in my_list:\n",
        ">>>     if i == 3:\n",
        ">>>         pass\n",
        ">>>     print(i)\n",
        ">>>\n",
        "0\n",
        "1\n",
        "2\n",
        "3\n",
        "4\n",
        "```\n",
        "```python\n",
        ">>> my_list = list(range(3))\n",
        ">>> my_chars = \"abcd\"\n",
        ">>> for i in my_list:\n",
        ">>>     for j in my_chars:\n",
        ">>>         if j == \"c\":\n",
        ">>>             pass\n",
        ">>>         print(\"i =\", i, \"j =\", j)\n",
        ">>>\n",
        "i = 0 j = a\n",
        "i = 0 j = b\n",
        "i = 0 j = c\n",
        "i = 0 j = d\n",
        "i = 1 j = a\n",
        "i = 1 j = b\n",
        "i = 1 j = c\n",
        "i = 1 j = d\n",
        "i = 2 j = a\n",
        "i = 2 j = b\n",
        "i = 2 j = c\n",
        "i = 2 j = d\n",
        "```"
      ],
      "metadata": {
        "id": "ZJn-ALnzM-2x"
      }
    },
    {
      "cell_type": "markdown",
      "source": [
        "<h3>Task 5</h3>\n",
        "\n",
        "Given the list, calculate exponents of its elements. Add a pass statement when the element is odd."
      ],
      "metadata": {
        "id": "tsB8oEBCM-oR"
      }
    },
    {
      "cell_type": "code",
      "source": [
        "from math import exp\n",
        "values = [i for i in range(20)]\n",
        "\n",
        "for val in values:\n",
        "  if val % 2 == 1:\n",
        "    pass\n",
        "  print(val)\n",
        "\n"
      ],
      "metadata": {
        "id": "Oxec2Bv9M_Wc"
      },
      "execution_count": null,
      "outputs": []
    },
    {
      "cell_type": "markdown",
      "source": [
        "A programmer can use the pass statement to prevent the interpreter from throwing an error when a loop is left empty.\n",
        "\n",
        "```python\n",
        ">>> for i in range(5):\n",
        ">>>     pass\n",
        "\n",
        "```"
      ],
      "metadata": {
        "id": "47UKAuk3lfV1"
      }
    }
  ]
}