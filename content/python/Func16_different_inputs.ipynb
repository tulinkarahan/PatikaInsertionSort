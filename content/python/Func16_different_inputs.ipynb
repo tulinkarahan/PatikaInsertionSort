{
  "nbformat": 4,
  "nbformat_minor": 0,
  "metadata": {
    "colab": {
      "private_outputs": true,
      "provenance": [],
      "include_colab_link": true
    },
    "kernelspec": {
      "name": "python3",
      "display_name": "Python 3"
    },
    "language_info": {
      "name": "python"
    }
  },
  "cells": [
    {
      "cell_type": "markdown",
      "metadata": {
        "id": "view-in-github",
        "colab_type": "text"
      },
      "source": [
        "<a href=\"https://colab.research.google.com/github/tulinkarahan/PatikaInsertionSort/blob/main/content/python/Func16_different_inputs.ipynb\" target=\"_parent\"><img src=\"https://colab.research.google.com/assets/colab-badge.svg\" alt=\"Open In Colab\"/></a>"
      ]
    },
    {
      "cell_type": "markdown",
      "source": [
        "<table width=\"100%\">\n",
        "    <tr style=\"\">\n",
        "        <th style=\"text-align:left; padding:0px\" width=\"5%\">\n",
        "            <a href=\"https://www.marmara.edu.tr\" target=\"_blank\">\n",
        "                <img src=\"https://raw.githubusercontent.com/MU-Physics-Department/logos/master/mu_logo.png\">\n",
        "            </a>\n",
        "        </th>\n",
        "        <th style=\"padding:0px;\" width=\"35%\">\n",
        "            <img align=\"right\" src=\"https://raw.githubusercontent.com/MU-Physics-Department/logos/master/name.png\">\n",
        "        </th>\n",
        "        <th  width=\"20%\">\n",
        "            &nbsp;\n",
        "        </th>\n",
        "        <th style=\"padding:0px\" width=\"5%\">\n",
        "            <a href=\"https://www.sababozpolat.com\" target=\"_blank\" padding=\"0px\">\n",
        "                <img align=\"center\" src=\"https://raw.githubusercontent.com/MU-Physics-Department/logos/master/hp.png\">\n",
        "            </a>\n",
        "        </th>\n",
        "        <th style=\"padding:0px\" width=\"5%\">\n",
        "            <a href=\"mailto:saba.bozpolat@gmail.com\" target=\"_blank\">\n",
        "                <img align=\"center\" src=\"https://raw.githubusercontent.com/MU-Physics-Department/logos/master/email.png\">\n",
        "            </a>\n",
        "        </th>\n",
        "        <th style=\"padding:0px;\" width=\"5%\">\n",
        "            <a href=\"https://www.linkedin.com/in/saba-bozpolat-644856152/\" target=\"_blank\">\n",
        "                <img align=\"right\" src=\"https://raw.githubusercontent.com/MU-Physics-Department/logos/master/in.png\">\n",
        "            </a>\n",
        "        </th>\n",
        "        <th style=\"padding:0px;\" width=\"5%\">\n",
        "            <a href=\"https://scholar.google.com.tr/citations?user=nSiJoMYAAAAJ&hl=en\" target=\"_blank\">\n",
        "                <img align=\"right\" src=\"https://raw.githubusercontent.com/MU-Physics-Department/logos/master/GS.png\">\n",
        "            </a>\n",
        "        </th>\n",
        "        <th style=\"padding:0px;\" width=\"5%\">\n",
        "            <a href=\"https://www.researchgate.net/profile/Saba-Bozpolat\" target=\"_blank\">\n",
        "                <img align=\"right\" src=\"https://raw.githubusercontent.com/MU-Physics-Department/logos/master/RG.png\">\n",
        "            </a>\n",
        "        </th>\n",
        "        <th style=\"padding:0px\" width=\"5%\">\n",
        "            <a href=\"https://www.youtube.com/channel/UC8-uOZud6UL7oCOE2UUBunA\" target=\"_blank\">\n",
        "                <img align=\"right\" src=\"https://raw.githubusercontent.com/MU-Physics-Department/logos/master/YT.png\">\n",
        "            </a>\n",
        "        </th>\n",
        "        <th style=\"padding:0px;\" width=\"5%\">\n",
        "            <a href=\"https://github.com/sbbzplt\" target=\"_blank\">\n",
        "                <img align=\"right\" src=\"https://raw.githubusercontent.com/MU-Physics-Department/logos/master/GH.png\">\n",
        "            </a>\n",
        "        </th>\n",
        "        <th style=\"padding:0px;\" width=\"5%\">\n",
        "            <a href=\"https://join.slack.com/t/mu-fzk/shared_invite/zt-13jtd6dtd-g9zD5P4Zu0m5P0Gt2PNReQ\"\n",
        "               target=\"_blank\">\n",
        "                <img align=\"right\" src=\"https://raw.githubusercontent.com/MU-Physics-Department/logos/master/slack.png\">\n",
        "            </a>\n",
        "        </th>\n",
        "    </tr>\n",
        "</table>\n",
        "<table width=\"100%\">\n",
        "    <tr style=\"background-color:white;\">\n",
        "        <!-- <td style=\"text-align-left;padding:0px;\" width=\"10%\">\n",
        "            <a href=\"https://fef.marmara.edu.tr\"\n",
        "               target=\"_blank\">\n",
        "                <img align=\"right\" src=\"https://raw.githubusercontent.com/MU-Physics-Department/logos/master/fef.png\">\n",
        "            </a>\n",
        "        </td> -->\n",
        "        <td style=\"padding:0px\" width=\"25%\">\n",
        "            <a href=\"http://fzk.fen.marmara.edu.tr\"\n",
        "               target=\"_blank\">\n",
        "                <img align=\"right\" src=\"https://raw.githubusercontent.com/MU-Physics-Department/logos/master/fzk.png\">\n",
        "            </a>\n",
        "        </td>\n",
        "        <td width=\"10%\">\n",
        "            &nbsp;\n",
        "        </td>\n",
        "        <td style=\"padding:0px;\" width=\"65%\">\n",
        "            <a href=\"https://www.sababozpolat.com/lectures/scientific-programming\"\n",
        "               target=\"_blank\">\n",
        "                <img align=\"right\" src=\"https://raw.githubusercontent.com/MU-Physics-Department/logos/master/comp2083.png\">\n",
        "            </a>\n",
        "        </td>\n",
        "    </tr>\n",
        "</table>"
      ],
      "metadata": {
        "id": "U7WKqEj3PgEi"
      }
    },
    {
      "cell_type": "markdown",
      "source": [
        "# Argument Types"
      ],
      "metadata": {
        "id": "ue5K7mg4PguL"
      }
    },
    {
      "cell_type": "markdown",
      "source": [
        "When we define and call a Python function, the term parameter and argument is used to pass information to the function.\n",
        "\n",
        " - **parameter**: It is the variable listed inside the parentheses in the function definition.\n",
        " - **argument**: It is a value sent to the function when it is called. It is data on which function performs some action and returns the result.\n",
        "\n",
        "```python\n",
        ">>> def my_func(a, b):\n",
        ">>>     c = a + b\n",
        ">>>     return c\n",
        ">>>\n",
        ">>> my_func(3, 5)\n",
        "```\n",
        "Above example a and b are parameters of the function and 3 and 5 are its arguments.\n",
        "\n",
        "<br>\n",
        "<p align=\"center\">\n",
        "<img width=40% src=\"https://github.com/MU-Physics-Department/logos/blob/master/for_comp2083/arguments.png?raw=true\">\n",
        "</p>\n"
      ],
      "metadata": {
        "id": "LRQV62c3avcW"
      }
    },
    {
      "cell_type": "markdown",
      "source": [
        "There are various ways to use arguments in a function. In Python, we have the following 4 types of function arguments.\n",
        "\n",
        " - Positional arguments\n",
        " - Keyword arguments\n",
        " - Default argument\n",
        " - Variable-length arguments"
      ],
      "metadata": {
        "id": "TBMqRNvtww_h"
      }
    },
    {
      "cell_type": "markdown",
      "source": [
        "# Positional Arguments"
      ],
      "metadata": {
        "id": "k-QW494FzKjV"
      }
    },
    {
      "cell_type": "markdown",
      "source": [
        "Positional arguments are those arguments where values get assigned to the arguments by their position when the function is called. For example, the 1st positional argument must be 1st when the function is called. The 2nd positional argument needs to be 2nd when the function is called, etc.\n",
        "\n",
        "By default, Python functions are called using the positional arguments.\n",
        "\n",
        "```python\n",
        ">>> def add(a, b):\n",
        ">>>     print(a - b)\n",
        ">>>\n",
        ">>> add(50, 10)\n",
        "40\n",
        ">>> add(10, 50)\n",
        "-40\n",
        "```\n",
        "\n",
        "If you pass more arguments, you get an Error.\n",
        "\n",
        "```python\n",
        ">>> add(105, 561, 4)\n",
        "TypeError: add() takes 2 positional arguments but 3 were given\n",
        "```"
      ],
      "metadata": {
        "id": "M6rw46-wzK1h"
      }
    },
    {
      "cell_type": "markdown",
      "source": [
        "<h3>Task 1</h3>\n",
        "\n",
        "Write a Python function to calculate the circumference of a square. Follow the instructions below:\n",
        "\n",
        " - Name the function as ``calculate_square_circumference``.\n",
        " - You only need one arguement, which is the length of one side of the square. Call it ``a``.\n",
        " - In the body of the function, calculate the circumference and return the result.\n",
        " - Check if your function works as expected with given the code snippets.\n",
        "\n",
        "\n"
      ],
      "metadata": {
        "id": "gmMu3iOpZMdL"
      }
    },
    {
      "cell_type": "code",
      "source": [
        "#\n",
        "# your code here\n",
        "#\n",
        "def calculate_square_circumference(x):\n",
        "    return 4 * x\n",
        "\n",
        "\n",
        "#\n",
        "# do not change the code below\n",
        "#\n",
        "eps = 1e-3\n",
        "test_func = calculate_square_circumference\n",
        "test_cases = {3: 12, 1.5: 6, 2e-1: 0.8}\n",
        "for tn, (x, res) in enumerate(test_cases.items()):\n",
        "    print(f\"Test {tn+1}:\")\n",
        "    print(f\"\\tfactorial({x}) should be {res}\")\n",
        "    print(f\"\\tYour result is {test_func(x)}\")\n",
        "    if abs(res - test_func(x)) < eps:\n",
        "        print(f\"Test {tn+1} is successful.\")\n",
        "    else:\n",
        "        print(f\"Test {tn+1} fails.\")\n",
        "    print(\"-\"*50)\n"
      ],
      "metadata": {
        "id": "TxNUqByiZMSu"
      },
      "execution_count": null,
      "outputs": []
    },
    {
      "cell_type": "markdown",
      "source": [
        "## Keyword Arguments"
      ],
      "metadata": {
        "id": "T6JdBjJlx2T_"
      }
    },
    {
      "cell_type": "markdown",
      "source": [
        "\n",
        "Usually, at the time of the function call, values get assigned to the arguments according to their position. So we must pass values in the same sequence defined in a function definition.\n",
        "\n",
        "For example, when we call ``student('Jane', 22, 'Senior', 'İTÜ')``, the value “Jon” gets assigned to the argument name, and similarly, 22 to age and so on as per the sequence.\n",
        "\n",
        "We can alter this behavior using a keyword argument.\n",
        "\n",
        "Keyword arguments are those arguments where values get assigned to the arguments by their keyword (name) when the function is called. It is preceded by the variable name and an (=) assignment operator. The Keyword Argument is also called a named argument.\n",
        "\n",
        "```python\n",
        ">>> def student(name, age):\n",
        ">>>     print('Student Details:', name, age)\n",
        ">>>\n",
        ">>> # both keyword arguments\n",
        ">>> student(name='Jon', age=21)\n",
        "Student Details: Jon 21\n",
        ">>> # 1 positional and 1 keyword\n",
        ">>> student('Donald', age=24)\n",
        "Student Details: Donald 24\n",
        "```\n",
        "\n",
        "You can change the sequence of keyword arguments, if need be.\n",
        "\n",
        "```python\n",
        ">>> student(age=22, name='Kelly')\n",
        "Student Details: Kelly 22\n",
        "```"
      ],
      "metadata": {
        "id": "VXWzLBmjx6If"
      }
    },
    {
      "cell_type": "markdown",
      "source": [
        "<h3>Task 2</h3>\n",
        "\n",
        "Write a Python function to calculate circumference of a scalene triangle. Follow the instructions below:\n",
        "\n",
        " - Name the function as ``calculate_triangle_circumference``.\n",
        " - You need three arguements each of which corresponds to the sides of the triangle. Call them ``a, b, c``, respectively.\n",
        " - In the body of the function, calculate the circumference and return the result.\n",
        " - Check if your function works as expected with given code snipped below.\n"
      ],
      "metadata": {
        "id": "aJiz4m7TZSfb"
      }
    },
    {
      "cell_type": "code",
      "source": [
        "#\n",
        "# your code here\n",
        "#\n",
        "\n",
        "\n",
        "\n",
        "#\n",
        "# do not change the code below\n",
        "#\n",
        "c_1 = calculate_triangle_circumference(b=2, a=1, c=4)  # c_1 must be 7\n",
        "print(f\"Circumference of the triangle with sides of 1, 2, 4 is {c_1}\")\n",
        "\n",
        "c_2 = calculate_triangle_circumference(c=2, b=3, a=1)  # c_2 must be 6\n",
        "print(f\"Circumference of the triangle with sides of 1, 3, 2 is {c_2}\")\n",
        "\n",
        "c_3 = calculate_triangle_circumference(a=4, c=4, b=4)  # c_3 must be 12\n",
        "print(f\"Circumference of the triangle with sides of 4, 4, 4 is {c_3}\")\n"
      ],
      "metadata": {
        "id": "r0yR1OnKZSUe"
      },
      "execution_count": null,
      "outputs": []
    },
    {
      "cell_type": "markdown",
      "source": [
        "## Default Arguments"
      ],
      "metadata": {
        "id": "SQfQDYckw7To"
      }
    },
    {
      "cell_type": "markdown",
      "source": [
        "In a function, arguments can have default values. We assign default values to the argument using the ‘=’ (assignment) operator at the time of function definition. You can define a function with any number of default arguments.\n",
        "\n",
        "The default value of an argument will be used inside a function if we do not pass a value to that argument at the time of the function call. Due to this, the default arguments become optional during the function call.\n",
        "\n",
        "It overrides the default value if we provide a value to the default arguments during function calls.\n",
        "\n",
        "```python\n",
        ">>> def student(name, age, grade=\"Sophomore\", uni=\"MU\"):\n",
        ">>>     print('Student Details:', name, age, grade, uni)\n",
        ">>>\n",
        ">>> student('Jon', 21)\n",
        "Student Details: Jon 21 Sophomore MU\n",
        "```\n",
        "\n",
        "You can pass a different value if you want.\n",
        "\n",
        "```\n",
        ">>> student('Kelly', 19, 'Freshman')\n",
        "Student Details: Kelly 19 Freshman MU\n",
        "```"
      ],
      "metadata": {
        "id": "hNjSAGDUw7pE"
      }
    },
    {
      "cell_type": "markdown",
      "source": [
        "<h3>Task 3</h3>\n",
        "\n",
        "Write a Python function to calculate circumference of a circle. Follow the instructions below:\n",
        "\n",
        " - Name the function as ``calculate_circle_circumference``.\n",
        " - You need only one arguement which is the radius. Call it ``r`` and give it a default value of 2.\n",
        " - In the body of the function, calculate the circumference and return the result.\n",
        " - Check if your function works as expected with given code snipped below."
      ],
      "metadata": {
        "id": "82__0pfCZVXH"
      }
    },
    {
      "cell_type": "code",
      "source": [
        "#\n",
        "# your code here\n",
        "#\n",
        "\n",
        "def calculate_circle_circumference(r=2):\n",
        "  c = 2 * 3.14 * r\n",
        "  return c\n",
        "\n",
        "#\n",
        "# do not change the code below\n",
        "#\n",
        "c_1 = calculate_circle_circumference(3)  # c_1 must be 18.85\n",
        "print(f\"Circumference of the circle of radius 3 is {c_1}.\")\n",
        "\n",
        "c_2 = calculate_circle_circumference(r=5)  # c_2 must be 31.42\n",
        "print(f\"Circumference of the circle of radius 5 is {c_2}.\")\n",
        "\n",
        "c_3 = calculate_circle_circumference()  # c_3 must be 12.57\n",
        "print(f\"Circumference of the circle without a specified radius value is {c_3}.\")\n"
      ],
      "metadata": {
        "id": "LmyKJPRIZVNo"
      },
      "execution_count": null,
      "outputs": []
    },
    {
      "cell_type": "markdown",
      "source": [
        "## Variable-length Arguments"
      ],
      "metadata": {
        "id": "dU-Wi29KkM8n"
      }
    },
    {
      "cell_type": "markdown",
      "source": [
        "In Python, sometimes, there is a situation where we can't determine the exact number of arguments to the function. Such types of arguments are called variable-length arguments. We use variable-length arguments if we don’t know the number of arguments needed for the function in advance. Here are two types of variable-length arguments:\n",
        "\n",
        " - arbitrary positional arguments (*args)\n",
        " - arbitrary keyword arguments (**kwargs)\n",
        "\n",
        "The \\*args and \\*\\*kwargs allow you to pass unknown number of positional arguments or keyword arguments to a function."
      ],
      "metadata": {
        "id": "rAjQPa1RkPP5"
      }
    },
    {
      "cell_type": "markdown",
      "source": [
        "### Arbitrary positional arguments (*args)\n"
      ],
      "metadata": {
        "id": "mL44EyNxk6zt"
      }
    },
    {
      "cell_type": "markdown",
      "source": [
        "We can declare a variable-length argument with the \\* (asterisk) symbol. Place an asterisk (\\*) before a parameter in the function definition to define an arbitrary positional argument. To see arbitrary positional arguments on work, let's first define an ordinary Python function.\n",
        "\n",
        "```python\n",
        ">>> def average(x, y, z):\n",
        ">>>     av = (x + y + z) / 3\n",
        ">>>     return av\n",
        "```\n",
        "The average function above takes 3 arguments, calculates average of them and returns the result. But what if you want to pass more (or less) arguments to calculate their average? Here is where arbitrary positional arguments come to help.\n",
        "\n",
        "```python\n",
        ">>> def average(*args):\n",
        ">>>     av = sum(args) / len(args)\n",
        ">>>     return av\n",
        "```\n",
        "\n",
        "Internally all these values are represented in the form of a tuple.\n",
        "\n",
        "```python\n",
        ">>> def average(*args):\n",
        ">>>     print(type(args))\n",
        ">>>     av = sum(args) / len(args)\n",
        ">>>     return av\n",
        ">>>\n",
        ">>> average(20, 30, 40, 50)\n",
        "<class 'tuple'>\n",
        "```"
      ],
      "metadata": {
        "id": "VgOqsWgXk7H7"
      }
    },
    {
      "cell_type": "markdown",
      "source": [
        "<h3>Task 4</h3>\n",
        "\n",
        "Write a function to calculate equivalent resistance for unknown number of resistors connected in series to one another.\n",
        "\n",
        "<br>\n",
        "<p align=\"center\">\n",
        "<img width=30% src=\"https://github.com/MU-Physics-Department/logos/blob/master/for_comp2083/serial_resistors.png?raw=true\">\n",
        "</p>\n",
        "\n",
        "Follow the instructions below:\n",
        "\n",
        " - Name the function as ``serial_resistor``.\n",
        " - Use arbitrary positional arguements and name it as ``resistors``.\n",
        " - Calculate the ``equivalent_resistor`` via equivalent resistor formula for serial resistors.\n",
        " - Return ``equivalent_resistor``.\n",
        " - Check if your function works as expected with given the code snippets."
      ],
      "metadata": {
        "id": "ODTXjEQt23N0"
      }
    },
    {
      "cell_type": "code",
      "source": [
        "#\n",
        "# your code here\n",
        "#\n",
        "\n",
        "def serial_resistor(*resistors):\n",
        "  equivalent_resistor = sum(resistors)\n",
        "  return equivalent_resistor\n",
        "\n",
        "#\n",
        "# do not change the code below\n",
        "#\n",
        "r_eq_1 = serial_resistor(10, 10, 20)  # r_eq_1 should be 40\n",
        "print(f\"Equivalent resistor value for 10 ohm, 10 ohm and 20 ohm connected in serial is {r_eq_1} ohm.\")\n",
        "\n",
        "r_eq_2 = serial_resistor(30, 20)  # r_eq_2 should be 50\n",
        "print(f\"Equivalent resistor value for 30 ohm and 20 ohm connected in serial is {r_eq_2} ohm.\")\n",
        "\n",
        "r_eq_3 = serial_resistor(15, 10, 15, 50)  # r_eq_3 should be 90\n",
        "print(f\"Equivalent resistor value for 15 ohm, 10 ohm, 15 ohm and 50 ohm connected in serial is {r_eq_3} ohm.\")\n"
      ],
      "metadata": {
        "id": "i_xL-y0Kw4DR"
      },
      "execution_count": null,
      "outputs": []
    },
    {
      "cell_type": "markdown",
      "source": [
        "<h3>Task 5</h3>\n",
        "\n",
        "Write a function to calculate equivalent resistance for unknown number of resistors connected in series to one another.\n",
        "<br>\n",
        "<p align=\"center\">\n",
        "<img width=30% src=\"https://github.com/MU-Physics-Department/logos/blob/master/for_comp2083/parallel_resistors.png?raw=true\">\n",
        "</p>\n",
        "\n",
        "\n",
        "Follow the instructions below:\n",
        "\n",
        " - Name the function as ``parallel_resistor``.\n",
        " - Use arbitrary positional arguements and name it as ``resistors``.\n",
        " - Calculate the ``equivalent_resistor`` via equivalent resistor formula for serial resistors.\n",
        " - Return ``equivalent_resistor``.\n",
        " - Check if your function works as expected with given the code snippets."
      ],
      "metadata": {
        "id": "hMo71jwKKNTD"
      }
    },
    {
      "cell_type": "code",
      "source": [
        "#\n",
        "# your code here\n",
        "#\n",
        "\n",
        "def parallel_resistor(*resistors):\n",
        "  a = 0\n",
        "  for r in resistors:\n",
        "    a += 1 / r\n",
        "  equivalent_resistor = 1 / a\n",
        "  return equivalent_resistor\n",
        "\n",
        "#\n",
        "# do not change the code below\n",
        "#\n",
        "r_eq_1 = parallel_resistor(10, 10)  # r_eq_1 should be 5.0\n",
        "print(f\"Equivalent resistor value for 10 ohm, 10 ohm and 10 ohm connected in serial is {r_eq_1} ohm.\")\n",
        "\n",
        "r_eq_2 = parallel_resistor(30, 20, 10)  # r_eq_2 should be 5.45454545\n",
        "print(f\"Equivalent resistor value for 30 ohm, 10 ohm and 20 ohm connected in serial is {r_eq_2} ohm.\")\n",
        "\n",
        "r_eq_3 = parallel_resistor(15, 10, 15, 50)  # r_eq_3 should be 3.97736842\n",
        "print(f\"Equivalent resistor value for 15 ohm, 10 ohm, 15 ohm and 50 ohm connected in serial is {r_eq_3} ohm.\")\n"
      ],
      "metadata": {
        "id": "kMN__78WKNdZ"
      },
      "execution_count": null,
      "outputs": []
    },
    {
      "cell_type": "markdown",
      "source": [
        "### Arbitrary keyword arguments (**kwargs)\n"
      ],
      "metadata": {
        "id": "a8wXQ5OfXXzY"
      }
    },
    {
      "cell_type": "markdown",
      "source": [
        "We saw how to use *args. Now let’s see how to use the **kwargs argument. The **kwargs allow you to pass multiple keyword arguments to a function. Use the **kwargs if you want to handle named arguments in a function.\n",
        "\n",
        "Use the unpacking operator(**) to define variable-length keyword arguments. Keyword arguments passed to a kwargs are accessed using key-value pair (same as accessing a dictionary in Python).\n",
        "\n",
        "```python\n",
        ">>> def marks_book(**kwargs):\n",
        ">>>     print(type(kwargs))\n",
        ">>>     grades = {}\n",
        ">>>     for key, value in kwargs.items():\n",
        ">>>         grades[key] = {\"grade\": value}\n",
        ">>>         if value >= 70:\n",
        ">>>             grades[key][\"status\"] = \"Pass\"\n",
        ">>>         else:\n",
        ">>>             grades[key][\"status\"] = \"Fail\"\n",
        ">>>     return grades\n",
        ">>>\n",
        ">>>\n",
        ">>> marks = marks_book(math=56, english=61, science=73)\n",
        "<class 'dict'>\n",
        ">>> print(marks)\n",
        "{'math': {'grade': 56, 'status': 'Fail'}, 'english': {'grade': 61, 'status': 'Fail'}, 'science': {'grade': 73, 'status': 'Pass'}}\n",
        "```\n"
      ],
      "metadata": {
        "id": "G82SQFvuXYBK"
      }
    },
    {
      "cell_type": "markdown",
      "source": [
        "<h3>Task 6</h3>\n",
        "\n",
        "Write a Python function to calculate the gravity of different celestial objects at once. To simplify the calculation, multipliers for calculating the gravity of the planets relative to the gravity of the Earth are given.\n",
        "\n",
        "**Example**: The relative multiplier for the Moon is approximately 0.17. Following is the calculation of Moon's gravity:\n",
        "\n",
        "$$\n",
        "\\begin{array}a\n",
        "g_{moon} &=& multiplier * g_{\\oplus}\\\\\n",
        "&\\approx& 0.17 * 9.81  \\text{ m/s}^2\\\\\n",
        "&=& 1.62 \\text{ m/s}^2\n",
        "\\end{array}\n",
        "$$\n",
        "\n",
        " - Name the function as ``calc_g``.\n",
        " - Use keyword arguements and name it as ``celestials``.\n",
        " - In the body of the function, create an empty dictionary named as ``celestials_g``.\n",
        " - In the body of the function, create a loop over the items of ``celestials``. Then calculate and add the gravities one by one to the ``celestials_g`` dictionary. Keywords and values should be the name and the grativy of the celestial, respectively.\n",
        " - Return ``celestials_g`` dictionary.\n",
        " - Check if your function works as expected with given the code snippets."
      ],
      "metadata": {
        "id": "r-JhreeVa0dC"
      }
    },
    {
      "cell_type": "code",
      "source": [
        "#\n",
        "# your code here\n",
        "#\n",
        "def calc_gs(**celestials):\n",
        "  celestials_g = {}\n",
        "  for key, value in celestials. items():\n",
        "    g = value * 9.81\n",
        "    celestials_g[key] = g\n",
        "  return celestials_g\n",
        "\n",
        "#\n",
        "# do not change the code below\n",
        "#\n",
        "g_moon = calc_gs(moon=0.17)\n",
        "print(g_moon)  # you should see {'moon': 1.62}\n",
        "\n",
        "g_inners = calc_gs(mercury=0.38, venus=0.9)\n",
        "print(g_inners)  # you should see {'marcury': 3.7, 'venus': 8.87}\n",
        "\n",
        "g_outers = calc_gs(mars=0.38, jupiter=2.53, saturn=1.06, uranus=0.9, neptune=1.14)\n",
        "print(g_outers)  # you should see {'mars': 3.71, 'jupiter': 24.79, 'saturn': 10.44, 'uranus': 8.87, 'neptune': 11.15}\n",
        "\n",
        "g_sun = calc_gs(sun=27.93)\n",
        "print(g_sun)  # you should see {'sun': 273.99}\n",
        "\n",
        "g_sunlike_stars = calc_gs(alpha_centauri_a=2033.90, tau_ceti=3078.44)\n",
        "print(g_sunlike_stars)  # you should see {'alpha_centauri_a': 19952.559, 'tau_ceti': 30199.4964}\n"
      ],
      "metadata": {
        "id": "PF0ica5Ba0Sk"
      },
      "execution_count": null,
      "outputs": []
    },
    {
      "cell_type": "markdown",
      "source": [
        "Task 7 geçen seneki vizeye çok benziyormuş."
      ],
      "metadata": {
        "id": "IjQsWgaqCPe5"
      }
    },
    {
      "cell_type": "markdown",
      "source": [
        "<h3>Task 7</h3>\n",
        "\n",
        "Write a function to calculate the time constant of an RC circuit as shown in the figure below.\n",
        "\n",
        "<br>\n",
        "<p align=\"center\">\n",
        "<img width=50% src=\"https://github.com/MU-Physics-Department/logos/blob/master/for_comp2083/RC_serial_resistors_and_parallel_capacitors.png?raw=true\">\n",
        "</p>\n",
        "\n",
        "Recall the formulas here:\n",
        "\n",
        "$$\n",
        "\\begin{array}a\n",
        "\\tau &=& R_{eq} C_{eq}\\\\\n",
        "R_{eq} &=& R_1 + R_2 + ⋯\\\\\n",
        "C_{eq} &=& C_1 + C_2 + ⋯\\\\\n",
        "\\end{array}\n",
        "$$\n",
        "\n",
        "_Instructions_:\n",
        " - Name the function as ``calculate_time_constant``\n",
        " - Use arbitrary\n",
        " - In the body of the function, build a for loop over the items of keyword arguements.\n",
        " - Check if the key of the item contains either \"res\" for a resistor or \"cap\" for a capacitor. Calculate equivalent resistor and equivalent capacitance accordingly.\n",
        " - While using (calling) the function, use keywords which begins with \"res\" for resistor values and \"cap\" for capacitor values.\n",
        " - Check if your function works as expected with given the code snippets.\n"
      ],
      "metadata": {
        "id": "Yc6Veb6hyqDC"
      }
    },
    {
      "cell_type": "code",
      "source": [
        "#\n",
        "# your code here\n",
        "#\n",
        "def calculate_time_constant(**elements):\n",
        "    resistors = []\n",
        "    capacitors = []\n",
        "    for key, value in elements.items():\n",
        "        if \"res\" in key:\n",
        "          resistors.append(value)\n",
        "        elif \"cap\" in key:\n",
        "            capacitors.append(value)\n",
        "    r_equiv = sum(resistors)\n",
        "    c_equiv = sum(capacitors)\n",
        "    tau = r_equiv * c_equiv\n",
        "    return tau\n",
        "\n",
        "\n",
        "\n",
        "#\n",
        "# do not change the code below\n",
        "#\n",
        "tau_1 = calculate_time_constant(res_1=3e3, cap_1=2200e-6, res_2=1e3, res_3=2.2e3, cap_2=1.1e-3)\n",
        "print(tau_1)  # you should see 20.46\n",
        "\n",
        "tau_2 = calculate_time_constant(resistor=2000, capacitor=1100e-6)\n",
        "print(tau_2)  # you should see 2.2\n",
        "\n",
        "tau_3 = calculate_time_constant(resistor_1=1100, resistor_2=2e3, capacitor_1=2.2e-3, capacitor_2=1100e-6)\n",
        "print(tau_3)  # you should see 10.23\n",
        "\n"
      ],
      "metadata": {
        "id": "wcRaI1bcy3CI"
      },
      "execution_count": null,
      "outputs": []
    },
    {
      "cell_type": "markdown",
      "source": [
        "## Ordering Arguments in a Function"
      ],
      "metadata": {
        "id": "4668k7_WcbCH"
      }
    },
    {
      "cell_type": "markdown",
      "source": [],
      "metadata": {
        "id": "txoFlBM-ca3n"
      }
    },
    {
      "cell_type": "markdown",
      "source": [
        "<h3>Task 8</h3>\n",
        "\n",
        "Create a phonebook"
      ],
      "metadata": {
        "id": "PpNSvNIqcarm"
      }
    },
    {
      "cell_type": "code",
      "source": [],
      "metadata": {
        "id": "o7Mt-lPYcafo"
      },
      "execution_count": null,
      "outputs": []
    }
  ]
}