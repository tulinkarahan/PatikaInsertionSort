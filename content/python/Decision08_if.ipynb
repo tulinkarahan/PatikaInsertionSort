{
  "nbformat": 4,
  "nbformat_minor": 0,
  "metadata": {
    "colab": {
      "private_outputs": true,
      "provenance": [],
      "include_colab_link": true
    },
    "kernelspec": {
      "name": "python3",
      "display_name": "Python 3"
    },
    "language_info": {
      "name": "python"
    }
  },
  "cells": [
    {
      "cell_type": "markdown",
      "metadata": {
        "id": "view-in-github",
        "colab_type": "text"
      },
      "source": [
        "<a href=\"https://colab.research.google.com/github/tulinkarahan/PatikaInsertionSort/blob/main/content/python/Decision08_if.ipynb\" target=\"_parent\"><img src=\"https://colab.research.google.com/assets/colab-badge.svg\" alt=\"Open In Colab\"/></a>"
      ]
    },
    {
      "cell_type": "markdown",
      "source": [
        "<table width=\"100%\">\n",
        "    <tr style=\"\">\n",
        "        <th style=\"text-align:left; padding:0px\" width=\"5%\">\n",
        "            <a href=\"https://www.marmara.edu.tr\" target=\"_blank\">\n",
        "                <img src=\"https://raw.githubusercontent.com/MU-Physics-Department/logos/master/mu_logo.png\">\n",
        "            </a>\n",
        "        </th>\n",
        "        <th style=\"padding:0px;\" width=\"35%\">\n",
        "            <img align=\"right\" src=\"https://raw.githubusercontent.com/MU-Physics-Department/logos/master/name.png\">\n",
        "        </th>\n",
        "        <th  width=\"20%\">\n",
        "            &nbsp;\n",
        "        </th>\n",
        "        <th style=\"padding:0px\" width=\"5%\">\n",
        "            <a href=\"https://www.sababozpolat.com\" target=\"_blank\" padding=\"0px\">\n",
        "                <img align=\"center\" src=\"https://raw.githubusercontent.com/MU-Physics-Department/logos/master/hp.png\">\n",
        "            </a>\n",
        "        </th>\n",
        "        <th style=\"padding:0px\" width=\"5%\">\n",
        "            <a href=\"mailto:saba.bozpolat@gmail.com\" target=\"_blank\">\n",
        "                <img align=\"center\" src=\"https://raw.githubusercontent.com/MU-Physics-Department/logos/master/email.png\">\n",
        "            </a>\n",
        "        </th>\n",
        "        <th style=\"padding:0px;\" width=\"5%\">\n",
        "            <a href=\"https://www.linkedin.com/in/saba-bozpolat-644856152/\" target=\"_blank\">\n",
        "                <img align=\"right\" src=\"https://raw.githubusercontent.com/MU-Physics-Department/logos/master/in.png\">\n",
        "            </a>\n",
        "        </th>\n",
        "        <th style=\"padding:0px;\" width=\"5%\">\n",
        "            <a href=\"https://scholar.google.com.tr/citations?user=nSiJoMYAAAAJ&hl=en\" target=\"_blank\">\n",
        "                <img align=\"right\" src=\"https://raw.githubusercontent.com/MU-Physics-Department/logos/master/GS.png\">\n",
        "            </a>\n",
        "        </th>\n",
        "        <th style=\"padding:0px;\" width=\"5%\">\n",
        "            <a href=\"https://www.researchgate.net/profile/Saba-Bozpolat\" target=\"_blank\">\n",
        "                <img align=\"right\" src=\"https://raw.githubusercontent.com/MU-Physics-Department/logos/master/RG.png\">\n",
        "            </a>\n",
        "        </th>\n",
        "        <th style=\"padding:0px\" width=\"5%\">\n",
        "            <a href=\"https://www.youtube.com/channel/UC8-uOZud6UL7oCOE2UUBunA\" target=\"_blank\">\n",
        "                <img align=\"right\" src=\"https://raw.githubusercontent.com/MU-Physics-Department/logos/master/YT.png\">\n",
        "            </a>\n",
        "        </th>\n",
        "        <th style=\"padding:0px;\" width=\"5%\">\n",
        "            <a href=\"https://github.com/sbbzplt\" target=\"_blank\">\n",
        "                <img align=\"right\" src=\"https://raw.githubusercontent.com/MU-Physics-Department/logos/master/GH.png\">\n",
        "            </a>\n",
        "        </th>\n",
        "        <th style=\"padding:0px;\" width=\"5%\">\n",
        "            <a href=\"https://join.slack.com/t/mu-fzk/shared_invite/zt-13jtd6dtd-g9zD5P4Zu0m5P0Gt2PNReQ\"\n",
        "               target=\"_blank\">\n",
        "                <img align=\"right\" src=\"https://raw.githubusercontent.com/MU-Physics-Department/logos/master/slack.png\">\n",
        "            </a>\n",
        "        </th>\n",
        "    </tr>\n",
        "</table>\n",
        "<table width=\"100%\">\n",
        "    <tr style=\"background-color:white;\">\n",
        "        <!-- <td style=\"text-align-left;padding:0px;\" width=\"10%\">\n",
        "            <a href=\"https://fef.marmara.edu.tr\"\n",
        "               target=\"_blank\">\n",
        "                <img align=\"right\" src=\"https://raw.githubusercontent.com/MU-Physics-Department/logos/master/fef.png\">\n",
        "            </a>\n",
        "        </td> -->\n",
        "        <td style=\"padding:0px\" width=\"25%\">\n",
        "            <a href=\"http://fzk.fen.marmara.edu.tr\"\n",
        "               target=\"_blank\">\n",
        "                <img align=\"right\" src=\"https://raw.githubusercontent.com/MU-Physics-Department/logos/master/fzk.png\">\n",
        "            </a>\n",
        "        </td>\n",
        "        <td width=\"10%\">\n",
        "            &nbsp;\n",
        "        </td>\n",
        "        <td style=\"padding:0px;\" width=\"65%\">\n",
        "            <a href=\"https://www.sababozpolat.com/lectures/scientific-programming\"\n",
        "               target=\"_blank\">\n",
        "                <img align=\"right\" src=\"https://raw.githubusercontent.com/MU-Physics-Department/logos/master/comp2083.png\">\n",
        "            </a>\n",
        "        </td>\n",
        "    </tr>\n",
        "</table>"
      ],
      "metadata": {
        "id": "xsiB2OVMcazu"
      }
    },
    {
      "cell_type": "markdown",
      "source": [
        "# If Blocks"
      ],
      "metadata": {
        "id": "pMMcblcglhYw"
      }
    },
    {
      "cell_type": "markdown",
      "source": [
        "In programming decisions are made through if blocks. An if block is a collection of code lines which provides guidance to the program of what to do under different circumstances. In order to make a decision, first you need to ask a logical question such as,\n",
        " - Is a variable equal to the other?\n",
        " - Is this list empty or not?\n",
        " - Is this result valid or not?\n",
        "\n",
        "etc. According to the answers of such questions, different conditions arise. In an if block you both ask the question and give directions according to the answer. Syntactically, an if block begins with ``if`` command. It follows a logical proposition in the same line. And at the end of this line, there has to be a colon to indicate that the condition is finished and the instructions performed under this condition begins the next line with 4 empty characters.\n",
        "\n",
        "```python\n",
        "if _logical_proposition_:\n",
        "    instructions\n",
        "```\n",
        "\n",
        "A logical proposition in programming is anything which can be evaluated to a boolean. Common examples of a logical proposition are comparatives, equalities, statements which includes logical operators, etc.\n",
        "\n",
        "```python\n",
        "if a >= b:\n",
        "    instructions\n",
        "```\n",
        "```python\n",
        "if a == b:\n",
        "    instructions\n",
        "```\n",
        "```python\n",
        "if a or b:\n",
        "    instructions\n",
        "```"
      ],
      "metadata": {
        "id": "D-j1ASJFPwZL"
      }
    },
    {
      "cell_type": "markdown",
      "source": [
        "<h3>Task 1</h3>\n",
        "\n",
        "Let ``a`` and ``b`` are 2. Print `` \"a is equal to b.\"`` using an if block."
      ],
      "metadata": {
        "id": "ViheuHHQjbQs"
      }
    },
    {
      "cell_type": "code",
      "source": [
        "a = b = 2\n",
        "#\n",
        "# your code here\n",
        "#\n"
      ],
      "metadata": {
        "id": "_7-juxFqjZ3b"
      },
      "execution_count": null,
      "outputs": []
    },
    {
      "cell_type": "markdown",
      "source": [
        "\n",
        "Throughout the instructions part, you should put 4 empty characters at the beginning of each code line to indicate that the instructions part is still not finished.\n",
        "\n",
        "```python\n",
        "if a < b:\n",
        "    instructions line 1\n",
        "    instructions line 2\n",
        "    instructions line 3\n",
        "    ...\n",
        "```\n"
      ],
      "metadata": {
        "id": "fO92RlvjjaV8"
      }
    },
    {
      "cell_type": "markdown",
      "source": [
        "<h3>Task 2</h3>\n",
        "\n",
        "Let ``a`` and ``b`` are 2. If they are equal to each other, then calculate their sum and store it another variable such as ``c``. Then print the value of ``c``."
      ],
      "metadata": {
        "id": "1OHCJ7EajlTP"
      }
    },
    {
      "cell_type": "code",
      "source": [
        "a = b = 2\n",
        "#\n",
        "# your code here\n",
        "#\n"
      ],
      "metadata": {
        "id": "cM2iKtu-jlfA"
      },
      "execution_count": null,
      "outputs": []
    },
    {
      "cell_type": "markdown",
      "source": [
        "Instructions are the code lines which will run if and only if their condition is valid.\n",
        "\n",
        "\n",
        "\n",
        "```python\n",
        ">>> x = 2\n",
        ">>> y = 2.\n",
        ">>> if x == y:\n",
        "...     print(\"x is equal to y.\")\n",
        "...\n",
        "x is equal to y.\n",
        ">>> if x is y:\n",
        "...     print(\"x is equal to y.\")\n",
        "...\n",
        "\n",
        "```\n"
      ],
      "metadata": {
        "id": "D0tVA-shjlmB"
      }
    },
    {
      "cell_type": "markdown",
      "source": [
        "<h3>Task 3</h3>\n",
        "\n",
        "Let ``a`` and ``b`` are 2. If they are _**not**_ equal to each other, then calculate their product and store it another variable such as ``c``. Then print the value of ``c``."
      ],
      "metadata": {
        "id": "-_FGpEaGnMd8"
      }
    },
    {
      "cell_type": "code",
      "source": [
        "a = b = 2\n",
        "#\n",
        "# your code here\n",
        "#\n"
      ],
      "metadata": {
        "id": "4iDafXhTnMnx"
      },
      "execution_count": null,
      "outputs": []
    },
    {
      "cell_type": "markdown",
      "source": [
        "When you have two sets of instructions to execute, one when the condition is met and the other when it is not, you can add an ``else`` command to the if block.\n",
        "\n",
        "```python\n",
        "if _logical_proposition_:\n",
        "    instructions_set_1\n",
        "else:\n",
        "    instructions_set_2\n",
        "```"
      ],
      "metadata": {
        "id": "KxME713Zn3JR"
      }
    },
    {
      "cell_type": "markdown",
      "source": [
        "<h3>Task 4</h3>\n",
        "\n",
        "Let ``a`` and ``b``\n",
        "are 3. If they are equal to each other, then calculate their product and store it another variable such as ``c``.\n",
        "Then print the value of ``c``.\n",
        "Else, calculate their sum and store it another variable such as ``c``.\n"
      ],
      "metadata": {
        "id": "lHRx0gPon3ez"
      }
    },
    {
      "cell_type": "code",
      "source": [
        "a, b = 3\n",
        "#\n",
        "# your code here\n",
        "#\n"
      ],
      "metadata": {
        "id": "PvIaHQmDn3qY"
      },
      "execution_count": null,
      "outputs": []
    },
    {
      "cell_type": "markdown",
      "source": [
        "In some cases, there may be more than one condition you need to check. In these cases, you can add ``elif``\n",
        "commands to the if block. ``elif`` is short for \"else if\".\n",
        "Similar to ``if``\n",
        "command, you have to provide additional logical propositions next to ``elif`` commands.\n",
        "\n",
        "```python\n",
        "if _logical_proposition_1:\n",
        "    instructions_set_1\n",
        "elif _logical_proposition_2:\n",
        "    instructions_set_2\n",
        "```\n"
      ],
      "metadata": {
        "id": "nv_e6FCdxYii"
      }
    },
    {
      "cell_type": "markdown",
      "source": [
        "<h3>Task 5</h3>\n",
        "\n",
        "For this task, we'll use random integer generator from random module. In the first line below, this function is imported. Details of Python modules will be elaborated following lectures. Write the code for following instructions.\n",
        "\n",
        " - If a is greater than b, then print \"a is greater than b.\"\n",
        " - Else, if a is less than b, then print \"a is less than b.\"\n"
      ],
      "metadata": {
        "id": "zcPQjKf5xZP4"
      }
    },
    {
      "cell_type": "code",
      "source": [
        "from random import randint\n",
        "a = randint(1, 10)\n",
        "b = randint(1, 10)\n",
        "#\n",
        "# your code here\n",
        "#\n"
      ],
      "metadata": {
        "id": "uTTtSzbBxZdD"
      },
      "execution_count": null,
      "outputs": []
    },
    {
      "cell_type": "markdown",
      "source": [
        "You may add as many ``elif`` commands as you need.\n",
        "```python\n",
        "if _logical_proposition_1:\n",
        "    instructions_set_1\n",
        "elif _logical_proposition_2:\n",
        "    instructions_set_2\n",
        "elif _logical_proposition_3:\n",
        "    instructions_set_3\n",
        "elif _logical_proposition_4:\n",
        "    instructions_set_4\n",
        " ...\n",
        "```"
      ],
      "metadata": {
        "id": "T-71u6cO1YPa"
      }
    },
    {
      "cell_type": "markdown",
      "source": [
        "<h3>Task 6</h3>\n",
        "\n",
        "For this task, we'll use random integer generator from random module. In the first line below, this function is imported. Details of Python modules will be elaborated following lectures.\n",
        "\n",
        "\n",
        "\n",
        " - If both a and b is greater than 50, calculate and print their sum.\n",
        " - Else, if a is less then and b is greater than 50, calculate and print their production.\n",
        " - Else, if a is greater then and b is less than 50, calculate and print their subtraction.\n",
        " - Else, calculate and print their division.\n",
        "\n",
        "_Hint_: Print also a and b to check validity of conditions.\n"
      ],
      "metadata": {
        "id": "Km6eL95i1dVO"
      }
    },
    {
      "cell_type": "code",
      "source": [
        "from random import randint\n",
        "a = randint(1, 100)\n",
        "b = randint(1, 100)\n",
        "#\n",
        "# your code here\n",
        "#\n"
      ],
      "metadata": {
        "id": "jBebnKOG1dpG"
      },
      "execution_count": null,
      "outputs": []
    },
    {
      "cell_type": "markdown",
      "source": [
        "<h3>Task 7</h3>\n",
        "\n",
        "Let a and b are 2.0. Write the code for following instructions.\n",
        "\n",
        " - If a is greater than b, then print this situation using a formatted string.\n",
        " - Else, if a equal to b, then print this situation using a formatted string.\n",
        " - Else, if a less than b, then print this situation using a formatted string.\n",
        "\n"
      ],
      "metadata": {
        "id": "1XrOFoFR5Jp-"
      }
    },
    {
      "cell_type": "code",
      "source": [
        "a = b = 2.0\n",
        "#\n",
        "# your code here\n",
        "#\n"
      ],
      "metadata": {
        "id": "NhnwkBrJ5J9I"
      },
      "execution_count": null,
      "outputs": []
    },
    {
      "cell_type": "markdown",
      "source": [
        "<h3>Task 8</h3>\n",
        "\n",
        "Let a is 1.0 and b is 2.0. Write the code for following instructions.\n",
        "\n",
        " - If a is greater than b, then print this situation using a formatted string.\n",
        " - Else, if a equal to b, then print this situation using a formatted string.\n",
        " - Else, if a less than b, then print this situation using a formatted string.\n"
      ],
      "metadata": {
        "id": "IuSPZWo_5KH4"
      }
    },
    {
      "cell_type": "code",
      "source": [
        "a, b = 1.0, 2.0\n",
        "#\n",
        "# your code here\n",
        "#\n"
      ],
      "metadata": {
        "id": "xLzUVWpV5KSN"
      },
      "execution_count": null,
      "outputs": []
    },
    {
      "cell_type": "markdown",
      "source": [
        "TODO:\n",
        "Akış net görünsün diye sağlanmayacak elifleri anlatan metin ekle. Branching şeması ile izlenen yolu ve aşağıda kalan eliflerin neden kontrol edilmediğini göster."
      ],
      "metadata": {
        "id": "htUDt0e_jmNy"
      }
    },
    {
      "cell_type": "markdown",
      "source": [
        "<h3>Task 9</h3>\n",
        "\n",
        "Let a is 2.0 and b is 2.0. Write the code for following instructions.\n",
        "\n",
        " - If a is greater than b, then print this situation using a formatted string.\n",
        " - Else, if a equal to b, then print this situation using a formatted string.\n",
        " - Else, if a less than b, then print this situation using a formatted string.\n",
        " - Else, if a is even, then print this situation using a formatted string.\n",
        " - Else, if a is odd, then print this situation using a formatted string."
      ],
      "metadata": {
        "id": "E3IO8rD0jov4"
      }
    },
    {
      "cell_type": "code",
      "source": [
        "a = b = 2.0\n",
        "\n",
        "if a > b:\n",
        "  print(\"a is gt b.\")\n",
        "elif a == b:\n",
        "  print(\"a is eq b.\")\n",
        "elif a < b:\n",
        "  print(\"a is lt b.\")\n",
        "if a % 2 == 0:\n",
        "  print(\"a is even.\")\n",
        "elif a % 2 == 1:\n",
        "  print(\"a is odd.\")\n",
        "\n",
        "\n",
        "\n",
        "\n",
        "\n",
        "\n",
        "\n"
      ],
      "metadata": {
        "id": "8ne4QePejpQX"
      },
      "execution_count": null,
      "outputs": []
    },
    {
      "cell_type": "code",
      "source": [
        "from random import randint\n",
        "a = randint(1,10)\n",
        "b = randint(1,10)"
      ],
      "metadata": {
        "id": "XWZgAKMFWQ0O"
      },
      "execution_count": null,
      "outputs": []
    },
    {
      "cell_type": "markdown",
      "source": [
        "TODO:\n",
        "Akış net görünsün diye sağlanmayacak eliflerin nasıl sağlanır hale getirilebileceğini anlatan metin ekle. Branching şeması ile artık iki successive branch olduğunu göster."
      ],
      "metadata": {
        "id": "f6nlfzJplQCW"
      }
    },
    {
      "cell_type": "markdown",
      "source": [
        "<h3>Task 10</h3>\n",
        "\n",
        "Let a is 2.0 and b is 2.0. Write the code for following instructions.\n",
        "\n",
        " - If a is greater than b, then print this situation using a formatted string.\n",
        " - Else, if a equal to b, then print this situation using a formatted string.\n",
        " - Else, if a less than b, then print this situation using a formatted string.\n",
        " - If a is even, then print this situation using a formatted string.\n",
        " - Else, if a is odd, then print this situation using a formatted string."
      ],
      "metadata": {
        "id": "hn-zCLaMlQhu"
      }
    },
    {
      "cell_type": "code",
      "source": [
        "a = b = 2.0\n",
        "#\n",
        "# your code here\n",
        "#\n"
      ],
      "metadata": {
        "id": "MuqQD-W-lQ4w"
      },
      "execution_count": null,
      "outputs": []
    },
    {
      "cell_type": "markdown",
      "source": [
        "You may also use an else command if necessary. You have to put else part at the end of the if block and you may add as many elif part as you need.\n",
        "```python\n",
        "if _logical_proposition_1:\n",
        "    instructions_set_1\n",
        "elif _logical_proposition_2:\n",
        "    instructions_set_2\n",
        "elif _logical_proposition_3:\n",
        " ...\n",
        "else:\n",
        "    instruction_for_else_part\n",
        "```"
      ],
      "metadata": {
        "id": "oE7OXZvd4ES3"
      }
    },
    {
      "cell_type": "markdown",
      "source": [
        "<h3>Task 11</h3>\n",
        "\n",
        "Let length of a vase is 25 cm. Write the code for following instructions.\n",
        "\n",
        " - If length is greater than 30 cm, then print this situation using a string.\n",
        " - Else, if length is greater than 40 cm, then print this situation using a string.\n",
        " - Else, if length is greater than 50 cm, then print this situation using a string.\n",
        " - Else, print none of previous conditions are met.\n",
        "\n"
      ],
      "metadata": {
        "id": "Y8vuvsSf4sSn"
      }
    },
    {
      "cell_type": "code",
      "source": [
        "length = 25\n",
        "\n"
      ],
      "metadata": {
        "id": "uDnuVAdx4sr6"
      },
      "execution_count": null,
      "outputs": []
    }
  ]
}