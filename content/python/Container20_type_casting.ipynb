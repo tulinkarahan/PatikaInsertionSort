{
  "nbformat": 4,
  "nbformat_minor": 0,
  "metadata": {
    "colab": {
      "private_outputs": true,
      "provenance": [],
      "include_colab_link": true
    },
    "kernelspec": {
      "name": "python3",
      "display_name": "Python 3"
    },
    "language_info": {
      "name": "python"
    }
  },
  "cells": [
    {
      "cell_type": "markdown",
      "metadata": {
        "id": "view-in-github",
        "colab_type": "text"
      },
      "source": [
        "<a href=\"https://colab.research.google.com/github/tulinkarahan/PatikaInsertionSort/blob/main/content/python/Container20_type_casting.ipynb\" target=\"_parent\"><img src=\"https://colab.research.google.com/assets/colab-badge.svg\" alt=\"Open In Colab\"/></a>"
      ]
    },
    {
      "cell_type": "markdown",
      "source": [
        "<table width=\"100%\">\n",
        "    <tr style=\"\">\n",
        "        <th style=\"text-align:left; padding:0px\" width=\"5%\">\n",
        "            <a href=\"https://www.marmara.edu.tr\" target=\"_blank\">\n",
        "                <img src=\"https://raw.githubusercontent.com/MU-Physics-Department/logos/master/mu_logo.png\">\n",
        "            </a>\n",
        "        </th>\n",
        "        <th style=\"padding:0px;\" width=\"35%\">\n",
        "            <img align=\"right\" src=\"https://raw.githubusercontent.com/MU-Physics-Department/logos/master/name.png\">\n",
        "        </th>\n",
        "        <th  width=\"20%\">\n",
        "            &nbsp;\n",
        "        </th>\n",
        "        <th style=\"padding:0px\" width=\"5%\">\n",
        "            <a href=\"https://www.sababozpolat.com\" target=\"_blank\" padding=\"0px\">\n",
        "                <img align=\"center\" src=\"https://raw.githubusercontent.com/MU-Physics-Department/logos/master/hp.png\">\n",
        "            </a>\n",
        "        </th>\n",
        "        <th style=\"padding:0px\" width=\"5%\">\n",
        "            <a href=\"mailto:saba.bozpolat@gmail.com\" target=\"_blank\">\n",
        "                <img align=\"center\" src=\"https://raw.githubusercontent.com/MU-Physics-Department/logos/master/email.png\">\n",
        "            </a>\n",
        "        </th>\n",
        "        <th style=\"padding:0px;\" width=\"5%\">\n",
        "            <a href=\"https://www.linkedin.com/in/saba-bozpolat-644856152/\" target=\"_blank\">\n",
        "                <img align=\"right\" src=\"https://raw.githubusercontent.com/MU-Physics-Department/logos/master/in.png\">\n",
        "            </a>\n",
        "        </th>\n",
        "        <th style=\"padding:0px;\" width=\"5%\">\n",
        "            <a href=\"https://scholar.google.com.tr/citations?user=nSiJoMYAAAAJ&hl=en\" target=\"_blank\">\n",
        "                <img align=\"right\" src=\"https://raw.githubusercontent.com/MU-Physics-Department/logos/master/GS.png\">\n",
        "            </a>\n",
        "        </th>\n",
        "        <th style=\"padding:0px;\" width=\"5%\">\n",
        "            <a href=\"https://www.researchgate.net/profile/Saba-Bozpolat\" target=\"_blank\">\n",
        "                <img align=\"right\" src=\"https://raw.githubusercontent.com/MU-Physics-Department/logos/master/RG.png\">\n",
        "            </a>\n",
        "        </th>\n",
        "        <th style=\"padding:0px\" width=\"5%\">\n",
        "            <a href=\"https://www.youtube.com/channel/UC8-uOZud6UL7oCOE2UUBunA\" target=\"_blank\">\n",
        "                <img align=\"right\" src=\"https://raw.githubusercontent.com/MU-Physics-Department/logos/master/YT.png\">\n",
        "            </a>\n",
        "        </th>\n",
        "        <th style=\"padding:0px;\" width=\"5%\">\n",
        "            <a href=\"https://github.com/sbbzplt\" target=\"_blank\">\n",
        "                <img align=\"right\" src=\"https://raw.githubusercontent.com/MU-Physics-Department/logos/master/GH.png\">\n",
        "            </a>\n",
        "        </th>\n",
        "        <th style=\"padding:0px;\" width=\"5%\">\n",
        "            <a href=\"https://join.slack.com/t/mu-fzk/shared_invite/zt-13jtd6dtd-g9zD5P4Zu0m5P0Gt2PNReQ\"\n",
        "               target=\"_blank\">\n",
        "                <img align=\"right\" src=\"https://raw.githubusercontent.com/MU-Physics-Department/logos/master/slack.png\">\n",
        "            </a>\n",
        "        </th>\n",
        "    </tr>\n",
        "</table>\n",
        "<table width=\"100%\">\n",
        "    <tr style=\"background-color:white;\">\n",
        "        <!-- <td style=\"text-align-left;padding:0px;\" width=\"10%\">\n",
        "            <a href=\"https://fef.marmara.edu.tr\"\n",
        "               target=\"_blank\">\n",
        "                <img align=\"right\" src=\"https://raw.githubusercontent.com/MU-Physics-Department/logos/master/fef.png\">\n",
        "            </a>\n",
        "        </td> -->\n",
        "        <td style=\"padding:0px\" width=\"25%\">\n",
        "            <a href=\"http://fzk.fen.marmara.edu.tr\"\n",
        "               target=\"_blank\">\n",
        "                <img align=\"right\" src=\"https://raw.githubusercontent.com/MU-Physics-Department/logos/master/fzk.png\">\n",
        "            </a>\n",
        "        </td>\n",
        "        <td width=\"10%\">\n",
        "            &nbsp;\n",
        "        </td>\n",
        "        <td style=\"padding:0px;\" width=\"65%\">\n",
        "            <a href=\"https://www.sababozpolat.com/lectures/spring-semester/scientific-programming\"\n",
        "               target=\"_blank\">\n",
        "                <img align=\"right\" src=\"https://raw.githubusercontent.com/MU-Physics-Department/logos/master/comp2083.png\">\n",
        "            </a>\n",
        "        </td>\n",
        "    </tr>\n",
        "</table>"
      ],
      "metadata": {
        "id": "T0ylLpo463qB"
      }
    },
    {
      "cell_type": "markdown",
      "source": [
        "# All Data Containers at A Glance"
      ],
      "metadata": {
        "id": "nO3u90WP65Iw"
      }
    },
    {
      "cell_type": "markdown",
      "source": [
        "Recall that there are 4 data containers in Python with nuances. Following table is a summary for them.\n",
        "\n",
        "| | &nbsp;&nbsp;&nbsp;&nbsp;&nbsp;&nbsp;List&nbsp;&nbsp;&nbsp;&nbsp;&nbsp;&nbsp; | &nbsp;&nbsp;&nbsp;&nbsp;&nbsp;&nbsp;Set&nbsp;&nbsp;&nbsp;&nbsp;&nbsp;&nbsp; | &nbsp;&nbsp;&nbsp;&nbsp;&nbsp;&nbsp;Tuple&nbsp;&nbsp;&nbsp;&nbsp;&nbsp;&nbsp; | &nbsp;&nbsp;&nbsp;&nbsp;&nbsp;&nbsp;&nbsp;&nbsp;&nbsp;&nbsp;&nbsp;&nbsp;&nbsp;&nbsp;&nbsp;&nbsp;&nbsp;&nbsp;Dict&nbsp;&nbsp;&nbsp;&nbsp;&nbsp;&nbsp;&nbsp;&nbsp;&nbsp;&nbsp;&nbsp;&nbsp;&nbsp;&nbsp;&nbsp;&nbsp;&nbsp;&nbsp; |\n",
        "|:---|:---:|:---:|:---:|:---:|\n",
        "| Syntax | [ ] | { } | ( ) | {key: value} |\n",
        "| Constructor | ```list( )``` | ```set( )``` | ```tuple( )``` | ```dict( )```  |\n",
        "| Mutability | yes | no | no | yes  |\n",
        "| Orderness | yes | no | yes | no |\n",
        "| Indexing | yes<br>(from 0) | no | yes<br>(from 0) | *yes*<br>(indexing via keys) |\n",
        "| Recursive Entry | yes | no | yes | no for keys<br>yes for values |\n",
        "| New entries | ```append()```| ```add()``` | N/A | assigning value<br>to a new key |\n",
        "| Entry deletion | ```del``` via index<br>```remove()``` via element | N/A | N/A | ```del``` via key<br>```clear()``` to clean out |\n"
      ],
      "metadata": {
        "id": "GW-EiI9A2uoU"
      }
    },
    {
      "cell_type": "markdown",
      "source": [
        "# Type Casting for List, Tuple and Set"
      ],
      "metadata": {
        "id": "iJ3D1AO3xjxI"
      }
    },
    {
      "cell_type": "markdown",
      "source": [
        "To convert between a list, a set and a tuple, one can use their constructors.\n",
        "\n",
        "```python\n",
        ">>> my_list = [0, 1, 2, 3]\n",
        ">>> my_tuple = tuple(my_list)\n",
        ">>> print(my_tuple)\n",
        "(0, 1, 2, 3)\n",
        ">>> my_set = set(my_list)\n",
        ">>> print(my_set)\n",
        "{0, 1, 2, 3}\n",
        "```\n",
        "\n",
        "```python\n",
        ">>> my_tuple = (\"a\", \"b\", \"c\")\n",
        ">>> my_list = list(my_tuple)\n",
        ">>> print(my_list)\n",
        "['a', 'b', 'c']\n",
        ">>> my_set = set(my_tuple)\n",
        ">>> print(my_set)\n",
        "{'c', 'a', 'b'}\n",
        "```\n",
        "\n",
        "```python\n",
        ">>> my_set = {\"A\", \"B\", \"C\"}\n",
        ">>> my_list = list(my_set)\n",
        ">>> print(my_list)\n",
        "['B', 'C', 'A']\n",
        ">>> my_tuple = tuple(my_set)\n",
        ">>> print(my_tuple)\n",
        "('B', 'C', 'A')\n",
        "```\n",
        "\n"
      ],
      "metadata": {
        "id": "0XeM_ptPyStc"
      }
    },
    {
      "cell_type": "markdown",
      "source": [
        "<h3>Task 1</h3>\n",
        "Given the containers below, perform following tasks. Give different variable names each.\n",
        "\n",
        " - Convert list to tuple and print it.\n",
        " - Convert list to set and print it.\n",
        " - Convert set to list and print it.\n",
        " - Convert set to tuple and print it.\n",
        " - Convert tuple to list and print it.\n",
        " - Convert tuple to set and print it.\n"
      ],
      "metadata": {
        "id": "4WgJWx061tIl"
      }
    },
    {
      "cell_type": "code",
      "source": [
        "colors = [\"red\", \"green\", \"blue\"]\n",
        "rooms = {\"living room\", \"bedroom\", \"bathroom\"}\n",
        "fruits = (\"apple\", \"orange\", \"pear\")\n",
        "\n",
        "my_tuple = tuple(colors)\n",
        "print(my_tuple)\n",
        "\n",
        "my_set = set(colors)\n",
        "print(my_set)\n",
        "\n",
        "my_list = list(rooms)\n",
        "print(my_list)\n",
        "\n",
        "my_tuple = tuple(rooms)\n",
        "print(my_tuple)\n",
        "\n",
        "my_list1 = list(fruits)\n",
        "print(my_list1)\n",
        "\n",
        "print(set(fruits))"
      ],
      "metadata": {
        "id": "Mwmrd7Q81tS0"
      },
      "execution_count": null,
      "outputs": []
    },
    {
      "cell_type": "markdown",
      "source": [
        "# Type Casting for Dictionary"
      ],
      "metadata": {
        "id": "RPWTKhIX1tbw"
      }
    },
    {
      "cell_type": "markdown",
      "source": [
        "Fact that the dictionary container in Python needs not only entry values but their keys as well, type casting for it is a little trickier. We generally need two containers for keys and values and zip them elementwise. In order to deep dive into casting to dictionary, we should take a closer look to zip function.\n"
      ],
      "metadata": {
        "id": "3MTYwpW-__j6"
      }
    },
    {
      "cell_type": "markdown",
      "source": [
        "## ```zip()``` function"
      ],
      "metadata": {
        "id": "sOv2_jdgAzd5"
      }
    },
    {
      "cell_type": "markdown",
      "source": [
        "The ```zip()``` function takes some number of tuples and/or lists of the same length and aggregates their elements one by one.\n",
        "\n",
        "\n",
        "<p align=\"middle\">\n",
        "<img width=50% src=\"https://github.com/MU-Physics-Department/logos/blob/master/for_comp2083/zip.png?raw=true\">\n",
        "</p>\n",
        "\n",
        "```python\n",
        ">>> brands = [\"Nescafe\", \"7Up\", \"Pepsi\", \"Cappy\", \"Powerade\"]\n",
        ">>> beverages = [\"Coffee\", \"Soda\", \"Soda\", \"Fruit Juice\", \"Sports Drink\"]\n",
        ">>> pairs = zip(brands, beverages)\n",
        ">>> print(pairs)\n",
        "<zip object at 0x7f491616b940>\n",
        "```\n",
        "As you can see in the output above, ```zip()``` function returns an object which is not readable by humanbeings. To see the content of the zipped containers, one should cast it to a dictionary as follows:\n",
        "\n",
        "```python\n",
        ">>> pairs = dict(zip(brands, beverages))\n",
        ">>> print(pairs)\n",
        "{'Nescafe': 'Coffee', '7Up': 'Soda', 'Pepsi': 'Soda', 'Cappy': 'Fruit Juice', 'Powerade': 'Sports Drink'}\n",
        "```\n"
      ],
      "metadata": {
        "id": "e-VZThmuA0pz"
      }
    },
    {
      "cell_type": "markdown",
      "source": [
        "<h3>Task 2</h3>\n",
        "Given the famous art pieces below,\n",
        "\n",
        " - find their artists,\n",
        " - create another list of the artist,\n",
        " - zip the art pieces to the artists,\n",
        " - convert the zip to a dictionary and,\n",
        " - print the resulting dictionary.\n",
        "\n",
        "<p align=\"left\">\n",
        "<img width=75% src=\"https://github.com/MU-Physics-Department/logos/blob/master/for_comp2083/art_pieces.png?raw=true\">\n",
        "</p>"
      ],
      "metadata": {
        "id": "HrhGA2LPHxJa"
      }
    },
    {
      "cell_type": "code",
      "source": [
        "art_pieces = [\"David Sculpture\",\"Kiss\",\"Wheatfield - A Confrontation\",\"Impression, Sunrise\",\"Parallel Universe Exhibition\"]\n",
        "artist = [\"David of Michelangelo\", \"Gustav Klimt\", \"Agnes Denes\", \"Claude Monet\", \"Ouchhh\"]\n",
        "\n",
        "a = dict(zip(artist, art_pieces))\n",
        "print(a)\n",
        "\n",
        "\n",
        "\n"
      ],
      "metadata": {
        "id": "mhk3-qRI1tnE"
      },
      "execution_count": null,
      "outputs": []
    }
  ]
}