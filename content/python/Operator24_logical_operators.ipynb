{
  "nbformat": 4,
  "nbformat_minor": 0,
  "metadata": {
    "colab": {
      "private_outputs": true,
      "provenance": [],
      "include_colab_link": true
    },
    "kernelspec": {
      "name": "python3",
      "display_name": "Python 3"
    },
    "language_info": {
      "name": "python"
    }
  },
  "cells": [
    {
      "cell_type": "markdown",
      "metadata": {
        "id": "view-in-github",
        "colab_type": "text"
      },
      "source": [
        "<a href=\"https://colab.research.google.com/github/tulinkarahan/PatikaInsertionSort/blob/main/content/python/Operator24_logical_operators.ipynb\" target=\"_parent\"><img src=\"https://colab.research.google.com/assets/colab-badge.svg\" alt=\"Open In Colab\"/></a>"
      ]
    },
    {
      "cell_type": "markdown",
      "source": [
        "<table width=\"100%\">\n",
        "    <tr style=\"\">\n",
        "        <th style=\"text-align:left; padding:0px\" width=\"5%\">\n",
        "            <a href=\"https://www.marmara.edu.tr\" target=\"_blank\">\n",
        "                <img src=\"https://raw.githubusercontent.com/MU-Physics-Department/logos/master/mu_logo.png\">\n",
        "            </a>\n",
        "        </th>\n",
        "        <th style=\"padding:0px;\" width=\"35%\">\n",
        "            <img align=\"right\" src=\"https://raw.githubusercontent.com/MU-Physics-Department/logos/master/name.png\">\n",
        "        </th>\n",
        "        <th  width=\"20%\">\n",
        "            &nbsp;\n",
        "        </th>\n",
        "        <th style=\"padding:0px\" width=\"5%\">\n",
        "            <a href=\"https://www.sababozpolat.com\" target=\"_blank\" padding=\"0px\">\n",
        "                <img align=\"center\" src=\"https://raw.githubusercontent.com/MU-Physics-Department/logos/master/hp.png\">\n",
        "            </a>\n",
        "        </th>\n",
        "        <th style=\"padding:0px\" width=\"5%\">\n",
        "            <a href=\"mailto:saba.bozpolat@gmail.com\" target=\"_blank\">\n",
        "                <img align=\"center\" src=\"https://raw.githubusercontent.com/MU-Physics-Department/logos/master/email.png\">\n",
        "            </a>\n",
        "        </th>\n",
        "        <th style=\"padding:0px;\" width=\"5%\">\n",
        "            <a href=\"https://www.linkedin.com/in/saba-bozpolat-644856152/\" target=\"_blank\">\n",
        "                <img align=\"right\" src=\"https://raw.githubusercontent.com/MU-Physics-Department/logos/master/in.png\">\n",
        "            </a>\n",
        "        </th>\n",
        "        <th style=\"padding:0px;\" width=\"5%\">\n",
        "            <a href=\"https://scholar.google.com.tr/citations?user=nSiJoMYAAAAJ&hl=en\" target=\"_blank\">\n",
        "                <img align=\"right\" src=\"https://raw.githubusercontent.com/MU-Physics-Department/logos/master/GS.png\">\n",
        "            </a>\n",
        "        </th>\n",
        "        <th style=\"padding:0px;\" width=\"5%\">\n",
        "            <a href=\"https://www.researchgate.net/profile/Saba-Bozpolat\" target=\"_blank\">\n",
        "                <img align=\"right\" src=\"https://raw.githubusercontent.com/MU-Physics-Department/logos/master/RG.png\">\n",
        "            </a>\n",
        "        </th>\n",
        "        <th style=\"padding:0px\" width=\"5%\">\n",
        "            <a href=\"https://www.youtube.com/channel/UC8-uOZud6UL7oCOE2UUBunA\" target=\"_blank\">\n",
        "                <img align=\"right\" src=\"https://raw.githubusercontent.com/MU-Physics-Department/logos/master/YT.png\">\n",
        "            </a>\n",
        "        </th>\n",
        "        <th style=\"padding:0px;\" width=\"5%\">\n",
        "            <a href=\"https://github.com/sbbzplt\" target=\"_blank\">\n",
        "                <img align=\"right\" src=\"https://raw.githubusercontent.com/MU-Physics-Department/logos/master/GH.png\">\n",
        "            </a>\n",
        "        </th>\n",
        "        <th style=\"padding:0px;\" width=\"5%\">\n",
        "            <a href=\"https://join.slack.com/t/mu-fzk/shared_invite/zt-13jtd6dtd-g9zD5P4Zu0m5P0Gt2PNReQ\"\n",
        "               target=\"_blank\">\n",
        "                <img align=\"right\" src=\"https://raw.githubusercontent.com/MU-Physics-Department/logos/master/slack.png\">\n",
        "            </a>\n",
        "        </th>\n",
        "    </tr>\n",
        "</table>\n",
        "<table width=\"100%\">\n",
        "    <tr style=\"background-color:white;\">\n",
        "        <!-- <td style=\"text-align-left;padding:0px;\" width=\"10%\">\n",
        "            <a href=\"https://fef.marmara.edu.tr\"\n",
        "               target=\"_blank\">\n",
        "                <img align=\"right\" src=\"https://raw.githubusercontent.com/MU-Physics-Department/logos/master/fef.png\">\n",
        "            </a>\n",
        "        </td> -->\n",
        "        <td style=\"padding:0px\" width=\"25%\">\n",
        "            <a href=\"http://fzk.fen.marmara.edu.tr\"\n",
        "               target=\"_blank\">\n",
        "                <img align=\"right\" src=\"https://raw.githubusercontent.com/MU-Physics-Department/logos/master/fzk.png\">\n",
        "            </a>\n",
        "        </td>\n",
        "        <td width=\"10%\">\n",
        "            &nbsp;\n",
        "        </td>\n",
        "        <td style=\"padding:0px;\" width=\"65%\">\n",
        "            <a href=\"https://www.sababozpolat.com/lectures/scientific-programming\"\n",
        "               target=\"_blank\">\n",
        "                <img align=\"right\" src=\"https://raw.githubusercontent.com/MU-Physics-Department/logos/master/comp2083.png\">\n",
        "            </a>\n",
        "        </td>\n",
        "    </tr>\n",
        "</table>"
      ],
      "metadata": {
        "id": "xsiB2OVMcazu"
      }
    },
    {
      "cell_type": "markdown",
      "source": [
        "# Logical Operators"
      ],
      "metadata": {
        "id": "pMMcblcglhYw"
      }
    },
    {
      "cell_type": "markdown",
      "source": [
        "There are also logical operators in Python."
      ],
      "metadata": {
        "id": "V9zUpc2snDMT"
      }
    },
    {
      "cell_type": "markdown",
      "source": [
        "## Logical AND Operator"
      ],
      "metadata": {
        "id": "KlmENP91z8Qb"
      }
    },
    {
      "cell_type": "markdown",
      "source": [
        "If both the operands are true then condition becomes true.\n",
        "The operator is ```and```.\n",
        "\n",
        "Logical AND operator takes two arguements (or operands) and if both of these operands is non-zero then outcome becomes true. Syntax for this operator in Python is ```and```.\n",
        "\n",
        "```python\n",
        ">>> a, b = 60, 2\n",
        ">>> c = a and b\n",
        ">>> print(c)\n",
        "True\n",
        "```\n",
        "```python\n",
        ">>> a, b = 0, 2\n",
        ">>> c = a and b\n",
        ">>> print(c)\n",
        "False\n",
        "```\n",
        "Following is the truth table for logical AND operator or AND gate.\n",
        "\n",
        "| &nbsp;&nbsp;&nbsp;&nbsp;&nbsp;&nbsp;&nbsp;operand_1&nbsp;&nbsp;&nbsp;&nbsp;&nbsp;&nbsp;&nbsp; | &nbsp;&nbsp;&nbsp;&nbsp;&nbsp;&nbsp;&nbsp;operand_2&nbsp;&nbsp;&nbsp;&nbsp;&nbsp;&nbsp;&nbsp; | operand_1 ``and`` operand_2 |\n",
        "|:---------:|:---------:|:---------:|\n",
        "| 0 | 0 | 0 |\n",
        "| 0 | 1 | 0 |\n",
        "| 1 | 0 | 0 |\n",
        "| 1 | 1 | 1 |\n",
        "\n",
        "\n",
        "Schematic representation for AND gate in electronic circuits is as follows."
      ],
      "metadata": {
        "id": "mMdKnCb_nDWD"
      }
    },
    {
      "cell_type": "markdown",
      "source": [
        "![image.png](data:image/png;base64,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)"
      ],
      "metadata": {
        "id": "5kJv2LYxmTtc"
      }
    },
    {
      "cell_type": "markdown",
      "source": [
        "<h3>Task 1</h3>\n",
        "\n",
        "Perform the following multiplication operations using and operator.\n",
        "\n",
        " - 0 × 0\n",
        " - 0 × 1\n",
        " - 1 × 0\n",
        " - 1 × 1\n"
      ],
      "metadata": {
        "id": "d28nH9xRnDgY"
      }
    },
    {
      "cell_type": "code",
      "source": [
        "a, b = 0, False\n",
        "print(a and b)\n",
        "\n",
        "c, d = 0, [1, 2]\n",
        "print(c and d)\n",
        "\n",
        "e, f = 3, \"\"\n",
        "print(e and bool(f))\n"
      ],
      "metadata": {
        "id": "1i6pAQ5onDqC"
      },
      "execution_count": null,
      "outputs": []
    },
    {
      "cell_type": "markdown",
      "source": [
        "## Logical OR Operator\n"
      ],
      "metadata": {
        "id": "zJR1WIXx0AgM"
      }
    },
    {
      "cell_type": "markdown",
      "source": [
        "Logical OR operator takes two arguements (or operands) and if any of these operands is non-zero then outcome becomes true. Syntax for this operator in Python is ```or```.\n",
        "\n",
        "```python\n",
        ">>> a, b = 0.0, 2\n",
        ">>> c = a or b\n",
        ">>> print(c)\n",
        "True\n",
        "```\n",
        "```python\n",
        ">>> a, b = (), {}\n",
        ">>> c = a or b\n",
        ">>> print(c)\n",
        "False\n",
        "```\n",
        "Following is the truth table for logical OR operator or OR gate.\n",
        "\n",
        "| &nbsp;&nbsp;&nbsp;&nbsp;&nbsp;&nbsp;&nbsp;operand_1&nbsp;&nbsp;&nbsp;&nbsp;&nbsp;&nbsp;&nbsp; | &nbsp;&nbsp;&nbsp;&nbsp;&nbsp;&nbsp;&nbsp;operand_2&nbsp;&nbsp;&nbsp;&nbsp;&nbsp;&nbsp;&nbsp; | operand_1 ``or`` operand_2 |\n",
        "|:---------:|:---------:|:---------:|\n",
        "| 0 | 0 | 0 |\n",
        "| 0 | 1 | 1 |\n",
        "| 1 | 0 | 1 |\n",
        "| 1 | 1 | 1 |\n",
        "\n",
        "Schematic representation for OR gate in electronic circuits is as follows."
      ],
      "metadata": {
        "id": "PS1iWVna0Ast"
      }
    },
    {
      "cell_type": "markdown",
      "source": [
        "![image.png](data:image/png;base64,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)"
      ],
      "metadata": {
        "id": "e0XWZfg7jst5"
      }
    },
    {
      "cell_type": "markdown",
      "source": [
        "<h3>Task 2</h3>\n",
        "\n",
        "Perform the following summations operations using or operator.\n",
        "\n",
        " - 0 + 0\n",
        " - 0 + 1\n",
        " - 1 + 0"
      ],
      "metadata": {
        "id": "Xb8FElRJ0A39"
      }
    },
    {
      "cell_type": "markdown",
      "source": [
        "bull yazarak True False yerine sonucu vermesini sağlıyoruz."
      ],
      "metadata": {
        "id": "fG6PbuDIGUF1"
      }
    },
    {
      "cell_type": "code",
      "source": [
        "a, b = 0, 0\n",
        "print(a or b)\n",
        "\n",
        "c, d = 0, 1\n",
        "print(c or d)\n",
        "\n",
        "e, f = 1, 0\n",
        "print(e or bull(f))\n",
        "\n",
        "\n",
        "\n"
      ],
      "metadata": {
        "id": "0aLVheow0BCn"
      },
      "execution_count": null,
      "outputs": []
    },
    {
      "cell_type": "markdown",
      "source": [
        "## Logical NOT Operator\n"
      ],
      "metadata": {
        "id": "hhKA8VUo0BPO"
      }
    },
    {
      "cell_type": "markdown",
      "source": [
        "Logical NOT operator reverses the boolean value of its arguement (or operands) Syntax for this operator in Python is ```not```.\n",
        "\n",
        "```python\n",
        ">>> a = 60\n",
        ">>> c = not a\n",
        ">>> print(c)\n",
        "False\n",
        "```\n",
        "```python\n",
        ">>> a = []\n",
        ">>> c = not a\n",
        ">>> print(c)\n",
        "True\n",
        "```\n",
        "Following is the truth table for logical NOT operator or NOT gate.\n",
        "\n",
        "| &nbsp;&nbsp;&nbsp;&nbsp;&nbsp;&nbsp;&nbsp;operand_1&nbsp;&nbsp;&nbsp;&nbsp;&nbsp;&nbsp;&nbsp; | ``not`` operand_1 |\n",
        "|:---------:|:--------:|\n",
        "| 0 | 1 |\n",
        "| 1 | 0 |\n",
        "\n",
        "Schematic representation for NOT gate in electronic circuits is as follows."
      ],
      "metadata": {
        "id": "Qs2n4ICb0BZ4"
      }
    },
    {
      "cell_type": "markdown",
      "source": [
        "![image.png](data:image/png;base64,iVBORw0KGgoAAAANSUhEUgAAAKkAAAA7CAYAAAAAe6pnAAAE60lEQVR4Ae2agZGtIAxFrYuCqMdqbMZi8gc0mKeABJRV/30zO7BAQrycDeC+gfCBAg9XYHh4fAgPChAgBQSPVwCQPn6JECAgBQOPVwCQPn6JECAgVTIwDAPxj9IUwysVAKRK4Ryg/JF1bkN5vQKb4tf7/qTHPZjIqvcvMyBVaryHlM0BKytxfQlIlZqmIGU3Z/08DmW5AoC0XCs/sgRCZFWlqCfDAemJQPvuEkjZBrCyEm0lIFXqp4GUXdfYsC1Kwv/utRDUAoesqlV6G49MumlRVKuFlJ0DVlaivASk5Vr5ka2Q8nRX+WF/Xy4BqXJ1r4QLWbVMfEBaplMYdSWk7BSwshLxEpDGdUm23gEpT3anb57jjeULIZ3IDobG+W/kvhskZNXjun4Y0pnmaSRrDA12Oj55ZcvdkHJY74F1ptEM1C5x2s9HIV2yrbEjjfadkEpYuf7MMg2XLt60nw3S2WWd9Qu9xtDIyWeyNBi7LLb/wq8hK/faedrsBrP9Ra121kEyWPLu5Bxy7DySGSyNoyWzfqnYiDnmSbRbVy/f7ufx3ZC6hT7LqtzPpQ4OMVquj2RgXR9GgoiPXK7cvgTud6wcLxo/IqwFUm/sAFsOem6bDCC4ST1QkT5a6A9ArX48X97ObQMzzd50ebBtDud3g9fBGfXDPkNsSzyCYfE4x+oXIOWnikHo2vafWNt+zOH3HAO+b10rb8iQul92GTDHi8aPCNA/YWwhJ7tC4yeVARKl+0TAzs6MJO83C6zr7AyfG5AJ/hibFEg8SaJ6tE8MLGyuAqDQd+kwjoHLmF2uLzY+plNY58z6xCFN8KLxI4L0kIZgREcI+hRSke7lVh2DVGznTkSXoX1GzAQf4gix1UO6zHmMV9seQvnDCsecCoH7z0q2zzKQWZ9ukB5ByGXLXd8uW/JD0x7SFfawTfsH7wtpiK2h4hb9CR+GLxWLNs4sA0+AdNlu3WUpcu70cCX6/AFanCVppsla8m4SkK5T0DyKs2VOBIY5xCbsUisk2mPii251Vbv46gkKDDgGLmMmub7Y+CwDvAbr2c1dZMMumDiTRlnS+BFBbmkhdbNbAzL+lr5s0Xz58X52t3vDrwX2kJLLwO6mv/oYx+2lfA5Sd2T9ud0v7z5DRhYPE6t+CdJFu23J3PPGYIy1xbQ5tKUY8NeG9BuWsD7uZekJLy45hTc4uzc1P35EcL9PLDpC1U/6exAOfX9acWfTyPkydfy4KNZqABrmj8Ep3XE/l7Kve/0GXl4MaXf5/YS9Ie09X7OqgLRZwmYHvaB5RFasUetPIK0J9MM2d0P6WjhvXPPz7f7Gyd/o+k5I7/T9Rq05ZkDKShSWd4CE7JkXH5Dm9Tn0Xgkp4DzIG20ApFFZ0o1XQXqVn3Sk3+kBpMq1bIUL2VMpuPuHhd7k/7aohRRw1nMDSJXa1UBaY6MM69PDAalyeTXAIXsqxU0MB6QJYVLNJZACzpR6de2AVKnbGaRn/crpMBwXJz0DKQiRPfVallogk5YqtY7bQwo4lQJWDAekStEkpLKudIPhCgUAqUIsN5QzJwBVCtcwHJA2iAfTPgoA0j46Y5YGBQBpg3gw7aMAIO2jM2ZpUACQNogH0z4KANI+OmOWBgUAaYN4MO2jACDtozNmaVAAkDaIB9M+CgDSPjpjlgYFAGmDeDDto8A/Z61rWuf/BTQAAAAASUVORK5CYII=)"
      ],
      "metadata": {
        "id": "4WwSPEspnd18"
      }
    },
    {
      "cell_type": "markdown",
      "source": [
        "<h3>Task 3: XOR Gate</h3>\n",
        "\n",
        "Exclusive OR Gate, or XOR Gate, is an important digital logic gate, which implements an _exclusive or logic_. The output is True if and only if one of the inputs is True. If inputs are the same, then the output is False. Following is the truth table of XOR Gate.\n",
        "\n",
        "\n",
        "| &nbsp;&nbsp;&nbsp;&nbsp;&nbsp;&nbsp;&nbsp; input 1&nbsp;&nbsp;&nbsp;&nbsp;&nbsp;&nbsp;&nbsp; | &nbsp;&nbsp;&nbsp;&nbsp;&nbsp;&nbsp;&nbsp;input 2&nbsp;&nbsp;&nbsp;&nbsp;&nbsp;&nbsp;&nbsp; | input 1 XOR input 2 |\n",
        "|:---------:|:---------:|:---------:|\n",
        "| 0 | 0 | 0 |\n",
        "| 0 | 1 | 1 |\n",
        "| 1 | 0 | 1 |\n",
        "| 1 | 1 | 0 |\n",
        "\n",
        "As a matter of fact, XOR logic can be realised by AND, OR and NOT gates. Below is the circuit schema for XOR.\n"
      ],
      "metadata": {
        "id": "uwNXdgey0Bkq"
      }
    },
    {
      "cell_type": "markdown",
      "source": [
        "![image.png](data:image/png;base64,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)"
      ],
      "metadata": {
        "id": "JhOj3dj3pjz8"
      }
    },
    {
      "cell_type": "markdown",
      "source": [
        "Write the code for XOR gate in Python."
      ],
      "metadata": {
        "id": "xUjDUCjFqzs2"
      }
    },
    {
      "cell_type": "markdown",
      "source": [
        "İlki hocanın yazdığı ve doğru olan.\n",
        "{} kullanarak a yı değil a'nın değeri olan 0 ı görmesini sağladık"
      ],
      "metadata": {
        "id": "WVUfAsIbJ2Rq"
      }
    },
    {
      "cell_type": "code",
      "source": [
        "a, b = 0, 0\n",
        "b_not= not b\n",
        "var_2 = a and b_not\n",
        "\n",
        "a_not = not a\n",
        "var_4 = a_not and b\n",
        "\n",
        "output = var_2 or var_4\n",
        "\n",
        "print(f\"{a} xor {b} = {output}\")\n",
        "\n"
      ],
      "metadata": {
        "id": "awVMar_FIsft"
      },
      "execution_count": null,
      "outputs": []
    },
    {
      "cell_type": "code",
      "source": [
        "a = 1\n",
        "b = 1\n",
        "c = a and b\n",
        "print(c)\n",
        "\n",
        "d = a or b\n",
        "print(d)\n",
        "\n",
        "e = not a\n",
        "print(e)\n",
        "\n",
        "f = not b\n",
        "print(b)\n",
        "\n",
        "g = not c\n",
        "print (g)\n",
        "\n",
        "h = not d\n",
        "print(h)\n",
        "\n",
        "\n"
      ],
      "metadata": {
        "id": "D4FXWOHw0BvS"
      },
      "execution_count": null,
      "outputs": []
    },
    {
      "cell_type": "markdown",
      "source": [
        "<h3>Task 4: Half-Adder</h3>\n",
        "\n",
        "A half adder is a logical circuit that performs an addition operation on two binary digits. The half adder produces a sum and a carry value which are both binary digits.\n",
        "\n",
        "\n",
        "| &nbsp;&nbsp;&nbsp;&nbsp;&nbsp;&nbsp;&nbsp;A&nbsp;&nbsp;&nbsp;&nbsp;&nbsp;&nbsp;&nbsp; | &nbsp;&nbsp;&nbsp;&nbsp;&nbsp;&nbsp;&nbsp;B&nbsp;&nbsp;&nbsp;&nbsp;&nbsp;&nbsp;&nbsp; | &nbsp;&nbsp;Result (Decimal)&nbsp;&nbsp; | &nbsp;&nbsp;Result (Binary)&nbsp;&nbsp; | &nbsp;&nbsp;&nbsp;&nbsp;&nbsp;&nbsp;&nbsp;Sum&nbsp;&nbsp;&nbsp;&nbsp;&nbsp;&nbsp;&nbsp; | &nbsp;&nbsp;&nbsp;&nbsp;&nbsp;&nbsp;&nbsp;Carry&nbsp;&nbsp;&nbsp;&nbsp;&nbsp;&nbsp;&nbsp;|\n",
        "|:---------:|:---------:|:---------:|:---------:|:---------:|:---------:|\n",
        "| 0 | 0 | 0 | 00 | 0 | 0 |\n",
        "| 0 | 1 | 1 | 01 | 1 | 0 |\n",
        "| 1 | 0 | 1 | 01 | 1 | 0 |\n",
        "| 1 | 1 | 2 | 10 | 0 | 1 |\n",
        "\n",
        "From the truth table it is obvious that summation in binary is realised by XOR and the carry is determined an AND gate.\n"
      ],
      "metadata": {
        "id": "5WyWexn5q72X"
      }
    },
    {
      "cell_type": "markdown",
      "source": [
        "![image.png](data:image/png;base64,iVBORw0KGgoAAAANSUhEUgAAAMgAAABvCAYAAACpQY/IAAAgAElEQVR4Ae3dCby2xfgHcHuyFkKlQlmikEK0UB8psmRJIWUrW9JiiSwJiUKJEqFVUUmilEq2QolUWpClkJ1Udvf/852/32Pe5zznvOc977Oec8/nM8/cz33PPXPNNddv5pprlvtmTesGwoH//Oc/PdN1f7pnPV9YwpvS/uc//9n861//WsT/+9//LvkOMu8lJHUiot9sIqicMCIjhMK//vWvzd/+9rfib7rppo6Q/v3vf2/8F+b5XEN5SOsf//hHAwgzOTR1e/FD80zvLsRnLUAGUOt1a33WWWc1O++8c/Pa1762hMcee2zJ8de//nXzjne8o3nVq17VvO51r2te85rXzMnvsccezetf//pmr732avbdd9/moIMOao4//vjmc5/7XHPGGWc05557bnPllVc2f/7zn6eAByhCK6ICnAGwZGKTbAEygKqrBe/qq69unvKUpzQ3u9nNir/Xve7VnH322UUwDz/88OYOd7hD51ni3OIWt2hudatbzdrf+ta3bm5zm9s0yyyzTLPssss2t7/97Zs73vGOzZ3udKdmxRVXbDbZZJNmp512at7ylrc0J554YnPZZZcVwNRFp5alF0lYP1+o1zMCpG5R6koPAxMuVObNVO7wS5wf/OAHzUYbbdQBwnrrrdf88pe/LCDR6t/85jcvPgAZZLjyyis3D3/4w5sXvvCFzYc//OHmoosuKmMVdOpN0qOgP36mcs73ZzMCJIXvBkL3/8Rrw//nQPgjJHDcmWee2dzznvfsAIFKZcxB9XnqU5/aAY/ewH9q2Utf+tLmZS97WfPyl798Ri9O4j3/+c9vnvjEJzaPeMQjSn4zge12t7tds/rqq5fe5ZxzzulUX+iuy5HrTqQFcjEjQGpG3Xjjjc3Pf/7z5le/+lWnK8ajmRiXZ8L6eiHwNuVNqyx805veVICgx7jrXe9axgh4cfHFFzdrrLFGeUa9AoylcQbsf/jDH5qf/exnzSWXXNJ89atfLeoVVQsg5N8NHKreox/96BI3eac3yf+UKf8XQjgrgGCEwR+mrrnmms0vfvGLIvBpHbsZFUYKu724udf93nz7n3JG0KhVD3nIQzrC+cxnPrMzFqBqRWiNHb74xS8WdjDX5v2kN1O4OB7+5Cc/aT72sY81L3rRi5rVVlutjF2Sb0I9lrFTXPLL/4UUzgiQAOBPf/pTs/XWWze3vOUtG93yMcccU3ik8qZjnvu9XNLs9WzY90KjEF3x9f1+0CQ9g2DusMMOa/QShPEud7lLsTa5DzzrrrtuByTPe97zium2pkk6s/V5L2HeS3mYl/Uu7373u5vHPvaxDdUuABE++MEPbo4++uhipvZO6tp1d1pJcz6G0wIEE8IUpkI9x6tf/ermUY96VEPPpT+LowLi/Odyj1r2rW99qwjB+eef3/if56NmcmjtLgP6atoSrxA+h5+8jyeu//KXv5ReJCB5wQte0OlFDj300I6QLrfccs1XvvKVkmPqYQ7Zd14JHcI6Pf/1Fu973/s6AA1taGCG1utwtaWrk/A8v+gJEEzjU6ns9XTma665ptjbXV911VWFNTWz3Qg4rr322kbl3/ve926WX3750p1vv/32zY9+9KMSx6SWd0ft07Kbl/j617/e/PCHPyzlcr/ftGUi7+Mf/3gHCMywX/va14rw/fSnPy0WprTkBur4iY7UxdLIY+o19ZR0k6ayU6/Sm2SssuGGGzbnnXdeiRY66rTy/nwMewJEQTGP0/WziGy11VZlptaA77a3vW2z//77l+c1owIqg0S9jIqmkjFrxt6/6aablvfG6efLX/5yQwhWXXXV5qEPfWijJR+kM/Ndq1PmJ+I++tGPFlUW7zQuQIOvqQ/X/XKpO0LPc1SvT37ykx2jAbUaLXhj8pGr4yeN8mAe/kwBSAqsQlyffvrpZfLpqKOOKsUn/OzoBF2LyKVVSSV+4QtfKJNc97jHPZpPfepTze9///vmhBNOaO5zn/sUZr/4xS9u3vjGN5YZZLPAo/Bmr+VrhtvcQFptoUHybrvt1uy5554DoVHZN9hgg4416e53v3tRZdzfdtttOy04VcdcBZf6KH/6+KOO4wIS/82+MyLgR3oSjRwAp77rd5PGfAunAEQBwwDXrB3GHya73Kd6vOtd7yq9CNWACzCio6pUjF1//fU7gzzAetrTntZhdi2Q43CtpSQIaTFHTVPGAVtuuWVp1QnjIEESYRem4WOcYXLGl9BDvT7yyCMLLeShlpUiDPPsZwpAMCiF1r3f9773LZNWdbmBBaN23XXXEjfxAxS9BkHTY9DrDUypZmuttVYBzhZbbFEmp3bYYYcyo2tWd9je+IinCq6wwgqLtJR08Gc/+9mlcRCnn7QlPVaq9KjA+IAHPKB5yUteUvyTnvSk0gC5/8AHPrDMkwQgeD0oV4MkdXn99dc3u++++yIgwa/jjjuukCFeaMr7g6JvFOlOAYjCpqXSUqgkg2t6+cEHH1y6/Pe+973NKqusUnqW3/72t0UVq4FFpWI69O7973//8r5eKP8xXR4sYVqrUXn507mpj9RB9FEjjAnQlOf9pC+rd4Uf+MAHOkAwife73/2uCNull17aUfusrYowpiEatKBE0CP4aNUY4k/ULeOjb3zjGx2QhKa8m//jEoauyGnkXFjz1fPERXtPgIhAOHTvFsE97GEPKy2c1ozA6wm0eLrdT3/604UHaXHC1O985ztlcB+Gimuwz9zL1USUGyP4CQ1CSzUIALNmLFuDIEle4REzLguffM2JWBfFWX7y3Oc+t9y3aPHNb35zR80KzYOgrU4z+aReycMrXvGKQlPULY3e97///fJa4tVpjMt1ylLzvps2zxLPs1wvApAkINSKqThjEKoWWzn/4x//uJh7rUhVqdQkzAkKk4ZMzLiffPLJzQc/+MHmM5/5TPnvvrjj4NGdcZMBu/Lus88+hXeepSz9plWe0sRjFj75aoistJUnt/fee5f7nlG5gIbz3rBdeGH5ChURTRmrWZ7yxz/+schA4qUMw6azV36hJaE4NBjTEOTa1AX648Sr4y4CEJEUkttll11K92+RXS+nojCLPqqiubrlna4i6/s1Ib3yGPQ9tPDoYM1S8W9961vL/zBqEDSGBzfccEMZc8iXt7cj+ZoryXwEY0eW9+T5oHkj/TqvyIX1eE94whMWAUnM1OFn3h0EjakPofzQxacee+WdcugFqauPfOQjiwndUhuq4tprr13GWdauJd3kswhAkglEeVkXqmLcT6uXa4RYimBO5MADDywJdxMqbgqQZ2FaCMj/UYRhhryZfQmplpsbFH3STb74E2DKm4k3+X77299u7B1xn2p74YUXFrrwcdguNCdvhpfawHC3u92tOeWUUwpZypQy9JvOOl35dLs678QVus9bT0hlZWIHamNqk+A77rhjWcRJ2+FqWZ0CEBGuu+66slhOJUEdlwxz7b94ephvfvObhYA86w7FzfsJxRm1Q0sYPSyAKHMqTP4mXFUaIFjmziDAMXSYtHSfxZCKmndHxcOabmozA0LGmIwMVJaaRnQOysuHddRENnWJ2sQlv/KnUkn1DhocS6UYlrqdTWTk2fvKKeQWAYgbedCdQJ4t7nmv98b1XpiBvlEBxPZYAAAEk6+/+c1vCrvo+wGIQXEmDCOkw+Zp6l3r6pp6WE8kolFrrEGN1Y/W0W/PosbpUZniaTkMRtQ+PRuHvm5vYSYev/KVryxx0CmtaEblZg/5XwQgYYIQI8KMZNqdyOLiJf64hugncNwwARK+yde+ceuxVB7d2Fo1zqB84403Lvc9s5iQq+uk3BjiD7q58IylMkuI0Egt/+53vztwigg7UMiz9vbU0Ga4blr1bmjVg+h1ul0NFO/m/UUA0v3SfP+PCansYQIEX5OvRYAES0UbLKp8Tgtd72UPQLyXyhtF/UR4AJV75zvfWWiPVevJT35yWV5ksljvaBqgH156tllQ6bN9WQNi3GBpExUPD038EnYutAqt5GCAEcdSfmPNj3zkIw2Qe1bHz7WwBciIepAA5Hvf+14ZIKo4rWIG41SAbbbZplSoZ/vtt1+pxHEACEIABC10f/NkaMz8iOtBe8ahrA9EjzGaPAElu17D44R65UMOOaSosg62cMiFCWKDdmsFw9vEbwEyJj1ILEKsVVER7J2xdi2CdsABB4wFQBChRU4PYtlRekC0GggbmzzrWc/qhK774Z/+9KeXqQV5MGxYE2hlNIc/AGoZkzVkobPuRcrNpikrFgzK7cN3XBJTr3kovRQXoLju2YNIlKsT777O8xJxQn+UKa3FMFWsOl+z6THnrrPOOmVRKHay0KjsAGQcVKxaBvCNcGagTsUioISWgPKmC3LdjzAGDEKNLwTbCmhqnr327ll1wKG1O0Rz6rs8/O8PoDCU6AmjbiXeFIAkYe+KNJ0VwrPETVhnOgnX6A4jhgkQeYZ/5g+yDsyEoIk4DkDsUQlA0oNEtRk2f+s6Tu9h0g0oYup9/OMf31ktUcfvF62pL2qdOaPwJuHjHve4RdSr0JAQHWhnZSPXrFiuAd2yKmVhXhc/70wByJIUJsK1JO+MU1xMSBmGCRD5Rsg+8YlPlEPeVPLmm2/eWVJCCPQo7tO3zaxzAdao+Bi67SgNfWi0oiKTheKEzghbv8LUlwbExi6rOYzVHESRJSPJG4/ky+kZCH8vx8KlLBqqej5F3CkAkWCIsGnmpJNOKtYIxPBajdNOO61YWSRQFzyZh6j6Wa7zTuKOMkRTyjpMgMgzlfi2t72t0xI+4xnP6FSoiS1jEsJn5TRzMBd6h8m31F1oZmHLmqz0HrbqUqMSB33eG4Tr5kH9v76Wd+i54IILGjP+5mpYvVivGEjskszSGSfLcLVcTAGIBNNK2FGngmzed+iZnW+OtHRvs80266w+7SYqmXQzKIwuVCzBT9LJ+wmny2e2SUsntA8TIKFfN2/fOX7y9p3kmUrEd/dNGGZ+IXUz2zIubTz0cPgUb8mGdWJUEvRZpZ25hfAz7y1t/vX7dZquk1fo636e+0K9xHOe85zS2KDb+IVxRDmMX8g6w0jSTVpTAJIIErWy1Z5yvYbehI2eGTL7GKwyTaJJUBgvDV2hfQ5CLs8Sv9yc4SfxhDMxZIYkpn1UpzksgNR56vIdp0TIDHIzEEewdULu82bY62UQ0xaozw9q3geYNAr700Pzne98585edXG8k/f6TM4iySWPxeWX52RHg3TFFVeUHsTcDKvVqaeeWs4qTuKJn/8zAsSCLj2GNVm1k4gJITOTFjNyCEjiQv91X/ZZMM85PPmzn/1sIdKz7vj1u93XiSsfhcx6peST593vLe6/91KpWTSY1bxzTXM2eSqDeLr5zAgbZ9hCkPdZZwKQ7bbbbhGVtq6LQV+jJ+AwqWk/UMAhfMMb3lBISJnEHzc3G5rEUedxeWexAAGC2ObrBKyDsVgtLVsSTByb+2OdSUVT0aLnhZAlCakdNu3YmprFe0vy/kxxI5DZDzJT3H49c3pilmro5nP+lHVYztfFN/Z+q6VrwPYr/+nSSV0KCT5nUG6ZRg0OM/0Zd6Tep0tzVPfrsrhGZy/fHS/0zggQrakulFqFUcxiWpPPf/7zRfhZD8LAZC40CUPHw0xxCHOOATKD+aUvfalsvLIbTdzpvH0m1DrqnVlT46CAzbUFfOLET5fOdPeT/uWXX16WPEsbAP33bLr3lua+8kjbmMKBCFnJa0xn0Kisun6b0dBjHKLn5fB+0IJYC0rqFr31xi50UftiFQpNeTfCNR/CGQHy9re/vVQSE57WX8hjELUpDAyD8l/vIY7jgTK5IyQE7vOm+Q2QzGDO5BMn77GaxHLinncTZ6Z0pnuWd4XJI/eme2dp7ks76Se/hNKlagkzAHaWb3qWqIODErwIuPqMWkV7yFKSgBlYAJkLTXl3ULSNKt0ZAULdUHn2R9vtZpch9caBDLpbrTrGxAcgOTmQbZkKxhmoZ2ZY62/lpSUKepqZvDjUD2dVRZASujfTu0vyLKqOHpN1Y0nenW1cZeGdFJMeQlkA3n35WtmbWWnPbHnm8DgNUbnRp58IduqwzsOZaFkGk8WIwKFH4QKOPpEylsnMCBAqFiuW83W5tCz0ThWHadmSm2cYTX1YaaWVivpg8OvIH/Z+raNxC90bk6lu4k7nDWLFodJYeVmrWHo05kZqiXj8dOlMdz/vScNAmECy51OD5pLedPnkftJ0GohJwQDd6lRnjCmnE2P0IJ7hFUMHnkYYI9D9kKakJVR/+W+yjBWtBjF6qFXWXkUWEj9hP2gatzRmBEisWE4iCRPT9TqBg4XLgdaepQLTAlkaARARAqGKZ2+eq2NeBkqeICWvuaZXvzfMQbozcNMj6j2yGQo9MTfjF/XKmcHhfT8FMWml7sILDZeTL6NyRp21FKPXecxJJ+/Pt3BGgOhBqB5aPACgQmWgrpW1wIsZN0wmsGmJrG8x82522JoiZ/v6bz5EHOkl/uJC+cpDC2xWWe9hIO2eZ0uSVp1XyuRebeb1f65p1ul3X0cFrUHgCKWcWqm3zOYpADHry6FlroKY94S1Txkj0Gbu3//+95dJP3kHGBo5X8OyhLyblqSdNOZjuFiA6GbTrdYMyPgkZttUYiohcQGF2dKEYlzizDZM2pYL0NUJEZq8H0GebVp1vAiJezVA/Pesjrs018qdMqDbkgdCyDtuKM+cYJj71Mm6jNJAw+Jc4nTTm7IGpEnH/mzrwSz0YzipwYFOa5zUIRc6XSefpDNfw54AwQhOD4JhKo7K9J73vKfsxNLdum8HnNWnmKUCapcKqu9F6Op7s7lO2gBiFjfC4925pundmu606oM41QSNEUxjnIDAADiTsMZ5LIRpuQFWPcRLY7a+1zs1nz3XA2vk7OmOxSx0+W99Usae+OQdYfhWpzefr6cAJJWg0Lpcwmi/gkm/eFYY1qzsn/YOF1DUjEx6wvp+rmfD3KRPBUkPooK5Ot3ZpFXHQUPS7jdApB1PuDgfIsr6KkDwzcIcHGDiNQJKaLPsvaZ3aa71Aky2TiPptVRc3oDBpMtMX++LqOuqvl4aeibl3SkASaUqgAGisUZOVHSqYk5WTAETfzrG5bn408VJWtOFEeJJAkjKEgCz/Jk7CggsQMxcwhFHHFEMGuk9LFr0jHWN95HP2XqTr/jEsGIFMGOGZUEsZfX4JnQIWcuY7mkIOboH/aE9dTjX+gsvJjGcApDZFgKzIrizfWeu8ZLPpACkFijXWm/fAmQy10oDArM1R6BzvA9hZaFjItdzZ4KWUWImn3jGDOZxWBd5qxakV4Mh1+5bB2aOS49RA2OhqlO95HMKQFK5IhNMzOrlxePq+L0y6Me9SQOIMqM5PLLUxkd6ouvba0610kPnG+kEFnDSi0SQ+xkCmcWG5nyYlvUy9nbEpb5Dd8I8X4jhFICMIxMmDSAEK+MO684IZgTdkTNUVids1OOOPO9HaEmI2X2z3g5LYIo33rHYk+pWg0J9o7f2uTeOsjBsmlqADODYn1rYTAoCiVP/fAsxg29jErPnVhkkdL203iEQLGP2PdiKkKNjuwVLo5NeDr1cwu64C/l/C5ABACQCNZ3ApXdJvEGH6AggEroXP+j8Jzn9FiADAEgteL2Ek8D0uh/h7WcYWuow+U+y4A6L9hYgAwDIsCqvzWfwHGgB0gJk8FI2wTm0AGkBMsHiO3jSW4C0ABm8lE1wDi1AWoBMsPgOnvQWIC1ABi9lE5xDC5AWIBMsvoMnvQVIC5DBS9kE59ACpAXIBIvv4ElvAdICZPBSNsE5tABpATLB4jt40luAjAlArJXiRrVGK3kPXuQmK4cWIGMCkFGIjUWRDpPgXWdBYwuW/9VGC5AxAUh6EILqUGhnGTsuyXU/vc+UOZssn5D4nyj8/6clLMUPLTVg6ngL6boFyJgABDA4+9d93szWWId/26/upBFhP7yvQTkDy9dpHS30oQ99qDnrrLM630aM8PfqUQKcxFkIYQuQMQFINlFp2XPuWD+2384mDYdJOIzcFmCftshnDQCg7lEWAiC6y9gCZEwAkh7EYQ4OcnB4g7OMl19++XLCiX3tOZdsrqGjYp0JnE8sOH+3+5AIz3wYx6HZvT6bt9B6kRYgYwYQPUhOOnFsj8MWCKuP6pxwwgnNiSeeOCefd52P7KjRQw89tNl///3LsT+O/+k+yR2Qdthhh7JfPuBNuJDGJi1AxhAgjgWiGjnjykkkg3QMAQ54ABynuutlarXM6Sg+LpreJKrgIGkap7RbgIwhQNKDaMWdqUUo9SxCrfjSej2ANLrVJfecx+uooFr1coyQ78GwgHEByULoSVqA9ABILUARgkGHhE4exiB1D3LyySeX+91zFf2iJ2BLegDgnlPdnclc9yaA40thiVMu5vlxQS1A/guQ+vMHBKRfrXUEcHFhAOAcq7oHqT/gSYj75ZJWgJEwQJWPL2M5sxdIciqkj7H6ZIL4ypR0+kXXuKXTAqSrB/GpuFE6QKl7kEEBpFcZI+xCdHA+IJpPUgckvsZF5UtDkvd6pTnp91qAdPUge+21Vzma00w2dWJYXn7mH5y4yMyq1TYGGSZACHOEvQaJE/032WSTjrrlYOxjjz22yP5870UWPEAy4PSZMUJp9tpZtttvv32Z0TarPQzPpCof313x/RW0+PzdsAEyHUioW/WY5H73u185YxiQ5jNIFjRAoiIQit12263TQhLOcfDmQUYBkNI1/PcHj6Ju+UxCPbmYT1SLw6X3qd+f9OsFDRAVmkp1wLQPyBx44IEj8eYa5O1Lvr5uC6BUmVECJLwBAN6J9L4ngjafa7BExTouLiCadEB007+gAdLNjHH578vAhNBE4SgBgh9pRNJLnHnmmWXpSz7MY2wiDoAEUOPCx246Ql9dpoBfmPspt3BBA6RmCAYZj4zKZyLQat5hmHm7hWdx/yNAjAhUq6igvoTlK1ncOIOkBoey9HLipJye+7+gAdKLSaO6l0oDlFGZeacrexoSNPJHH310Uf8CkkMOOaQIUz2HMl1ao7jfCxz47NvwV111VeMbLr4D7x6X8rpuATKKGuuR5zgDBLnoi8XP99vXWWedTi9iXJIxSISxRxH7civpCwPYhPWzZJZ74uT6vPPOa3bZZZfyjUblsEfmQQ96ULFe+gBRgC5+C5BwcsShCuTGsQdBF2EJQK6//vryncP0IPaS+JqVOCnHINgZAZ8unxoEiRvaPeOPOuqosiCTarjrrruWj6vut99+jfmvDTbYoHxA1ZeFOeVtATKImpxDmhGscQWIIkUALYcxm54Fjauuumpz9tlnl1IHRHNgwaxeqcHhc3YWc1rKb8Y/rhc4PPMJPPtrfCfyoosuSvROaGUzsLDMSaMFSIc1o78Yd4BEMAMAy+OZeWNtO/744wuAqFrKMiif/A8++OBmlVVW6ah5yy23XHPAAQcUVU8c9IZmoeX6rINM5wEHWsVFa9KtJcF7bQ9Sc2SE1+MOEKwhMLFUnXPOOZ1NVoBCdRmWO+WUUzrAoN5RjUxgAmu9BCY0Cy+//PIyd8NCqJcOMJSp9urB/7gWIOHEiMNJAAgWpaX1Nd4VV1yxCCXhtDTHTLudir7BPgiv17CzcsMNNyyri+V56aWXli8HW6oDIA6jsGWAqwX/3HPPLc+NO1KOGgi5zjt5vwVIYdfofyYBIIQnAGHtMdDNQH3YIVXpmGOO6VScrcjGRBtttFFz7bXXlvt1b3DSSScVWm1hVg7P6uedhLouWoB0MWRUfycBIHgTc64eZKWVVipCZ1b9MY95TDGT7rTTTs2gvC3Be+yxR7PGGmsUdWn33Xcv8xd2OroPpFSo9CABAEBELdtzzz0LQADd/bhcC+vrFiDh0IjDSQAIwYlgWbvGIkQol1122ebwww8vHIxwDYKdASdVTr5Ofdlss82Kty3YPWoYF0EPPZdcckl5bsMXXkurBlDeyb3Q3wIknBhxOO4AicCFziOOOKIzMLZv5bjjjlukZU78fofJnznWUUgxNTtsYp999ukMvhNPiAZ7bdZff/1m5ZVXLjPnqhtIAvjEr8XAey1Aao6M8DoVNAnzIATLxFqEk6p12mmnDQUgAZyqskfF3nn+/PPPL7WX53UY3jJN62WsJbvxxht71jbV0USh94GnBUhPNg3/ZipxXAESgcEZy9632WabImwEzlKNa665pghVyjEIDqKBi/B35zHdfTTxFoIaqwD25ptv3pi7Ya5m4TJG2XnnnYtlrl7C3wKkm8sj+h/BGleAoC/qiJY7e1YAZKuttuoMjCPEg2Jj0heiJ8If2uRbAyXxw189B1P0WmutVcZOVK7VVlutXK+55prlDLAbbrihk8ZEAoR50YK5mklhyqSGqeAcPUrwRrEnvZdgh6cRsiOPPLKx2xGNWmObvSKoidMrnX7dQw8XuhLmXnc+iY+2XFu9a2+LY5WYgBkd6jOJE2+iAHLBBRcUtAPIZZddVlqQDLTqCprE61hV6v0g47BhKsIW4WJS3XrrrTvjD0eW1ks3Ilh5b1zC0CVUlulcyum5uBMFkAsvvLCxMM6g8Oqrr56ujBN/n8oyLj0IIamFyunvK6ywQmf8Yd6BA3DxxtmFvpRHr137bnAoy0QBRA9ikoj9/aCDDiqHOFt7w8Q46T7lsJRivfXWKwI4qlNNIuQRKILDW+2a3Y5UKxOEZ5xxRgEGgHB5J2mMWxj6hL18dxkmAiBQzjHljXJ5g1Z9mN4iwFHvSQcMhgPOJBxQxLzLksXVglZuzKOfiQCISuLYpy1U86UlVpS11157XnllUjZjD0Ac1bE/tcCnZ7CXwmRcwKGhMjstbupnHuGiU5SJAIhK4PQkWjOV5lrFzBevXMqiXNmTPmwrVviM167Tc1988cWNg+KA1spdSzyYSrnwv363PJgnPxMBkHnC6xmLQdC47tPdh6ViRcADjNDDQuW0SVatvdEAAAIBSURBVOBI72ExYuYKgCjvzljACX04EQBJBQjnq4+gjWIepOZveg3ybEaZGgscWQzIwmY5uXeAKO9OqPwvluyJAMhiSzEPIqTFHvRMegRaGCGXd/LHSpNoTnnMWbw51d2h2o7I4WpwJM15UA1TitACZApLRnMjAgogMaUag9gIZMzloISMv/xfGp90ugXbJOCpp57abLHFFp0eQ+/B6zkcksDV4BgNt4aXawuQ4fF6xpxqgGSQ7iCCLJyb8eWleOgIH4enHXbYYWW7qjwBIr0G1WrvvfcucyCyiSrouhtgS0HG2L7aAmRMqqYGSHoQ20r33Xff5vTTTy/fL7ekfGm9Qb9eyXoqu+t8QWr11VdvlllmmQKM9BjCddddt6xTCosWGjiUuwVIan/EYQASK5YWXOvNM6syr/bDxxJVA6H72sDchiQf9eEyVsn1Qug5Ig4tQMKJEYexHhkfGAN0C+0g/gOLmXETgECx3XbblZNJ7O2IQ08AkTDPFkLYAmRMarnuQXbcccdy+t+mm25aTunYeOONm376Lbfcstl2223L0Zu+yWgdm+NzzG3EoSc0AcZCBAdetACJRIw4jADqSRyjab/LlVde2Xd/xRVXlJXQ1113XXPTTTdNEXygCCASjpg1I82+BchI2f+/zAOQ/90Z/JU801MEGHIdBS2DL+3ccvg/2vGx3Qm7GfEAAAAASUVORK5CYII=)"
      ],
      "metadata": {
        "id": "yfcw00wqq7vX"
      }
    },
    {
      "cell_type": "markdown",
      "source": [
        "Write the code for half-adder gate in Python."
      ],
      "metadata": {
        "id": "7WOYL-Arq7qO"
      }
    },
    {
      "cell_type": "code",
      "source": [
        "a, b = 1, 1\n",
        "\n",
        "# s is sum of half adder.\n",
        "# s = a or b\n",
        "\n",
        "s = (a and (not b)) or ((not a) and b)\n",
        "\n",
        "# c is carry of half adder.\n",
        "# c = a and b\n",
        "c = a and b\n",
        "\n",
        "print(f\"{a} xor {b} = {output}\")\n",
        "\n",
        "\n",
        "\n"
      ],
      "metadata": {
        "id": "aV8bZQUvq7eO"
      },
      "execution_count": null,
      "outputs": []
    },
    {
      "cell_type": "code",
      "source": [
        "a, b = 1, 1\n",
        "\n",
        "# s is sum of half adder.\n",
        "# s = a or b\n",
        "\n",
        "s = (a and (not b)) or ((not a) and b)\n",
        "\n",
        "# c is carry of half adder.\n",
        "# c = a and b\n",
        "c = a and b\n",
        "\n",
        "print(f\"{a} + {b} = {c}{int(s)}\")\n"
      ],
      "metadata": {
        "id": "it-Q9mR_NXJ5"
      },
      "execution_count": null,
      "outputs": []
    },
    {
      "cell_type": "markdown",
      "source": [
        "Yazdığımız kod yukarıdakinin aynısının farklı gösterimi."
      ],
      "metadata": {
        "id": "TsT0SQdsM5EN"
      }
    }
  ]
}