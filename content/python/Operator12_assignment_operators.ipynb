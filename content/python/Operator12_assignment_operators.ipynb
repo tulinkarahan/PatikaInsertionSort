{
  "nbformat": 4,
  "nbformat_minor": 0,
  "metadata": {
    "colab": {
      "private_outputs": true,
      "provenance": [],
      "include_colab_link": true
    },
    "kernelspec": {
      "name": "python3",
      "display_name": "Python 3"
    },
    "language_info": {
      "name": "python"
    }
  },
  "cells": [
    {
      "cell_type": "markdown",
      "metadata": {
        "id": "view-in-github",
        "colab_type": "text"
      },
      "source": [
        "<a href=\"https://colab.research.google.com/github/tulinkarahan/PatikaInsertionSort/blob/main/content/python/Operator12_assignment_operators.ipynb\" target=\"_parent\"><img src=\"https://colab.research.google.com/assets/colab-badge.svg\" alt=\"Open In Colab\"/></a>"
      ]
    },
    {
      "cell_type": "markdown",
      "source": [
        "<table width=\"100%\">\n",
        "    <tr style=\"\">\n",
        "        <th style=\"text-align:left; padding:0px\" width=\"5%\">\n",
        "            <a href=\"https://www.marmara.edu.tr\" target=\"_blank\">\n",
        "                <img src=\"https://raw.githubusercontent.com/MU-Physics-Department/logos/master/mu_logo.png\">\n",
        "            </a>\n",
        "        </th>\n",
        "        <th style=\"padding:0px;\" width=\"35%\">\n",
        "            <img align=\"right\" src=\"https://raw.githubusercontent.com/MU-Physics-Department/logos/master/name.png\">\n",
        "        </th>\n",
        "        <th  width=\"20%\">\n",
        "            &nbsp;\n",
        "        </th>\n",
        "        <th style=\"padding:0px\" width=\"5%\">\n",
        "            <a href=\"https://www.sababozpolat.com\" target=\"_blank\" padding=\"0px\">\n",
        "                <img align=\"center\" src=\"https://raw.githubusercontent.com/MU-Physics-Department/logos/master/hp.png\">\n",
        "            </a>\n",
        "        </th>\n",
        "        <th style=\"padding:0px\" width=\"5%\">\n",
        "            <a href=\"mailto:saba.bozpolat@gmail.com\" target=\"_blank\">\n",
        "                <img align=\"center\" src=\"https://raw.githubusercontent.com/MU-Physics-Department/logos/master/email.png\">\n",
        "            </a>\n",
        "        </th>\n",
        "        <th style=\"padding:0px;\" width=\"5%\">\n",
        "            <a href=\"https://www.linkedin.com/in/saba-bozpolat-644856152/\" target=\"_blank\">\n",
        "                <img align=\"right\" src=\"https://raw.githubusercontent.com/MU-Physics-Department/logos/master/in.png\">\n",
        "            </a>\n",
        "        </th>\n",
        "        <th style=\"padding:0px;\" width=\"5%\">\n",
        "            <a href=\"https://scholar.google.com.tr/citations?user=nSiJoMYAAAAJ&hl=en\" target=\"_blank\">\n",
        "                <img align=\"right\" src=\"https://raw.githubusercontent.com/MU-Physics-Department/logos/master/GS.png\">\n",
        "            </a>\n",
        "        </th>\n",
        "        <th style=\"padding:0px;\" width=\"5%\">\n",
        "            <a href=\"https://www.researchgate.net/profile/Saba-Bozpolat\" target=\"_blank\">\n",
        "                <img align=\"right\" src=\"https://raw.githubusercontent.com/MU-Physics-Department/logos/master/RG.png\">\n",
        "            </a>\n",
        "        </th>\n",
        "        <th style=\"padding:0px\" width=\"5%\">\n",
        "            <a href=\"https://www.youtube.com/channel/UC8-uOZud6UL7oCOE2UUBunA\" target=\"_blank\">\n",
        "                <img align=\"right\" src=\"https://raw.githubusercontent.com/MU-Physics-Department/logos/master/YT.png\">\n",
        "            </a>\n",
        "        </th>\n",
        "        <th style=\"padding:0px;\" width=\"5%\">\n",
        "            <a href=\"https://github.com/sbbzplt\" target=\"_blank\">\n",
        "                <img align=\"right\" src=\"https://raw.githubusercontent.com/MU-Physics-Department/logos/master/GH.png\">\n",
        "            </a>\n",
        "        </th>\n",
        "        <th style=\"padding:0px;\" width=\"5%\">\n",
        "            <a href=\"https://join.slack.com/t/mu-fzk/shared_invite/zt-13jtd6dtd-g9zD5P4Zu0m5P0Gt2PNReQ\"\n",
        "               target=\"_blank\">\n",
        "                <img align=\"right\" src=\"https://raw.githubusercontent.com/MU-Physics-Department/logos/master/slack.png\">\n",
        "            </a>\n",
        "        </th>\n",
        "    </tr>\n",
        "</table>\n",
        "<table width=\"100%\">\n",
        "    <tr style=\"background-color:white;\">\n",
        "        <!-- <td style=\"text-align-left;padding:0px;\" width=\"10%\">\n",
        "            <a href=\"https://fef.marmara.edu.tr\"\n",
        "               target=\"_blank\">\n",
        "                <img align=\"right\" src=\"https://raw.githubusercontent.com/MU-Physics-Department/logos/master/fef.png\">\n",
        "            </a>\n",
        "        </td> -->\n",
        "        <td style=\"padding:0px\" width=\"25%\">\n",
        "            <a href=\"http://fzk.fen.marmara.edu.tr\"\n",
        "               target=\"_blank\">\n",
        "                <img align=\"right\" src=\"https://raw.githubusercontent.com/MU-Physics-Department/logos/master/fzk.png\">\n",
        "            </a>\n",
        "        </td>\n",
        "        <td width=\"10%\">\n",
        "            &nbsp;\n",
        "        </td>\n",
        "        <td style=\"padding:0px;\" width=\"65%\">\n",
        "            <a href=\"https://www.sababozpolat.com/lectures/scientific-programming\"\n",
        "               target=\"_blank\">\n",
        "                <img align=\"right\" src=\"https://raw.githubusercontent.com/MU-Physics-Department/logos/master/comp2083.png\">\n",
        "            </a>\n",
        "        </td>\n",
        "    </tr>\n",
        "</table>"
      ],
      "metadata": {
        "id": "xsiB2OVMcazu"
      }
    },
    {
      "cell_type": "markdown",
      "source": [
        "# Asignment Operators"
      ],
      "metadata": {
        "id": "pMMcblcglhYw"
      }
    },
    {
      "cell_type": "markdown",
      "source": [
        "## Plain Assignment"
      ],
      "metadata": {
        "id": "ToKnPxKqNnU-"
      }
    },
    {
      "cell_type": "markdown",
      "source": [
        "Assigns values from right side operands to left side operand. The operator is ```=```.\n",
        "\n",
        "```python\n",
        ">>> a = 3\n",
        ">>> print(a)\n",
        "3\n",
        "```"
      ],
      "metadata": {
        "id": "AV5gY0TeNnf6"
      }
    },
    {
      "cell_type": "markdown",
      "source": [
        "<h3>Task 1</h3>\n",
        "Assign the value of pi to a variable named as \"pi\" and print it."
      ],
      "metadata": {
        "id": "f2E3dCzuNq_g"
      }
    },
    {
      "cell_type": "code",
      "source": [
        "pi = 3.14\n",
        "print(pi)"
      ],
      "metadata": {
        "id": "eZtGjUrhNrJz"
      },
      "execution_count": null,
      "outputs": []
    },
    {
      "cell_type": "markdown",
      "source": [
        "## Addition In-Place\n"
      ],
      "metadata": {
        "id": "khiD2VKZNrX_"
      }
    },
    {
      "cell_type": "markdown",
      "source": [
        "It adds right operand to the left operand and assign the result to left operand. The operator is ```+=```.\n",
        "\n",
        "```python\n",
        ">>> a, b = 1, 3\n",
        ">>> print(a)\n",
        "1\n",
        ">>> a += b\n",
        ">>> print(a)\n",
        "4\n",
        "```"
      ],
      "metadata": {
        "id": "3d0muG6pNriN"
      }
    },
    {
      "cell_type": "code",
      "source": [
        "a = 1\n",
        "b = 3\n",
        "c = a + b\n",
        "\n",
        "a+= b\n",
        "print(a, b, c)"
      ],
      "metadata": {
        "id": "O7P7jf-aymXS"
      },
      "execution_count": null,
      "outputs": []
    },
    {
      "cell_type": "markdown",
      "source": [
        "<h3>Task 2</h3>\n",
        "\n",
        "Consider ```x``` and ```y``` are ```\"Hello\"``` and ```\"World\"``` and perform following steps.\n",
        "\n",
        " - Assign them.\n",
        " - Print them.\n",
        " - Perform in-place addition on ```x``` with ```y```.\n",
        " - Reprint them."
      ],
      "metadata": {
        "id": "D4lLVJq9Nrsa"
      }
    },
    {
      "cell_type": "code",
      "source": [
        "x = \"Hello\"\n",
        "y = \"World\"\n",
        "print(x, y)\n",
        "\n",
        "x += y\n",
        "print(x, y)\n",
        "\n",
        "\n"
      ],
      "metadata": {
        "id": "NLRCgo7ENr2W"
      },
      "execution_count": null,
      "outputs": []
    },
    {
      "cell_type": "markdown",
      "source": [
        "## Substraction In-Place\n"
      ],
      "metadata": {
        "id": "TdoyfEZmNr9o"
      }
    },
    {
      "cell_type": "markdown",
      "source": [
        "It subtracts right operand from the left operand and assign the result to left operand. The operator is ```-=```\n",
        "\n",
        "```python\n",
        ">>> a, b = 1, 3\n",
        ">>> print(a)\n",
        "1\n",
        ">>> a -= b\n",
        ">>> print(a)\n",
        "-2\n",
        "```"
      ],
      "metadata": {
        "id": "LhFMXMWyNsKD"
      }
    },
    {
      "cell_type": "markdown",
      "source": [
        "<h3>Task 3</h3>\n",
        "\n",
        "Consider ```m``` and ```n``` are ```22.3``` and ```1.2e2``` and perform following steps.\n",
        "\n",
        " - Assign them.\n",
        " - Print them.\n",
        " - Perform in-place substraction on ```m``` with ```n```.\n",
        " - Reprint them."
      ],
      "metadata": {
        "id": "tUJ7LN5SNsUo"
      }
    },
    {
      "cell_type": "code",
      "source": [
        "#\n",
        "# your code here\n",
        "#\n"
      ],
      "metadata": {
        "id": "Y-AgruZ4NsfK"
      },
      "execution_count": null,
      "outputs": []
    },
    {
      "cell_type": "markdown",
      "source": [
        "## Production In-Place"
      ],
      "metadata": {
        "id": "gLfxxkXgNssz"
      }
    },
    {
      "cell_type": "markdown",
      "source": [
        "It multiplies right operand with the left operand and assign the result to left operand. The operator is ```*=```.\n",
        "\n",
        "```python\n",
        ">>> a, b = 2, 3\n",
        ">>> print(a)\n",
        "2\n",
        ">>> a *= b\n",
        ">>> print(a)\n",
        "6\n",
        "```"
      ],
      "metadata": {
        "id": "ysNu6_eJNs3U"
      }
    },
    {
      "cell_type": "markdown",
      "source": [
        "<h3>Task 4</h3>\n",
        "\n",
        "Consider ```m``` and ```n``` are ```22.3``` and ```1.2e2``` and perform following steps.\n",
        "\n",
        " - Assign them.\n",
        " - Print them.\n",
        " - Perform in-place production on ```m``` with ```n```.\n",
        " - Reprint them.\n"
      ],
      "metadata": {
        "id": "OkxQG6e9NtBt"
      }
    },
    {
      "cell_type": "code",
      "source": [
        "#\n",
        "# your code here\n",
        "#\n"
      ],
      "metadata": {
        "id": "2Pi0pnRQNtL2"
      },
      "execution_count": null,
      "outputs": []
    },
    {
      "cell_type": "markdown",
      "source": [
        "<h3>Task 5</h3>\n",
        "\n",
        "Consider ```x``` and ```z``` are ```Hello``` and ```5``` and perform following steps.\n",
        "\n",
        " - Assign them.\n",
        " - Print them.\n",
        " - Perform in-place production on ```x``` with ```z```.\n",
        " - Reprint them."
      ],
      "metadata": {
        "id": "U8XmB9T13T6M"
      }
    },
    {
      "cell_type": "code",
      "source": [
        "#\n",
        "# your code here\n",
        "#\n"
      ],
      "metadata": {
        "id": "nfXVzbay3UE3"
      },
      "execution_count": null,
      "outputs": []
    },
    {
      "cell_type": "markdown",
      "source": [
        "## Division In-Place"
      ],
      "metadata": {
        "id": "tSruNoJIc_4I"
      }
    },
    {
      "cell_type": "markdown",
      "source": [
        "It divides left operand with the right operand and assign the result to left operand. The operator is ```/=```.\n",
        "\n",
        "```python\n",
        ">>> a, b = 1, 3\n",
        ">>> print(a)\n",
        "1\n",
        ">>> a /= b\n",
        ">>> print(a)\n",
        "0.33\n",
        "```"
      ],
      "metadata": {
        "id": "2HickuFMdACA"
      }
    },
    {
      "cell_type": "markdown",
      "source": [
        "<h3>Task 6</h3>\n",
        "\n",
        "Consider ```m``` and ```n``` are ```22.3``` and ```1.2e2``` and perform following steps.\n",
        "\n",
        " - Assign them.\n",
        " - Print them.\n",
        " - Perform in-place division on ```m``` with ```n```.\n",
        " - Reprint them."
      ],
      "metadata": {
        "id": "RjoLVUESdAMB"
      }
    },
    {
      "cell_type": "code",
      "source": [
        "#\n",
        "# your code here\n",
        "#\n"
      ],
      "metadata": {
        "id": "Ouqp_JQGdAWS"
      },
      "execution_count": null,
      "outputs": []
    },
    {
      "cell_type": "markdown",
      "source": [
        "## Floor Division In-Place"
      ],
      "metadata": {
        "id": "snBT6PHYdAcj"
      }
    },
    {
      "cell_type": "markdown",
      "source": [
        "It performs floor division on operators and assign value to the left operand. The operator is ```//=```.\n",
        "\n",
        "```python\n",
        ">>> a, b = 1, 3\n",
        ">>> print(a)\n",
        "1\n",
        ">>> a //= b\n",
        ">>> print(a)\n",
        "0\n",
        "```"
      ],
      "metadata": {
        "id": "19tF6dwSdAmQ"
      }
    },
    {
      "cell_type": "markdown",
      "source": [
        "<h3>Task 7</h3>\n",
        "\n",
        "Consider ```m``` and ```n``` are ```22.3``` and ```1.2e2``` and perform following steps.\n",
        "\n",
        " - Assign them.\n",
        " - Print them.\n",
        " - Perform in-place floor division on ```m``` with ```n```.\n",
        " - Reprint them."
      ],
      "metadata": {
        "id": "mgMdNgvodAwL"
      }
    },
    {
      "cell_type": "code",
      "source": [
        "#\n",
        "# your code here\n",
        "#\n"
      ],
      "metadata": {
        "id": "II_dDejCdA6M"
      },
      "execution_count": null,
      "outputs": []
    },
    {
      "cell_type": "markdown",
      "source": [
        "<h3>Task 8</h3>\n",
        "\n",
        "Consider ```m``` and ```n``` are ```22.3``` and ```1.2e2``` and perform following steps.\n",
        "\n",
        " - Assign them.\n",
        " - Print them.\n",
        " - Perform in-place floor division on ```n``` with ```m```.\n",
        " - Reprint them."
      ],
      "metadata": {
        "id": "0Eje9yp13vU-"
      }
    },
    {
      "cell_type": "code",
      "source": [
        "#\n",
        "# your code here\n",
        "#\n"
      ],
      "metadata": {
        "id": "SKD8vp4g3vfC"
      },
      "execution_count": null,
      "outputs": []
    },
    {
      "cell_type": "markdown",
      "source": [
        "## Exponentiation In-Place"
      ],
      "metadata": {
        "id": "C1E7T-J3dBAE"
      }
    },
    {
      "cell_type": "markdown",
      "source": [
        "Performs exponential (power) calculation on operators and assign value to the left operand.\tThe operator is ```**=```.\n",
        "\n",
        "```python\n",
        ">>> a, b = 2, 3\n",
        ">>> print(a)\n",
        "2\n",
        ">>> a **= b\n",
        ">>> print(a)\n",
        "8\n",
        "```"
      ],
      "metadata": {
        "id": "eSV8Yz4PdBKU"
      }
    },
    {
      "cell_type": "markdown",
      "source": [
        "<h3>Task 9</h3>\n",
        "\n",
        "Consider ```k``` and ```z``` are ```3``` and ```5``` and perform following steps.\n",
        "\n",
        " - Assign them.\n",
        " - Print them.\n",
        " - Perform in-place exponentiation on ```k``` with ```z```.\n",
        " - Reprint them."
      ],
      "metadata": {
        "id": "k3e4UHT6dBUc"
      }
    },
    {
      "cell_type": "code",
      "source": [
        "#\n",
        "# your code here\n",
        "#\n"
      ],
      "metadata": {
        "id": "ZLk47uSidBeA"
      },
      "execution_count": null,
      "outputs": []
    },
    {
      "cell_type": "markdown",
      "source": [
        "## Modulus In-Place"
      ],
      "metadata": {
        "id": "cqmKwDtxdiRV"
      }
    },
    {
      "cell_type": "markdown",
      "source": [
        "It takes modulus using two operands and assign the result to left operand. The operator is ```%=```.\n",
        "\n",
        "```python\n",
        ">>> a, b = 17, 3\n",
        ">>> print(a)\n",
        "17\n",
        ">>> a %= b\n",
        ">>> print(a)\n",
        "2\n",
        "```"
      ],
      "metadata": {
        "id": "Tk84OW0_dibW"
      }
    },
    {
      "cell_type": "markdown",
      "source": [
        "<h3>Task 10</h3>\n",
        "\n",
        "Consider ```t``` and ```z``` are ```308``` and ```5``` and perform following steps.\n",
        "\n",
        " - Assign them.\n",
        " - Print them.\n",
        " - Perform in-place modulus on ```t``` with ```z```.\n",
        " - Reprint them."
      ],
      "metadata": {
        "id": "swnjJ4sndilp"
      }
    },
    {
      "cell_type": "code",
      "source": [
        "#\n",
        "# your code here\n",
        "#\n"
      ],
      "metadata": {
        "id": "ix4PHtzQdi98"
      },
      "execution_count": null,
      "outputs": []
    }
  ]
}