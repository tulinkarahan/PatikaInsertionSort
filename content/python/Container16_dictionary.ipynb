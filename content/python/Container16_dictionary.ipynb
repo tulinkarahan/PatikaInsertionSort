{
  "cells": [
    {
      "cell_type": "markdown",
      "metadata": {
        "id": "view-in-github",
        "colab_type": "text"
      },
      "source": [
        "<a href=\"https://colab.research.google.com/github/tulinkarahan/PatikaInsertionSort/blob/main/content/python/Container16_dictionary.ipynb\" target=\"_parent\"><img src=\"https://colab.research.google.com/assets/colab-badge.svg\" alt=\"Open In Colab\"/></a>"
      ]
    },
    {
      "cell_type": "markdown",
      "metadata": {
        "id": "lbseUH1lxKAC"
      },
      "source": [
        "<table width=\"100%\">\n",
        "    <tr style=\"\">\n",
        "        <th style=\"text-align:left; padding:0px\" width=\"5%\">\n",
        "            <a href=\"https://www.marmara.edu.tr\" target=\"_blank\">\n",
        "                <img src=\"https://raw.githubusercontent.com/MU-Physics-Department/logos/master/mu_logo.png\">\n",
        "            </a>\n",
        "        </th>\n",
        "        <th style=\"padding:0px;\" width=\"35%\">\n",
        "            <img align=\"right\" src=\"https://raw.githubusercontent.com/MU-Physics-Department/logos/master/name.png\">\n",
        "        </th>\n",
        "        <th  width=\"20%\">\n",
        "            &nbsp;\n",
        "        </th>\n",
        "        <th style=\"padding:0px\" width=\"5%\">\n",
        "            <a href=\"https://www.sababozpolat.com\" target=\"_blank\" padding=\"0px\">\n",
        "                <img align=\"center\" src=\"https://raw.githubusercontent.com/MU-Physics-Department/logos/master/hp.png\">\n",
        "            </a>\n",
        "        </th>\n",
        "        <th style=\"padding:0px\" width=\"5%\">\n",
        "            <a href=\"mailto:saba.bozpolat@gmail.com\" target=\"_blank\">\n",
        "                <img align=\"center\" src=\"https://raw.githubusercontent.com/MU-Physics-Department/logos/master/email.png\">\n",
        "            </a>\n",
        "        </th>\n",
        "        <th style=\"padding:0px;\" width=\"5%\">\n",
        "            <a href=\"https://www.linkedin.com/in/saba-bozpolat-644856152/\" target=\"_blank\">\n",
        "                <img align=\"right\" src=\"https://raw.githubusercontent.com/MU-Physics-Department/logos/master/in.png\">\n",
        "            </a>\n",
        "        </th>\n",
        "        <th style=\"padding:0px;\" width=\"5%\">\n",
        "            <a href=\"https://scholar.google.com.tr/citations?user=nSiJoMYAAAAJ&hl=en\" target=\"_blank\">\n",
        "                <img align=\"right\" src=\"https://raw.githubusercontent.com/MU-Physics-Department/logos/master/GS.png\">\n",
        "            </a>\n",
        "        </th>\n",
        "        <th style=\"padding:0px;\" width=\"5%\">\n",
        "            <a href=\"https://www.researchgate.net/profile/Saba-Bozpolat\" target=\"_blank\">\n",
        "                <img align=\"right\" src=\"https://raw.githubusercontent.com/MU-Physics-Department/logos/master/RG.png\">\n",
        "            </a>\n",
        "        </th>\n",
        "        <th style=\"padding:0px\" width=\"5%\">\n",
        "            <a href=\"https://www.youtube.com/channel/UC8-uOZud6UL7oCOE2UUBunA\" target=\"_blank\">\n",
        "                <img align=\"right\" src=\"https://raw.githubusercontent.com/MU-Physics-Department/logos/master/YT.png\">\n",
        "            </a>\n",
        "        </th>\n",
        "        <th style=\"padding:0px;\" width=\"5%\">\n",
        "            <a href=\"https://github.com/sbbzplt\" target=\"_blank\">\n",
        "                <img align=\"right\" src=\"https://raw.githubusercontent.com/MU-Physics-Department/logos/master/GH.png\">\n",
        "            </a>\n",
        "        </th>\n",
        "        <th style=\"padding:0px;\" width=\"5%\">\n",
        "            <a href=\"https://join.slack.com/t/mu-fzk/shared_invite/zt-13jtd6dtd-g9zD5P4Zu0m5P0Gt2PNReQ\"\n",
        "               target=\"_blank\">\n",
        "                <img align=\"right\" src=\"https://raw.githubusercontent.com/MU-Physics-Department/logos/master/slack.png\">\n",
        "            </a>\n",
        "        </th>\n",
        "    </tr>\n",
        "</table>\n",
        "<table width=\"100%\">\n",
        "    <tr style=\"background-color:white;\">\n",
        "        <!-- <td style=\"text-align-left;padding:0px;\" width=\"10%\">\n",
        "            <a href=\"https://fef.marmara.edu.tr\"\n",
        "               target=\"_blank\">\n",
        "                <img align=\"right\" src=\"https://raw.githubusercontent.com/MU-Physics-Department/logos/master/fef.png\">\n",
        "            </a>\n",
        "        </td> -->\n",
        "        <td style=\"padding:0px\" width=\"25%\">\n",
        "            <a href=\"http://fzk.fen.marmara.edu.tr\"\n",
        "               target=\"_blank\">\n",
        "                <img align=\"right\" src=\"https://raw.githubusercontent.com/MU-Physics-Department/logos/master/fzk.png\">\n",
        "            </a>\n",
        "        </td>\n",
        "        <td width=\"10%\">\n",
        "            &nbsp;\n",
        "        </td>\n",
        "        <td style=\"padding:0px;\" width=\"65%\">\n",
        "            <a href=\"https://www.sababozpolat.com/lectures/scientific-programming\"\n",
        "               target=\"_blank\">\n",
        "                <img align=\"right\" src=\"https://raw.githubusercontent.com/MU-Physics-Department/logos/master/comp2083.png\">\n",
        "            </a>\n",
        "        </td>\n",
        "    </tr>\n",
        "</table>"
      ]
    },
    {
      "cell_type": "markdown",
      "metadata": {
        "id": "Qs--TKRXxKAI"
      },
      "source": [
        "# Dictionary"
      ]
    },
    {
      "cell_type": "markdown",
      "metadata": {
        "id": "aP1BOeGQxKAJ"
      },
      "source": [
        "Each key is separated from its value by a colon (:), the items are separated by commas, and the whole thing is enclosed in curly braces. An empty dictionary without any items is written with just two curly braces, like this: {}.\n",
        "\n",
        "Keys are unique within a dictionary while values may not be. The values of a dictionary can be of any type, but the keys must be of an immutable data type such as strings, numbers, or tuples.\n",
        "\n",
        "```python\n",
        ">>> my_dict = {'Name': 'Zara', 'Age': 7, 'Class': 'First'}\n",
        ">>> print(my_dict)\n",
        "{'Name': 'Zara', 'Age': 7, 'Class': 'First'}\n",
        "```"
      ]
    },
    {
      "cell_type": "markdown",
      "source": [
        "<h3>Task 1</h3>\n",
        "\n",
        "Create a dictionary of months with their order in a year and print it."
      ],
      "metadata": {
        "id": "9r_gCwXTJQuS"
      }
    },
    {
      "cell_type": "code",
      "source": [
        "my_dict = {\"First month of the year\": \"Ocak\", \"Second month of the year\": \"Şubat\"}\n",
        "print(my_dict)\n",
        "\n",
        "my_dict2 = {\"1\": \"Ocak\", \"2\": \"Şubat\"}\n",
        "print(my_dict2)"
      ],
      "metadata": {
        "id": "QXw1aU-KJQ9J",
        "outputId": "1e2a8138-a13e-4b21-a0dc-fba5de955d17",
        "colab": {
          "base_uri": "https://localhost:8080/"
        }
      },
      "execution_count": 5,
      "outputs": [
        {
          "output_type": "stream",
          "name": "stdout",
          "text": [
            "{'First month of the year': 'Ocak', 'Second month of the year': 'Şubat'}\n",
            "{'1': 'Ocak', '2': 'Şubat'}\n"
          ]
        }
      ]
    },
    {
      "cell_type": "markdown",
      "source": [
        "## Accessing values in dictionary\n"
      ],
      "metadata": {
        "id": "9AoeVXsTVox1"
      }
    },
    {
      "cell_type": "markdown",
      "metadata": {
        "id": "inwYVlB3xKAL"
      },
      "source": [
        "To access dictionary elements, you can use the familiar square brackets along with the key to obtain its value.\n",
        "```python\n",
        ">>> my_dict = {'Name': 'Zara', 'Age': 7, 'Class': 'First'}\n",
        ">>> print(my_dict['Name'])\n",
        "Zara\n",
        "```\n",
        "\n",
        "If we attempt to access a data item with a key, which is not part of the dictionary, we get an error.\n",
        "```python\n",
        ">>> my_dict = {'Name': 'Zara', 'Age': 7, 'Class': 'First'}\n",
        ">>> print(my_dict['Surname'])\n",
        "KeyError: 'Surname'\n",
        "```\n",
        "\n"
      ]
    },
    {
      "cell_type": "markdown",
      "source": [
        "<h3>Task 2</h3>\n",
        "\n",
        "Create a dictionary with names of months as the values and their order as the keys in a year and do the followings.\n",
        " - Print 2nd month of the year.\n",
        " - Print 8th month of the year.\n",
        " - Print 12nd month of the year."
      ],
      "metadata": {
        "id": "817gDvAsJRqO"
      }
    },
    {
      "cell_type": "code",
      "source": [
        "my_dict = {\"1\": \"Ocak\", \"2\": \"Şubat\", \"3\": \"Mart\", \"4\": \"Nisan\", 5: \"Mayıs\"}\n",
        "print(my_dict)\n",
        "print(my_dict[\"3\"])\n",
        "print(my_dict[5])\n",
        "\n"
      ],
      "metadata": {
        "id": "iC6-sRd7JR0L",
        "outputId": "8acb3c00-a7a4-41f6-e592-da8bc00ea4e7",
        "colab": {
          "base_uri": "https://localhost:8080/"
        }
      },
      "execution_count": 11,
      "outputs": [
        {
          "output_type": "stream",
          "name": "stdout",
          "text": [
            "{'1': 'Ocak', '2': 'Şubat', '3': 'Mart', '4': 'Nisan', 5: 'Mayıs'}\n",
            "Mart\n",
            "Mayıs\n"
          ]
        }
      ]
    },
    {
      "cell_type": "markdown",
      "source": [
        "## Updating dictionary\n"
      ],
      "metadata": {
        "id": "4qIyxHimXCSt"
      }
    },
    {
      "cell_type": "markdown",
      "metadata": {
        "id": "xtP7hKbwxKAR"
      },
      "source": [
        "You can update a dictionary by adding a new entry or a key-value pair, modifying an existing entry, or deleting an existing entry as shown below in the simple example.\n",
        "\n",
        "```python\n",
        ">>> my_dict = {'Name': 'Zara', 'Age': 7, 'Class': 'First'}\n",
        ">>> print(my_dict)\n",
        "{'Name': 'Zara', 'Age': 7, 'Class': 'First'}\n",
        ">>> my_dict[\"Name\"] = \"Silvia\"  # Update existing entry\n",
        ">>> my_dict['School'] = \"DPS School\"  # Add new entry\n",
        ">>> print(my_dict)\n",
        "{'Name': 'Silvia', 'Age': 7, 'Class': 'First', 'School': 'DPS School'}\n",
        "```"
      ]
    },
    {
      "cell_type": "markdown",
      "source": [
        "<h3>Task 3</h3>\n",
        "\n",
        "Create the country-capital dictionary with given couples below:\n",
        "  <br> &nbsp; &nbsp; &nbsp; &nbsp;Turkey - Ankara\n",
        "  <br> &nbsp; &nbsp; &nbsp; &nbsp;France - Paris\n",
        "  <br> &nbsp; &nbsp; &nbsp; &nbsp;Brazil - Rio de Janeiro\n",
        "  <br> &nbsp; &nbsp; &nbsp; &nbsp;Germany - Berlin\n",
        "  <br> &nbsp; &nbsp; &nbsp; &nbsp;Nigeria - Lagos\n",
        "\n",
        "Print this dictionary. Then search the internet and check if these capital cities are changed in time or not. Update the changed ones. Print this dictionary again."
      ],
      "metadata": {
        "id": "FM05v0rOJScy"
      }
    },
    {
      "cell_type": "code",
      "source": [
        "my_dict = {\"Turkey's capital\": \"Ankara\", \"France's capital\": \"Paris\", \"Brazil's capital\": \"Rio de Janerio\", \"Germany's capital\": \"Berlin\", \"Nigeria's capital\": \"Lagos\"}\n",
        "print(my_dict)\n",
        "my_dict[\"Brazil's capital\"] = \"Brasilia\"\n",
        "my_dict[\"Nigeria's capital\"] = \"Abuja\"\n",
        "print(my_dict)\n",
        "\n"
      ],
      "metadata": {
        "id": "4TeCFtnmJSl8",
        "outputId": "f324425d-38bf-4872-ac0c-52bf81676e28",
        "colab": {
          "base_uri": "https://localhost:8080/"
        }
      },
      "execution_count": 12,
      "outputs": [
        {
          "output_type": "stream",
          "name": "stdout",
          "text": [
            "{\"Turkey's capital\": 'Ankara', \"France's capital\": 'Paris', \"Brazil's capital\": 'Rio de Janerio', \"Germany's capital\": 'Berlin', \"Nigeria's capital\": 'Lagos'}\n",
            "{\"Turkey's capital\": 'Ankara', \"France's capital\": 'Paris', \"Brazil's capital\": 'Brasilia', \"Germany's capital\": 'Berlin', \"Nigeria's capital\": 'Abuja'}\n"
          ]
        }
      ]
    },
    {
      "cell_type": "markdown",
      "source": [
        "<h3>Task 4</h3>\n",
        "\n",
        "Given the book-author pairs, create a dictionary and print it.\n",
        "  <br> &nbsp; &nbsp; &nbsp; &nbsp;Sapiens - Yuval Noah Harari\n",
        "  <br> &nbsp; &nbsp; &nbsp; &nbsp;Myth of Normal - Gabor Mate\n",
        "  <br> &nbsp; &nbsp; &nbsp; &nbsp;Good to Great - Jim Collins\n",
        "  <br> &nbsp; &nbsp; &nbsp; &nbsp;The Alchemist -  Paulo Coelho\n",
        "  <br> &nbsp; &nbsp; &nbsp; &nbsp;Think and Grow Rich - Napoleon Hill\n",
        "\n",
        "Search the internet and find two other book-author pairs. Add them to the dictionary and print it, again."
      ],
      "metadata": {
        "id": "a5kYqF6yZVe9"
      }
    },
    {
      "cell_type": "code",
      "source": [
        "my_dict = {\"Sapiens\": \"Yuval Noah Harari\", \"Myth of Normal\": \"Gabor Mate\", \"Good to Great\": \"Jim Collins\", \"The Alchemist\": \"Paulo Coelho\", \"Think and Grow Rich\": \"Napoleon Hill\"}\n",
        "print(my_dict)\n",
        "my_dict[\"Sabahattin Ali\"] = \"Kürk Mantolu Madonna\"\n",
        "my_dict[\"Oğuz Atay\"] = \"Tutunamayanlar\"\n",
        "print(my_dict)\n",
        "\n"
      ],
      "metadata": {
        "id": "hVz7FpWxZVuB",
        "outputId": "5428ea0b-3319-4069-89c0-0e04660250f9",
        "colab": {
          "base_uri": "https://localhost:8080/"
        }
      },
      "execution_count": 17,
      "outputs": [
        {
          "output_type": "stream",
          "name": "stdout",
          "text": [
            "{'Sapiens': 'Yuval Noah Harari', 'Myth of Normal': 'Gabor Mate', 'Good to Great': 'Jim Collins', 'The Alchemist': 'Paulo Coelho', 'Think and Grow Rich': 'Napoleon Hill'}\n",
            "{'Sapiens': 'Yuval Noah Harari', 'Myth of Normal': 'Gabor Mate', 'Good to Great': 'Jim Collins', 'The Alchemist': 'Paulo Coelho', 'Think and Grow Rich': 'Napoleon Hill', 'Sabahattin Ali': 'Kürk Mantolu Madonna', 'Oğuz Atay': 'Tutunamayanlar'}\n"
          ]
        }
      ]
    },
    {
      "cell_type": "markdown",
      "source": [
        "## Delete dictionary elements\n"
      ],
      "metadata": {
        "id": "QU6odJkKX_vX"
      }
    },
    {
      "cell_type": "markdown",
      "metadata": {
        "id": "Ejy_ilQLxKAT"
      },
      "source": [
        "You can either remove individual dictionary elements or clear the entire contents of a dictionary. You can also delete entire dictionary in a single operation.\n",
        "\n",
        "To explicitly remove an entire dictionary, just use the del statement. Following is a simple example.\n",
        "\n",
        "``` python\n",
        ">>> my_dict = {'Name': 'Zara', 'Age': 7, 'Class': 'First'}\n",
        ">>> print(my_dict)\n",
        "{'Name': 'Zara', 'Age': 8, 'Class': 'First'}\n",
        ">>> del my_dict['Name']  # remove entry with key 'Name'\n",
        ">>> print(my_dict)\n",
        "{'Age': 8, 'Class': 'First'}\n",
        "```\n",
        "``` python\n",
        ">>> my_dict = {'Name': 'Zara', 'Age': 7, 'Class': 'First'}\n",
        ">>> print(my_dict)\n",
        "{'Name': 'Zara', 'Age': 8, 'Class': 'First'}\n",
        ">>> my_dict.clear()  # remove all entries in dict\n",
        ">>> print(my_dict)\n",
        "{}\n",
        "```\n",
        "``` python\n",
        ">>> my_dict = {'Name': 'Zara', 'Age': 7, 'Class': 'First'}\n",
        ">>> print(my_dict)\n",
        "{'Name': 'Zara', 'Age': 8, 'Class': 'First'}\n",
        ">>> del my_dict  # delete entire dictionary\n",
        "```\n"
      ]
    },
    {
      "cell_type": "markdown",
      "source": [
        "<h3>Task 5</h3>\n",
        "\n",
        "Create a dictionary with the names of five different makeup item - brand pairs. Do the followings:\n",
        "\n",
        " - Print the dictionary.\n",
        " - Delete the fourth element from the dictionary via del statement.\n",
        " - Print the dictionary, again.\n",
        " - Clear the dictionary via clear method.\n",
        " - Print the dictionary, again."
      ],
      "metadata": {
        "id": "MMJMr0yYJT8N"
      }
    },
    {
      "cell_type": "code",
      "source": [
        "my_dict = {\"Eye\": \"Eyeshadow\", \"Lips\": \"Lipstick\", \"Face\": \"Foundation\", \"Eyelash\": \"Mascara\", \"Nail\": \"Nail Varnish\"}\n",
        "print(my_dict)\n",
        "del my_dict[\"Nail\"]\n",
        "print(my_dict)\n",
        "my_dict.clear()\n",
        "print(my_dict)\n"
      ],
      "metadata": {
        "id": "hsmKJT43JUFu",
        "outputId": "baee7546-4a45-41ef-8361-80c6a2e9f9b6",
        "colab": {
          "base_uri": "https://localhost:8080/"
        }
      },
      "execution_count": 19,
      "outputs": [
        {
          "output_type": "stream",
          "name": "stdout",
          "text": [
            "{'Eye': 'Eyeshadow', 'Lips': 'Lipstick', 'Face': 'Foundation', 'Eyelash': 'Mascara', 'Nail': 'Nail Varnish'}\n",
            "{'Eye': 'Eyeshadow', 'Lips': 'Lipstick', 'Face': 'Foundation', 'Eyelash': 'Mascara'}\n",
            "{}\n"
          ]
        }
      ]
    },
    {
      "cell_type": "markdown",
      "source": [
        "## Properties of dictionary keys\n"
      ],
      "metadata": {
        "id": "ModN5qK5YQx4"
      }
    },
    {
      "cell_type": "markdown",
      "metadata": {
        "id": "-YVT_JW-xKAU"
      },
      "source": [
        "\n",
        "Dictionary values have no restrictions. They can be any arbitrary Python object, either standard objects or user-defined objects. However, same is not true for the keys.\n",
        "\n",
        "There are two important points to remember about dictionary keys −\n",
        "\n",
        " - More than one entry per key not allowed. Which means no duplicate key is allowed. When duplicate keys encountered during assignment, the last assignment wins.\n",
        "\n",
        " ```python\n",
        ">>> my_dict = {'Name': 'Zara', 'Age': 7, 'Name': 'Manni'}\n",
        ">>> print(my_dict)\n",
        "{'Name': 'Manni', 'Age': 7}\n",
        " ```\n",
        " - Keys must be immutable. Which means you can use strings, numbers or tuples as dictionary keys but something like ['key'] is not allowed.\n",
        " ``` python\n",
        ">>> my_dict = {['Name']: 'Zara', 'Age': 7}\n",
        "TypeError: unhashable type: 'list'\n",
        "```\n",
        "\n",
        "<!-- <h4>\n",
        "    Built-in Dictionary Functions & Methods\n",
        "</h4>\n",
        "\n",
        "Python includes the following dictionary functions −\n",
        "\n",
        "| No. | Function | Description |\n",
        "|:-:|:-:|:-:|\n",
        "| 1 | cmp(dict1, dict2) | Compares elements of both dict. |\n",
        "| 2 | len(dict) | Gives the total length of the dictionary. This would be equal to the number of items in the dictionary. |\n",
        "| 3 | str(dict) | Produces a printable string representation of a dictionary. |\n",
        "| 4 | type(variable) | Returns the type of the passed variable. If passed variable is dictionary, then it would return a dictionary type. |\n",
        "\n",
        "Python includes following dictionary methods −\n",
        "\n",
        "| No. | Methods | Description |\n",
        "|:-:|:-:|:-:|\n",
        "| 1 | dict.clear() | Removes all elements of dictionary dict |\n",
        "| 2 | dict.copy() | Returns a shallow copy of dictionary dict |\n",
        "| 3 | dict.fromkeys() | Create a new dictionary with keys from seq and values set to value. |\n",
        "| 4 | dict.get(key, default=None) | For key key, returns value or default if key not in dictionary |\n",
        "| 5 | dict.has_key(key) | Returns true if key in dictionary dict, false otherwise |\n",
        "| 6 | dict.items() | Returns a list of dict's (key, value) tuple pairs |\n",
        "| 7 | dict.keys() | Returns list of dictionary dict's keys |\n",
        "| 8 | dict.setdefault(key, default=None) | Similar to get(), but will set dict[key]=default if key is not already in dict |\n",
        "| 9 | dict.update(dict2) | Adds dictionary dict2's key-values pairs to dict |\n",
        "| 10 | dict.values() | Returns list of dictionary dict's values |\n",
        "\n",
        "<h4>\n",
        "    Built-in String Methods\n",
        "</h4>\n",
        "\n",
        "Python includes the following built-in methods to manipulate strings −\n",
        "\n",
        "| No. | Methods | Description |\n",
        "|:-:|:-:|:-:|\n",
        "| 1 | capitalize() | Capitalizes first letter of string |\n",
        "| 2 | center(width, fillchar) | Returns a space-padded string with the original string centered to a total of width columns. |\n",
        "| 3 | count(str, beg= 0,end=len(string)) | Counts how many times str occurs in string or in a substring of string if starting index beg and ending index end are given. |\n",
        "| 4 | decode(encoding='UTF-8',errors='strict') | Decodes the string using the codec registered for encoding. encoding defaults to the default string encoding. |\n",
        "| 5 | encode(encoding='UTF-8',errors='strict') | Returns encoded string version of string; on error, default is to raise a ValueError unless errors is given with 'ignore' or 'replace'. |\n",
        "| 6 | endswith(suffix, beg=0, end=len(string)) | Determines if string or a substring of string (if starting index beg and ending index end are given) ends with suffix; returns true if so and false otherwise. |\n",
        "| 7 | expandtabs(tabsize=8) | Expands tabs in string to multiple spaces; defaults to 8 spaces per tab if tabsize not provided. |\n",
        "| 8 | find(str, beg=0 end=len(string)) | Determine if str occurs in string or in a substring of string if starting index beg and ending index end are given returns index if found and -1 otherwise. |\n",
        "| 9 | index(str, beg=0, end=len(string)) | Same as find(), but raises an exception if str not found. |\n",
        "| 10 | isalnum() | Returns true if string has at least 1 character and all characters are alphanumeric and false otherwise. |\n",
        "| 11 | isalpha() | Returns true if string has at least 1 character and all characters are alphabetic and false otherwise. |\n",
        "| 12 | isdigit() | Returns true if string contains only digits and false otherwise. |\n",
        "| 13 | islower() | Returns true if string has at least 1 cased character and all cased characters are in lowercase and false otherwise. |\n",
        "| 14 | isnumeric() | Returns true if a unicode string contains only numeric characters and false otherwise. |\n",
        "| 15 | isspace() | Returns true if string contains only whitespace characters and false otherwise. |\n",
        "| 16 | istitle() | Returns true if string is properly \"titlecased\" and false otherwise. |\n",
        "| 17 | isupper() | Returns true if string has at least one cased character and all cased characters are in uppercase and false otherwise. |\n",
        "| 18 | join(seq) | Merges (concatenates) the string representations of elements in sequence seq into a string, with separator string. |\n",
        "| 19 | len(string) | Returns the length of the string |\n",
        "| 20 | ljust(width[, fillchar]) | Returns a space-padded string with the original string left-justified to a total of width columns. |\n",
        "| 21 | lower() | Converts all uppercase letters in string to lowercase. |\n",
        "| 22 | lstrip() | Removes all leading whitespace in string. |\n",
        "| 23 | maketrans() | Returns a translation table to be used in translate function. |\n",
        "| 24 | max(str) | Returns the max alphabetical character from the string str. |\n",
        "| 25 | min(str) | Returns the min alphabetical character from the string str. |\n",
        "| 26 | replace(old, new [, max]) | Replaces all occurrences of old in string with new or at most max occurrences if max given. |\n",
        "| 27 | rfind(str, beg=0,end=len(string)) | Same as find(), but search backwards in string. |\n",
        "| 28 | rindex( str, beg=0, end=len(string)) | Same as index(), but search backwards in string. |\n",
        "| 29 | rjust(width,[, fillchar]) | Returns a space-padded string with the original string right-justified to a total of width columns. |\n",
        "| 30 | rstrip() | Removes all trailing whitespace of string. |\n",
        "| 31 | split(str=\"\", num=string.count(str)) | Splits string according to delimiter str (space if not provided) and returns list of substrings; split into at most num substrings if given. |\n",
        "| 32 | splitlines( num=string.count('\\n')) | Splits string at all (or num) NEWLINEs and returns a list of each line with NEWLINEs removed. |\n",
        "| 33 | startswith(str, beg=0,end=len(string)) | Determines if string or a substring of string (if starting index beg and ending index end are given) starts with substring str; returns true if so and false otherwise. |\n",
        "| 34 | strip([chars]) | Performs both lstrip() and rstrip() on string. |\n",
        "| 35 | swapcase() | Inverts case for all letters in string. |\n",
        "| 36 | title() | Returns \"titlecased\" version of string, that is, all words begin with uppercase and the rest are lowercase. |\n",
        "| 37 | translate(table, deletechars=\"\") | Translates string according to translation table str(256 chars), removing those in the del string. |\n",
        "| 38 | upper() | Converts lowercase letters in string to uppercase. |\n",
        "| 39 | zfill (width) | Returns original string leftpadded with zeros to a total of width characters; intended for numbers, zfill() retains any sign given (less one zero). |\n",
        "| 40 | isdecimal() | Returns true if a unicode string contains only decimal characters and false otherwise. | -->"
      ]
    }
  ],
  "metadata": {
    "kernelspec": {
      "display_name": "Python 3",
      "language": "python",
      "name": "python3"
    },
    "language_info": {
      "codemirror_mode": {
        "name": "ipython",
        "version": 3
      },
      "file_extension": ".py",
      "mimetype": "text/x-python",
      "name": "python",
      "nbconvert_exporter": "python",
      "pygments_lexer": "ipython3",
      "version": "3.8.5"
    },
    "colab": {
      "provenance": [],
      "include_colab_link": true
    }
  },
  "nbformat": 4,
  "nbformat_minor": 0
}