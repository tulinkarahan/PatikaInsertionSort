{
  "nbformat": 4,
  "nbformat_minor": 0,
  "metadata": {
    "colab": {
      "private_outputs": true,
      "provenance": []
    },
    "kernelspec": {
      "name": "python3",
      "display_name": "Python 3"
    },
    "language_info": {
      "name": "python"
    }
  },
  "cells": [
    {
      "cell_type": "markdown",
      "source": [
        "<table width=\"100%\">\n",
        "    <tr style=\"\">\n",
        "        <th style=\"text-align:left; padding:0px\" width=\"5%\">\n",
        "            <a href=\"https://www.marmara.edu.tr\" target=\"_blank\">\n",
        "                <img src=\"https://raw.githubusercontent.com/MU-Physics-Department/logos/master/mu_logo.png\">\n",
        "            </a>\n",
        "        </th>\n",
        "        <th style=\"padding:0px;\" width=\"35%\">\n",
        "            <img align=\"right\" src=\"https://raw.githubusercontent.com/MU-Physics-Department/logos/master/name.png\">\n",
        "        </th>\n",
        "        <th  width=\"20%\">\n",
        "            &nbsp;\n",
        "        </th>\n",
        "        <th style=\"padding:0px\" width=\"5%\">\n",
        "            <a href=\"https://www.sababozpolat.com\" target=\"_blank\" padding=\"0px\">\n",
        "                <img align=\"center\" src=\"https://raw.githubusercontent.com/MU-Physics-Department/logos/master/hp.png\">\n",
        "            </a>\n",
        "        </th>\n",
        "        <th style=\"padding:0px\" width=\"5%\">\n",
        "            <a href=\"mailto:saba.bozpolat@gmail.com\" target=\"_blank\">\n",
        "                <img align=\"center\" src=\"https://raw.githubusercontent.com/MU-Physics-Department/logos/master/email.png\">\n",
        "            </a>\n",
        "        </th>\n",
        "        <th style=\"padding:0px;\" width=\"5%\">\n",
        "            <a href=\"https://www.linkedin.com/in/saba-bozpolat-644856152/\" target=\"_blank\">\n",
        "                <img align=\"right\" src=\"https://raw.githubusercontent.com/MU-Physics-Department/logos/master/in.png\">\n",
        "            </a>\n",
        "        </th>\n",
        "        <th style=\"padding:0px;\" width=\"5%\">\n",
        "            <a href=\"https://scholar.google.com.tr/citations?user=nSiJoMYAAAAJ&hl=en\" target=\"_blank\">\n",
        "                <img align=\"right\" src=\"https://raw.githubusercontent.com/MU-Physics-Department/logos/master/GS.png\">\n",
        "            </a>\n",
        "        </th>\n",
        "        <th style=\"padding:0px;\" width=\"5%\">\n",
        "            <a href=\"https://www.researchgate.net/profile/Saba-Bozpolat\" target=\"_blank\">\n",
        "                <img align=\"right\" src=\"https://raw.githubusercontent.com/MU-Physics-Department/logos/master/RG.png\">\n",
        "            </a>\n",
        "        </th>\n",
        "        <th style=\"padding:0px\" width=\"5%\">\n",
        "            <a href=\"https://www.youtube.com/channel/UC8-uOZud6UL7oCOE2UUBunA\" target=\"_blank\">\n",
        "                <img align=\"right\" src=\"https://raw.githubusercontent.com/MU-Physics-Department/logos/master/YT.png\">\n",
        "            </a>\n",
        "        </th>\n",
        "        <th style=\"padding:0px;\" width=\"5%\">\n",
        "            <a href=\"https://github.com/sbbzplt\" target=\"_blank\">\n",
        "                <img align=\"right\" src=\"https://raw.githubusercontent.com/MU-Physics-Department/logos/master/GH.png\">\n",
        "            </a>\n",
        "        </th>\n",
        "        <th style=\"padding:0px;\" width=\"5%\">\n",
        "            <a href=\"https://join.slack.com/t/mu-fzk/shared_invite/zt-13jtd6dtd-g9zD5P4Zu0m5P0Gt2PNReQ\"\n",
        "               target=\"_blank\">\n",
        "                <img align=\"right\" src=\"https://raw.githubusercontent.com/MU-Physics-Department/logos/master/slack.png\">\n",
        "            </a>\n",
        "        </th>\n",
        "    </tr>\n",
        "</table>\n",
        "<table width=\"100%\">\n",
        "    <tr style=\"background-color:white;\">\n",
        "        <!-- <td style=\"text-align-left;padding:0px;\" width=\"10%\">\n",
        "            <a href=\"https://fef.marmara.edu.tr\"\n",
        "               target=\"_blank\">\n",
        "                <img align=\"right\" src=\"https://raw.githubusercontent.com/MU-Physics-Department/logos/master/fef.png\">\n",
        "            </a>\n",
        "        </td> -->\n",
        "        <td style=\"padding:0px\" width=\"25%\">\n",
        "            <a href=\"http://fzk.fen.marmara.edu.tr\"\n",
        "               target=\"_blank\">\n",
        "                <img align=\"right\" src=\"https://raw.githubusercontent.com/MU-Physics-Department/logos/master/fzk.png\">\n",
        "            </a>\n",
        "        </td>\n",
        "        <td width=\"10%\">\n",
        "            &nbsp;\n",
        "        </td>\n",
        "        <td style=\"padding:0px;\" width=\"65%\">\n",
        "            <a href=\"https://www.sababozpolat.com/lectures/spring-semester/scientific-programming\"\n",
        "               target=\"_blank\">\n",
        "                <img align=\"right\" src=\"https://raw.githubusercontent.com/MU-Physics-Department/logos/master/comp2083.png\">\n",
        "            </a>\n",
        "        </td>\n",
        "    </tr>\n",
        "</table>"
      ],
      "metadata": {
        "id": "TgMxliqTSzZM"
      }
    },
    {
      "cell_type": "markdown",
      "source": [
        "# Exercises - Set 7"
      ],
      "metadata": {
        "id": "ExUxL6saSz2B"
      }
    },
    {
      "cell_type": "markdown",
      "source": [
        "<h3>Task 1: Jacobi Polynomials</h3>\n",
        "\n",
        "Jacobi polynomials are the solution set of Jacobi differential equation which has many applications in Quantum Physics. Its definition is as follows,\n",
        "\n",
        "$$\n",
        "P_n^{\\alpha,\\beta}(x) = \\sum_{k=0}^n\\left(\\begin{array}{c}n+\\alpha\\\\n-k\\end{array}\\right)\\left(\\begin{array}{c}n+\\beta\\\\k\\end{array}\\right)\\left(\\frac{x-1}{2}\\right)^k\\left(\\frac{x+1}{2}\\right)^{n+k}\n",
        "$$\n",
        "\n",
        "Write a Python function for Jacobi polynomials.\n",
        "\n",
        " - name: jacobi_polynomial\n",
        " - input: n: int, alpha: int, beta: int, x: float\n",
        " - body: construct an algorithm for given formula and write its code to obtain the result.\n",
        " - output: result: float\n",
        "\n",
        "Then calculate and print $P_2^{1, 1}(\\pi)$ and $P_3^{1, 1}(7)$."
      ],
      "metadata": {
        "id": "ZDmjRQdiNPlE"
      }
    },
    {
      "cell_type": "code",
      "source": [
        "#\n",
        "# your code here\n",
        "#\n",
        "\n",
        "\n",
        "\n",
        "\n",
        "\n",
        "\n",
        "#\n",
        "# test your code here\n",
        "# do not change the code below\n",
        "#\n",
        "from math import pi\n",
        "eps = 1e-3\n",
        "test_func = Legendre_polynomial\n",
        "test_cases = {(2, pi): (3 * pi ** 2 - 1) / 2,\n",
        "              (3, 7): (5 * 7 ** 3 - 3 * 7) / 2}\n",
        "for tn, ((x, y), res) in enumerate(test_cases.items()):\n",
        "    print(f\"Test {tn+1}:\")\n",
        "    print(f\"\\tL({x}, {y}) should be {res}\")\n",
        "    print(f\"\\tYour result is {test_func(x, y)}\")\n",
        "    if abs(res - test_func(x, y)) < eps:\n",
        "        print(f\"Test {tn+1} is successful.\")\n",
        "    else:\n",
        "        print(f\"Test {tn+1} fails.\")\n",
        "    print(\"-\"*50)\n"
      ],
      "metadata": {
        "id": "vCWO-_BvNPbW"
      },
      "execution_count": null,
      "outputs": []
    },
    {
      "cell_type": "markdown",
      "source": [
        "<h3>Task 2</h3>\n",
        "\n"
      ],
      "metadata": {
        "id": "0MLLsCd-OHFL"
      }
    },
    {
      "cell_type": "code",
      "source": [
        "#\n",
        "# your code here\n",
        "#\n"
      ],
      "metadata": {
        "id": "t4LIY8_5OG6Y"
      },
      "execution_count": null,
      "outputs": []
    },
    {
      "cell_type": "markdown",
      "source": [
        "<h3>Task 3</h3>\n"
      ],
      "metadata": {
        "id": "zLi_-EMs97-5"
      }
    },
    {
      "cell_type": "code",
      "source": [
        "#\n",
        "# your code here\n",
        "#\n"
      ],
      "metadata": {
        "id": "An9fr-H497zt"
      },
      "execution_count": null,
      "outputs": []
    },
    {
      "cell_type": "markdown",
      "source": [
        "<h3>Task 4</h3>\n",
        "\n",
        "Write a function to calculate equivalent resistance for unknown number of capacitors connected in series to one another.\n",
        "\n",
        "<!-- <br>\n",
        "<p align=\"center\">\n",
        "<img width=30% src=\"https://github.com/MU-Physics-Department/logos/blob/master/for_comp2083/serial_capacitors.png?raw=true\">\n",
        "</p> -->"
      ],
      "metadata": {
        "id": "UF3csAFjNqnn"
      }
    },
    {
      "cell_type": "markdown",
      "source": [
        "![image.png](data:image/png;base64,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)"
      ],
      "metadata": {
        "id": "ibBuLUDw8l_a"
      }
    },
    {
      "cell_type": "markdown",
      "source": [
        "\n",
        "Follow the instructions below:\n",
        "\n",
        " - Name the function as ``serial_capacitor``.\n",
        " - Use arbitrary positional arguements and name it as ``capacitors``.\n",
        " - Calculate the ``equivalent_capacitor`` via equivalent resistor formula for serial resistors.\n",
        " - Return ``equivalent_capacitor``.\n",
        " - Check if your function works as expected with given the code snippets.\n"
      ],
      "metadata": {
        "id": "NQvY46Yl8mYP"
      }
    },
    {
      "cell_type": "code",
      "source": [
        "def serial_capacitor(*capacitors):\n",
        "    total = 0\n",
        "    for cap in capacitors:\n",
        "        total += 1 / cap\n",
        "    return 1 / total\n",
        "\n"
      ],
      "metadata": {
        "id": "YDFU8nepNq6c"
      },
      "execution_count": null,
      "outputs": []
    }
  ]
}