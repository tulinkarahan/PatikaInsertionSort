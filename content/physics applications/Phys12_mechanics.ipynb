{
  "nbformat": 4,
  "nbformat_minor": 0,
  "metadata": {
    "colab": {
      "private_outputs": true,
      "provenance": [],
      "include_colab_link": true
    },
    "kernelspec": {
      "name": "python3",
      "display_name": "Python 3"
    },
    "language_info": {
      "name": "python"
    }
  },
  "cells": [
    {
      "cell_type": "markdown",
      "metadata": {
        "id": "view-in-github",
        "colab_type": "text"
      },
      "source": [
        "<a href=\"https://colab.research.google.com/github/tulinkarahan/PatikaInsertionSort/blob/main/content/physics%20applications/Phys12_mechanics.ipynb\" target=\"_parent\"><img src=\"https://colab.research.google.com/assets/colab-badge.svg\" alt=\"Open In Colab\"/></a>"
      ]
    },
    {
      "cell_type": "markdown",
      "source": [
        "<table width=\"100%\">\n",
        "    <tr style=\"\">\n",
        "        <th style=\"text-align:left; padding:0px\" width=\"5%\">\n",
        "            <a href=\"https://www.marmara.edu.tr\" target=\"_blank\">\n",
        "                <img src=\"https://raw.githubusercontent.com/MU-Physics-Department/logos/master/mu_logo.png\">\n",
        "            </a>\n",
        "        </th>\n",
        "        <th style=\"padding:0px;\" width=\"35%\">\n",
        "            <img align=\"right\" src=\"https://raw.githubusercontent.com/MU-Physics-Department/logos/master/name.png\">\n",
        "        </th>\n",
        "        <th  width=\"20%\">\n",
        "            &nbsp;\n",
        "        </th>\n",
        "        <th style=\"padding:0px\" width=\"5%\">\n",
        "            <a href=\"https://www.sababozpolat.com\" target=\"_blank\" padding=\"0px\">\n",
        "                <img align=\"center\" src=\"https://raw.githubusercontent.com/MU-Physics-Department/logos/master/hp.png\">\n",
        "            </a>\n",
        "        </th>\n",
        "        <th style=\"padding:0px\" width=\"5%\">\n",
        "            <a href=\"mailto:saba.bozpolat@gmail.com\" target=\"_blank\">\n",
        "                <img align=\"center\" src=\"https://raw.githubusercontent.com/MU-Physics-Department/logos/master/email.png\">\n",
        "            </a>\n",
        "        </th>\n",
        "        <th style=\"padding:0px;\" width=\"5%\">\n",
        "            <a href=\"https://www.linkedin.com/in/saba-bozpolat-644856152/\" target=\"_blank\">\n",
        "                <img align=\"right\" src=\"https://raw.githubusercontent.com/MU-Physics-Department/logos/master/in.png\">\n",
        "            </a>\n",
        "        </th>\n",
        "        <th style=\"padding:0px;\" width=\"5%\">\n",
        "            <a href=\"https://scholar.google.com.tr/citations?user=nSiJoMYAAAAJ&hl=en\" target=\"_blank\">\n",
        "                <img align=\"right\" src=\"https://raw.githubusercontent.com/MU-Physics-Department/logos/master/GS.png\">\n",
        "            </a>\n",
        "        </th>\n",
        "        <th style=\"padding:0px;\" width=\"5%\">\n",
        "            <a href=\"https://www.researchgate.net/profile/Saba-Bozpolat\" target=\"_blank\">\n",
        "                <img align=\"right\" src=\"https://raw.githubusercontent.com/MU-Physics-Department/logos/master/RG.png\">\n",
        "            </a>\n",
        "        </th>\n",
        "        <th style=\"padding:0px\" width=\"5%\">\n",
        "            <a href=\"https://www.youtube.com/channel/UC8-uOZud6UL7oCOE2UUBunA\" target=\"_blank\">\n",
        "                <img align=\"right\" src=\"https://raw.githubusercontent.com/MU-Physics-Department/logos/master/YT.png\">\n",
        "            </a>\n",
        "        </th>\n",
        "        <th style=\"padding:0px;\" width=\"5%\">\n",
        "            <a href=\"https://github.com/sbbzplt\" target=\"_blank\">\n",
        "                <img align=\"right\" src=\"https://raw.githubusercontent.com/MU-Physics-Department/logos/master/GH.png\">\n",
        "            </a>\n",
        "        </th>\n",
        "        <th style=\"padding:0px;\" width=\"5%\">\n",
        "            <a href=\"https://join.slack.com/t/mu-fzk/shared_invite/zt-13jtd6dtd-g9zD5P4Zu0m5P0Gt2PNReQ\"\n",
        "               target=\"_blank\">\n",
        "                <img align=\"right\" src=\"https://raw.githubusercontent.com/MU-Physics-Department/logos/master/slack.png\">\n",
        "            </a>\n",
        "        </th>\n",
        "    </tr>\n",
        "</table>\n",
        "<table width=\"100%\">\n",
        "    <tr style=\"background-color:white;\">\n",
        "        <!-- <td style=\"text-align-left;padding:0px;\" width=\"10%\">\n",
        "            <a href=\"https://fef.marmara.edu.tr\"\n",
        "               target=\"_blank\">\n",
        "                <img align=\"right\" src=\"https://raw.githubusercontent.com/MU-Physics-Department/logos/master/fef.png\">\n",
        "            </a>\n",
        "        </td> -->\n",
        "        <td style=\"padding:0px\" width=\"25%\">\n",
        "            <a href=\"http://fzk.fen.marmara.edu.tr\"\n",
        "               target=\"_blank\">\n",
        "                <img align=\"right\" src=\"https://raw.githubusercontent.com/MU-Physics-Department/logos/master/fzk.png\">\n",
        "            </a>\n",
        "        </td>\n",
        "        <td width=\"10%\">\n",
        "            &nbsp;\n",
        "        </td>\n",
        "        <td style=\"padding:0px;\" width=\"65%\">\n",
        "            <a href=\"https://www.sababozpolat.com/lectures/spring-semester/scientific-programming\"\n",
        "               target=\"_blank\">\n",
        "                <img align=\"right\" src=\"https://raw.githubusercontent.com/MU-Physics-Department/logos/master/comp2083.png\">\n",
        "            </a>\n",
        "        </td>\n",
        "    </tr>\n",
        "</table>"
      ],
      "metadata": {
        "id": "wRkwoCjwrRqw"
      }
    },
    {
      "cell_type": "markdown",
      "source": [
        "# Mechanics Applications"
      ],
      "metadata": {
        "id": "r49gomOcrSNH"
      }
    },
    {
      "cell_type": "markdown",
      "source": [
        "$$\n",
        "\\text{N2:}\\quad \\vec{F} = m \\vec{a}\n",
        "$$\n",
        "$$\n",
        "\\text{N2 in 1D:}\\quad F = m a\n",
        "$$\n",
        "$$\n",
        "\\vec{F} = - m g \\hat{j}\n",
        "$$\n",
        "$$\n",
        "m a = - m g\n",
        "$$\n",
        "$$\n",
        "\\ddot{y} = - g\n",
        "$$\n",
        "$$\n",
        "\\begin{array}{rcl}\n",
        "\\dot{y} &=& v\\\\\n",
        "\\dot{v} &=& -g\n",
        "\\end{array}\n",
        "$$\n",
        "$$\n",
        "\\begin{array}{rcl}\n",
        "y_{i+1} &=& y_{i} + dt * v_i\\\\\n",
        "v_{i+1} &=& v_i - g * dt\n",
        "\\end{array}\n",
        "$$\n"
      ],
      "metadata": {
        "id": "C0X81r7qlc91"
      }
    },
    {
      "cell_type": "markdown",
      "source": [
        "<h3>Task 1: Free Fall</h3>\n",
        "A ball of mass 10 kg falls freely from 100 mt. Neglect air resistance. Using kinematic equations, derive ordinary differential equation for position and solve this equation using Euler's method."
      ],
      "metadata": {
        "id": "IPxMzcxXOwqG"
      }
    },
    {
      "cell_type": "code",
      "source": [
        "import matplotlib.pyplot as mpl_p\n",
        "#\n",
        "# your code here\n",
        "#\n",
        "y_0 = 100.\n",
        "dt = 0.1\n",
        "t_0 = 0.\n",
        "v_0 = 0.0\n",
        "g = 9.8\n",
        "\n",
        "t_list = [t_0]\n",
        "v_list = [v_0]\n",
        "y_list = [y_0]\n",
        "\n",
        "while y_0 >= 0.:\n",
        "    t_1 = t_0 + dt\n",
        "    v_1 = v_0 - dt * g\n",
        "    y_1 = y_0 + dt * v_0\n",
        "    if y_1 >= 0.0:\n",
        "        t_list.append(t_1)\n",
        "        v_list.append(v_1)######### y negatif değere geldiği için if statement ile yazdık\n",
        "        y_list.append(y_1)\n",
        "\n",
        "    t_0, v_0, y_0 = t_1, v_1, y_1\n",
        "\n",
        "\n",
        "mpl_p.plot(t_list, v_list, label=\"velocity (m / sec)\")\n",
        "mpl_p.legend()\n",
        "mpl_p.show()\n",
        "mpl_p.plot(t_list, y_list, label=\"weight (m)\")\n",
        "mpl_p.xlabel(\"Time (sec)\")\n",
        "mpl_p.xlabel(\"Time(sec)\")\n",
        "mpl_p.show()"
      ],
      "metadata": {
        "id": "MyzxAFjmOwcV"
      },
      "execution_count": null,
      "outputs": []
    },
    {
      "cell_type": "markdown",
      "source": [
        "<h3>Task 2: Projectile Motion</h3>\n",
        "A ball of mass 1 kg is thrown from the ground with an initial velocity of 50 m/s and an angle of 30 degrees. Examine the motion of the ball, ignoring air friction."
      ],
      "metadata": {
        "id": "EDtNZhvFPdO8"
      }
    },
    {
      "cell_type": "code",
      "source": [
        "from math import pi, sin, cos\n",
        "import matplotlib.pyplot as mpl_p\n",
        "#\n",
        "# your code here\n",
        "#\n"
      ],
      "metadata": {
        "id": "mX5gesEYPdas"
      },
      "execution_count": null,
      "outputs": []
    },
    {
      "cell_type": "markdown",
      "source": [
        "<h3>Task 3: Vertical Projectile Motion</h3>\n",
        "A ball of mass 2 kg is thrown upwards from the ground with an initial velocity of 20 m/s. Examine the motion of the ball, ignoring air friction."
      ],
      "metadata": {
        "id": "FO4cMcafPduY"
      }
    },
    {
      "cell_type": "code",
      "source": [
        "import matplotlib.pyplot as mpl_p\n",
        "#\n",
        "# your code here\n",
        "#\n"
      ],
      "metadata": {
        "id": "N4F5fAmjPd5p"
      },
      "execution_count": null,
      "outputs": []
    },
    {
      "cell_type": "markdown",
      "source": [
        "<h3>Task 4: Simple Pendulum</h3>\n",
        "A simple pendulum is formed by attaching a 1 kg cannon to the ceiling with a 2 m long inelastic rope of negligible weight. This pendulum is released with an initial angle of 10 degrees. Examine the motion of the this cannon, ignoring air friction."
      ],
      "metadata": {
        "id": "QuuABN5FO1_R"
      }
    },
    {
      "cell_type": "markdown",
      "source": [
        "$$\n",
        "\\ddot{\\theta} = -\\frac{g}{l}\\sin(\\theta)\n",
        "$$\n",
        "$$\n",
        "\\begin{array}{lcr}\n",
        "\\dot{w} &=& -\\frac{g}{l}\\sin(\\theta)\\\\\n",
        "\\dot{\\theta} &=& w\n",
        "\\end{array}\n",
        "$$"
      ],
      "metadata": {
        "id": "niJqV1EYm6Ml"
      }
    },
    {
      "cell_type": "markdown",
      "source": [
        "#Euler-Cromer Method"
      ],
      "metadata": {
        "id": "uk3fKLCovJjA"
      }
    },
    {
      "cell_type": "code",
      "source": [
        "from math import pi, sin, cos\n",
        "import matplotlib.pyplot as mpl_p\n",
        "#\n",
        "# your code here\n",
        "#\n",
        "t_0 = 0.\n",
        "w_0 = 0.\n",
        "theta_0 = 10. * pi / 180\n",
        "\n",
        "g = 9.8\n",
        "l = 2.\n",
        "\n",
        "f = lambda x: - g * sin(x) / l\n",
        "\n",
        "t_list = [t_0]\n",
        "w_list = [w_0]\n",
        "theta_list = [theta_0]\n",
        "\n",
        "dt = 0.001 ###### kendimiz belirledik. dt daha fazla olursa hata birikiyor. Yanlış grafik çıkıyor.\n",
        "t_max = 10.\n",
        "n = int((t_max - t_0) / dt)\n",
        "\n",
        "for i in range(n):\n",
        "    elem = t_list[i] + dt\n",
        "    t_list.append(elem)\n",
        "\n",
        "    elem = w_list[i] + dt * f(theta_list[i])\n",
        "    w_list.append(elem)\n",
        "\n",
        "    elem = theta_list[i] + dt * w_list[i+1]  ##### başta w_list[i] yazmıştık sonrasında +1 ekledik çünkü zamanı bir önceki formülde hesaplamıştık.\n",
        "    theta_list.append(elem)\n",
        "\n",
        "mpl_p.plot(t_list, w_list, label=\"Angular Velocity (radyan/sec)\")\n",
        "mpl_p.plot(t_list, theta_list, label=\"Angular Displacement (rad)\")\n",
        "mpl_p.legend()\n",
        "mpl_p.show()"
      ],
      "metadata": {
        "id": "_pm5nkUdO2LR"
      },
      "execution_count": null,
      "outputs": []
    },
    {
      "cell_type": "markdown",
      "source": [
        "<h3>Task 5: Free Fall - Energy Diagrams</h3>\n",
        "Re-examine the physical system from Task 1, consider its energy diagrams. Calculate kinetical, potential and total mechanical energies alongside the position and velocity."
      ],
      "metadata": {
        "id": "aP7QoC5wPeNA"
      }
    },
    {
      "cell_type": "code",
      "source": [
        "import matplotlib.pyplot as mpl_p\n",
        "#\n",
        "# your code here\n",
        "#\n",
        "mass = 10.\n",
        "g = 9.81\n",
        "y_0 = 100.\n",
        "dt = 0.1\n",
        "t_0 = 0.\n",
        "v_0 = 0.\n",
        "k_0 = 0.0\n",
        "p_0 = mass * g * y_0\n",
        "\n",
        "t_list = [t_0]\n",
        "v_list = [v_0]\n",
        "y_list = [y_0]\n",
        "k_list = [k_0]\n",
        "p_list = [p_0]\n",
        "me_list = [k_0 + p_0]\n",
        "\n",
        "while y_0 >= 0.:\n",
        "    t_1 = t_0 + dt\n",
        "    v_1 = v_0 - dt * g\n",
        "    y_1 = y_0 + dt * v_0\n",
        "    k_1 = 0.5 * mass * v_1 ** 2\n",
        "    p_1 = g * mass * y_1\n",
        "    me_1 = p_1 + k_1\n",
        "    if y_1 >= 0.0:\n",
        "        t_list.append(t_1)\n",
        "        v_list.append(v_1)\n",
        "        y_list.append(y_1)\n",
        "        k_list.append(k_1)\n",
        "        p_list.append(p_1)\n",
        "        me_list.append(me_1)\n",
        "\n",
        "    t_0, v_0, y_0 = t_1, v_1, y_1\n",
        "\n",
        "\n",
        "mpl_p.plot(t_list, v_list, label=\"velocity (m / sec)\")\n",
        "mpl_p.plot(t_list, y_list, label=\"height (m)\")\n",
        "mpl_p.legend()\n",
        "mpl_p.show()\n",
        "\n",
        "mpl_p.plot(t_list, me_list, label=\"Total En. (j)\")\n",
        "mpl_p.plot(t_list, p_list, label= \"Pot. En. (j)\")\n",
        "mpl_p.plot(t_list, k_list, label= \"Kin. En. (j)\")\n",
        "mpl_p.legend()\n",
        "mpl_p.show()"
      ],
      "metadata": {
        "id": "NFE72arhPeYS"
      },
      "execution_count": null,
      "outputs": []
    }
  ]
}