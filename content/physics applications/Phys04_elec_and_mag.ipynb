{
  "nbformat": 4,
  "nbformat_minor": 0,
  "metadata": {
    "colab": {
      "private_outputs": true,
      "provenance": [],
      "include_colab_link": true
    },
    "kernelspec": {
      "name": "python3",
      "display_name": "Python 3"
    },
    "language_info": {
      "name": "python"
    }
  },
  "cells": [
    {
      "cell_type": "markdown",
      "metadata": {
        "id": "view-in-github",
        "colab_type": "text"
      },
      "source": [
        "<a href=\"https://colab.research.google.com/github/tulinkarahan/PatikaInsertionSort/blob/main/content/physics%20applications/Phys04_elec_and_mag.ipynb\" target=\"_parent\"><img src=\"https://colab.research.google.com/assets/colab-badge.svg\" alt=\"Open In Colab\"/></a>"
      ]
    },
    {
      "cell_type": "markdown",
      "source": [
        "<table width=\"100%\">\n",
        "    <tr style=\"\">\n",
        "        <th style=\"text-align:left; padding:0px\" width=\"5%\">\n",
        "            <a href=\"https://www.marmara.edu.tr\" target=\"_blank\">\n",
        "                <img src=\"https://raw.githubusercontent.com/MU-Physics-Department/logos/master/mu_logo.png\">\n",
        "            </a>\n",
        "        </th>\n",
        "        <th style=\"padding:0px;\" width=\"35%\">\n",
        "            <img align=\"right\" src=\"https://raw.githubusercontent.com/MU-Physics-Department/logos/master/name.png\">\n",
        "        </th>\n",
        "        <th  width=\"20%\">\n",
        "            &nbsp;\n",
        "        </th>\n",
        "        <th style=\"padding:0px\" width=\"5%\">\n",
        "            <a href=\"https://www.sababozpolat.com\" target=\"_blank\" padding=\"0px\">\n",
        "                <img align=\"center\" src=\"https://raw.githubusercontent.com/MU-Physics-Department/logos/master/hp.png\">\n",
        "            </a>\n",
        "        </th>\n",
        "        <th style=\"padding:0px\" width=\"5%\">\n",
        "            <a href=\"mailto:saba.bozpolat@gmail.com\" target=\"_blank\">\n",
        "                <img align=\"center\" src=\"https://raw.githubusercontent.com/MU-Physics-Department/logos/master/email.png\">\n",
        "            </a>\n",
        "        </th>\n",
        "        <th style=\"padding:0px;\" width=\"5%\">\n",
        "            <a href=\"https://www.linkedin.com/in/saba-bozpolat-644856152/\" target=\"_blank\">\n",
        "                <img align=\"right\" src=\"https://raw.githubusercontent.com/MU-Physics-Department/logos/master/in.png\">\n",
        "            </a>\n",
        "        </th>\n",
        "        <th style=\"padding:0px;\" width=\"5%\">\n",
        "            <a href=\"https://scholar.google.com.tr/citations?user=nSiJoMYAAAAJ&hl=en\" target=\"_blank\">\n",
        "                <img align=\"right\" src=\"https://raw.githubusercontent.com/MU-Physics-Department/logos/master/GS.png\">\n",
        "            </a>\n",
        "        </th>\n",
        "        <th style=\"padding:0px;\" width=\"5%\">\n",
        "            <a href=\"https://www.researchgate.net/profile/Saba-Bozpolat\" target=\"_blank\">\n",
        "                <img align=\"right\" src=\"https://raw.githubusercontent.com/MU-Physics-Department/logos/master/RG.png\">\n",
        "            </a>\n",
        "        </th>\n",
        "        <th style=\"padding:0px\" width=\"5%\">\n",
        "            <a href=\"https://www.youtube.com/channel/UC8-uOZud6UL7oCOE2UUBunA\" target=\"_blank\">\n",
        "                <img align=\"right\" src=\"https://raw.githubusercontent.com/MU-Physics-Department/logos/master/YT.png\">\n",
        "            </a>\n",
        "        </th>\n",
        "        <th style=\"padding:0px;\" width=\"5%\">\n",
        "            <a href=\"https://github.com/sbbzplt\" target=\"_blank\">\n",
        "                <img align=\"right\" src=\"https://raw.githubusercontent.com/MU-Physics-Department/logos/master/GH.png\">\n",
        "            </a>\n",
        "        </th>\n",
        "        <th style=\"padding:0px;\" width=\"5%\">\n",
        "            <a href=\"https://join.slack.com/t/mu-fzk/shared_invite/zt-13jtd6dtd-g9zD5P4Zu0m5P0Gt2PNReQ\"\n",
        "               target=\"_blank\">\n",
        "                <img align=\"right\" src=\"https://raw.githubusercontent.com/MU-Physics-Department/logos/master/slack.png\">\n",
        "            </a>\n",
        "        </th>\n",
        "    </tr>\n",
        "</table>\n",
        "<table width=\"100%\">\n",
        "    <tr style=\"background-color:white;\">\n",
        "        <!-- <td style=\"text-align-left;padding:0px;\" width=\"10%\">\n",
        "            <a href=\"https://fef.marmara.edu.tr\"\n",
        "               target=\"_blank\">\n",
        "                <img align=\"right\" src=\"https://raw.githubusercontent.com/MU-Physics-Department/logos/master/fef.png\">\n",
        "            </a>\n",
        "        </td> -->\n",
        "        <td style=\"padding:0px\" width=\"25%\">\n",
        "            <a href=\"http://fzk.fen.marmara.edu.tr\"\n",
        "               target=\"_blank\">\n",
        "                <img align=\"right\" src=\"https://raw.githubusercontent.com/MU-Physics-Department/logos/master/fzk.png\">\n",
        "            </a>\n",
        "        </td>\n",
        "        <td width=\"10%\">\n",
        "            &nbsp;\n",
        "        </td>\n",
        "        <td style=\"padding:0px;\" width=\"65%\">\n",
        "            <a href=\"https://www.sababozpolat.com/lectures/spring-semester/scientific-programming\"\n",
        "               target=\"_blank\">\n",
        "                <img align=\"right\" src=\"https://raw.githubusercontent.com/MU-Physics-Department/logos/master/comp2083.png\">\n",
        "            </a>\n",
        "        </td>\n",
        "    </tr>\n",
        "</table>"
      ],
      "metadata": {
        "id": "QBo5gMCEdxsF"
      }
    },
    {
      "cell_type": "markdown",
      "source": [
        "# Electricity and Magnetism Applications"
      ],
      "metadata": {
        "id": "jHFf62QyAUiW"
      }
    },
    {
      "cell_type": "markdown",
      "source": [
        "<h3>Task 1: Gauss' Law</h3>"
      ],
      "metadata": {
        "id": "OHuY92zPgaPv"
      }
    },
    {
      "cell_type": "markdown",
      "source": [
        "In this notebook, we'll discuss and solve some electricity and magnetism problems. Let's recall 1D Gauss Law, first.\n",
        "\n",
        "$$\n",
        "\\frac{dE}{dr} = -\\frac{q}{2\\pi r^3}\n",
        "$$\n",
        "\n",
        "Above equation is written in natural units, _i.e._ $\\epsilon_0=1$. This is a 1st order differential equation which we can numerically solve using Euler's method.\n",
        "\n",
        "Calculate the electric field created by the 3 c charge uniformly distributed in a radius of 0.5 meters, using Gauss's Law, up to a radius of 3 meters. Interpret your results by making graphs."
      ],
      "metadata": {
        "id": "NDBEnyCUgvjd"
      }
    },
    {
      "cell_type": "code",
      "source": [
        "from math import pi\n",
        "import matplotlib.pyplot as mpl_p\n",
        "#\n",
        "# your code here\n",
        "#\n",
        "q = 3\n",
        "r_0 = 0.5\n",
        "E_0 = q / r_0 ** 2\n",
        "r_max = 3.  ##########q nun 3 olmasıyla alakalı değil\n",
        "dr = 0.1\n",
        "n = int((r_max - r_0) / dr)   ######### adım miktarını da biz belirliyoruz\n",
        "E_list = [E_0]\n",
        "r_list = [r_0]\n",
        "f = lambda r: -q / (2 * pi * r ** 3)\n",
        "for i in range(n):\n",
        "    elem = E_list[i] + dr * f(r_list[i])\n",
        "    E_list.append(elem)\n",
        "    r_list.append(r_list[i] + dr)\n",
        "\n",
        "mpl_p.plot(r_list, E_list)\n",
        "mpl_p.show()\n"
      ],
      "metadata": {
        "id": "BYBcPiXbgwAD"
      },
      "execution_count": null,
      "outputs": []
    },
    {
      "cell_type": "markdown",
      "source": [
        "<h3>Task 2: Electric Potential in 1D</h3>\n"
      ],
      "metadata": {
        "id": "vHOSXniCqPHC"
      }
    },
    {
      "cell_type": "markdown",
      "source": [
        "For static systems, one can define an electric potential, that is, a function $\\Phi$  such that,\n",
        "\n",
        "$$\n",
        "E = -\\frac{d \\Phi}{dx},\n",
        "$$\n",
        "\n",
        "in one dimension. Calculate the electric potential for a point charge of 2 c in x axis. Use Coulomb Law to calculate the electric field of this particle.\n",
        "\n",
        "$$\n",
        "\\text{Columb's Law:}\\quad E = k\\frac{q}{x^2},\n",
        "$$\n",
        "\n",
        "where $k$ is Columb constant and can be omitted for numerical purposses."
      ],
      "metadata": {
        "id": "uulYLR9rqPB0"
      }
    },
    {
      "cell_type": "code",
      "source": [
        "import matplotlib.pyplot as mpl_p\n",
        "#\n",
        "# your code here\n",
        "#\n",
        "######### k = 9e9  where k is Columb constant and can be omitted for numerical purposses. bu cümleden ötürü k yı almasak da olur\n",
        "q = 2.\n",
        "x_0 = 0.1\n",
        "dx = 0.1\n",
        "phi_0 = -q / x_0\n",
        "n = 10\n",
        "f = lambda x: -q / x ** 2\n",
        "phi_list = [phi_0]\n",
        "x_list = [x_0]\n",
        "for i in range(n):\n",
        "    elem = phi_list[i] + dx * f(x_list[i])\n",
        "    phi_list.append(elem)\n",
        "    x_list.append(x_list[i] + dx)\n",
        "\n",
        "mpl_p.plot(x_list, phi_list)\n",
        "mpl_p.show()"
      ],
      "metadata": {
        "id": "wXPDOG9cqOwU"
      },
      "execution_count": null,
      "outputs": []
    }
  ]
}