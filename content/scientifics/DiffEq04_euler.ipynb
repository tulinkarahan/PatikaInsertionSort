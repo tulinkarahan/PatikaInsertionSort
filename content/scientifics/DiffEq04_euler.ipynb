{
  "nbformat": 4,
  "nbformat_minor": 0,
  "metadata": {
    "colab": {
      "private_outputs": true,
      "provenance": [],
      "include_colab_link": true
    },
    "kernelspec": {
      "name": "python3",
      "display_name": "Python 3"
    },
    "language_info": {
      "name": "python"
    }
  },
  "cells": [
    {
      "cell_type": "markdown",
      "metadata": {
        "id": "view-in-github",
        "colab_type": "text"
      },
      "source": [
        "<a href=\"https://colab.research.google.com/github/tulinkarahan/PatikaInsertionSort/blob/main/content/scientifics/DiffEq04_euler.ipynb\" target=\"_parent\"><img src=\"https://colab.research.google.com/assets/colab-badge.svg\" alt=\"Open In Colab\"/></a>"
      ]
    },
    {
      "cell_type": "markdown",
      "source": [
        "<table width=\"100%\">\n",
        "    <tr style=\"\">\n",
        "        <th style=\"text-align:left; padding:0px\" width=\"5%\">\n",
        "            <a href=\"https://www.marmara.edu.tr\" target=\"_blank\">\n",
        "                <img src=\"https://raw.githubusercontent.com/MU-Physics-Department/logos/master/mu_logo.png\">\n",
        "            </a>\n",
        "        </th>\n",
        "        <th style=\"padding:0px;\" width=\"35%\">\n",
        "            <img align=\"right\" src=\"https://raw.githubusercontent.com/MU-Physics-Department/logos/master/name.png\">\n",
        "        </th>\n",
        "        <th  width=\"20%\">\n",
        "            &nbsp;\n",
        "        </th>\n",
        "        <th style=\"padding:0px\" width=\"5%\">\n",
        "            <a href=\"https://www.sababozpolat.com\" target=\"_blank\" padding=\"0px\">\n",
        "                <img align=\"center\" src=\"https://raw.githubusercontent.com/MU-Physics-Department/logos/master/hp.png\">\n",
        "            </a>\n",
        "        </th>\n",
        "        <th style=\"padding:0px\" width=\"5%\">\n",
        "            <a href=\"mailto:saba.bozpolat@gmail.com\" target=\"_blank\">\n",
        "                <img align=\"center\" src=\"https://raw.githubusercontent.com/MU-Physics-Department/logos/master/email.png\">\n",
        "            </a>\n",
        "        </th>\n",
        "        <th style=\"padding:0px;\" width=\"5%\">\n",
        "            <a href=\"https://www.linkedin.com/in/saba-bozpolat-644856152/\" target=\"_blank\">\n",
        "                <img align=\"right\" src=\"https://raw.githubusercontent.com/MU-Physics-Department/logos/master/in.png\">\n",
        "            </a>\n",
        "        </th>\n",
        "        <th style=\"padding:0px;\" width=\"5%\">\n",
        "            <a href=\"https://scholar.google.com.tr/citations?user=nSiJoMYAAAAJ&hl=en\" target=\"_blank\">\n",
        "                <img align=\"right\" src=\"https://raw.githubusercontent.com/MU-Physics-Department/logos/master/GS.png\">\n",
        "            </a>\n",
        "        </th>\n",
        "        <th style=\"padding:0px;\" width=\"5%\">\n",
        "            <a href=\"https://www.researchgate.net/profile/Saba-Bozpolat\" target=\"_blank\">\n",
        "                <img align=\"right\" src=\"https://raw.githubusercontent.com/MU-Physics-Department/logos/master/RG.png\">\n",
        "            </a>\n",
        "        </th>\n",
        "        <th style=\"padding:0px\" width=\"5%\">\n",
        "            <a href=\"https://www.youtube.com/channel/UC8-uOZud6UL7oCOE2UUBunA\" target=\"_blank\">\n",
        "                <img align=\"right\" src=\"https://raw.githubusercontent.com/MU-Physics-Department/logos/master/YT.png\">\n",
        "            </a>\n",
        "        </th>\n",
        "        <th style=\"padding:0px;\" width=\"5%\">\n",
        "            <a href=\"https://github.com/sbbzplt\" target=\"_blank\">\n",
        "                <img align=\"right\" src=\"https://raw.githubusercontent.com/MU-Physics-Department/logos/master/GH.png\">\n",
        "            </a>\n",
        "        </th>\n",
        "        <th style=\"padding:0px;\" width=\"5%\">\n",
        "            <a href=\"https://join.slack.com/t/mu-fzk/shared_invite/zt-13jtd6dtd-g9zD5P4Zu0m5P0Gt2PNReQ\"\n",
        "               target=\"_blank\">\n",
        "                <img align=\"right\" src=\"https://raw.githubusercontent.com/MU-Physics-Department/logos/master/slack.png\">\n",
        "            </a>\n",
        "        </th>\n",
        "    </tr>\n",
        "</table>\n",
        "<table width=\"100%\">\n",
        "    <tr style=\"background-color:white;\">\n",
        "        <!-- <td style=\"text-align-left;padding:0px;\" width=\"10%\">\n",
        "            <a href=\"https://fef.marmara.edu.tr\"\n",
        "               target=\"_blank\">\n",
        "                <img align=\"right\" src=\"https://raw.githubusercontent.com/MU-Physics-Department/logos/master/fef.png\">\n",
        "            </a>\n",
        "        </td> -->\n",
        "        <td style=\"padding:0px\" width=\"25%\">\n",
        "            <a href=\"http://fzk.fen.marmara.edu.tr\"\n",
        "               target=\"_blank\">\n",
        "                <img align=\"right\" src=\"https://raw.githubusercontent.com/MU-Physics-Department/logos/master/fzk.png\">\n",
        "            </a>\n",
        "        </td>\n",
        "        <td width=\"10%\">\n",
        "            &nbsp;\n",
        "        </td>\n",
        "        <td style=\"padding:0px;\" width=\"65%\">\n",
        "            <a href=\"https://www.sababozpolat.com/lectures/spring-semester/scientific-programming\"\n",
        "               target=\"_blank\">\n",
        "                <img align=\"right\" src=\"https://raw.githubusercontent.com/MU-Physics-Department/logos/master/comp2083.png\">\n",
        "            </a>\n",
        "        </td>\n",
        "    </tr>\n",
        "</table>"
      ],
      "metadata": {
        "id": "e748zwkPQ-eo"
      }
    },
    {
      "cell_type": "markdown",
      "source": [
        "# Euler's Method for Solving Differential Equations"
      ],
      "metadata": {
        "id": "6a2_MUTrRP_t"
      }
    },
    {
      "cell_type": "markdown",
      "source": [
        "The Euler method is a first-order numerical technique used in mathematics and computational science for solving ordinary differential equations (ODEs) with a predefined initial value. It is the simplest explicit approach for integrating ordinary differential equations numerically. The Euler method was first introduced by Leonhard Euler in his book Institutionum calculi integralis, which was published between 1768 and 1770.\n",
        "\n",
        "Let's consider the differential equation given as,\n",
        "\n",
        "$$y'(x)=f(x,y(x))$$\n",
        "\n",
        "We need the initial values for $x$ and $y$ in order to solve this equation numerically. Assume that we're given these initial values as $x_0$ and $y(x_{0})$. In Euler's method we begin the process by setting $y_{0}=y(x_{0})$. Next, we choose a proper value $h$ for the size of every step and set $x_{n}=x_{0}+nh$ (or equivalently\n",
        "$x_{n+1}=x_{n}+h$). Now, one step of the Euler method from $x_{n}$ to $x_{n+1}$ is:\n",
        "\n",
        "$$\n",
        "y_{n+1}=y_{n}+hf(x_{n},y_{n}).\n",
        "$$\n",
        "\n",
        "The value of $y_{n}$ is an approximation of the solution to the ODE at time $x_{n}$, i.e.,$y_{n}\\approx y(t_{n})$. The Euler method is explicit, i.e. the solution $y_{n+1}$ is an explicit function of $y_{i}$ for $i \\leq n$."
      ],
      "metadata": {
        "id": "WaUH9iBtTLi4"
      }
    },
    {
      "cell_type": "markdown",
      "source": [
        "## Algorithm"
      ],
      "metadata": {
        "id": "mfe-ERF5VG7V"
      }
    },
    {
      "cell_type": "markdown",
      "source": [
        "1. Start\n",
        "2. Define given derivative function\n",
        "3. Set the values of x0, y0, h and xn. (Here x0 and y0 are the initial conditions, h is the interval, xn is the limit value of x.)\n",
        "4. Create x_list and y_list.\n",
        "\n",
        "    x_list = [x0]\n",
        "\n",
        "    y_list = [y0]\n",
        "\n",
        "4. Calculate loop limit.\n",
        "\n",
        "    n = (xn – x0)//h + 1\n",
        "\n",
        "5. Start loop from i=1 to n\n",
        "\n",
        "    6.1. Calculate y = y0 + h*f(x0,y0)\n",
        "\n",
        "    6.2. x = x0 + h\n",
        "\n",
        "    6.3. Append calculated values to corresponding lists.\n",
        "\n",
        "    6.4.Assign x0 = x and y0 = y\n",
        "9. Stop"
      ],
      "metadata": {
        "id": "Kff-8c-tVIST"
      }
    },
    {
      "cell_type": "markdown",
      "source": [
        "<h3>Task 1</h3>"
      ],
      "metadata": {
        "id": "l7ESZu0JlglD"
      }
    },
    {
      "cell_type": "markdown",
      "source": [
        "Use Euler’s method with $h=0.1$  to find approximate values for the solution of the initial value problem,\n",
        "\n",
        "$$\n",
        "y'+2y=x^3e^{-2x},\n",
        "$$\n",
        "\n",
        "with initial condition $y(0)=1$."
      ],
      "metadata": {
        "id": "jPGAYFaBlhFH"
      }
    },
    {
      "cell_type": "code",
      "source": [
        "from math import exp\n",
        "import matplotlib.pyplot as mpl_p\n",
        "#\n",
        "# your code here\n",
        "#\n",
        "f = lambda x, y: -2 * y + x ** 3 * exp(-2 * x)\n",
        "y_0 = 1.\n",
        "y_list = [y_0]\n",
        "x_0 = 0.\n",
        "x_list = [x_0]\n",
        "\n",
        "h = 0.1\n",
        "n = 100\n",
        "for i in range(n):\n",
        "    elem = y_list[i] + h * f(x_list[i], y_list[i])\n",
        "    y_list.append(elem)\n",
        "    elem = x_list[i] + h\n",
        "    x_list.append(elem)\n",
        "\n",
        "mpl_p.plot(x_list, y_list, \".\")\n",
        "mpl_p.xlim(0, 4)\n",
        "mpl_p.show()\n"
      ],
      "metadata": {
        "id": "mz90M8tXlhZG"
      },
      "execution_count": null,
      "outputs": []
    },
    {
      "cell_type": "markdown",
      "source": [
        "<h3>Task 2</h3>\n"
      ],
      "metadata": {
        "id": "d2i5apbOmZLq"
      }
    },
    {
      "cell_type": "markdown",
      "source": [
        "Use Euler’s method with $h=0.05$  to find approximate values for the solution of the initial value problem,\n",
        "\n",
        "$$\n",
        "y'=-2y^2+xy+x^2,\n",
        "$$\n",
        "\n",
        "with initial condition $y(0)=1$.\n",
        "\n"
      ],
      "metadata": {
        "id": "g-CtgKXemaTJ"
      }
    },
    {
      "cell_type": "code",
      "source": [
        "import matplotlib.pyplot as mpl_p\n",
        "#\n",
        "# your code here\n",
        "#\n",
        "f = lambda x, y: -2 * y + x ** 3 * exp(-2 * x)\n",
        "y_0 = 1.\n",
        "y_list = [y_0]\n",
        "x_0 = 0.\n",
        "x_list = [x_0]\n",
        "\n",
        "h = 0.1\n",
        "n = 100\n",
        "for i in range(n):\n",
        "    elem = y_list[i] + h * f(x_list[i], y_list[i])\n",
        "    y_list.append(elem)\n",
        "    elem = x_list[i] + h\n",
        "    x_list.append(elem)\n",
        "\n",
        "mpl_p.plot(x_list, y_list, \".\")\n",
        "mpl_p.xlim(0, 4)\n",
        "mpl_p.show()\n",
        " ######### ben direkt kendim kopyala yapıştır yaptım"
      ],
      "metadata": {
        "id": "t3_XI0ZmmZ69"
      },
      "execution_count": null,
      "outputs": []
    },
    {
      "cell_type": "markdown",
      "source": [
        "<h3>Task 3</h3>\n"
      ],
      "metadata": {
        "id": "yeGhsR2mm42a"
      }
    },
    {
      "cell_type": "markdown",
      "source": [
        "Applying Euler’s method with step sizes $h=0.1$, $h=0.05$, and $h=0.025$,\n",
        "\n",
        "$$\n",
        "y'-2y=\\frac{x}{1+y^2},\n",
        "$$\n",
        "\n",
        "with initial condition $y(1)=7$. Compare your results."
      ],
      "metadata": {
        "id": "jYUppxmZm4yt"
      }
    },
    {
      "cell_type": "code",
      "source": [
        "import matplotlib.pyplot as mpl_p\n",
        "#\n",
        "# your code here\n",
        "#\n",
        "f = lambda x, y: 2 * y + x / (1 + y ** 2)\n",
        "y_0 = 7\n",
        "y_list = [y_0]\n",
        "\n",
        "x_0 = 1\n",
        "x_list = [x_0]\n",
        "\n",
        "h = 0.05\n",
        "n = 100 ########kendimiz belirledik n değerini\n",
        "for i in range(n):\n",
        "    elem = y_list[i] + h * f(x_list[i], y_list[i])\n",
        "    y_list.append(elem)\n",
        "    x_list.append(x_list[i] + h)\n",
        "\n",
        "mpl_p.plot(x_list, y_list, \".\")\n",
        "mpl_p.show()"
      ],
      "metadata": {
        "id": "lBTTL-GFm4o1"
      },
      "execution_count": null,
      "outputs": []
    }
  ]
}