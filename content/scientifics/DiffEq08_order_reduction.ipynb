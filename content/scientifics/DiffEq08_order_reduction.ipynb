{
  "nbformat": 4,
  "nbformat_minor": 0,
  "metadata": {
    "colab": {
      "private_outputs": true,
      "provenance": [],
      "include_colab_link": true
    },
    "kernelspec": {
      "name": "python3",
      "display_name": "Python 3"
    },
    "language_info": {
      "name": "python"
    }
  },
  "cells": [
    {
      "cell_type": "markdown",
      "metadata": {
        "id": "view-in-github",
        "colab_type": "text"
      },
      "source": [
        "<a href=\"https://colab.research.google.com/github/tulinkarahan/PatikaInsertionSort/blob/main/content/scientifics/DiffEq08_order_reduction.ipynb\" target=\"_parent\"><img src=\"https://colab.research.google.com/assets/colab-badge.svg\" alt=\"Open In Colab\"/></a>"
      ]
    },
    {
      "cell_type": "markdown",
      "source": [
        "<table width=\"100%\">\n",
        "    <tr style=\"\">\n",
        "        <th style=\"text-align:left; padding:0px\" width=\"5%\">\n",
        "            <a href=\"https://www.marmara.edu.tr\" target=\"_blank\">\n",
        "                <img src=\"https://raw.githubusercontent.com/MU-Physics-Department/logos/master/mu_logo.png\">\n",
        "            </a>\n",
        "        </th>\n",
        "        <th style=\"padding:0px;\" width=\"35%\">\n",
        "            <img align=\"right\" src=\"https://raw.githubusercontent.com/MU-Physics-Department/logos/master/name.png\">\n",
        "        </th>\n",
        "        <th  width=\"20%\">\n",
        "            &nbsp;\n",
        "        </th>\n",
        "        <th style=\"padding:0px\" width=\"5%\">\n",
        "            <a href=\"https://www.sababozpolat.com\" target=\"_blank\" padding=\"0px\">\n",
        "                <img align=\"center\" src=\"https://raw.githubusercontent.com/MU-Physics-Department/logos/master/hp.png\">\n",
        "            </a>\n",
        "        </th>\n",
        "        <th style=\"padding:0px\" width=\"5%\">\n",
        "            <a href=\"mailto:saba.bozpolat@gmail.com\" target=\"_blank\">\n",
        "                <img align=\"center\" src=\"https://raw.githubusercontent.com/MU-Physics-Department/logos/master/email.png\">\n",
        "            </a>\n",
        "        </th>\n",
        "        <th style=\"padding:0px;\" width=\"5%\">\n",
        "            <a href=\"https://www.linkedin.com/in/saba-bozpolat-644856152/\" target=\"_blank\">\n",
        "                <img align=\"right\" src=\"https://raw.githubusercontent.com/MU-Physics-Department/logos/master/in.png\">\n",
        "            </a>\n",
        "        </th>\n",
        "        <th style=\"padding:0px;\" width=\"5%\">\n",
        "            <a href=\"https://scholar.google.com.tr/citations?user=nSiJoMYAAAAJ&hl=en\" target=\"_blank\">\n",
        "                <img align=\"right\" src=\"https://raw.githubusercontent.com/MU-Physics-Department/logos/master/GS.png\">\n",
        "            </a>\n",
        "        </th>\n",
        "        <th style=\"padding:0px;\" width=\"5%\">\n",
        "            <a href=\"https://www.researchgate.net/profile/Saba-Bozpolat\" target=\"_blank\">\n",
        "                <img align=\"right\" src=\"https://raw.githubusercontent.com/MU-Physics-Department/logos/master/RG.png\">\n",
        "            </a>\n",
        "        </th>\n",
        "        <th style=\"padding:0px\" width=\"5%\">\n",
        "            <a href=\"https://www.youtube.com/channel/UC8-uOZud6UL7oCOE2UUBunA\" target=\"_blank\">\n",
        "                <img align=\"right\" src=\"https://raw.githubusercontent.com/MU-Physics-Department/logos/master/YT.png\">\n",
        "            </a>\n",
        "        </th>\n",
        "        <th style=\"padding:0px;\" width=\"5%\">\n",
        "            <a href=\"https://github.com/sbbzplt\" target=\"_blank\">\n",
        "                <img align=\"right\" src=\"https://raw.githubusercontent.com/MU-Physics-Department/logos/master/GH.png\">\n",
        "            </a>\n",
        "        </th>\n",
        "        <th style=\"padding:0px;\" width=\"5%\">\n",
        "            <a href=\"https://join.slack.com/t/mu-fzk/shared_invite/zt-13jtd6dtd-g9zD5P4Zu0m5P0Gt2PNReQ\"\n",
        "               target=\"_blank\">\n",
        "                <img align=\"right\" src=\"https://raw.githubusercontent.com/MU-Physics-Department/logos/master/slack.png\">\n",
        "            </a>\n",
        "        </th>\n",
        "    </tr>\n",
        "</table>\n",
        "<table width=\"100%\">\n",
        "    <tr style=\"background-color:white;\">\n",
        "        <!-- <td style=\"text-align-left;padding:0px;\" width=\"10%\">\n",
        "            <a href=\"https://fef.marmara.edu.tr\"\n",
        "               target=\"_blank\">\n",
        "                <img align=\"right\" src=\"https://raw.githubusercontent.com/MU-Physics-Department/logos/master/fef.png\">\n",
        "            </a>\n",
        "        </td> -->\n",
        "        <td style=\"padding:0px\" width=\"25%\">\n",
        "            <a href=\"http://fzk.fen.marmara.edu.tr\"\n",
        "               target=\"_blank\">\n",
        "                <img align=\"right\" src=\"https://raw.githubusercontent.com/MU-Physics-Department/logos/master/fzk.png\">\n",
        "            </a>\n",
        "        </td>\n",
        "        <td width=\"10%\">\n",
        "            &nbsp;\n",
        "        </td>\n",
        "        <td style=\"padding:0px;\" width=\"65%\">\n",
        "            <a href=\"https://www.sababozpolat.com/lectures/spring-semester/scientific-programming\"\n",
        "               target=\"_blank\">\n",
        "                <img align=\"right\" src=\"https://raw.githubusercontent.com/MU-Physics-Department/logos/master/comp2083.png\">\n",
        "            </a>\n",
        "        </td>\n",
        "    </tr>\n",
        "</table>"
      ],
      "metadata": {
        "id": "m8e6VaUFCH3A"
      }
    },
    {
      "cell_type": "markdown",
      "source": [
        "# Order Reduction of Differential Equations"
      ],
      "metadata": {
        "id": "DsPfnhHMCZFT"
      }
    },
    {
      "cell_type": "markdown",
      "source": [
        "In Physics, we have differential equations mostly of the second order.\n",
        "\n",
        "$$\n",
        "\\begin{array}{cl}\n",
        "\\text{Newtonian Mechanics:} & \\ddot{\\vec{x}} =\\frac{1}{m}\\vec{F}(x,\\dot{x};t) \\\\\n",
        "\\text{Quantum Mechanics:} & -\\frac{\\hbar^2}{2m}\\nabla^2\\Psi(x,t)+V(x,t)\\Psi(x,t) = E\\Psi(x,t)\n",
        "\\end{array}\n",
        "$$\n",
        "<!-- <br>\n",
        "<br>\n",
        "<p align=\"center\">\n",
        "<img width=35% src=\"https://github.com/MU-Physics-Department/logos/blob/master/for_comp2083/order_reduction_1.png?raw=true\">\n",
        "</p>\n",
        "<br> -->\n",
        "Therefore, we need to reduce the order of these differential equations to 1st degree in order to solve them numerically. To suggest a general recipe for order reduction, let's consider a generic 2nd order differential equation, such as\n",
        "\n",
        "$$\n",
        "y'' = f(y'(x), y(x), x).\n",
        "$$\n",
        "\n",
        "Now we need to make a definition for 1st order derivative of $y(x)$.\n",
        "\n",
        "$$\n",
        "\\text{Let}\\;\\; y'\\equiv w \\quad\\Rightarrow\\quad y''=w'\n",
        "$$\n",
        "\n",
        "Thus, we obtain two first-order differential equations.\n",
        "\n",
        "\\begin{array}{rrrll}\n",
        "y'' &=& w' &=& f(w(x), y(x), x)\\\\\n",
        " & &y' &=& w(x)\n",
        "\\end{array}\n",
        "\n",
        "Now we may apply Euler's method to this system of two differential equations, simultaneously.\n",
        "\n",
        "\\begin{array}{rcl}\n",
        "x_{i+1} &=& x_{i} + h \\\\\n",
        "w_{i+1} &=& w_i + h\\;f(w_i, y_i, x_i)\\\\\n",
        "y_{i+1} &=& y_i + h\\;w_i\n",
        "\\end{array}\n",
        "\n"
      ],
      "metadata": {
        "id": "2RvMoXBACrOx"
      }
    },
    {
      "cell_type": "markdown",
      "source": [
        "## Algorithm"
      ],
      "metadata": {
        "id": "NPvqxYaRZVa5"
      }
    },
    {
      "cell_type": "markdown",
      "source": [
        "1. Start\n",
        "2. Define the function ``f``.\n",
        "3. Set the values of ``x0``, ``y0``, ``w0``, ``h`` and ``xn`` where,\n",
        "    - ``x0``, ``y0`` and ``w0`` are the initial conditions,\n",
        "    - ``h`` is the grid interval,\n",
        "    - ``xn`` is the maximum value of ``x``.\n",
        "4. Create x_list, w_list and y_list.\n",
        "\n",
        "    ```\n",
        "x_list = [x0]\n",
        "w_list = [w0]\n",
        "y_list = [y0]\n",
        "    ```\n",
        "5. Calculate loop limit.\n",
        "\n",
        "    ```\n",
        "n = (xn - x0) // h\n",
        "    ```\n",
        "\n",
        "6. Start loop for ``i`` from ``0`` to ``n``\n",
        "  1.  Calculate\n",
        "        ```\n",
        "x1 = x0 + h\n",
        "        ```\n",
        "    and append new value to ``x_list``.\n",
        "  2. Calculate\n",
        "        ```\n",
        "w1 = w0 + h * f(x0, w0, y0)\n",
        "        ```\n",
        "    and append new value to ``w_list``.    \n",
        "  3. Calculate\n",
        "        ```\n",
        "y1 = y0 + h * w0\n",
        "        ```\n",
        "    and append new value to ``y_list``.\n",
        "\n",
        "  4. Update ``x0``, ``w0``, and ``y0`` with ``x1``, ``w1`` and ``y1``.\n",
        "7. Stop"
      ],
      "metadata": {
        "id": "zW-nVmeOZXrx"
      }
    },
    {
      "cell_type": "markdown",
      "source": [
        "<h3>Task 1</h3>"
      ],
      "metadata": {
        "id": "YnS6Qxg3aMsO"
      }
    },
    {
      "cell_type": "markdown",
      "source": [
        "Use Euler’s method with $h=0.1$  to find approximate values for the solution of the initial value problem,\n",
        "\n",
        "$$\n",
        "y''=2y(x) + 2xy'(x),\n",
        "$$\n",
        "\n",
        "with initial condition $y(0)=1$ and $y'(0)=2$."
      ],
      "metadata": {
        "id": "ZoeZsMLjaM7s"
      }
    },
    {
      "cell_type": "code",
      "source": [
        "import matplotlib.pyplot as mpl_p\n",
        "#\n",
        "# your code here\n",
        "#\n",
        "f = lambda x, w, y: 2 * y  + 2 * x * w\n",
        "\n",
        "x_0, w_0, y_0 = 0., 2., 1.\n",
        "x_max = 5.\n",
        "h = 0.1\n",
        "x_list = [x_0]\n",
        "w_list = [w_0]\n",
        "y_list = [y_0]\n",
        "\n",
        "n = int((x_max - x_0) / h)\n",
        "for i in range(n):\n",
        "    elem = x_list[i] + h\n",
        "    x_list.append(elem)\n",
        "\n",
        "    elem = w_list[i] + h * f(x_list[i], w_list[i], y_list[i])\n",
        "    w_list.append(elem)\n",
        "\n",
        "    elem = y_list[i] + h * w_list[i]\n",
        "    y_list.append(elem)\n",
        "\n",
        "mpl_p.plot(x_list, w_list, label=\"y'(x)\")\n",
        "mpl_p.plot(x_list, y_list, label=\"y(x)\")\n",
        "mpl_p.legend()\n",
        "mpl_p.show()"
      ],
      "metadata": {
        "id": "NXSpggdoIqLj"
      },
      "execution_count": null,
      "outputs": []
    },
    {
      "cell_type": "code",
      "source": [
        "f = lambda x, w, y: 2 * y  + 2 * x * w\n",
        "\n",
        "x_0, w_0, y_0 = 0., 2., 1.\n",
        "x_max = 5.\n",
        "h = 0.1\n",
        "\n",
        "x_list = [x_0]\n",
        "w_list = [w_0]\n",
        "y_list = [y_0]\n",
        "\n",
        "n = int((x_max - x_0) / h)\n",
        "for i in range(n):\n",
        "    x_1 = x_0 + h\n",
        "    x_list.append(x_1)\n",
        "\n",
        "    w_1 = w_0 + h * f(x_0, w_0, y_0)\n",
        "    w_list.append(w_1)\n",
        "\n",
        "    y_1 = y_0 + h * w_0\n",
        "    y_list.append(y_1)\n",
        "\n",
        "    x_0, w_0, y_0 = x_1, w_1, y_1\n",
        "\n",
        "\n",
        "mpl_p.plot(x_list, w_list, label=\"y'(x)\")\n",
        "mpl_p.plot(x_list, y_list, label=\"y(x)\")\n",
        "mpl_p.legend()\n",
        "mpl_p.show()"
      ],
      "metadata": {
        "id": "Eo2Ijr8_LsqE"
      },
      "execution_count": null,
      "outputs": []
    },
    {
      "cell_type": "markdown",
      "source": [
        "<h3>Task 2</h3>"
      ],
      "metadata": {
        "id": "V_5EgW_JbBz7"
      }
    },
    {
      "cell_type": "markdown",
      "source": [
        "Use Euler’s method with $h=0.01$  to find approximate values for the solution of the initial value problem,\n",
        "\n",
        "$$\n",
        "y''= 2y(x) + x^3e^{-2x},\n",
        "$$\n",
        "\n",
        "with initial condition $y(0)=1$ and $y'(0)=2$."
      ],
      "metadata": {
        "id": "wD36IvLXbCAY"
      }
    },
    {
      "cell_type": "code",
      "source": [
        "from math import exp\n",
        "import matplotlib.pyplot as mpl_p\n",
        "#\n",
        "# your code here\n",
        "#\n",
        "f = lambda x, y: 2 * y + x ** 3 * exp(-2 * x)\n",
        "\n",
        "x_0, w_0, y_0 = 0., 2., 1.\n",
        "x_max = 5.\n",
        "h = 0.01\n",
        "x_list = [x_0]\n",
        "w_list = [w_0]\n",
        "y_list = [y_0]\n",
        "\n",
        "n = int((x_max - x_0) / h)\n",
        "for i in range(n):\n",
        "    elem = x_list[i] + h\n",
        "    x_list.append(elem)\n",
        "\n",
        "    elem = w_list[i] + h * f(x_list[i], y_list[i])\n",
        "    w_list.append(elem)\n",
        "\n",
        "    elem = y_list[i] + h * w_list[i]\n",
        "    y_list.append(elem)\n",
        "\n",
        "mpl_p.plot(x_list, w_list, label=\"y'(x)\")\n",
        "mpl_p.plot(x_list, y_list, label=\"y(x)\")\n",
        "mpl_p.legend()\n",
        "mpl_p.show()"
      ],
      "metadata": {
        "id": "1laB8q4XbCVU"
      },
      "execution_count": null,
      "outputs": []
    }
  ]
}