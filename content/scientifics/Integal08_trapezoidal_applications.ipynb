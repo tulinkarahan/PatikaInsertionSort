{
  "nbformat": 4,
  "nbformat_minor": 0,
  "metadata": {
    "colab": {
      "private_outputs": true,
      "provenance": [],
      "include_colab_link": true
    },
    "kernelspec": {
      "name": "python3",
      "display_name": "Python 3"
    },
    "language_info": {
      "name": "python"
    }
  },
  "cells": [
    {
      "cell_type": "markdown",
      "metadata": {
        "id": "view-in-github",
        "colab_type": "text"
      },
      "source": [
        "<a href=\"https://colab.research.google.com/github/tulinkarahan/PatikaInsertionSort/blob/main/content/scientifics/Integal08_trapezoidal_applications.ipynb\" target=\"_parent\"><img src=\"https://colab.research.google.com/assets/colab-badge.svg\" alt=\"Open In Colab\"/></a>"
      ]
    },
    {
      "cell_type": "markdown",
      "source": [
        "<table width=\"100%\">\n",
        "    <tr style=\"\">\n",
        "        <th style=\"text-align:left; padding:0px\" width=\"5%\">\n",
        "            <a href=\"https://www.marmara.edu.tr\" target=\"_blank\">\n",
        "                <img src=\"https://raw.githubusercontent.com/MU-Physics-Department/logos/master/mu_logo.png\">\n",
        "            </a>\n",
        "        </th>\n",
        "        <th style=\"padding:0px;\" width=\"35%\">\n",
        "            <img align=\"right\" src=\"https://raw.githubusercontent.com/MU-Physics-Department/logos/master/name.png\">\n",
        "        </th>\n",
        "        <th  width=\"20%\">\n",
        "            &nbsp;\n",
        "        </th>\n",
        "        <th style=\"padding:0px\" width=\"5%\">\n",
        "            <a href=\"https://www.sababozpolat.com\" target=\"_blank\" padding=\"0px\">\n",
        "                <img align=\"center\" src=\"https://raw.githubusercontent.com/MU-Physics-Department/logos/master/hp.png\">\n",
        "            </a>\n",
        "        </th>\n",
        "        <th style=\"padding:0px\" width=\"5%\">\n",
        "            <a href=\"mailto:saba.bozpolat@gmail.com\" target=\"_blank\">\n",
        "                <img align=\"center\" src=\"https://raw.githubusercontent.com/MU-Physics-Department/logos/master/email.png\">\n",
        "            </a>\n",
        "        </th>\n",
        "        <th style=\"padding:0px;\" width=\"5%\">\n",
        "            <a href=\"https://www.linkedin.com/in/saba-bozpolat-644856152/\" target=\"_blank\">\n",
        "                <img align=\"right\" src=\"https://raw.githubusercontent.com/MU-Physics-Department/logos/master/in.png\">\n",
        "            </a>\n",
        "        </th>\n",
        "        <th style=\"padding:0px;\" width=\"5%\">\n",
        "            <a href=\"https://scholar.google.com.tr/citations?user=nSiJoMYAAAAJ&hl=en\" target=\"_blank\">\n",
        "                <img align=\"right\" src=\"https://raw.githubusercontent.com/MU-Physics-Department/logos/master/GS.png\">\n",
        "            </a>\n",
        "        </th>\n",
        "        <th style=\"padding:0px;\" width=\"5%\">\n",
        "            <a href=\"https://www.researchgate.net/profile/Saba-Bozpolat\" target=\"_blank\">\n",
        "                <img align=\"right\" src=\"https://raw.githubusercontent.com/MU-Physics-Department/logos/master/RG.png\">\n",
        "            </a>\n",
        "        </th>\n",
        "        <th style=\"padding:0px\" width=\"5%\">\n",
        "            <a href=\"https://www.youtube.com/channel/UC8-uOZud6UL7oCOE2UUBunA\" target=\"_blank\">\n",
        "                <img align=\"right\" src=\"https://raw.githubusercontent.com/MU-Physics-Department/logos/master/YT.png\">\n",
        "            </a>\n",
        "        </th>\n",
        "        <th style=\"padding:0px;\" width=\"5%\">\n",
        "            <a href=\"https://github.com/sbbzplt\" target=\"_blank\">\n",
        "                <img align=\"right\" src=\"https://raw.githubusercontent.com/MU-Physics-Department/logos/master/GH.png\">\n",
        "            </a>\n",
        "        </th>\n",
        "        <th style=\"padding:0px;\" width=\"5%\">\n",
        "            <a href=\"https://join.slack.com/t/mu-fzk/shared_invite/zt-13jtd6dtd-g9zD5P4Zu0m5P0Gt2PNReQ\"\n",
        "               target=\"_blank\">\n",
        "                <img align=\"right\" src=\"https://raw.githubusercontent.com/MU-Physics-Department/logos/master/slack.png\">\n",
        "            </a>\n",
        "        </th>\n",
        "    </tr>\n",
        "</table>\n",
        "<table width=\"100%\">\n",
        "    <tr style=\"background-color:white;\">\n",
        "        <!-- <td style=\"text-align-left;padding:0px;\" width=\"10%\">\n",
        "            <a href=\"https://fef.marmara.edu.tr\"\n",
        "               target=\"_blank\">\n",
        "                <img align=\"right\" src=\"https://raw.githubusercontent.com/MU-Physics-Department/logos/master/fef.png\">\n",
        "            </a>\n",
        "        </td> -->\n",
        "        <td style=\"padding:0px\" width=\"25%\">\n",
        "            <a href=\"http://fzk.fen.marmara.edu.tr\"\n",
        "               target=\"_blank\">\n",
        "                <img align=\"right\" src=\"https://raw.githubusercontent.com/MU-Physics-Department/logos/master/fzk.png\">\n",
        "            </a>\n",
        "        </td>\n",
        "        <td width=\"10%\">\n",
        "            &nbsp;\n",
        "        </td>\n",
        "        <td style=\"padding:0px;\" width=\"65%\">\n",
        "            <a href=\"https://www.sababozpolat.com/lectures/spring-semester/scientific-programming\"\n",
        "               target=\"_blank\">\n",
        "                <img align=\"right\" src=\"https://raw.githubusercontent.com/MU-Physics-Department/logos/master/comp2083.png\">\n",
        "            </a>\n",
        "        </td>\n",
        "    </tr>\n",
        "</table>"
      ],
      "metadata": {
        "id": "_QK9Ey_OIbOs"
      }
    },
    {
      "cell_type": "markdown",
      "source": [
        "# Trapezoidal Method - Applications"
      ],
      "metadata": {
        "id": "H-3xlM6XIcNv"
      }
    },
    {
      "cell_type": "markdown",
      "source": [
        "## Gauss's Law in Integral Form"
      ],
      "metadata": {
        "id": "Pp_TXskFnsTF"
      }
    },
    {
      "cell_type": "markdown",
      "source": [
        "The integral form of Gauss's law is,\n",
        "\n",
        "$$\n",
        "\\oint \\vec{E}\\cdot d\\vec{A} = \\frac{Q}{\\epsilon_0},\n",
        "$$\n",
        "\n",
        "where $\\vec{E}$ is electric field, $\\vec{A}$ is the surface area of the space, $Q$ is charge enclosed by the space and $\\epsilon_0=8.85\\times 10^{-12}\\frac{\\text{C}^2}{\\text{N } \\text{m}^2}$ is electrical permittivity of vacuum.\n",
        "\n",
        "The electric flux out of any closed surface is directly related to the total charge enclosed within the surface. The integral form of Gauss' Law is commonly used to calculate electric fields surrounding charged objects. Applying Gauss' law to the electric field of a point charge reveals its consistency with Coulomb's law.\n",
        "\n",
        "Now let's take a closer look at the surface element, $d\\vec{A}$. The definition of this element is based upon the geometrical shape which it belongs to. On a sphere surface, this element becomes,\n",
        "\n",
        "$$\n",
        "d\\vec{A}_{spherical} = r^2\\,\\sin(\\theta)d\\theta\\,d\\phi\\,\\hat{r},\n",
        "$$\n",
        "\n",
        "where $r$, $\\theta$ and $\\phi$ are spherical coordinates. Additionally, this element has two different definitions in cylindrical coordinates.\n",
        "\n",
        "$$\n",
        "d\\vec{A}_{cylindrical} = \\left\\{\n",
        "    \\begin{array}{rl}\n",
        "    \\rho\\,dz\\,d\\phi\\,\\hat{\\rho}, & \\text{on the side surface}\\\\\n",
        "    \\rho d\\rho\\,d\\phi\\,\\hat{z}, & \\text{on the top cover} \\\\\n",
        "    -\\rho d\\rho\\,d\\phi\\,\\hat{z}, & \\text{on the bottom cover}\n",
        "    \\end{array}\n",
        "    \\right.\n",
        "$$\n",
        "\n"
      ],
      "metadata": {
        "id": "tdeAITlHnsKr"
      }
    },
    {
      "cell_type": "markdown",
      "source": [
        "<h3>Task 1</h3>\n",
        "\n",
        "Assume that the electric field in a region is found in spherical coordinates as $\\vec{E} = k\\,r\\,\\hat{r}$, where $k$ is a constant.\n",
        " 1. Create a grid for r dimension with $dr=0.1$ with 100 grid points.\n",
        " 2. Calculate the electric field on the grid.\n",
        " 3. Calculate the total charge enclosed by a sphere placed on the origin of radius, $R=0.5$ mt by calculating following integral,\n",
        "$$\n",
        "\\oint \\vec{E}\\cdot d\\vec{A} = E(R)\\,R^2\\int_0^\\pi sin(\\theta) d\\theta\\int_0^{2\\pi}d\\phi\n",
        "$$\n",
        "\n",
        " 4. Repeat your calculation with different radius values given in SI units as,\n",
        "$$\n",
        " R = \\{1, 1.5, 2, 3, 4, 6, 8, 10\\}\n",
        "$$\n",
        "\n",
        " 7. Plot $Q(R)$ - $R$ graph and comment.\n",
        "\n",
        "PS: Treat $k$ as 1.12"
      ],
      "metadata": {
        "id": "8JsfDbo5nsEP"
      }
    },
    {
      "cell_type": "code",
      "source": [
        "import matplotlib.pyplot as mpl_p\n",
        "from math import pi\n",
        "#\n",
        "# your code here\n",
        "#\n",
        "Rs=[0.5,1,1.5,2,3,4,6,8,10]\n",
        "dr=0.1\n",
        "n_r=100\n",
        "r_grid=[i * dr for i in range(n_r)]\n",
        "charges=[]\n",
        "E = lambda r: k * r\n",
        "k=1.12\n",
        "eps0 = 8.85e-12\n",
        "for R in Rs:\n",
        "int_res= 0.0\n",
        "r0 = 0.0\n",
        "r1 = r0 + dr\n",
        "for r in r_grid:\n",
        "if r== R:\n",
        "break\n",
        "E0, E1 = E(r), E(r + dr)\n",
        "area= 0.5 * dr * (E0 + E1)\n",
        "int_res += area\n",
        "q = 4 * pi * eps0 * int_res\n",
        "charges.append(q)\n",
        "mpl_p.plot(Rs, charges, \".\")\n",
        "mpl_p.show()"
      ],
      "metadata": {
        "id": "bicKgmm6nr2K"
      },
      "execution_count": null,
      "outputs": []
    },
    {
      "cell_type": "markdown",
      "source": [
        "<h3>Task 2</h3>\n",
        "\n",
        "Assume that the electric field in a region is found in spherical coordinates as $\\vec{E} = k\\,\\sin(\\theta)\\tan(\\phi)\\,\\hat{r}$, where $k$ is a constant.\n",
        " 1. Create a grid for r dimension with $dr=0.1$ with 100 grid points.\n",
        " 2. Calculate the electric field on the grid.\n",
        " 3. Calculate the total charge enclosed by a sphere placed on the origin of radius, $R=0.5$ mt by calculating following integral,\n",
        "$$\n",
        "\\oint \\vec{E}\\cdot d\\vec{A} = k\\,R^2\\int_0^\\pi sin^2(\\theta) d\\theta\\int_0^{2\\pi}\\tan(\\phi)d\\phi\n",
        "$$\n",
        "\n",
        " 4. Repeat your calculation with different radius values given in SI units as,\n",
        "$$\n",
        " R = \\{1, 1.5, 2, 3, 4, 6, 8, 10\\}\n",
        "$$\n",
        "\n",
        " 7. Plot $Q(R)$ - $R$ graph and comment.\n",
        "\n",
        "PS: Treat $k$ as 1.12"
      ],
      "metadata": {
        "id": "KHE5CQRmlpIF"
      }
    },
    {
      "cell_type": "code",
      "source": [
        "import matplotlib.pyplot as mpl_p\n",
        "from math import pi, sin, tan\n",
        "#\n",
        "# your code here\n",
        "#\n"
      ],
      "metadata": {
        "id": "eqOD5wmdlo7J"
      },
      "execution_count": null,
      "outputs": []
    },
    {
      "cell_type": "markdown",
      "source": [
        "## Gauss's Law"
      ],
      "metadata": {
        "id": "n-c72G-YiOYZ"
      }
    },
    {
      "cell_type": "markdown",
      "source": [
        "Gauss's law describes the relationship between an electric field and electric charges. The net flow of electricity through a closed surface is equal to the charge inside, which includes any charge that is bound because the material is polarized. The number that makes up the coefficient of the percentage is the free space permittivity.\n",
        "\n",
        "$$\n",
        "\\vec{\\nabla}\\cdot\\vec{E} = \\frac{\\rho}{\\epsilon_0},\n",
        "$$\n",
        "\n",
        "where $\\vec{E}$ is electric field, $\\rho$ is charge density and $\\epsilon_0=8.85\\times 10^{-12}\\frac{\\text{C}^2}{\\text{N } \\text{m}^2}$ is electrical permittivity of vacuum.\n",
        "\n",
        "On the other hand, the total electrical charge enclosed by a volume, V, can be calculated by integrating the charge density within this volume, as follows.\n",
        "\n",
        "$$\n",
        "\\oint_V \\rho dV = \\frac{Q_{enc}}{\\epsilon_0},\n",
        "$$\n",
        "\n",
        "where $V$ is the enclosion volume and $Q_{enc}$ is the total electric charge enclosed within $V$."
      ],
      "metadata": {
        "id": "QuJpVTyjiORO"
      }
    },
    {
      "cell_type": "markdown",
      "source": [
        "<h3>Task 3</h3>\n",
        "\n",
        "Assume that the electric field in a region is found in spherical coordinates as $\\vec{E} = kr^3\\hat{r}$, where $k$ is a constant.\n",
        " 1. Create a grid for r dimension with $dr=0.1$ with 100 grid points.\n",
        " 2. Calculate the electric field on the grid.\n",
        " 3. Calculate the charge density via taking the derivative of the electric field on the grid.\n",
        " 4. Exponentially fit the charge density data.\n",
        " 5. Calculate the total charge enclosed by a sphere placed on the origin of radius, $R=0.5$ mt, by use of the fit function for charge density.\n",
        " <br>(Hint: You should take integral of the fit function over a sphere of radius 0.5)\n",
        " 6. Repeat your calculation with different radius values given in SI units as,\n",
        "$$\n",
        " R = \\{1, 1.5, 2, 3, 4, 6, 8, 10\\}\n",
        "$$\n",
        "\n",
        " 7. Plot $Q(R)$ - $R$ graph and comment.\n",
        "\n",
        "PS: Treat $k$ as 2.53"
      ],
      "metadata": {
        "id": "EEhe6EiuiOJV"
      }
    },
    {
      "cell_type": "code",
      "source": [
        "import matplotlib.pyplot as mpl_p\n",
        "from math import pi\n",
        "#\n",
        "# your code here\n",
        "#\n",
        "import matplotlib.pyplot as mpl_p\n",
        "from math import sin, cos\n",
        "dx = dy = dz = 0.1\n",
        "x_min = y_min = z_min =-5.0\n",
        "x_max = y_max = z_max =5.0\n",
        "n_x =int((x_max-x_min) / dx + 1)\n",
        "n_y =int((y_max-y_min) / dx + 1)\n",
        "n_z =int((z_max-z_min) / dx + 1)\n",
        "x_grid = [i * dx + x_min for i in range(n_x)]\n",
        "y_grid = [i * dy + y_min for i in range(n_y)]\n",
        "z_grid = [i * dz + z_min for i in range(n_z)]\n",
        "J_x = [20 * sin(x) for x in x_grid]\n",
        "J_y = []\n",
        "for z in z_grid:\n",
        "    J_y.append([])\n",
        "    for y in y_grid:\n",
        "        elem= y * cos(z)\n",
        "        J_y[-1].append(elem)\n",
        "dJ_x_dx = []\n",
        "for i in range(n_x-1):\n",
        "    elem = (J_x[i+1]-J_x[i])/dx\n",
        "    dJ_x_dx.append(elem)\n",
        "dJ_y_dy = []\n",
        "for i in range(n_z):\n",
        "    dJ_y_dy.append([])\n",
        "    for j in range(1,n_y):\n",
        "        elem = (J_y[i][j]- J_y[i][j-1]) /dy\n",
        "        dJ_y_dy.append(elem)\n",
        "\n",
        "dt = 0.1\n",
        "t_max = 1.0\n",
        "t_min  = 0\n",
        "#to be continued with time intergal.\n",
        "n_t = int((t_max - t_min) / dt) + 1\n",
        "rho_x = []\n",
        "for i in range(n_x):\n",
        "    int_res = 0\n",
        "    for t in range(n_t):\n",
        "        elem = 0.5 * dt * 2 * dJx_dx[i]\n",
        "        int_res += elem\n",
        "    rho_x.append(int_res)\n",
        "rho_yz = []\n",
        "for i in range(y_z):\n",
        "    rho_yz.append([])\n",
        "    for j in range(n_y):\n",
        "        int_res = 0\n",
        "    for t in range(n_t):\n",
        "        elem = 0.5 * dt * 2 * dJy_dy[i][j]\n",
        "        int_res += elem\n",
        "    rho_yz[-1].append(int_res)\n"
      ],
      "metadata": {
        "id": "7bViz4jjiN5w"
      },
      "execution_count": null,
      "outputs": []
    },
    {
      "cell_type": "markdown",
      "source": [
        "## Continuity Equation in Differential Form\n",
        "<!-- https://en.wikipedia.org/wiki/Continuity_equation -->"
      ],
      "metadata": {
        "id": "aOIG1RHBQS5x"
      }
    },
    {
      "cell_type": "markdown",
      "source": [
        "Transport equations, also known as continuity equations, are mathematical equations that explain the progression of a certain quantity. When applied to a conserved quantity, it becomes remarkably simple and effective. However, it can also be extended to encompass any extensive quantity. Given the conservation of mass, energy, momentum, electric charge, and other natural quantities under specific conditions, continuity equations can be used to describe a wide range of physical phenomena.\n",
        "\n",
        "In electromagnetic theory, the continuity equation is a fundamental principle that describes the conservation of charge at a local level. From a scientific standpoint, it is a natural outcome of Maxwell's equations, although the preservation of charge is even more fundamental than these equations. It is stated that the divergence of the current density $J$ (in amperes per square meter) is equal to the negative rate of change of the charge density $\\rho$ (in coulombs per cubic meter).\n",
        "\n",
        "$$\n",
        "\\vec{\\nabla} \\cdot \\vec{J} = - \\frac{\\partial \\rho}{\\partial t},\n",
        "$$\n",
        "\n",
        "where $\\vec{J}$ and $\\rho$ are current density and charge density, respectively."
      ],
      "metadata": {
        "id": "H8xxKCl0QSxS"
      }
    },
    {
      "cell_type": "markdown",
      "source": [
        "<h3>Task 4 (Advanced)</h3>\n",
        "\n",
        "Calculate the charge density for the current density given by,\n",
        "\n",
        "$$\n",
        " \\vec{J} = 20sin(x) \\hat{i} + y\\,cos(z) \\hat{j}\n",
        "$$\n",
        "\n",
        "via numerically solving the continuity equation.\n",
        "\n",
        " 1. Create a cubic grid in cartesian coordinates with $dx = dy = dz = 0.1$ and $x, y, z \\in (-5, 5)$.\n",
        " 2. Write a function for current density.\n",
        " 3. Rearrange the continuity equation to obtain an expression for the charge density in terms of flux density.\n",
        " 4. Calculate the charge density in space with $x, y, z \\in (-5, 5)$ using the vector field gradient, numerical derivative, and numerical integral methods."
      ],
      "metadata": {
        "id": "V60Vs_JHQSjp"
      }
    },
    {
      "cell_type": "code",
      "source": [
        "from math import sin, cos\n",
        "#\n",
        "# your code here\n",
        "#\n"
      ],
      "metadata": {
        "id": "XLh0_mh7QSZ-"
      },
      "execution_count": null,
      "outputs": []
    }
  ]
}