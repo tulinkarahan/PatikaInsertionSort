{
  "nbformat": 4,
  "nbformat_minor": 0,
  "metadata": {
    "colab": {
      "provenance": [],
      "authorship_tag": "ABX9TyPJGD9FgzWaybBjzXN6J5Wg",
      "include_colab_link": true
    },
    "kernelspec": {
      "name": "python3",
      "display_name": "Python 3"
    },
    "language_info": {
      "name": "python"
    }
  },
  "cells": [
    {
      "cell_type": "markdown",
      "metadata": {
        "id": "view-in-github",
        "colab_type": "text"
      },
      "source": [
        "<a href=\"https://colab.research.google.com/github/tulinkarahan/PatikaInsertionSort/blob/main/Untitled4.ipynb\" target=\"_parent\"><img src=\"https://colab.research.google.com/assets/colab-badge.svg\" alt=\"Open In Colab\"/></a>"
      ]
    },
    {
      "cell_type": "markdown",
      "source": [
        "#1. Inıtılization:\n",
        "- Initialize the function with parameters 'alpha', 'beta, 'delta', 'gamma', 'I_0', 'S_0'\n",
        "- Set the initial time  't_0 = 0.0'.\n",
        "- Set the maximum time 't_max = 20.0'.\n",
        "- Set the time step 'dt = 0.1'.\n",
        "- Initialize lists for time, predator population (I), and prey population (S) ('t_list = [t_0]', 'I_list = [I_0]', 'S_list = [S_0]').\n",
        "\n",
        "#2. Calculate the Number of Cycles.\n",
        "- Calculate the total number of cycles using the formula 'n = (t_max - t_0) / dt'.\n",
        "\n",
        "#3. Numerical Solution Using Euler's Method:\n",
        "- Repeat 'n' times:\n",
        "-  - 1. Update Time Step:\n",
        "- - - Calculate the new time as 't_list[i] + dt' and append it to 't_list'.\n",
        "- - 2. Update Predator Population:\n",
        "- - - Calculate the new number of predators as 'I_list[i] + dt * g(I_list[i], S_list[i])' and append it to 'I_list'.\n",
        "- - 3. Update Prey Population:\n",
        "- - - Calculate the new number of prey as 'S_list[i] + dt * f(I_list[i + 1], S_list[i])' and append it to 'S_list.'\n",
        "\n",
        "#4. Return Results:\n",
        "- Return the lists 't_list', 'I_list', and 'S_list'.\n",
        "\n",
        "\n"
      ],
      "metadata": {
        "id": "WpjcGgjICVTY"
      }
    },
    {
      "cell_type": "code",
      "source": [],
      "metadata": {
        "id": "Qevb7dnSH_jd"
      },
      "execution_count": null,
      "outputs": []
    }
  ]
}